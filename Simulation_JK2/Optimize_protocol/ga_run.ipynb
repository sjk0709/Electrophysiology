{
 "cells": [
  {
   "cell_type": "code",
   "execution_count": 1,
   "id": "99873ba3-fa12-4373-ad1b-535fbeddf973",
   "metadata": {},
   "outputs": [],
   "source": [
    "import sys, os\n",
    "import copy\n",
    "import time\n",
    "import pickle\n",
    "\n",
    "sys.path.append('../Lib')\n",
    "import ga_configs\n",
    "import ga_vc_optimization"
   ]
  },
  {
   "cell_type": "code",
   "execution_count": 2,
   "id": "195b67d8-d1ec-45ab-9a02-aa9e731c38c9",
   "metadata": {},
   "outputs": [],
   "source": [
    "def create_folder(folder_path):\n",
    "    '''Create folder'''\n",
    "    try:\n",
    "        if not os.path.exists(folder_path):\n",
    "            os.makedirs(folder_path)\n",
    "            print('\"%s\" has been created.'%(folder_path))\n",
    "        else:\n",
    "            print(\"The folder already exists.\")\n",
    "    except OSError:\n",
    "        print('Error: create_folder(). : ' + folder_path)"
   ]
  },
  {
   "cell_type": "code",
   "execution_count": 3,
   "id": "eaec83f7-654d-45c5-82bc-16de3e3e9f71",
   "metadata": {},
   "outputs": [],
   "source": [
    "WITH_ARTEFACT = False\n",
    "\n",
    "VCO_CONFIG = ga_configs.VoltageOptimizationConfig(\n",
    "    window=2,\n",
    "    step_size=2,\n",
    "    steps_in_protocol=4,\n",
    "    step_duration_bounds=(5, 1000),\n",
    "    step_voltage_bounds=(-120, 60),\n",
    "    target_current='',\n",
    "    population_size=2,\n",
    "    max_generations=2,\n",
    "    mate_probability=0.9,\n",
    "    mutate_probability=0.9,\n",
    "    gene_swap_probability=0.2,\n",
    "    gene_mutation_probability=0.1,\n",
    "    tournament_size=2,\n",
    "    step_types=['step', 'ramp'],\n",
    "    with_artefact=WITH_ARTEFACT,\n",
    "    model_name='BR1977')\n",
    "\n",
    "LIST_OF_CURRENTS = ['I_Na', 'I_si', 'I_K1', 'I_x1']# ['I_Na', 'I_Kr', 'I_Ks', 'I_To', 'I_F', 'I_CaL', 'I_K1']"
   ]
  },
  {
   "cell_type": "code",
   "execution_count": 4,
   "id": "10d6c724-faa1-466f-88c8-98f5fc435c0a",
   "metadata": {},
   "outputs": [],
   "source": [
    "def main():\n",
    "    \"\"\"Run parameter tuning or voltage clamp protocol experiments here\n",
    "    \"\"\"\n",
    "    create_folder('./ga_results')\n",
    "        \n",
    "    vco_dir_name = f'trial_steps_ramps_{VCO_CONFIG.model_name}_{VCO_CONFIG.population_size}_{VCO_CONFIG.max_generations}_{VCO_CONFIG.steps_in_protocol}_{VCO_CONFIG.step_voltage_bounds[0]}_{VCO_CONFIG.step_voltage_bounds[1]}'\n",
    "\n",
    "    if not vco_dir_name in os.listdir('ga_results'):\n",
    "        os.mkdir(f'ga_results/{vco_dir_name}')\n",
    "\n",
    "    for c in LIST_OF_CURRENTS:\n",
    "        f = f\"./ga_results/{vco_dir_name}/ga_results_{c}_artefact_{WITH_ARTEFACT}\"\n",
    "        print(f\"Finding best protocol for {c}. Writing protocol to: {f}\")\n",
    "        VCO_CONFIG.target_current = c\n",
    "        result = ga_vc_optimization.start_ga(VCO_CONFIG)\n",
    "        print(\"=\"*100)\n",
    "        pickle.dump(result, open(f, 'wb'))"
   ]
  },
  {
   "cell_type": "code",
   "execution_count": 5,
   "id": "b15cd042-8bd9-4853-90f0-36703dd399ca",
   "metadata": {},
   "outputs": [
    {
     "name": "stdout",
     "output_type": "stream",
     "text": [
      "The folder already exists.\n",
      "Finding best protocol for I_Na. Writing protocol to: ./ga_results/trial_steps_ramps_BR1977_2_2_4_-120_60/ga_results_I_Na_artefact_False\n",
      "\tEvaluating initial population.\n"
     ]
    },
    {
     "name": "stderr",
     "output_type": "stream",
     "text": [
      "/opt/conda/lib/python3.7/site-packages/numpy/core/fromnumeric.py:43: VisibleDeprecationWarning: Creating an ndarray from ragged nested sequences (which is a list-or-tuple of lists-or-tuples-or ndarrays with different lengths or shapes) is deprecated. If you meant to do this, you must specify 'dtype=object' when creating the ndarray.\n",
      "  result = getattr(asarray(obj), method)(*args, **kwds)\n"
     ]
    },
    {
     "name": "stdout",
     "output_type": "stream",
     "text": [
      "prestep simulation\n",
      "prestep simulation\n",
      "\tGeneration 1 for I_Na\n",
      "prestep simulation\n",
      "prestep simulation\n",
      "\t\tMin fitness: (0.47521337927833945,)\n",
      "\t\tMax fitness: (0.8451341118830381,)\n",
      "\t\tAverage fitness: 0.6601737455806888\n",
      "\t\tStandard deviation: 0.18496036630234933\n",
      "====================================================================================================\n",
      "Finding best protocol for I_si. Writing protocol to: ./ga_results/trial_steps_ramps_BR1977_2_2_4_-120_60/ga_results_I_si_artefact_False\n",
      "\tEvaluating initial population.\n",
      "prestep simulation\n",
      "prestep simulation\n",
      "\tGeneration 1 for I_si\n",
      "prestep simulation\n",
      "prestep simulation\n",
      "\t\tMin fitness: (0.61107174283196,)\n",
      "\t\tMax fitness: (0.6110840683212329,)\n",
      "\t\tAverage fitness: 0.6110779055765965\n",
      "\t\tStandard deviation: 6.162744636439843e-06\n",
      "====================================================================================================\n",
      "Finding best protocol for I_K1. Writing protocol to: ./ga_results/trial_steps_ramps_BR1977_2_2_4_-120_60/ga_results_I_K1_artefact_False\n",
      "\tEvaluating initial population.\n",
      "prestep simulation\n",
      "prestep simulation\n",
      "\tGeneration 1 for I_K1\n",
      "prestep simulation\n",
      "prestep simulation\n",
      "\t\tMin fitness: (0.8555352610428265,)\n",
      "\t\tMax fitness: (0.9033141153642363,)\n",
      "\t\tAverage fitness: 0.8794246882035315\n",
      "\t\tStandard deviation: 0.023889427160704912\n",
      "====================================================================================================\n",
      "Finding best protocol for I_x1. Writing protocol to: ./ga_results/trial_steps_ramps_BR1977_2_2_4_-120_60/ga_results_I_x1_artefact_False\n",
      "\tEvaluating initial population.\n",
      "prestep simulation\n",
      "prestep simulation\n",
      "\tGeneration 1 for I_x1\n",
      "prestep simulation\n",
      "prestep simulation\n",
      "\t\tMin fitness: (0.2992303161935528,)\n",
      "\t\tMax fitness: (0.3231505316823931,)\n",
      "\t\tAverage fitness: 0.3111904239379729\n",
      "\t\tStandard deviation: 0.011960107744420162\n",
      "====================================================================================================\n"
     ]
    }
   ],
   "source": [
    "if __name__ == '__main__':\n",
    "    main()"
   ]
  },
  {
   "cell_type": "code",
   "execution_count": 6,
   "id": "326b004b-9ec9-450b-a687-0667d73970e7",
   "metadata": {},
   "outputs": [
    {
     "name": "stdout",
     "output_type": "stream",
     "text": [
      "Complete\n"
     ]
    }
   ],
   "source": [
    "print(\"Complete\")"
   ]
  },
  {
   "cell_type": "code",
   "execution_count": null,
   "id": "8645a4fa-55cc-4d8d-870d-11300ca9034a",
   "metadata": {},
   "outputs": [],
   "source": []
  }
 ],
 "metadata": {
  "kernelspec": {
   "display_name": "Python 3 (ipykernel)",
   "language": "python",
   "name": "python3"
  },
  "language_info": {
   "codemirror_mode": {
    "name": "ipython",
    "version": 3
   },
   "file_extension": ".py",
   "mimetype": "text/x-python",
   "name": "python",
   "nbconvert_exporter": "python",
   "pygments_lexer": "ipython3",
   "version": "3.7.11"
  }
 },
 "nbformat": 4,
 "nbformat_minor": 5
}
