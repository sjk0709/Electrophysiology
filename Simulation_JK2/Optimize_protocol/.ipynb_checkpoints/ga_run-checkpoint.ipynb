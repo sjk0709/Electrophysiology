{
 "cells": [
  {
   "cell_type": "code",
   "execution_count": 1,
   "id": "99873ba3-fa12-4373-ad1b-535fbeddf973",
   "metadata": {},
   "outputs": [
    {
     "name": "stderr",
     "output_type": "stream",
     "text": [
      "C:\\Anaconda3\\envs\\ml\\lib\\site-packages\\numpy\\_distributor_init.py:30: UserWarning: loaded more than 1 DLL from .libs:\n",
      "C:\\Anaconda3\\envs\\ml\\lib\\site-packages\\numpy\\.libs\\libopenblas.NOIJJG62EMASZI6NYURL6JBKM4EVBGM7.gfortran-win_amd64.dll\n",
      "C:\\Anaconda3\\envs\\ml\\lib\\site-packages\\numpy\\.libs\\libopenblas.WCDJNK7YVMPZQ2ME2ZZHJJRJ3JIKNDB7.gfortran-win_amd64.dll\n",
      "  warnings.warn(\"loaded more than 1 DLL from .libs:\\n%s\" %\n"
     ]
    }
   ],
   "source": [
    "import sys, os\n",
    "import copy\n",
    "import time\n",
    "import pickle\n",
    "\n",
    "sys.path.append('../Lib')\n",
    "import ga_configs\n",
    "import ga_vc_optimization"
   ]
  },
  {
   "cell_type": "code",
   "execution_count": 2,
   "id": "195b67d8-d1ec-45ab-9a02-aa9e731c38c9",
   "metadata": {},
   "outputs": [],
   "source": [
    "def create_folder(folder_path):\n",
    "    '''Create folder'''\n",
    "    try:\n",
    "        if not os.path.exists(folder_path):\n",
    "            os.makedirs(folder_path)\n",
    "            print('\"%s\" has been created.'%(folder_path))\n",
    "        else:\n",
    "            print(\"The folder already exists.\")\n",
    "    except OSError:\n",
    "        print('Error: create_folder(). : ' + folder_path)"
   ]
  },
  {
   "cell_type": "code",
   "execution_count": 3,
   "id": "eaec83f7-654d-45c5-82bc-16de3e3e9f71",
   "metadata": {},
   "outputs": [],
   "source": [
    "WITH_ARTEFACT = True\n",
    "\n",
    "VCO_CONFIG = ga_configs.VoltageOptimizationConfig(\n",
    "    window=2,\n",
    "    step_size=2,\n",
    "    steps_in_protocol=4,\n",
    "    step_duration_bounds=(5, 1000),\n",
    "    step_voltage_bounds=(-120, 60),\n",
    "    target_current='',\n",
    "    population_size=200,\n",
    "    max_generations=51,\n",
    "    mate_probability=0.9,\n",
    "    mutate_probability=0.9,\n",
    "    gene_swap_probability=0.2,\n",
    "    gene_mutation_probability=0.1,\n",
    "    tournament_size=2,\n",
    "    step_types=['step', 'ramp'],\n",
    "    with_artefact=WITH_ARTEFACT,\n",
    "    model_name='BR1977')"
   ]
  },
  {
   "cell_type": "code",
   "execution_count": 4,
   "id": "4a53ad45-9268-43ab-a536-6a3a2aa5db7b",
   "metadata": {},
   "outputs": [],
   "source": [
    "LIST_OF_CURRENTS = ['I_Na', 'I_si', 'I_K1', 'I_x1']# ['I_Na', 'I_Kr', 'I_Ks', 'I_To', 'I_F', 'I_CaL', 'I_K1']"
   ]
  },
  {
   "cell_type": "code",
   "execution_count": 5,
   "id": "10d6c724-faa1-466f-88c8-98f5fc435c0a",
   "metadata": {},
   "outputs": [],
   "source": [
    "def main():\n",
    "    \"\"\"Run parameter tuning or voltage clamp protocol experiments here\n",
    "    \"\"\"\n",
    "    create_folder('./ga_results')\n",
    "        \n",
    "    vco_dir_name = f'trial_steps_ramps_{VCO_CONFIG.model_name}_{VCO_CONFIG.population_size}_{VCO_CONFIG.max_generations}_{VCO_CONFIG.steps_in_protocol}_{VCO_CONFIG.step_voltage_bounds[0]}_{VCO_CONFIG.step_voltage_bounds[1]}'\n",
    "\n",
    "    if not vco_dir_name in os.listdir('ga_results'):\n",
    "        os.mkdir(f'ga_results/{vco_dir_name}')\n",
    "\n",
    "    for c in LIST_OF_CURRENTS:\n",
    "        f = f\"./ga_results/{vco_dir_name}/ga_results_{c}_artefact_{WITH_ARTEFACT}\"\n",
    "        print(f\"Finding best protocol for {c}. Writing protocol to: {f}\")\n",
    "        VCO_CONFIG.target_current = c\n",
    "        result = ga_vc_optimization.start_ga(VCO_CONFIG)\n",
    "\n",
    "        pickle.dump(result, open(f, 'wb'))"
   ]
  },
  {
   "cell_type": "code",
   "execution_count": null,
   "id": "b15cd042-8bd9-4853-90f0-36703dd399ca",
   "metadata": {},
   "outputs": [
    {
     "name": "stdout",
     "output_type": "stream",
     "text": [
      "\"./ga_results\" has been created.\n",
      "Finding best protocol for I_Na. Writing protocol to: ./ga_results/trial_steps_ramps_BR1977_200_51_4_-120_60/ga_results_I_Na_artefact_True\n",
      "\tEvaluating initial population.\n"
     ]
    },
    {
     "name": "stderr",
     "output_type": "stream",
     "text": [
      "C:\\Anaconda3\\envs\\ml\\lib\\site-packages\\numpy\\core\\_asarray.py:83: VisibleDeprecationWarning: Creating an ndarray from ragged nested sequences (which is a list-or-tuple of lists-or-tuples-or ndarrays with different lengths or shapes) is deprecated. If you meant to do this, you must specify 'dtype=object' when creating the ndarray\n",
      "  return array(a, dtype, copy=False, order=order)\n"
     ]
    }
   ],
   "source": [
    "if __name__ == '__main__':\n",
    "    main()"
   ]
  },
  {
   "cell_type": "code",
   "execution_count": null,
   "id": "326b004b-9ec9-450b-a687-0667d73970e7",
   "metadata": {},
   "outputs": [],
   "source": []
  }
 ],
 "metadata": {
  "kernelspec": {
   "display_name": "Python 3",
   "language": "python",
   "name": "python3"
  },
  "language_info": {
   "codemirror_mode": {
    "name": "ipython",
    "version": 3
   },
   "file_extension": ".py",
   "mimetype": "text/x-python",
   "name": "python",
   "nbconvert_exporter": "python",
   "pygments_lexer": "ipython3",
   "version": "3.8.10"
  }
 },
 "nbformat": 4,
 "nbformat_minor": 5
}
