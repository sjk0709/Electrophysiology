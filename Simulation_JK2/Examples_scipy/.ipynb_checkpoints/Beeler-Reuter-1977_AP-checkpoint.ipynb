{
 "cells": [
  {
   "cell_type": "code",
   "execution_count": 1,
   "id": "f5cbbdbe-d96c-40ab-93be-16b854518cec",
   "metadata": {},
   "outputs": [],
   "source": [
    "from scipy.integrate import ode, solve_ivp\n",
    "import os, sys, time\n",
    "import numpy as np\n",
    "import matplotlib.pyplot as plt\n",
    "import pickle\n",
    "import bisect\n",
    "\n",
    "sys.path.append('../')\n",
    "from Protocols.pacing_protocol import PacingProtocol\n",
    "from Protocols.leakstaircase import LeakStaircase\n",
    "\n",
    "sys.path.append('../')\n",
    "import scipy_simulator\n",
    "\n",
    "sys.path.append('../models')\n",
    "sys.path.append('../Lib')"
   ]
  },
  {
   "cell_type": "code",
   "execution_count": 2,
   "id": "762cf3e8-add6-4f29-a92e-58f0e48ddbef",
   "metadata": {},
   "outputs": [
    {
     "name": "stdout",
     "output_type": "stream",
     "text": [
      "--- 0.6196794509887695 seconds ---\n"
     ]
    }
   ],
   "source": [
    "from Models.br1977 import BR1977\n",
    "'''\n",
    "Beeler and Reuter 1977\n",
    "'''\n",
    "protocol = PacingProtocol(level=1, start=100, length=2, period=1000, multiplier=0, default_time_unit='ms')\n",
    "model = BR1977(protocol)\n",
    "simulator = scipy_simulator.Simulator(model)\n",
    "\n",
    "start_time = time.time()\n",
    "\n",
    "model.name = \"Beeler and Reuter 1977\"\n",
    "t_span = (0, 1000)\n",
    "simulator.simulate(t_span)    \n",
    "\n",
    "print(\"--- %s seconds ---\"%(time.time()-start_time))"
   ]
  },
  {
   "cell_type": "code",
   "execution_count": 3,
   "id": "745f7406-ce0e-42ea-b8d3-b69fd210977f",
   "metadata": {},
   "outputs": [
    {
     "data": {
      "image/png": "[encoded data removed]",
      "text/plain": [
       "<Figure size 432x288 with 1 Axes>"
      ]
     },
     "metadata": {
      "needs_background": "light"
     },
     "output_type": "display_data"
    }
   ],
   "source": [
    "fig, ax = plt.subplots(figsize=(6,4))    \n",
    "fig.suptitle(model.name, fontsize=14)\n",
    "# ax.set_title('Simulation %d'%(simulationNo))\n",
    "ax.set_xlim(model.times.min(), model.times.max())\n",
    "# ax.set_ylim(ylim[0], ylim[1])\n",
    "ax.set_xlabel('Time (ms)')\n",
    "plt.ylabel('Membrane Potential (mV)')     \n",
    "ax.plot(model.times, model.V, label='AP')   \n",
    "# textstr = \"GNa : %1.4f\\nGNaL : %1.4f\\nGto : %1.4f\\nPCa : %1.4f\\nGKr : %1.4f\\nGKs : %1.4f\\nGK1 : %1.4f\\nGf : %1.4f\"%(GNa/g_fc[0], GNaL/g_fc[1], Gto/g_fc[2], PCa/g_fc[3], GKr/g_fc[4], GKs/g_fc[5], GK1/g_fc[6], Gf/g_fc[7])\n",
    "# props = dict(boxstyle='round', facecolor='wheat', alpha=0.5)\n",
    "# place a text box in upper left in axes coords\n",
    "#     ax.text(0.67, 0.60, textstr, transform=ax.transAxes, fontsize=14, verticalalignment='top', bbox=props)    \n",
    "#     fig1 = plt.gcf()\n",
    "ax.legend()\n",
    "plt.show()\n",
    "fig.savefig(os.path.join('Results', \"Beeler-Reuter-1977\"), dpi=100)"
   ]
  },
  {
   "cell_type": "code",
   "execution_count": null,
   "id": "accf9b24-9475-489c-9137-8175e3bff59f",
   "metadata": {},
   "outputs": [],
   "source": []
  },
  {
   "cell_type": "code",
   "execution_count": null,
   "id": "e32f7398-418e-4a40-adcd-5f0a6c871b57",
   "metadata": {},
   "outputs": [],
   "source": [
    "from Models.br1977 import BR1977\n",
    "'''\n",
    "Beeler and Reuter 1977\n",
    "'''\n",
    "protocol = LeakStaircase()\n",
    "model = BR1977(protocol)\n",
    "simulator = scipy_simulator.Simulator(model)\n",
    "\n",
    "start_time = time.time()\n",
    "\n",
    "model.name = \"Beeler and Reuter 1977\"\n",
    "t_span = (0, 1000)\n",
    "simulator.simulate(t_span)    \n",
    "\n",
    "print(\"--- %s seconds ---\"%(time.time()-start_time))"
   ]
  },
  {
   "cell_type": "code",
   "execution_count": null,
   "id": "e321891f-9775-415e-a6d6-cdc97f22cf25",
   "metadata": {},
   "outputs": [],
   "source": [
    "fig, ax = plt.subplots(figsize=(6,4))    \n",
    "fig.suptitle(model.name, fontsize=14)\n",
    "# ax.set_title('Simulation %d'%(simulationNo))\n",
    "ax.set_xlim(model.times.min(), model.times.max())\n",
    "# ax.set_ylim(ylim[0], ylim[1])\n",
    "ax.set_xlabel('Time (ms)')\n",
    "plt.ylabel('Membrane Potential (mV)')     \n",
    "ax.plot(model.times, model.V, label='AP')   \n",
    "# textstr = \"GNa : %1.4f\\nGNaL : %1.4f\\nGto : %1.4f\\nPCa : %1.4f\\nGKr : %1.4f\\nGKs : %1.4f\\nGK1 : %1.4f\\nGf : %1.4f\"%(GNa/g_fc[0], GNaL/g_fc[1], Gto/g_fc[2], PCa/g_fc[3], GKr/g_fc[4], GKs/g_fc[5], GK1/g_fc[6], Gf/g_fc[7])\n",
    "# props = dict(boxstyle='round', facecolor='wheat', alpha=0.5)\n",
    "# place a text box in upper left in axes coords\n",
    "#     ax.text(0.67, 0.60, textstr, transform=ax.transAxes, fontsize=14, verticalalignment='top', bbox=props)    \n",
    "#     fig1 = plt.gcf()\n",
    "ax.legend()\n",
    "plt.show()\n",
    "fig.savefig(os.path.join('Results', \"Beeler-Reuter-1977\"), dpi=100)"
   ]
  },
  {
   "cell_type": "code",
   "execution_count": 4,
   "id": "889ce178-dc0e-44f4-83c1-c8cfca8bd007",
   "metadata": {},
   "outputs": [],
   "source": [
    "sys.path.append('../Lib')\n",
    "import mod_trace as trace"
   ]
  },
  {
   "cell_type": "code",
   "execution_count": 5,
   "id": "1c4d6a33-8ce9-4318-92f6-c7df44b89601",
   "metadata": {},
   "outputs": [
    {
     "data": {
      "text/html": [
       "<div>\n",
       "<style scoped>\n",
       "    .dataframe tbody tr th:only-of-type {\n",
       "        vertical-align: middle;\n",
       "    }\n",
       "\n",
       "    .dataframe tbody tr th {\n",
       "        vertical-align: top;\n",
       "    }\n",
       "\n",
       "    .dataframe thead th {\n",
       "        text-align: right;\n",
       "    }\n",
       "</style>\n",
       "<table border=\"1\" class=\"dataframe\">\n",
       "  <thead>\n",
       "    <tr style=\"text-align: right;\">\n",
       "      <th></th>\n",
       "      <th>Current</th>\n",
       "      <th>Contribution</th>\n",
       "      <th>Time Start</th>\n",
       "      <th>Time End</th>\n",
       "    </tr>\n",
       "  </thead>\n",
       "  <tbody>\n",
       "    <tr>\n",
       "      <th>0</th>\n",
       "      <td>I_Na</td>\n",
       "      <td>0.980448</td>\n",
       "      <td>318.0</td>\n",
       "      <td>320.0</td>\n",
       "    </tr>\n",
       "    <tr>\n",
       "      <th>1</th>\n",
       "      <td>I_si</td>\n",
       "      <td>0.498455</td>\n",
       "      <td>542.0</td>\n",
       "      <td>544.0</td>\n",
       "    </tr>\n",
       "    <tr>\n",
       "      <th>2</th>\n",
       "      <td>I_K1</td>\n",
       "      <td>0.795578</td>\n",
       "      <td>182.0</td>\n",
       "      <td>184.0</td>\n",
       "    </tr>\n",
       "    <tr>\n",
       "      <th>3</th>\n",
       "      <td>I_x1</td>\n",
       "      <td>0.172134</td>\n",
       "      <td>946.0</td>\n",
       "      <td>948.0</td>\n",
       "    </tr>\n",
       "  </tbody>\n",
       "</table>\n",
       "</div>"
      ],
      "text/plain": [
       "  Current  Contribution  Time Start  Time End\n",
       "0    I_Na      0.980448       318.0     320.0\n",
       "1    I_si      0.498455       542.0     544.0\n",
       "2    I_K1      0.795578       182.0     184.0\n",
       "3    I_x1      0.172134       946.0     948.0"
      ]
     },
     "execution_count": 5,
     "metadata": {},
     "output_type": "execute_result"
    }
   ],
   "source": [
    "i_trace = trace.Trace(protocol,\n",
    "                      cell_params=None,\n",
    "                      t=model.times,\n",
    "                      y=model.V,\n",
    "                      command_voltages=None,            \n",
    "                      current_response_info=model.current_response_info,\n",
    "                      default_unit=None)\n",
    "\n",
    "max_contributions = i_trace.current_response_info.get_max_current_contributions(time=i_trace.t,\n",
    "                                                                                window=2,\n",
    "                                                                                step_size=2)\n",
    "max_contributions"
   ]
  },
  {
   "cell_type": "code",
   "execution_count": 6,
   "id": "904c2a45-6585-443a-ba27-a8c9bdf44ba8",
   "metadata": {},
   "outputs": [
    {
     "data": {
      "text/plain": [
       "0.9804477003063202"
      ]
     },
     "execution_count": 6,
     "metadata": {},
     "output_type": "execute_result"
    }
   ],
   "source": [
    "fitness = max_contributions.loc[max_contributions['Current'] == 'I_Na'][\n",
    "                'Contribution'].values[0]\n",
    "fitness"
   ]
  },
  {
   "cell_type": "code",
   "execution_count": 7,
   "id": "74d52664-ca4a-4e27-8a7c-5108ca6e41e0",
   "metadata": {},
   "outputs": [
    {
     "name": "stdout",
     "output_type": "stream",
     "text": [
      "Complete\n"
     ]
    }
   ],
   "source": [
    "print(\"Complete\")"
   ]
  },
  {
   "cell_type": "code",
   "execution_count": null,
   "id": "7c650e89-1db0-46bb-b233-b704d769dc72",
   "metadata": {},
   "outputs": [],
   "source": []
  },
  {
   "cell_type": "code",
   "execution_count": null,
   "id": "56d1e5c0-eecf-4824-ab6c-3158a9cbb046",
   "metadata": {},
   "outputs": [],
   "source": []
  }
 ],
 "metadata": {
  "kernelspec": {
   "display_name": "Python 3 (ipykernel)",
   "language": "python",
   "name": "python3"
  },
  "language_info": {
   "codemirror_mode": {
    "name": "ipython",
    "version": 3
   },
   "file_extension": ".py",
   "mimetype": "text/x-python",
   "name": "python",
   "nbconvert_exporter": "python",
   "pygments_lexer": "ipython3",
   "version": "3.7.11"
  }
 },
 "nbformat": 4,
 "nbformat_minor": 5
}
