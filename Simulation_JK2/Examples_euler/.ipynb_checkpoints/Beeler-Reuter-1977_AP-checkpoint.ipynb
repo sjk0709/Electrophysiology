{
 "cells": [
  {
   "cell_type": "code",
   "execution_count": 1,
   "id": "f5cbbdbe-d96c-40ab-93be-16b854518cec",
   "metadata": {},
   "outputs": [
    {
     "name": "stderr",
     "output_type": "stream",
     "text": [
      "C:\\Anaconda3\\envs\\ml\\lib\\site-packages\\numpy\\_distributor_init.py:30: UserWarning: loaded more than 1 DLL from .libs:\n",
      "C:\\Anaconda3\\envs\\ml\\lib\\site-packages\\numpy\\.libs\\libopenblas.NOIJJG62EMASZI6NYURL6JBKM4EVBGM7.gfortran-win_amd64.dll\n",
      "C:\\Anaconda3\\envs\\ml\\lib\\site-packages\\numpy\\.libs\\libopenblas.WCDJNK7YVMPZQ2ME2ZZHJJRJ3JIKNDB7.gfortran-win_amd64.dll\n",
      "  warnings.warn(\"loaded more than 1 DLL from .libs:\\n%s\" %\n"
     ]
    }
   ],
   "source": [
    "from scipy.integrate import ode, solve_ivp\n",
    "import os, sys, time\n",
    "import numpy as np\n",
    "import matplotlib.pyplot as plt\n",
    "import pickle\n",
    "import bisect\n",
    "\n",
    "sys.path.append('../')\n",
    "from Protocols.pacing_protocol import PacingProtocol\n",
    "from Protocols.leakstaircase import LeakStaircase\n",
    "\n",
    "sys.path.append('../')\n",
    "import euler_simulator\n",
    "\n",
    "sys.path.append('../Lib')"
   ]
  },
  {
   "cell_type": "code",
   "execution_count": 2,
   "id": "762cf3e8-add6-4f29-a92e-58f0e48ddbef",
   "metadata": {},
   "outputs": [
    {
     "name": "stdout",
     "output_type": "stream",
     "text": [
      "--- 7.908576965332031 seconds ---\n"
     ]
    }
   ],
   "source": [
    "from Models.br1977 import BR1977\n",
    "'''\n",
    "Beeler and Reuter 1977\n",
    "'''\n",
    "protocol = PacingProtocol(level=1, start=100, length=2, period=1000, multiplier=0, default_time_unit='ms')\n",
    "model = BR1977(protocol)\n",
    "model.name = \"Beeler and Reuter 1977\"\n",
    "\n",
    "start_time = time.time()\n",
    "\n",
    "simulator = euler_simulator.Simulator(model)\n",
    "simulator.dt = 0.01\n",
    "simulator.simulate(end_time=1000)    \n",
    "\n",
    "print(\"--- %s seconds ---\"%(time.time()-start_time))"
   ]
  },
  {
   "cell_type": "code",
   "execution_count": 3,
   "id": "a80f51a5-b455-4e9f-a4db-3336970c78de",
   "metadata": {},
   "outputs": [
    {
     "data": {
      "image/png": "[encoded data removed]",
      "text/plain": [
       "<Figure size 432x288 with 1 Axes>"
      ]
     },
     "metadata": {
      "needs_background": "light"
     },
     "output_type": "display_data"
    }
   ],
   "source": [
    "fig, ax = plt.subplots(figsize=(6,4))    \n",
    "fig.suptitle(model.name, fontsize=14)\n",
    "# ax.set_title('Simulation %d'%(simulationNo))\n",
    "ax.set_xlim(model.times.min(), model.times.max())\n",
    "# ax.set_ylim(ylim[0], ylim[1])\n",
    "ax.set_xlabel('Time (ms)')\n",
    "plt.ylabel('Membrane Potential (mV)')     \n",
    "ax.plot(model.times, model.V, label='AP')   \n",
    "# textstr = \"GNa : %1.4f\\nGNaL : %1.4f\\nGto : %1.4f\\nPCa : %1.4f\\nGKr : %1.4f\\nGKs : %1.4f\\nGK1 : %1.4f\\nGf : %1.4f\"%(GNa/g_fc[0], GNaL/g_fc[1], Gto/g_fc[2], PCa/g_fc[3], GKr/g_fc[4], GKs/g_fc[5], GK1/g_fc[6], Gf/g_fc[7])\n",
    "# props = dict(boxstyle='round', facecolor='wheat', alpha=0.5)\n",
    "# place a text box in upper left in axes coords\n",
    "#     ax.text(0.67, 0.60, textstr, transform=ax.transAxes, fontsize=14, verticalalignment='top', bbox=props)    \n",
    "#     fig1 = plt.gcf()\n",
    "ax.legend()\n",
    "plt.show()\n",
    "fig.savefig(os.path.join('Results', \"Beeler-Reuter-1977\"), dpi=100)"
   ]
  },
  {
   "cell_type": "code",
   "execution_count": 4,
   "id": "74d52664-ca4a-4e27-8a7c-5108ca6e41e0",
   "metadata": {},
   "outputs": [
    {
     "name": "stdout",
     "output_type": "stream",
     "text": [
      "Complete\n"
     ]
    }
   ],
   "source": [
    "print(\"Complete\")"
   ]
  },
  {
   "cell_type": "code",
   "execution_count": null,
   "id": "a103b394-3820-4808-b94e-b7e17ca89561",
   "metadata": {},
   "outputs": [],
   "source": []
  }
 ],
 "metadata": {
  "kernelspec": {
   "display_name": "Python 3",
   "language": "python",
   "name": "python3"
  },
  "language_info": {
   "codemirror_mode": {
    "name": "ipython",
    "version": 3
   },
   "file_extension": ".py",
   "mimetype": "text/x-python",
   "name": "python",
   "nbconvert_exporter": "python",
   "pygments_lexer": "ipython3",
   "version": "3.8.10"
  }
 },
 "nbformat": 4,
 "nbformat_minor": 5
}
