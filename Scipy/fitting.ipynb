{
 "cells": [
  {
   "cell_type": "code",
   "execution_count": 1,
   "id": "3cfce02e-fd66-493b-9b96-b7b3663a7da1",
   "metadata": {},
   "outputs": [
    {
     "name": "stderr",
     "output_type": "stream",
     "text": [
      "WARNING:myokit._config:Sundials version not set in myokit.ini. Continuing with detected version (20700). For a tiny performance boost, please set this version in /root/.config/myokit/myokit.ini\n"
     ]
    }
   ],
   "source": [
    "import os, sys\n",
    "import time\n",
    "import random\n",
    "import glob\n",
    "import numpy as np\n",
    "import pickle\n",
    "import bisect\n",
    "\n",
    "import matplotlib.pyplot as plt\n",
    "\n",
    "from scipy.integrate import ode, solve_ivp, odeint\n",
    "from scipy.optimize import curve_fit, least_squares\n",
    "from scipy.optimize import minimize\n",
    "\n",
    "\n",
    "\n",
    "import multiprocessing\n",
    "from functools import partial \n",
    "\n",
    "from PIL import Image\n",
    "from IPython.display import Image as Img\n",
    "from IPython import display\n",
    "\n",
    "import myokit\n",
    "\n",
    "sys.path.append('../../../JKLib')\n",
    "from pythonJK1 import create_folder\n",
    "from metricJK import MSE"
   ]
  },
  {
   "cell_type": "code",
   "execution_count": 2,
   "id": "f5cbbdbe-d96c-40ab-93be-16b854518cec",
   "metadata": {},
   "outputs": [
    {
     "name": "stdout",
     "output_type": "stream",
     "text": [
      "Kylie dataset has been selected.\n",
      "(9, 2)\n"
     ]
    }
   ],
   "source": [
    "dataset_dir = 'Kylie'\n",
    "parameter_ranges = []\n",
    "if 'Kylie' in dataset_dir:    \n",
    "    if 'rmax600' in dataset_dir:\n",
    "        # Kylie: rmax = 600 \n",
    "        parameter_ranges = []\n",
    "        parameter_ranges.append( [100, 500000] )\n",
    "        parameter_ranges.append( [0.0001, 598] )\n",
    "        parameter_ranges.append( [0.0001, 260] )\n",
    "        parameter_ranges.append( [0.0001, 598] )\n",
    "        parameter_ranges.append( [0.0001, 130] )\n",
    "        parameter_ranges.append( [0.0001, 598] )\n",
    "        parameter_ranges.append( [0.0001, 260] )\n",
    "        parameter_ranges.append( [0.0001, 598] )\n",
    "        parameter_ranges.append( [0.0001, 130] )\n",
    "        print(\"Kylie-rmax600 dataset has been selected.\")\n",
    "    else :\n",
    "        # Kylie\n",
    "        parameter_ranges.append([100, 500000])\n",
    "        parameter_ranges.append( [0.0001, 1000000])\n",
    "        parameter_ranges.append( [0.0001, 384])\n",
    "        parameter_ranges.append( [0.0001, 1000000] )\n",
    "        parameter_ranges.append( [0.0001, 192] )\n",
    "        parameter_ranges.append( [0.0001, 1000000] )\n",
    "        parameter_ranges.append( [0.0001, 384] )\n",
    "        parameter_ranges.append( [0.0001, 1000000] )\n",
    "        parameter_ranges.append( [0.0001, 192] )\n",
    "        print(\"Kylie dataset has been selected.\")\n",
    "\n",
    "elif 'RealRange' in dataset_dir:\n",
    "        parameter_ranges.append([3134, 500000])                 # g\n",
    "        parameter_ranges.append( [0.0001, 2.6152843264828003])  # p1\n",
    "        parameter_ranges.append( [43.33271226094526, 259])      # p2\n",
    "        parameter_ranges.append( [0.001, 0.5] )                 # p3\n",
    "        parameter_ranges.append( [15, 75] )                     # p4\n",
    "        parameter_ranges.append( [0.8, 410] )                   # p5\n",
    "        parameter_ranges.append( [0.0001, 138.] )               # p6\n",
    "        parameter_ranges.append( [1.0, 59] )                    # p7\n",
    "        parameter_ranges.append( [1.6, 90] )                    # p8\n",
    "        print(\"RealRange dataset has been selected.\")\n",
    "\n",
    "parameter_ranges = np.array(parameter_ranges)\n",
    "print(parameter_ranges.shape)\n"
   ]
  },
  {
   "cell_type": "code",
   "execution_count": 4,
   "id": "aebf0de8-798f-468c-bb20-82ac128a5fd5",
   "metadata": {},
   "outputs": [
    {
     "name": "stdout",
     "output_type": "stream",
     "text": [
      "The folder already exists.\n",
      "Using seed:  542811797\n"
     ]
    }
   ],
   "source": [
    "result_folder = './Figures'\n",
    "create_folder(result_folder)\n",
    "\n",
    "fit_seed = 542811797\n",
    "print('Using seed: ', fit_seed)\n",
    "np.random.seed(fit_seed)"
   ]
  },
  {
   "cell_type": "code",
   "execution_count": 4,
   "id": "134140cd-0642-4104-a983-8b73302c7be7",
   "metadata": {},
   "outputs": [],
   "source": [
    "param_names = ['g', 'p1', 'p2', 'p3', 'p4', 'p5', 'p6', 'p7', 'p8']\n",
    "def normalize_params(params):\n",
    "                \n",
    "    normalized_parameter = copy.copy(params)\n",
    "    for i, p_name in enumerate(param_names):\n",
    "        if p_name in ['p1', 'p3', 'p5', 'p7']:        \n",
    "            normalized_parameter[:,i] = ( np.log(normalized_parameter[:,i]) - np.log(parameter_ranges[i,0]) ) / ( np.log(parameter_ranges[i,1]) - np.log(parameter_ranges[i,0]) )\n",
    "        else:\n",
    "            normalized_parameter[:,i] = (normalized_parameter[:,i] - parameter_ranges[i,0]) / (parameter_ranges[i,1] - parameter_ranges[i,0])\n",
    "\n",
    "    return normalized_parameter"
   ]
  },
  {
   "cell_type": "code",
   "execution_count": 5,
   "id": "f76354c2-4f9a-49cf-aa34-aa136e0073cb",
   "metadata": {},
   "outputs": [
    {
     "name": "stdout",
     "output_type": "stream",
     "text": [
      "[2.25261129e+04 8.06355949e-02 9.62892813e+01 3.86384612e-02\n",
      " 4.52003131e+01 1.00332854e+02 2.54436833e+01 6.69264102e+00\n",
      " 3.30580365e+01]\n",
      "[1.77468809e+04 9.35755968e-02 1.24885017e+02 6.80887997e-02\n",
      " 3.90921974e+01 1.46032898e+03 3.94074135e+01 4.93528862e+01\n",
      " 2.13063087e+01]\n",
      "[1.95996752e+05 2.96501898e-01 6.59164494e+01 4.62717921e-02\n",
      " 4.97958442e+01 1.07192891e+02 7.96790797e+00 6.54624352e+00\n",
      " 3.14264169e+01]\n"
     ]
    }
   ],
   "source": [
    "cell = 'G01'\n",
    "\n",
    "params_file_name = 'herg25oc1-staircaseramp-' + cell + '-solution-' + str(fit_seed) +'-dt001.txt'\n",
    "real_p = np.loadtxt('../herg25oc1_real_data/' + params_file_name) # headers\n",
    "params_file_name = 'predicted_params-' + cell + '.txt'                     \n",
    "ai_p = np.loadtxt('../predicted_params_efficientNet6_Kylie/' + params_file_name) # headers\n",
    "prior_p = np.array([1.95996752e+05, 2.96501898e-01, 6.59164494e+01, 4.62717921e-02, 4.97958442e+01, 1.07192891e+02, 7.96790797e+00, 6.54624352e+00, 3.14264169e+01])\n",
    "\n",
    "print(real_p)    \n",
    "print(ai_p)    \n",
    "print(prior_p)    "
   ]
  },
  {
   "cell_type": "code",
   "execution_count": 6,
   "id": "a62fe973-301e-4bc2-8f6e-96ec88c31673",
   "metadata": {},
   "outputs": [
    {
     "name": "stdout",
     "output_type": "stream",
     "text": [
      "Kylie dataset has been selected.\n",
      "(9, 2)\n",
      "(1540,) 15.39\n"
     ]
    }
   ],
   "source": [
    "import leakstaircase\n",
    "import kylie2017IKr\n",
    "\n",
    "protocol = leakstaircase.LeakStaircase()\n",
    "kylie = kylie2017IKr.Kylie2017IKr(protocol)\n",
    "times = np.linspace(0, 15.4, 77000)\n",
    "times = np.arange(77000)*0.0002\n",
    "times = np.arange(1540)*0.01\n",
    "print(times.shape, times.max())"
   ]
  },
  {
   "cell_type": "code",
   "execution_count": 7,
   "id": "c199dac6-5fd0-4e48-b98d-a2f7873b451b",
   "metadata": {},
   "outputs": [
    {
     "data": {
      "image/png": "[encoded data removed]",
      "text/plain": [
       "<Figure size 1440x720 with 1 Axes>"
      ]
     },
     "metadata": {
      "needs_background": "light"
     },
     "output_type": "display_data"
    },
    {
     "name": "stdout",
     "output_type": "stream",
     "text": [
      "Simulation done.\n"
     ]
    }
   ],
   "source": [
    "# Load data\n",
    "data_file = \"herg25oc1-staircaseramp-%s.csv\"%(cell)\n",
    "data = np.loadtxt('../herg25oc1_real_data/' + data_file, delimiter=',', skiprows=1)[::50] # headers\n",
    "\n",
    "IKr = kylie.simulate_odeint(times, real_p[0], real_p[1], real_p[2], real_p[3], real_p[4], real_p[5], real_p[6], real_p[7], real_p[8])\n",
    "IKr_ai = kylie.simulate_odeint(times, ai_p[0], ai_p[1], ai_p[2], ai_p[3], ai_p[4], ai_p[5], ai_p[6], ai_p[7], ai_p[8])\n",
    "IKr_prior = kylie.simulate_odeint(times, prior_p[0], prior_p[1], prior_p[2], prior_p[3], prior_p[4], prior_p[5], prior_p[6], prior_p[7], prior_p[8])\n",
    "\n",
    "fig, ax = plt.subplots(figsize=(20,10))    \n",
    "# fig.suptitle('New ORD-hERG - '+ ord._cell_types[cell_mode] +' cell', fontsize=16)\n",
    "# ax.set_title('Simulation %d'%(simulationNo))\n",
    "plt.xlabel('Time (s)')\n",
    "plt.ylabel('Current (pA)')     \n",
    "ax.plot(times, data, label='Data')\n",
    "ax.plot(times, IKr, label='IKr_real')\n",
    "ax.plot(times, IKr_ai, label='IKr_ai') \n",
    "ax.plot(times, IKr_prior, label='IKr_prior') \n",
    "# textstr = \"GNa : %1.4f\\nGNaL : %1.4f\\nGto : %1.4f\\nPCa : %1.4f\\nGKr : %1.4f\\nGKs : %1.4f\\nGK1 : %1.4f\\nGf : %1.4f\"%(GNa/g_fc[0], GNaL/g_fc[1], Gto/g_fc[2], PCa/g_fc[3], GKr/g_fc[4], GKs/g_fc[5], GK1/g_fc[6], Gf/g_fc[7])\n",
    "# props = dict(boxstyle='round', facecolor='wheat', alpha=0.5)\n",
    "# place a text box in upper left in axes coords\n",
    "#     ax.text(0.67, 0.60, textstr, transform=ax.transAxes, fontsize=14, verticalalignment='top', bbox=props)    \n",
    "#     fig1 = plt.gcf()\n",
    "ax.legend(loc='best')\n",
    "plt.show()\n",
    "# fig.savefig(os.path.join(result_folder, \"%s-Curve-fitting.jpg\"%(cell)), dpi=100)\n",
    "\n",
    "print(\"Simulation done.\")"
   ]
  },
  {
   "cell_type": "code",
   "execution_count": 8,
   "id": "79cd1f73-aa61-4cf6-96b3-6cc10902ba5f",
   "metadata": {},
   "outputs": [],
   "source": [
    "method = 'trf'  # method{‘lm’, ‘trf’, ‘dogbox’},\n",
    "bounds = ([parameter_ranges[0,0], parameter_ranges[1,0], parameter_ranges[2,0], parameter_ranges[3,0], parameter_ranges[4,0], parameter_ranges[5,0], parameter_ranges[6,0], parameter_ranges[7,0], parameter_ranges[8,0]], \n",
    "          [parameter_ranges[0,1], parameter_ranges[1,1], parameter_ranges[2,1], parameter_ranges[3,1], parameter_ranges[4,1], parameter_ranges[5,1], parameter_ranges[6,1], parameter_ranges[7,1], parameter_ranges[8,1]])"
   ]
  },
  {
   "cell_type": "code",
   "execution_count": 9,
   "id": "c8ed6447-f225-416b-8aa3-0166387e2e5a",
   "metadata": {},
   "outputs": [
    {
     "name": "stdout",
     "output_type": "stream",
     "text": [
      "--- 11.32707691192627 seconds ---\n"
     ]
    }
   ],
   "source": [
    "start_time = time.time()\n",
    "p_fit_by_real = kylie.curve_fitting(times, data, p0=real_p, bounds=bounds ,method=method)\n",
    "print(\"--- %s seconds ---\"%(time.time()-start_time))                \n",
    "fit_I_real = kylie.simulate_odeint(times, p_fit_by_real[0], p_fit_by_real[1], p_fit_by_real[2], p_fit_by_real[3], p_fit_by_real[4], p_fit_by_real[5], p_fit_by_real[6], p_fit_by_real[7], p_fit_by_real[8])"
   ]
  },
  {
   "cell_type": "code",
   "execution_count": 10,
   "id": "254ff55d-2b54-48fb-8956-099c3344a614",
   "metadata": {},
   "outputs": [
    {
     "name": "stdout",
     "output_type": "stream",
     "text": [
      "g - Prediction : 22526.110991 | Exact : 22526.112895\n",
      "p1 - Prediction : 0.080289 | Exact : 0.080636\n",
      "p2 - Prediction : 96.270258 | Exact : 96.289281\n",
      "p3 - Prediction : 0.038613 | Exact : 0.038638\n",
      "p4 - Prediction : 45.233780 | Exact : 45.200313\n",
      "p5 - Prediction : 100.303773 | Exact : 100.332854\n",
      "p6 - Prediction : 25.437106 | Exact : 25.443683\n",
      "p7 - Prediction : 6.675475 | Exact : 6.692641\n",
      "p8 - Prediction : 33.051433 | Exact : 33.058036\n"
     ]
    }
   ],
   "source": [
    "for i, name in enumerate(param_names):\n",
    "    print(\"%s - Prediction : %f | Exact : %f\"%(name, p_fit_by_real[i], real_p[i]))"
   ]
  },
  {
   "cell_type": "code",
   "execution_count": 11,
   "id": "75f4b204-6477-4ef2-a38f-54cc7973887c",
   "metadata": {},
   "outputs": [
    {
     "name": "stdout",
     "output_type": "stream",
     "text": [
      "--- 15.960778951644897 seconds ---\n"
     ]
    }
   ],
   "source": [
    "start_time = time.time()\n",
    "p_fit_by_ai = kylie.curve_fitting(times, data, p0=ai_p, bounds=bounds ,method=method)\n",
    "print(\"--- %s seconds ---\"%(time.time()-start_time))     \n",
    "fit_I_ai = kylie.simulate_odeint(times, p_fit_by_ai[0], p_fit_by_ai[1], p_fit_by_ai[2], p_fit_by_ai[3], p_fit_by_ai[4], p_fit_by_ai[5], p_fit_by_ai[6], p_fit_by_ai[7], p_fit_by_ai[8])"
   ]
  },
  {
   "cell_type": "code",
   "execution_count": 12,
   "id": "c2796748-f8d6-43f2-bd39-b188895d2803",
   "metadata": {},
   "outputs": [
    {
     "name": "stdout",
     "output_type": "stream",
     "text": [
      "g - Prediction : 29639.760419 | Exact : 22526.112895\n",
      "p1 - Prediction : 0.101109 | Exact : 0.080636\n",
      "p2 - Prediction : 121.121367 | Exact : 96.289281\n",
      "p3 - Prediction : 0.075450 | Exact : 0.038638\n",
      "p4 - Prediction : 40.035084 | Exact : 45.200313\n",
      "p5 - Prediction : 1466.983310 | Exact : 100.332854\n",
      "p6 - Prediction : 39.919699 | Exact : 25.443683\n",
      "p7 - Prediction : 51.850820 | Exact : 6.692641\n",
      "p8 - Prediction : 21.129914 | Exact : 33.058036\n"
     ]
    }
   ],
   "source": [
    "for i, name in enumerate(param_names):\n",
    "    print(\"%s - Prediction : %f | Exact : %f\"%(name, p_fit_by_ai[i], real_p[i]))"
   ]
  },
  {
   "cell_type": "code",
   "execution_count": 13,
   "id": "9c706681-b304-4d4e-970c-a1b3d40798a7",
   "metadata": {},
   "outputs": [
    {
     "name": "stdout",
     "output_type": "stream",
     "text": [
      "--- 24.736221313476562 seconds ---\n"
     ]
    }
   ],
   "source": [
    "start_time = time.time()\n",
    "p_fit_by_prior = kylie.curve_fitting(times, data, p0=prior_p, bounds=bounds ,method=method)\n",
    "print(\"--- %s seconds ---\"%(time.time()-start_time))     \n",
    "fit_I_prior = kylie.simulate_odeint(times, p_fit_by_prior[0], p_fit_by_prior[1], p_fit_by_prior[2], p_fit_by_prior[3], p_fit_by_prior[4], p_fit_by_prior[5], p_fit_by_prior[6], p_fit_by_prior[7], p_fit_by_prior[8])"
   ]
  },
  {
   "cell_type": "code",
   "execution_count": 14,
   "id": "29e738d3-8a32-457f-a7c2-609edf7f5f52",
   "metadata": {},
   "outputs": [
    {
     "name": "stdout",
     "output_type": "stream",
     "text": [
      "g - Prediction : 27783.747660 | Exact : 22526.112895\n",
      "p1 - Prediction : 0.280826 | Exact : 0.080636\n",
      "p2 - Prediction : 65.296844 | Exact : 96.289281\n",
      "p3 - Prediction : 0.025247 | Exact : 0.038638\n",
      "p4 - Prediction : 48.868160 | Exact : 45.200313\n",
      "p5 - Prediction : 107.570395 | Exact : 100.332854\n",
      "p6 - Prediction : 7.998782 | Exact : 25.443683\n",
      "p7 - Prediction : 6.331054 | Exact : 6.692641\n",
      "p8 - Prediction : 33.781245 | Exact : 33.058036\n"
     ]
    }
   ],
   "source": [
    "for i, name in enumerate(param_names):\n",
    "    print(\"%s - Prediction : %f | Exact : %f\"%(name, p_fit_by_prior[i], real_p[i]))"
   ]
  },
  {
   "cell_type": "code",
   "execution_count": 15,
   "id": "a9d6d25a-c46e-4dbb-a3dd-0a2b3392925a",
   "metadata": {},
   "outputs": [
    {
     "name": "stdout",
     "output_type": "stream",
     "text": [
      "MSE for real : 463.4242192588063\n",
      "MSE for fit_real : 461.7135317660474\n",
      "MSE for fit_ai : 1119.0437738865526\n",
      "MSE for fit_prior : 816.3909479232416\n"
     ]
    }
   ],
   "source": [
    "print(\"MSE for real :\", MSE(IKr, data, axis=0))\n",
    "print(\"MSE for fit_real :\", MSE(fit_I_real, data, axis=0))\n",
    "print(\"MSE for fit_ai :\", MSE(fit_I_ai, data, axis=0))\n",
    "print(\"MSE for fit_prior :\", MSE(fit_I_prior, data, axis=0))"
   ]
  },
  {
   "cell_type": "code",
   "execution_count": 16,
   "id": "38d28a84-9440-4e7f-bea6-af5a0a6ee3ce",
   "metadata": {},
   "outputs": [
    {
     "ename": "NameError",
     "evalue": "name 'fasffa' is not defined",
     "output_type": "error",
     "traceback": [
      "\u001b[0;31m---------------------------------------------------------------------------\u001b[0m",
      "\u001b[0;31mNameError\u001b[0m                                 Traceback (most recent call last)",
      "\u001b[0;32m<ipython-input-16-4dd3e924cb8f>\u001b[0m in \u001b[0;36m<module>\u001b[0;34m\u001b[0m\n\u001b[0;32m----> 1\u001b[0;31m \u001b[0mfasffa\u001b[0m\u001b[0;34m\u001b[0m\u001b[0;34m\u001b[0m\u001b[0m\n\u001b[0m",
      "\u001b[0;31mNameError\u001b[0m: name 'fasffa' is not defined"
     ]
    }
   ],
   "source": [
    "fasffa"
   ]
  },
  {
   "cell_type": "code",
   "execution_count": null,
   "id": "29d56233-835b-47e8-a189-4b227ec24368",
   "metadata": {},
   "outputs": [],
   "source": [
    "import cma\n",
    "# help(cma)\n",
    "\n",
    "# Set up simulation\n",
    "options = cma.CMAOptions()\n",
    "\n",
    "# Tell cma-es to be quiet\n",
    "options.set('verbose', -9)\n",
    "\n",
    "# Set population size\n",
    "options.set('popsize', 2)\n",
    "\n",
    "# CMAES always seeds np.random, whether you ask it too or not, so to\n",
    "# get consistent debugging output, we should always pass in a seed.\n",
    "# Instead of using a fixed number (which would be bad), we can use a\n",
    "# randomly generated number: This will ensure pseudo-randomness, but\n",
    "# produce consistent results if np.random has been seeded before\n",
    "# calling.\n",
    "options.set('seed', np.random.randint(2**31))\n",
    "\n",
    "es = cma.CMAEvolutionStrategy(p_fit_by_ai, 0.01, options)\n",
    "\n"
   ]
  },
  {
   "cell_type": "code",
   "execution_count": null,
   "id": "374ee5f1-596a-4236-9477-781c0b29c022",
   "metadata": {},
   "outputs": [],
   "source": [
    "xs = np.array(es.ask())\n",
    "print(xs.shape)\n",
    "xs[0] = p_fit_by_ai\n",
    "x1 = xs[0]\n",
    "x2 = xs[1]\n",
    "f1 = kylie.fitfunc(times, x1[0], x1[1], x1[2], x1[3], x1[4], x1[5], x1[6], x1[7], x1[8])\n",
    "f2 = kylie.fitfunc(times, x2[0], x2[1], x2[2], x2[3], x2[4], x2[5], x2[6], x2[7], x2[8])\n",
    "print(f1.shape)\n",
    "mses = np.array([MSE(f1, data, axis=0), MSE(f2, data, axis=0)])\n",
    "print(mses)\n",
    "es.tell(xs, mses)\n",
    "\n",
    "print(\"MSE for fit_real :\", MSE(fit_I_real, data, axis=0))\n",
    "best = es.result.xbest\n",
    "ff = kylie.fitfunc(times, best[0], best[1], best[2], best[3], best[4], best[5], best[6], best[7], best[8])\n",
    "print(best)\n",
    "print(MSE(ff, data, axis=0))\n",
    "start_time = time.time()\n",
    "fit, kcov = curve_fit(kylie.fitfunc, times, data, p0=best, method=method) # method{‘lm’, ‘trf’, ‘dogbox’},\n",
    "print(\"--- %s seconds ---\"%(time.time()-start_time))     \n",
    "\n",
    "# print(kcov)\n",
    "for i, name in enumerate(param_names):\n",
    "    print(\"%s - Prediction : %f | Exact : %f\"%(name, fit[i], real_p[i]))\n",
    "\n",
    "fit_ai = kylie.fitfunc(times, fit[0], fit[1], fit[2], fit[3], fit[4], fit[5], fit[6], fit[7], fit[8])\n",
    "print(fit_ai.shape)\n",
    "\n",
    "print(MSE(fit_ai, data, axis=0))\n",
    "# es.optimize(cma.ff.rosen)\n",
    "# es.result_pretty()  # pretty print result\n",
    "\n",
    "# fs = [ 1, 2,3,4]\n",
    "# es.tell(xs, fs)\n",
    "# print(es.result.xbest)\n",
    "# print(es.result.fbest)\n",
    "# print(\"=\"*10)\n",
    "# xs = np.array(es.ask())\n",
    "# print(xs)\n",
    "# es.tell(xs, [30,40,5,6])\n",
    "# print(es.result.xbest)\n",
    "# print(es.result.fbest)\n",
    "# print(\"=\"*10)\n",
    "# xs = np.array(es.ask())\n",
    "# print(xs)\n",
    "# es.tell(xs, [30,40,5,6])\n",
    "# print(es.result.xbest)\n",
    "# print(es.result.fbest)\n"
   ]
  },
  {
   "cell_type": "code",
   "execution_count": null,
   "id": "9b4cb2f4-e76d-4ba8-a106-f4fb5c1603bb",
   "metadata": {},
   "outputs": [],
   "source": []
  },
  {
   "cell_type": "code",
   "execution_count": null,
   "id": "42bf2f32-ce19-4f85-b2f8-d2c8577f1a6e",
   "metadata": {},
   "outputs": [],
   "source": []
  },
  {
   "cell_type": "code",
   "execution_count": null,
   "id": "a9f36ee5-daa7-453b-a6dd-930574fccf35",
   "metadata": {},
   "outputs": [],
   "source": []
  },
  {
   "cell_type": "code",
   "execution_count": null,
   "id": "75c27dae-4377-4cce-a4b5-9ea95043ba8f",
   "metadata": {},
   "outputs": [],
   "source": []
  },
  {
   "cell_type": "code",
   "execution_count": null,
   "id": "8bcb49d8-4254-4eb2-8d2f-d9134d03f47a",
   "metadata": {},
   "outputs": [],
   "source": []
  },
  {
   "cell_type": "code",
   "execution_count": null,
   "id": "38b71f78-dade-4975-877e-f02592e37acd",
   "metadata": {},
   "outputs": [],
   "source": [
    "fig, ax = plt.subplots(figsize=(20,10))    \n",
    "# fig.suptitle('New ORD-hERG - '+ ord._cell_types[cell_mode] +' cell', fontsize=16)\n",
    "# ax.set_title('Simulation %d'%(simulationNo))\n",
    "plt.xlabel('Time (s)')\n",
    "plt.ylabel('Current (pA)')     \n",
    "ax.plot(times, data, label='Data')\n",
    "# ax.plot(times, IKr, label='Simulation')\n",
    "# ax.plot(times, fit_I_real, label='fit_exact') \n",
    "ax.plot(times, fit_I_ai, label='fit_ai') \n",
    "# ax.plot(times, fit_I_prior, label='fit_prior')\n",
    "# ax.plot(times, IKr_ai, label='IKr_ai') \n",
    "\n",
    "\n",
    "# textstr = \"GNa : %1.4f\\nGNaL : %1.4f\\nGto : %1.4f\\nPCa : %1.4f\\nGKr : %1.4f\\nGKs : %1.4f\\nGK1 : %1.4f\\nGf : %1.4f\"%(GNa/g_fc[0], GNaL/g_fc[1], Gto/g_fc[2], PCa/g_fc[3], GKr/g_fc[4], GKs/g_fc[5], GK1/g_fc[6], Gf/g_fc[7])\n",
    "# props = dict(boxstyle='round', facecolor='wheat', alpha=0.5)\n",
    "# place a text box in upper left in axes coords\n",
    "#     ax.text(0.67, 0.60, textstr, transform=ax.transAxes, fontsize=14, verticalalignment='top', bbox=props)    \n",
    "#     fig1 = plt.gcf()\n",
    "ax.legend(loc='best')\n",
    "plt.show()\n",
    "fig.savefig(os.path.join(result_folder, \"%s-Curve-fitting.jpg\"%(cell)), dpi=100)"
   ]
  },
  {
   "cell_type": "code",
   "execution_count": null,
   "id": "626f0a50-61cd-4c42-aa29-de470f993eb3",
   "metadata": {},
   "outputs": [],
   "source": [
    "print(\"finish\")"
   ]
  },
  {
   "cell_type": "code",
   "execution_count": null,
   "id": "ea6e2aff-19f0-4d0f-8ab6-06c8b4dcea2c",
   "metadata": {},
   "outputs": [],
   "source": [
    "from scipy.optimize import rosen, differential_evolution\n",
    "bounds = [(0,2), (0, 2), (0, 2), (0, 2), (0, 2)]\n",
    "result = differential_evolution(rosen, bounds)\n",
    "result.x, result.fun"
   ]
  },
  {
   "cell_type": "code",
   "execution_count": null,
   "id": "b98aa376-cc19-47dc-bef1-fb85d6443999",
   "metadata": {},
   "outputs": [],
   "source": []
  }
 ],
 "metadata": {
  "kernelspec": {
   "display_name": "Python 3",
   "language": "python",
   "name": "python3"
  },
  "language_info": {
   "codemirror_mode": {
    "name": "ipython",
    "version": 3
   },
   "file_extension": ".py",
   "mimetype": "text/x-python",
   "name": "python",
   "nbconvert_exporter": "python",
   "pygments_lexer": "ipython3",
   "version": "3.8.8"
  }
 },
 "nbformat": 4,
 "nbformat_minor": 5
}
