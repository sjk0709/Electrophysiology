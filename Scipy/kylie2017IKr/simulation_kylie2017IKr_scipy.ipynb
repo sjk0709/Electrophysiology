{
 "cells": [
  {
   "cell_type": "code",
   "execution_count": 1,
   "id": "f5cbbdbe-d96c-40ab-93be-16b854518cec",
   "metadata": {},
   "outputs": [],
   "source": [
    "import os, sys\n",
    "from scipy.integrate import ode, solve_ivp\n",
    "import numpy as np\n",
    "import matplotlib.pyplot as plt\n",
    "\n",
    "# import mod_kernik as kernik\n",
    "import pickle\n",
    "import bisect\n",
    "# import mod_protocols\n",
    "\n",
    "import pints\n",
    "\n",
    "sys.path.append('../../../JKLib')\n",
    "from pythonJK import create_folder"
   ]
  },
  {
   "cell_type": "code",
   "execution_count": 2,
   "id": "fd4df662-c3d1-46be-a84d-fbf409878b78",
   "metadata": {},
   "outputs": [
    {
     "name": "stdout",
     "output_type": "stream",
     "text": [
      "The folder already exists.\n"
     ]
    }
   ],
   "source": [
    "result_folder = './Figures'\n",
    "create_folder(result_folder)"
   ]
  },
  {
   "cell_type": "code",
   "execution_count": 3,
   "id": "5ee1ca34-35ae-47c3-b177-1332efb9f4f1",
   "metadata": {},
   "outputs": [],
   "source": [
    "\n",
    "# time = np.linspace(0, 15.4, 65)\n",
    "# time = np.arange(1540)*0.01\n",
    "# dt = time[1] - time[0]\n",
    "# print(\"dt :\", dt)\n",
    "# voltage_protocol = 80*np.sin(time) \n",
    "\n",
    "# p = (10, 2,2,1,1,1,1,1,1)\n",
    "\n",
    "# def voltage(t):\n",
    "#     return 1.2*np.sin(t)\n",
    "\n",
    "# def f(t, ar):    \n",
    "#     V = voltage(t) \n",
    "#     k1 = p[1]*np.exp(p[2]*V)\n",
    "#     k2 = p[3]*np.exp(-p[4]*V)\n",
    "#     k3 = p[5]*np.exp(p[6]*V)\n",
    "#     k4 = p[7]*np.exp(-p[8]*V)\n",
    "#     tau_a = 1/(k1+k2)\n",
    "#     tau_r = 1/(k3+k4)\n",
    "#     a_inf = k1/(k1+k2)\n",
    "#     r_inf = k4/(k3+k4)    \n",
    "#     dot_a = (a_inf-ar[0])/tau_a\n",
    "#     dot_r = (r_inf-ar[1])/tau_r\n",
    "#     return [dot_a, dot_r]\n",
    "\n"
   ]
  },
  {
   "cell_type": "code",
   "execution_count": 4,
   "id": "85f21cb5-e216-441c-8d8e-b16edce0683d",
   "metadata": {},
   "outputs": [],
   "source": [
    "# ar0 = [0,1]\n",
    "\n",
    "# r = ode(f).set_integrator('vode', method='bdf', atol=1e-06, rtol=1e-06, max_step=1)\n",
    "# r.set_initial_value(ar0, time[0]) #.set_f_params(2.0)\n",
    "# t1 = 15\n",
    "# dt = 0.01\n",
    "# # times = []\n",
    "# a_li = []\n",
    "# r_li = []\n",
    "# a_li.append(ar0[0])\n",
    "# r_li.append(ar0[1])\n",
    "# # print(time)\n",
    "# for (i, t) in enumerate(time[1:]):    \n",
    "#     if r.successful():        \n",
    "#         y = r.integrate(t)\n",
    "# #         print(y)\n",
    "# #         times.append(t)\n",
    "#         a_li.append(y[0])\n",
    "#         r_li.append(y[1])\n",
    "# #         print(t, y)\n",
    "#     else :\n",
    "#         break\n",
    "# a1 = np.array(a_li)\n",
    "# r1 = np.array(r_li)\n",
    "# print(a1, r1)\n",
    "# print(\"finish\")"
   ]
  },
  {
   "cell_type": "code",
   "execution_count": 5,
   "id": "d7b309a6-2a26-4af5-8556-ebe1e10763ca",
   "metadata": {},
   "outputs": [
    {
     "name": "stdout",
     "output_type": "stream",
     "text": [
      "Kylie dataset has been selected.\n",
      "(9, 2)\n"
     ]
    }
   ],
   "source": [
    "import leakstaircase\n",
    "import kylie2017IKr_scipy\n",
    "\n",
    "protocol = leakstaircase.LeakStaircase()\n",
    "kylie = kylie2017IKr_scipy.Kylie2017IKr(protocol)"
   ]
  },
  {
   "cell_type": "code",
   "execution_count": 6,
   "id": "7745f330-aebe-4217-b9e9-fe9c142bb81d",
   "metadata": {},
   "outputs": [
    {
     "name": "stdout",
     "output_type": "stream",
     "text": [
      "(77000,) 15.3998\n",
      "Simulation done.\n"
     ]
    }
   ],
   "source": [
    "times = np.linspace(0, 15.4, 77000)\n",
    "times = np.arange(77000)*0.0002\n",
    "print(times.shape, times.max())\n",
    "# voltage = kylie.voltage(times)\n",
    "\n",
    "IKr = kylie.simulate(times)\n",
    "print(\"Simulation done.\")"
   ]
  },
  {
   "cell_type": "code",
   "execution_count": 7,
   "id": "82474522-b92b-4bc4-93a9-f0a9cbe2ef4f",
   "metadata": {},
   "outputs": [
    {
     "name": "stdout",
     "output_type": "stream",
     "text": [
      "(77000,)\n",
      "(77000,)\n"
     ]
    }
   ],
   "source": [
    "times = kylie.solver.t\n",
    "print(times.shape)\n",
    "print(IKr.shape)"
   ]
  },
  {
   "cell_type": "code",
   "execution_count": 8,
   "id": "326d786e-b199-44f8-a37a-1b1dbf82ab7f",
   "metadata": {},
   "outputs": [
    {
     "data": {
      "image/png": "[encoded data removed]",
      "text/plain": [
       "<Figure size 1080x144 with 1 Axes>"
      ]
     },
     "metadata": {
      "needs_background": "light"
     },
     "output_type": "display_data"
    }
   ],
   "source": [
    "fig, ax = plt.subplots(figsize=(15,2))    \n",
    "# fig.suptitle('New ORD-hERG - '+ ord._cell_types[cell_mode] +' cell', fontsize=16)\n",
    "# ax.set_title('Simulation %d'%(simulationNo))\n",
    "plt.xlabel('Time (s)')\n",
    "plt.ylabel('Voltage (mV)')     \n",
    "ax.plot(times, kylie.V, label='Voltage')    \n",
    "\n",
    "# textstr = \"GNa : %1.4f\\nGNaL : %1.4f\\nGto : %1.4f\\nPCa : %1.4f\\nGKr : %1.4f\\nGKs : %1.4f\\nGK1 : %1.4f\\nGf : %1.4f\"%(GNa/g_fc[0], GNaL/g_fc[1], Gto/g_fc[2], PCa/g_fc[3], GKr/g_fc[4], GKs/g_fc[5], GK1/g_fc[6], Gf/g_fc[7])\n",
    "# props = dict(boxstyle='round', facecolor='wheat', alpha=0.5)\n",
    "# place a text box in upper left in axes coords\n",
    "#     ax.text(0.67, 0.60, textstr, transform=ax.transAxes, fontsize=14, verticalalignment='top', bbox=props)    \n",
    "#     fig1 = plt.gcf()\n",
    "ax.legend()\n",
    "plt.show()\n",
    "fig.savefig(os.path.join(result_folder, \"voltage.jpg\"), dpi=100)"
   ]
  },
  {
   "cell_type": "code",
   "execution_count": 9,
   "id": "3043703c-64bc-461b-b1cc-bb20260b8409",
   "metadata": {},
   "outputs": [
    {
     "data": {
      "image/png": "[encoded data removed]",
      "text/plain": [
       "<Figure size 1080x144 with 1 Axes>"
      ]
     },
     "metadata": {
      "needs_background": "light"
     },
     "output_type": "display_data"
    }
   ],
   "source": [
    "fig, ax = plt.subplots(figsize=(15,2))    \n",
    "# fig.suptitle('New ORD-hERG - '+ ord._cell_types[cell_mode] +' cell', fontsize=16)\n",
    "# ax.set_title('Simulation %d'%(simulationNo))\n",
    "plt.xlabel('Time (s)')\n",
    "plt.ylabel('Current (pA)')     \n",
    "ax.plot(times, kylie.IKr, label='IKr')    \n",
    "ax.set_xlim(0,16)\n",
    "# textstr = \"GNa : %1.4f\\nGNaL : %1.4f\\nGto : %1.4f\\nPCa : %1.4f\\nGKr : %1.4f\\nGKs : %1.4f\\nGK1 : %1.4f\\nGf : %1.4f\"%(GNa/g_fc[0], GNaL/g_fc[1], Gto/g_fc[2], PCa/g_fc[3], GKr/g_fc[4], GKs/g_fc[5], GK1/g_fc[6], Gf/g_fc[7])\n",
    "# props = dict(boxstyle='round', facecolor='wheat', alpha=0.5)\n",
    "# place a text box in upper left in axes coords\n",
    "#     ax.text(0.67, 0.60, textstr, transform=ax.transAxes, fontsize=14, verticalalignment='top', bbox=props)    \n",
    "#     fig1 = plt.gcf()\n",
    "ax.legend()\n",
    "plt.show()\n",
    "fig.savefig(os.path.join(result_folder, \"IKr.jpg\"), dpi=100)"
   ]
  },
  {
   "cell_type": "code",
   "execution_count": 10,
   "id": "35bd361d-a0b9-41d0-97b5-863882906e72",
   "metadata": {},
   "outputs": [
    {
     "data": {
      "image/png": "[encoded data removed]",
      "text/plain": [
       "<Figure size 1080x144 with 1 Axes>"
      ]
     },
     "metadata": {
      "needs_background": "light"
     },
     "output_type": "display_data"
    }
   ],
   "source": [
    "population_by_continent = {\n",
    "    'O': kylie.open*kylie.active,\n",
    "    'I': kylie.open*(1-kylie.active),\n",
    "    'C': (1-kylie.open)*kylie.active,\n",
    "    'IC': (1-kylie.open)*(1-kylie.active),    \n",
    "}\n",
    "fig, ax = plt.subplots(figsize=(15,2))    \n",
    "# fig.suptitle('New ORD-hERG - '+ ord._cell_types[cell_mode] +' cell', fontsize=16)\n",
    "# ax.set_title('Simulation %d'%(simulationNo))\n",
    "plt.xlabel('Time (s)')\n",
    "# plt.ylabel('Voltage (mV)')     \n",
    "ax.stackplot(times, population_by_continent.values(),\n",
    "             labels=population_by_continent.keys(), alpha=0.8)\n",
    "# ax.plot(times, kylie.active, label='Active')    \n",
    "# textstr = \"GNa : %1.4f\\nGNaL : %1.4f\\nGto : %1.4f\\nPCa : %1.4f\\nGKr : %1.4f\\nGKs : %1.4f\\nGK1 : %1.4f\\nGf : %1.4f\"%(GNa/g_fc[0], GNaL/g_fc[1], Gto/g_fc[2], PCa/g_fc[3], GKr/g_fc[4], GKs/g_fc[5], GK1/g_fc[6], Gf/g_fc[7])\n",
    "# props = dict(boxstyle='round', facecolor='wheat', alpha=0.5)\n",
    "# place a text box in upper left in axes coords\n",
    "#     ax.text(0.67, 0.60, textstr, transform=ax.transAxes, fontsize=14, verticalalignment='top', bbox=props)    \n",
    "#     fig1 = plt.gcf()\n",
    "ax.legend()\n",
    "plt.show()\n",
    "fig.savefig(os.path.join(result_folder, \"Open_Active.jpg\"), dpi=100)"
   ]
  },
  {
   "cell_type": "code",
   "execution_count": 11,
   "id": "626f0a50-61cd-4c42-aa29-de470f993eb3",
   "metadata": {},
   "outputs": [
    {
     "name": "stdout",
     "output_type": "stream",
     "text": [
      "finish\n"
     ]
    }
   ],
   "source": [
    "print(\"finish\")"
   ]
  },
  {
   "cell_type": "code",
   "execution_count": null,
   "id": "ea6e2aff-19f0-4d0f-8ab6-06c8b4dcea2c",
   "metadata": {},
   "outputs": [],
   "source": []
  },
  {
   "cell_type": "code",
   "execution_count": null,
   "id": "8bc132d5-4c8b-4446-a35b-28492b28f024",
   "metadata": {},
   "outputs": [],
   "source": []
  }
 ],
 "metadata": {
  "kernelspec": {
   "display_name": "Python 3",
   "language": "python",
   "name": "python3"
  },
  "language_info": {
   "codemirror_mode": {
    "name": "ipython",
    "version": 3
   },
   "file_extension": ".py",
   "mimetype": "text/x-python",
   "name": "python",
   "nbconvert_exporter": "python",
   "pygments_lexer": "ipython3",
   "version": "3.8.10"
  }
 },
 "nbformat": 4,
 "nbformat_minor": 5
}
