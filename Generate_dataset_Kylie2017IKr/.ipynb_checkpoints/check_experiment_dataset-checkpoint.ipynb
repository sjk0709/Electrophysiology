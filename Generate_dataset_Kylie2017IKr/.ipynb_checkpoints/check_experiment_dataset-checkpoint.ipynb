{
 "cells": [
  {
   "cell_type": "code",
   "execution_count": 1,
   "id": "c797b0f5-b635-44ed-8047-735d4a931ef5",
   "metadata": {},
   "outputs": [],
   "source": [
    "import os, sys, time, copy\n",
    "import random\n",
    "import numpy as np\n",
    "import pandas as pd\n",
    "import matplotlib.pyplot as plt\n",
    "\n",
    "import multiprocessing\n",
    "from functools import partial\n",
    "from tqdm import tqdm\n",
    "\n",
    "import collections\n",
    "from typing import List\n",
    "\n",
    "import myokit\n",
    "sys.path.append('../')\n",
    "sys.path.append('../Protocols')\n",
    "sys.path.append('../Models')\n",
    "sys.path.append('../Lib')\n",
    "import protocol_lib\n",
    "import mod_trace\n",
    "\n",
    "import simulator_myokit\n",
    "import simulator_scipy\n",
    "import vc_protocols"
   ]
  },
  {
   "cell_type": "code",
   "execution_count": 2,
   "id": "8c32eec2-f258-4225-a166-bdfd2154afd2",
   "metadata": {},
   "outputs": [],
   "source": [
    "def find_closest_index(array, t):\n",
    "    \"\"\"Given an array, return the index with the value closest to t.\"\"\"\n",
    "    return (np.abs(np.array(array) - t)).argmin()\n",
    "\n",
    "def get_currents_with_constant_dt(param, x):\n",
    "        \n",
    "    window = param['window']\n",
    "    step_size = param['step_size']\n",
    "        \n",
    "    times = x[0]\n",
    "    i_ion = x[1]\n",
    "              \n",
    "    i_ion_window = []\n",
    "    t = 0\n",
    "    while t <= times[-1] - window:\n",
    "        start_index = find_closest_index(times, t)\n",
    "        end_index = find_closest_index(times, t + window)            \n",
    "        I_window = i_ion[start_index: end_index + 1]                                    \n",
    "        i_ion_window.append(sum(I_window)/len(I_window))            \n",
    "        t += step_size\n",
    "            \n",
    "    return i_ion_window"
   ]
  },
  {
   "cell_type": "code",
   "execution_count": 3,
   "id": "55c28e53-a4db-42f6-9f78-6e55d60c6805",
   "metadata": {},
   "outputs": [],
   "source": [
    "# def get_currents_with_constant_dt(sol, window=1, step_size=1):\n",
    "    \n",
    "#     times = sol['Time'].values\n",
    "#     currents = sol.drop(['Time'], axis=1)\n",
    "    \n",
    "#     avg_currents = collections.defaultdict(list)\n",
    "#     t = 0\n",
    "#     while t <= times[-1] - window:\n",
    "#         start_index = find_closest_index(times, t)\n",
    "#         end_index = find_closest_index(times, t + window)\n",
    "#         currents_in_window = currents[start_index: end_index + 1]\n",
    "\n",
    "#         window_avg_currents = {}               \n",
    "#         for name in currents.columns:                 \n",
    "#             window_avg_currents[name] = currents_in_window[name].sum()/len(currents_in_window[name])    \n",
    "#             # window_avg_currents[name] = currents_in_window[name].min()\n",
    "#             # window_avg_currents[name] = currents_in_window[name].max()\n",
    "\n",
    "#         avg_currents['Time Start'].append(t)\n",
    "#         avg_currents['Time End'].append(t + window)\n",
    "#         avg_currents['Time Mid'].append((2*t + window)/2)\n",
    "\n",
    "#         for key, val in window_avg_currents.items():     \n",
    "#             # print(key, val)\n",
    "#             avg_currents[key].append(val)\n",
    "#         t += step_size\n",
    "        \n",
    "#     return avg_currents"
   ]
  },
  {
   "cell_type": "code",
   "execution_count": 4,
   "id": "2478fbcf-98de-4dce-a6a2-c4f91d615eb5",
   "metadata": {},
   "outputs": [
    {
     "data": {
      "text/plain": [
       "(0, 15.3998)"
      ]
     },
     "execution_count": 4,
     "metadata": {},
     "output_type": "execute_result"
    }
   ],
   "source": [
    "# V = model.voltage(times)\n",
    "g = 0.1524 * 1e3 # [pA/V]\n",
    "p1 = 2.26e-4 * 1e3 # [1/s]\n",
    "p2 = 0.0699 * 1e3  # [1/V]\n",
    "p3 = 3.45e-5 * 1e3 # [1/s]\n",
    "p4 = 0.05462 * 1e3 # [1/V]\n",
    "p5 = 0.0873 * 1e3  # [1/s]\n",
    "p6 = 8.91e-3 * 1e3 # [1/V]\n",
    "p7 = 5.15e-3 * 1e3 # [1/s]\n",
    "p8 = 0.03158 * 1e3 # [1/V]\n",
    "\n",
    "dt = 0.0002\n",
    "t_eval = np.arange(77000)*dt  # times = np.linspace(0, 15.4, 77000)\n",
    "t_span = (0, t_eval.max())\n",
    "t_span"
   ]
  },
  {
   "cell_type": "code",
   "execution_count": 5,
   "id": "52b8cecc-47e6-4421-8283-e980ba20cd2f",
   "metadata": {},
   "outputs": [
    {
     "name": "stdout",
     "output_type": "stream",
     "text": [
      "The protocol is 15.4 s\n"
     ]
    },
    {
     "data": {
      "image/png": "[encoded data removed]",
      "text/plain": [
       "<Figure size 1080x360 with 1 Axes>"
      ]
     },
     "metadata": {
      "needs_background": "light"
     },
     "output_type": "display_data"
    }
   ],
   "source": [
    "'''\n",
    "leak_staircase\n",
    "'''\n",
    "# VC_protocol = vc_protocols.hERG_CiPA()\n",
    "# VC_protocol = vc_protocols.cav12_CiPA()\n",
    "# VC_protocol = vc_protocols.lateNav15_CiPA()\n",
    "\n",
    "# VC_protocol = vc_protocols_for_myokit.leak_staircase()\n",
    "VC_protocol = vc_protocols.leak_staircase()\n",
    "\n",
    "print(f'The protocol is {VC_protocol.get_voltage_change_endpoints()[-1]} s')\n",
    "VC_protocol.plot_voltage_clamp_protocol(t_eval)"
   ]
  },
  {
   "cell_type": "code",
   "execution_count": 9,
   "id": "b75e557b-cf61-48aa-a3f8-6a8ce4cd107b",
   "metadata": {},
   "outputs": [
    {
     "name": "stdout",
     "output_type": "stream",
     "text": [
      "../../Dataset/herg25oc1_real_data\n"
     ]
    }
   ],
   "source": [
    "gen_params = {\n",
    "    'end_time': VC_protocol.get_voltage_change_endpoints()[-1],   \n",
    "    't_eval' : t_eval, \n",
    "    'log_li' : ['ikr.IKr', 'ikr.open', 'ikr.active'],\n",
    "    'save_log_li' : ['ikr.IKr'],\n",
    "    'nData' : 5,                         \n",
    "    # 'dataset_dir' : '../../Dataset/ohara2017_LeemV1',\n",
    "    'dataset_dir' : f'../../Dataset/herg25oc1_real_data',\n",
    "    'data_file_name' : 'IKr',\n",
    "    'window' : 10,\n",
    "    'step_size' : 5,\n",
    "}  \n",
    "# gen_params['dataset_dir'] = gen_params['dataset_dir'] + f\"_w{gen_params['window']}_s{gen_params['step_size']}\"\n",
    "print( gen_params['dataset_dir'] )\n",
    "\n",
    "sys.path.append(gen_params['dataset_dir'])\n",
    "from getdata import get_dataset"
   ]
  },
  {
   "cell_type": "code",
   "execution_count": null,
   "id": "2b54d195-52db-48f8-a630-262b4c9058fd",
   "metadata": {},
   "outputs": [],
   "source": []
  },
  {
   "cell_type": "code",
   "execution_count": null,
   "id": "cfc0b610-2b71-414d-9c0a-a1b794ac34ee",
   "metadata": {},
   "outputs": [],
   "source": [
    "# for i in range(5):\n",
    "# xs, ys = get_dataset(file_numbers=range(1, 3), multi=True, use_torch=True)\n",
    "\n",
    "# xs, ys = get_dataset(file_numbers=range(1, 31), window=10, step_size=5, multi=False, use_torch=False, get_raw=False)\n",
    "\n",
    "cell_to_remove=['A04', 'A15', 'E05', 'E22', 'G10', 'G22', 'H08', 'I10', 'I12', 'I16', 'L08', 'P15', 'P18' ] # M24\n",
    "cell_to_remove=[]\n",
    "\n",
    "xs, ys = get_dataset(cell_to_remove=cell_to_remove, scale=1, multi=True, torch_tensor=False)  # <-- fast"
   ]
  },
  {
   "cell_type": "code",
   "execution_count": null,
   "id": "d911f5ee-3cbd-41aa-bf8d-f38799a75895",
   "metadata": {},
   "outputs": [],
   "source": [
    "print(xs.shape, ys.shape)"
   ]
  },
  {
   "cell_type": "code",
   "execution_count": null,
   "id": "aeb08fca-8890-4294-937d-93c6398c79db",
   "metadata": {},
   "outputs": [],
   "source": [
    "dataNo = 100\n",
    "\n",
    "sol1 = {}\n",
    "sol1['Time'] = xs[dataNo][0] \n",
    "sol1[\"IKr\"] = xs[dataNo][1]\n",
    "y = ys[dataNo]\n",
    "\n",
    "# sol1 = pd.DataFrame(data=sol1)\n",
    "# sol1.head()"
   ]
  },
  {
   "cell_type": "code",
   "execution_count": null,
   "id": "4c23568a-ef29-4f1e-af09-d12ebe7e0028",
   "metadata": {},
   "outputs": [],
   "source": [
    "sol1[\"IKr\"].shape"
   ]
  },
  {
   "cell_type": "code",
   "execution_count": null,
   "id": "103c44c0-62bc-4296-b977-18ffd5bc8ece",
   "metadata": {},
   "outputs": [],
   "source": [
    "y"
   ]
  },
  {
   "cell_type": "code",
   "execution_count": null,
   "id": "39e06447-93cd-476a-bfb4-619731c55d5d",
   "metadata": {},
   "outputs": [],
   "source": [
    "start_time = time.time()\n",
    "\n",
    "# hERG model settings\n",
    "temperature = 25.0\n",
    "temperature += 273.15  # in K\n",
    "fit_seed = '542811797'\n",
    "withfcap = False\n",
    "\n",
    "model, p, s = myokit.load(\"../mmt-model-files/kylie-2017-IKr.mmt\")    \n",
    "model.get('phys.T').set_rhs(temperature)\n",
    "# Set concentration\n",
    "model.get('potassium.Ko').set_rhs(float(4.0))\n",
    "model.get('potassium.Ki').set_rhs(float(110.0))\n",
    "\n",
    "sim = simulator_myokit.Simulator(model, VC_protocol, max_step=1e-3, abs_tol=1e-12, rel_tol=1e-14, vhold=-80e-3)  # 1e-12, 1e-14  # 1e-08, 1e-10\n",
    "sim.name = \"kylie2017IKr\"  \n",
    "\n",
    "print(\"--- %s seconds ---\"%(time.time()-start_time))"
   ]
  },
  {
   "cell_type": "code",
   "execution_count": null,
   "id": "c1a5c912-420b-45a4-9ca3-746e36b9fa06",
   "metadata": {},
   "outputs": [],
   "source": [
    "start_time = time.time()\n",
    "\n",
    "model_params = {                    \n",
    "    'ikr.g' : y[0],  # random.uniform(parameter_ranges[0][0], parameter_ranges[0][1]),\n",
    "    'ikr.p1' : y[1],\n",
    "    'ikr.p2' : y[2],\n",
    "    'ikr.p3' : y[3],\n",
    "    'ikr.p4' : y[4],\n",
    "    'ikr.p5' : y[5],\n",
    "    'ikr.p6' : y[6],\n",
    "    'ikr.p7' : y[7],\n",
    "    'ikr.p8' : y[8],                \n",
    "} \n",
    "sim.set_simulation_params(model_params)                \n",
    "    \n",
    "sim.pre_simulate(100, sim_type=1)\n",
    "# d = sim.simulate( gen_params['end_time'], log_times=gen_params['t_eval'], extra_log=gen_params['log_li'])                           \n",
    "d = sim.simulate( gen_params['end_time'], log_times=None, extra_log=gen_params['log_li'])                           \n",
    "              \n",
    "sol2 = {}\n",
    "sol2[\"Time\"] = d['engine.time']\n",
    "sol2[\"IKr\"] = d['ikr.IKr'] #+ np.random.normal(0, 2, d['membrane.i_ion'].shape) # add noise\n",
    "sol2[\"open\"] = d['ikr.open']\n",
    "sol2[\"active\"] = d['ikr.open']\n",
    "sol2[\"params\"] = y\n",
    "# sol2 = pd.DataFrame(data=sol2)\n",
    "# sol2.head()\n",
    "# np.random.normal(0, noise_sigma, current.shape) # add noise\n",
    "print(\"--- %s seconds ---\"%(time.time()-start_time))"
   ]
  },
  {
   "cell_type": "code",
   "execution_count": null,
   "id": "8e9256d7-26c6-45a0-af10-334dd16f8f0a",
   "metadata": {},
   "outputs": [],
   "source": [
    "# sol2 = get_currents_with_constant_dt(sol2, window=gen_params['window'], step_size=gen_params['step_size'])"
   ]
  },
  {
   "cell_type": "code",
   "execution_count": null,
   "id": "792842e0-14ac-411e-9a00-dc37fb180058",
   "metadata": {},
   "outputs": [],
   "source": [
    "sol2[\"IKr\"].shape"
   ]
  },
  {
   "cell_type": "code",
   "execution_count": null,
   "id": "7887a940-9e23-4747-8102-e4b0494463ac",
   "metadata": {},
   "outputs": [],
   "source": [
    "'''\n",
    "Plot\n",
    "'''\n",
    "fig, ax = plt.subplots(2,1, figsize=(10,10))    \n",
    "# fig.suptitle(sim.name, fontsize=14)\n",
    "axNo = 0\n",
    "for name in ['IKr']:    \n",
    "    # if name!='Time Start' and name!='Time End' and name!='Time Mid':\n",
    "    # ax.set_title('Simulation %d'%(simulationNo))\n",
    "    # axes[i].set_xlim(model_scipy.times.min(), model_scipy.times.max())\n",
    "    # ax.set_ylim(ylim[0], ylim[1])\n",
    "    ax[axNo].set_xlabel('Time (ms)')       \n",
    "    ax[axNo].set_ylabel(f'{name}')      \n",
    "    ax[axNo].plot( sol1[\"Time\"], sol1[name], label='control', color='k', linewidth=5)     \n",
    "    ax[axNo].plot( sol2[\"Time\"], sol2[name], label='treatment', color='r', linewidth=2)    \n",
    "    ax[axNo].legend()\n",
    "    ax[axNo].grid()\n",
    "    axNo += 1\n",
    "\n",
    "# ax[-1].set_ylim(-5, 5)\n",
    "\n",
    "plt.subplots_adjust(left=0.07, bottom=0.05, right=0.95, top=0.95, wspace=0.5, hspace=0.15)\n",
    "plt.show()\n",
    "# fig.savefig(os.path.join('Results', \"C.jpg\"), dpi=100)"
   ]
  },
  {
   "cell_type": "code",
   "execution_count": null,
   "id": "9bf122ed-9527-4ec3-9830-1348cef7dbcc",
   "metadata": {},
   "outputs": [],
   "source": []
  },
  {
   "cell_type": "code",
   "execution_count": null,
   "id": "170399e3-2a31-4a0e-84ef-4643e25a73a7",
   "metadata": {},
   "outputs": [],
   "source": []
  },
  {
   "cell_type": "code",
   "execution_count": null,
   "id": "f3e6f447-69db-4896-88c2-c6d6504584d1",
   "metadata": {},
   "outputs": [],
   "source": []
  }
 ],
 "metadata": {
  "kernelspec": {
   "display_name": "Python 3 (ipykernel)",
   "language": "python",
   "name": "python3"
  },
  "language_info": {
   "codemirror_mode": {
    "name": "ipython",
    "version": 3
   },
   "file_extension": ".py",
   "mimetype": "text/x-python",
   "name": "python",
   "nbconvert_exporter": "python",
   "pygments_lexer": "ipython3",
   "version": "3.7.11"
  }
 },
 "nbformat": 4,
 "nbformat_minor": 5
}
