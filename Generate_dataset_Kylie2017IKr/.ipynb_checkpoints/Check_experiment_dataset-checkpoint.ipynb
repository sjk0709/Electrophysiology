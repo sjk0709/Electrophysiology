{
 "cells": [
  {
   "cell_type": "code",
   "execution_count": 1,
   "id": "c797b0f5-b635-44ed-8047-735d4a931ef5",
   "metadata": {},
   "outputs": [],
   "source": [
    "import os, sys, time, copy\n",
    "import random\n",
    "import numpy as np\n",
    "import pandas as pd\n",
    "import matplotlib.pyplot as plt\n",
    "\n",
    "import multiprocessing\n",
    "from functools import partial\n",
    "from tqdm import tqdm\n",
    "\n",
    "import collections\n",
    "from typing import List\n",
    "import bisect\n",
    "import myokit\n",
    "sys.path.append('../')\n",
    "sys.path.append('../Protocols')\n",
    "sys.path.append('../Models')\n",
    "sys.path.append('../Lib')\n",
    "import mod_protocols\n",
    "import protocol_lib\n",
    "import mod_trace\n",
    "\n",
    "import simulator_myokit\n",
    "import simulator_scipy\n",
    "import vc_protocols"
   ]
  },
  {
   "cell_type": "code",
   "execution_count": 2,
   "id": "8c32eec2-f258-4225-a166-bdfd2154afd2",
   "metadata": {},
   "outputs": [],
   "source": [
    "def find_closest_index(array, t):\n",
    "    \"\"\"Given an array, return the index with the value closest to t.\"\"\"\n",
    "    return (np.abs(np.array(array) - t)).argmin()\n",
    "\n",
    "def get_currents_with_constant_dt(params, x): # avg, min, max\n",
    "        \n",
    "    window = params['window']\n",
    "    step_size = params['step_size']\n",
    "    window_type = params['window_type']\n",
    "        \n",
    "    times = x[0]\n",
    "    i_ion = x[1]\n",
    "                      \n",
    "    i_ion_window = []\n",
    "    t = 0  \n",
    "    if window_type == 'avg':\n",
    "        while t <= times[-1] - window:\n",
    "            start_index = find_closest_index(times, t)\n",
    "            end_index = find_closest_index(times, t + window)            \n",
    "            I_window = i_ion[start_index: end_index + 1]                                       \n",
    "            i_ion_window.append(sum(I_window)/len(I_window))  \n",
    "            t += step_size     \n",
    "    if window_type == 'min':\n",
    "        while t <= times[-1] - window:\n",
    "            start_index = find_closest_index(times, t)\n",
    "            end_index = find_closest_index(times, t + window)            \n",
    "            I_window = i_ion[start_index: end_index + 1]                           \n",
    "            i_ion_window.append(I_window.min())      \n",
    "            t += step_size\n",
    "    elif window_type == 'max':    \n",
    "        while t <= times[-1] - window:\n",
    "            start_index = find_closest_index(times, t)\n",
    "            end_index = find_closest_index(times, t + window)            \n",
    "            I_window = i_ion[start_index: end_index + 1] \n",
    "            i_ion_window.append(I_window.max())                                                  \n",
    "            t += step_size\n",
    "    elif window_type == 'amax':        \n",
    "        while t <= times[-1] - window:\n",
    "            start_index = find_closest_index(times, t)\n",
    "            end_index = find_closest_index(times, t + window)            \n",
    "            I_window = i_ion[start_index: end_index + 1]       \n",
    "            I_window_max = I_window.max()\n",
    "            I_window_min = I_window.min()            \n",
    "            if abs(I_window_max) > abs(I_window_min):\n",
    "                i_ion_window.append(I_window_max)                \n",
    "            else : \n",
    "                i_ion_window.append(I_window_min)                                        \n",
    "            t += step_size\n",
    "    elif window_type == 'avg_min':\n",
    "        while t <= times[-1] - window:\n",
    "            start_index = find_closest_index(times, t)\n",
    "            end_index = find_closest_index(times, t + window)            \n",
    "            I_window = i_ion[start_index: end_index + 1]                   \n",
    "            i_ion_window.append([sum(I_window)/len(I_window), I_window.min()])                        \n",
    "            t += step_size    \n",
    "    elif window_type == 'avg_amax_min':\n",
    "        while t <= times[-1] - window:\n",
    "            start_index = find_closest_index(times, t)\n",
    "            end_index = find_closest_index(times, t + window)            \n",
    "            I_window = i_ion[start_index: end_index + 1]                           \n",
    "            I_window_amax = None\n",
    "            I_window_max = I_window.max()\n",
    "            I_window_min = I_window.min()\n",
    "            if abs(I_window_max) > abs(I_window_min):\n",
    "                I_window_amax = I_window_max\n",
    "            else : \n",
    "                I_window_amax = I_window_min                            \n",
    "            i_ion_window.append([sum(I_window)/len(I_window), I_window_amax, I_window_min])                        \n",
    "            t += step_size    \n",
    "    elif window_type == 'all':\n",
    "        while t <= times[-1] - window:\n",
    "            start_index = find_closest_index(times, t)\n",
    "            end_index = find_closest_index(times, t + window)            \n",
    "            I_window = i_ion[start_index: end_index + 1]       \n",
    "            I_window_amax = None\n",
    "            I_window_max = I_window.max()\n",
    "            I_window_min = I_window.min()\n",
    "            if abs(I_window_max) > abs(I_window_min):\n",
    "                I_window_amax = I_window_max\n",
    "            else : \n",
    "                I_window_amax = I_window_min                            \n",
    "            i_ion_window.append([sum(I_window)/len(I_window), I_window_amax, I_window_min, I_window_max])                        \n",
    "            t += step_size\n",
    "            \n",
    "    return i_ion_window"
   ]
  },
  {
   "cell_type": "code",
   "execution_count": 3,
   "id": "2478fbcf-98de-4dce-a6a2-c4f91d615eb5",
   "metadata": {},
   "outputs": [
    {
     "data": {
      "text/plain": [
       "(0, 15.3998)"
      ]
     },
     "execution_count": 3,
     "metadata": {},
     "output_type": "execute_result"
    }
   ],
   "source": [
    "# V = model.voltage(times)\n",
    "g = 0.1524 * 1e3 # [pA/V]\n",
    "p1 = 2.26e-4 * 1e3 # [1/s]\n",
    "p2 = 0.0699 * 1e3  # [1/V]\n",
    "p3 = 3.45e-5 * 1e3 # [1/s]\n",
    "p4 = 0.05462 * 1e3 # [1/V]\n",
    "p5 = 0.0873 * 1e3  # [1/s]\n",
    "p6 = 8.91e-3 * 1e3 # [1/V]\n",
    "p7 = 5.15e-3 * 1e3 # [1/s]\n",
    "p8 = 0.03158 * 1e3 # [1/V]\n",
    "\n",
    "dt = 0.0002\n",
    "t_eval = np.arange(77000)*dt  # times = np.linspace(0, 15.4, 77000)\n",
    "t_span = (0, t_eval.max())\n",
    "t_span"
   ]
  },
  {
   "cell_type": "markdown",
   "id": "797ae904-1f8f-4a92-b650-284d8872df6c",
   "metadata": {},
   "source": [
    "### Voltage protocol (leak_staircase)"
   ]
  },
  {
   "cell_type": "code",
   "execution_count": 4,
   "id": "52b8cecc-47e6-4421-8283-e980ba20cd2f",
   "metadata": {},
   "outputs": [
    {
     "name": "stdout",
     "output_type": "stream",
     "text": [
      "The protocol is 15.4 s\n"
     ]
    },
    {
     "data": {
      "image/png": "[encoded data removed]",
      "text/plain": [
       "<Figure size 1080x360 with 1 Axes>"
      ]
     },
     "metadata": {
      "needs_background": "light"
     },
     "output_type": "display_data"
    }
   ],
   "source": [
    "# VC_protocol = vc_protocols_for_myokit.leak_staircase()\n",
    "VC_protocol = vc_protocols.leak_staircase()\n",
    "\n",
    "print(f'The protocol is {VC_protocol.get_voltage_change_endpoints()[-1]} s')\n",
    "VC_protocol.plot_voltage_clamp_protocol(t_eval)"
   ]
  },
  {
   "cell_type": "code",
   "execution_count": 5,
   "id": "b75e557b-cf61-48aa-a3f8-6a8ce4cd107b",
   "metadata": {},
   "outputs": [
    {
     "name": "stdout",
     "output_type": "stream",
     "text": [
      "../../Dataset/herg25oc1_real_data\n"
     ]
    }
   ],
   "source": [
    "gen_params = {\n",
    "    'end_time': VC_protocol.get_voltage_change_endpoints()[-1],   \n",
    "    't_eval' : t_eval, \n",
    "    'log_li' : ['ikr.IKr', 'ikr.open', 'ikr.active'],\n",
    "    'save_log_li' : ['ikr.IKr'],\n",
    "    'nData' : 5,                             \n",
    "    'dataset_dir' : f'../../Dataset/herg25oc1_real_data',\n",
    "    'data_file_name' : 'IKr',\n",
    "    'window' : 0.01,\n",
    "    'step_size' : 0.01,\n",
    "    'window_type' : 'amax'\n",
    "}  \n",
    "# gen_params['dataset_dir'] = gen_params['dataset_dir'] + f\"_w{gen_params['window']}_s{gen_params['step_size']}\"\n",
    "print( gen_params['dataset_dir'] )\n",
    "\n",
    "sys.path.append(gen_params['dataset_dir'])\n",
    "from getdata import get_dataset, get_times"
   ]
  },
  {
   "cell_type": "markdown",
   "id": "dbf8d130-5a6c-45fd-9836-364ac516fd76",
   "metadata": {
    "tags": []
   },
   "source": [
    "### Get voltages"
   ]
  },
  {
   "cell_type": "code",
   "execution_count": 6,
   "id": "af70cd98-36c4-4d65-b19a-6efec6c87155",
   "metadata": {},
   "outputs": [],
   "source": [
    "voltages = np.array(VC_protocol.get_voltage_clamp_protocol(gen_params['t_eval']))*1000"
   ]
  },
  {
   "cell_type": "markdown",
   "id": "01a3136e-fb1a-4e19-8e61-78e81fb406ee",
   "metadata": {},
   "source": [
    "### Get experimental dataset"
   ]
  },
  {
   "cell_type": "code",
   "execution_count": 7,
   "id": "cfc0b610-2b71-414d-9c0a-a1b794ac34ee",
   "metadata": {},
   "outputs": [
    {
     "name": "stdout",
     "output_type": "stream",
     "text": [
      "The number of full cells : 211\n",
      "The number of removed Cells : 0\n",
      "The number of cells : 211\n"
     ]
    }
   ],
   "source": [
    "# for i in range(5):\n",
    "# xs, ys = get_dataset(file_numbers=range(1, 3), multi=True, use_torch=True)\n",
    "\n",
    "# xs, ys = get_dataset(file_numbers=range(1, 31), window=10, step_size=5, multi=False, use_torch=False, get_raw=False)\n",
    "\n",
    "cell_to_remove=['A04', 'A15', 'E05', 'E22', 'G10', 'G22', 'H08', 'I10', 'I12', 'I16', 'L08', 'P15', 'P18' ] # M24\n",
    "cell_to_remove=[]\n",
    "\n",
    "xs, ys, cells = get_dataset(cell_to_remove=cell_to_remove, scale=1, multi=True, torch_tensor=False)  # <-- fast\n",
    "times = get_times(scale=1)"
   ]
  },
  {
   "cell_type": "code",
   "execution_count": 8,
   "id": "d911f5ee-3cbd-41aa-bf8d-f38799a75895",
   "metadata": {},
   "outputs": [
    {
     "name": "stdout",
     "output_type": "stream",
     "text": [
      "(211, 77000) (211, 9)\n"
     ]
    }
   ],
   "source": [
    "print(xs.shape, ys.shape)"
   ]
  },
  {
   "cell_type": "markdown",
   "id": "351df957-0f61-4a05-b59b-c523b43d5067",
   "metadata": {
    "tags": []
   },
   "source": [
    "### Simulation setting"
   ]
  },
  {
   "cell_type": "code",
   "execution_count": 9,
   "id": "6ef039a7-5cc1-4f64-a212-0b2150e9e081",
   "metadata": {},
   "outputs": [
    {
     "name": "stdout",
     "output_type": "stream",
     "text": [
      "--- 1.6883859634399414 seconds ---\n"
     ]
    }
   ],
   "source": [
    "start_time = time.time()\n",
    "\n",
    "# hERG model settings\n",
    "temperature = 25.0\n",
    "temperature += 273.15  # in K\n",
    "fit_seed = '542811797'\n",
    "withfcap = False\n",
    "\n",
    "model, p, s = myokit.load(\"../mmt-model-files/kylie-2017-IKr.mmt\")    \n",
    "model.get('phys.T').set_rhs(temperature)\n",
    "# Set concentration\n",
    "model.get('potassium.Ko').set_rhs(float(4.0))\n",
    "model.get('potassium.Ki').set_rhs(float(110.0))\n",
    "\n",
    "sim = simulator_myokit.Simulator(model, VC_protocol, max_step=dt, abs_tol=1e-12, rel_tol=1e-14, vhold=-80e-3)  # 1e-12, 1e-14  # 1e-08, 1e-10\n",
    "sim.name = \"kylie2017IKr\"  \n",
    "\n",
    "print(\"--- %s seconds ---\"%(time.time()-start_time))"
   ]
  },
  {
   "cell_type": "markdown",
   "id": "8bfc0a3d-2eb1-4cfc-a985-41f9603ac19c",
   "metadata": {
    "tags": []
   },
   "source": [
    "### Check std of noise for experimental data"
   ]
  },
  {
   "cell_type": "code",
   "execution_count": 10,
   "id": "c52401ea-22ff-4c9a-b74f-16bd4e064490",
   "metadata": {},
   "outputs": [
    {
     "name": "stdout",
     "output_type": "stream",
     "text": [
      "min: 8.346994151712211  |  max: 14.15013773648413  |  avg: 10.50049650793822\n"
     ]
    }
   ],
   "source": [
    "check_range = 100\n",
    "\n",
    "std_li = []\n",
    "for x in xs:    \n",
    "    std_li.append(np.std(x[:check_range]))\n",
    "std_li = np.array(std_li)\n",
    "std_avg = std_li.mean()\n",
    "std_min = std_li.min()\n",
    "std_max = std_li.max()\n",
    "std_argmax = std_li.argmax()\n",
    "std_argmin = std_li.argmin()\n",
    "print(f\"min: {std_min}  |  max: {std_max}  |  avg: {std_avg}\")"
   ]
  },
  {
   "cell_type": "code",
   "execution_count": 11,
   "id": "fca0a731-f20f-48c5-b2d5-c390b14659f1",
   "metadata": {},
   "outputs": [],
   "source": [
    "# VC_protocol.get_voltage_change_endpoints()"
   ]
  },
  {
   "cell_type": "markdown",
   "id": "3ea79295-d170-4853-b1ea-57ffaa4deb67",
   "metadata": {},
   "source": [
    "### modify experimental current"
   ]
  },
  {
   "cell_type": "code",
   "execution_count": 12,
   "id": "ff06a50c-6537-411e-ac69-43f642189652",
   "metadata": {},
   "outputs": [],
   "source": [
    "def get_modified_current( params, current ):  \n",
    "    \n",
    "    times = params['time']\n",
    "    vc_protocol = params['vc']    \n",
    "    neighbor_radius = params['neighbor_radius']\n",
    "    \n",
    "    method = params['method']\n",
    "         \n",
    "    pre_step = vc_protocol.steps[0]\n",
    "    pre_step_index = 0\n",
    "    modified_current = copy.copy(current)\n",
    "    \n",
    "       \n",
    "    for i, t in enumerate(times):\n",
    "        \"\"\"Gets the voltage based on provided steps for the specified time.\"\"\"\n",
    "        # pre_V = VC_protocol.get_voltage_at_time(times[i-1])\n",
    "        V = VC_protocol.get_voltage_at_time(t)\n",
    "                        \n",
    "        step_index = bisect.bisect_left( vc_protocol.get_voltage_change_endpoints(), t )\n",
    "        current_step = vc_protocol.steps[step_index]\n",
    "        if (pre_step_index != step_index) :\n",
    "                        \n",
    "            neighboring_value = current[i-10:i-1].mean()\n",
    "                \n",
    "            if method == 0:\n",
    "                modified_current[i] = neighboring_value                    \n",
    "                for j in range(1, neighbor_radius+1):\n",
    "                    left_neighbor_index = i - j \n",
    "                    right_neighbor_index = i + j                 \n",
    "                    modified_current[left_neighbor_index] = neighboring_value                                    \n",
    "                    modified_current[right_neighbor_index] = neighboring_value                    \n",
    "            elif method == 1:\n",
    "                if V - VC_protocol.get_voltage_at_time(times[i-1]) > 0 :\n",
    "                    for j in range( 2*neighbor_radius+1):\n",
    "                        neighbor_index = i - neighbor_radius + j                     \n",
    "                        if (current[neighbor_index] - neighboring_value) < -10:\n",
    "                            modified_current[neighbor_index] = neighboring_value                                    \n",
    "                elif V - VC_protocol.get_voltage_at_time(times[i-1]) < 0 :\n",
    "                    for j in range( 2*neighbor_radius+1):\n",
    "                        neighbor_index = i - neighbor_radius + j                     \n",
    "                        if (current[neighbor_index] - neighboring_value) > 10:\n",
    "                            modified_current[neighbor_index] = neighboring_value  \n",
    "\n",
    "            pre_step_index = step_index\n",
    "            pre_step = current_step\n",
    "            \n",
    "    return modified_current"
   ]
  },
  {
   "cell_type": "code",
   "execution_count": 13,
   "id": "c4b5657d-e530-4917-87d3-088297370385",
   "metadata": {},
   "outputs": [
    {
     "data": {
      "text/plain": [
       "array([-17.55719485,  15.51956915,  24.97007315, ...,   4.49398115,\n",
       "       -15.98211085,   4.49398115])"
      ]
     },
     "execution_count": 13,
     "metadata": {},
     "output_type": "execute_result"
    }
   ],
   "source": [
    "times_vc = {\n",
    "    'time' : times,\n",
    "    'vc' : VC_protocol,\n",
    "    'neighbor_radius' : 5,\n",
    "    'method' : 1\n",
    "}\n",
    "\n",
    "get_modified_current(times_vc, xs[0])"
   ]
  },
  {
   "cell_type": "code",
   "execution_count": 14,
   "id": "2000eef9-de1f-40e0-a45a-3c03e162f6da",
   "metadata": {},
   "outputs": [
    {
     "name": "stdout",
     "output_type": "stream",
     "text": [
      "--- 9.959759950637817 seconds ---\n"
     ]
    }
   ],
   "source": [
    "start_time = time.time()\n",
    "\n",
    "pool = multiprocessing.Pool(processes=os.cpu_count())\n",
    "func = partial(get_modified_current, times_vc)\n",
    "modified_currents = pool.map(func, xs)\n",
    "pool.close()\n",
    "pool.join()\n",
    "\n",
    "print(\"--- %s seconds ---\"%(time.time()-start_time))"
   ]
  },
  {
   "cell_type": "code",
   "execution_count": 15,
   "id": "1e3ba723-6a1b-46de-8902-a2156bf14cd8",
   "metadata": {},
   "outputs": [
    {
     "data": {
      "text/plain": [
       "(211, 77000)"
      ]
     },
     "execution_count": 15,
     "metadata": {},
     "output_type": "execute_result"
    }
   ],
   "source": [
    "modified_currents = np.array(modified_currents)\n",
    "modified_currents.shape"
   ]
  },
  {
   "cell_type": "code",
   "execution_count": null,
   "id": "a77bbacd-dfa0-46f6-b442-4d62ab46440c",
   "metadata": {},
   "outputs": [],
   "source": []
  },
  {
   "cell_type": "code",
   "execution_count": null,
   "id": "f72cd8e2-42a8-4ce7-9c3d-f3122150f5ff",
   "metadata": {},
   "outputs": [],
   "source": []
  },
  {
   "cell_type": "code",
   "execution_count": 73,
   "id": "1d782fff-18f2-4053-b282-8dfc57ecd436",
   "metadata": {},
   "outputs": [
    {
     "name": "stdout",
     "output_type": "stream",
     "text": [
      "nfft =  77000\n"
     ]
    },
    {
     "data": {
      "image/png": "[encoded data removed]",
      "text/plain": [
       "<Figure size 432x288 with 1 Axes>"
      ]
     },
     "metadata": {
      "needs_background": "light"
     },
     "output_type": "display_data"
    }
   ],
   "source": [
    "import math \n",
    "fs = 5000 # max 500Hz *2  \n",
    "dt = 0.0002 # 1/fs   # 0.001  \n",
    "\n",
    "newt = times\n",
    "newx = xs[0]  \n",
    "    \n",
    "# 주파수 생성  \n",
    "nfft = len(newt)  # number of sample count.  \n",
    "print('nfft = ', nfft)  \n",
    "df = fs/nfft    # 주파수 증가량 = max freq / 샘플개수  \n",
    "k = np.arange(nfft)  \n",
    "f = k*df      # 0부터~최대주파수까지의 범위 (sample count 개수 만큼, df증가량으로 분포)  \n",
    "  \n",
    "# 주파수 스펙트럼은 중앙을 기준으로 대칭이 된다. 반만 구한다.  \n",
    "nfft_half = math.trunc(nfft/2)  \n",
    "f0 = f[range(nfft_half)]      # only half size check for get hz.  \n",
    "y = np.fft.fft(newx)/nfft * 2 # 증폭을 두 배로 한다. (반만 계산해서 에너지가 반으로 줌)  \n",
    "y0 = y[range(nfft_half)]       # one side.  \n",
    "amp = abs(y0)  # 벡터(복소수) norm 측정. 신호 강도. \n",
    "if True:  \n",
    "    plt.figure()  \n",
    "    plt.plot(f0, amp)  \n",
    "    # plt.savefig('fft02_3.jpg')  \n",
    "    # plt.xlime()\n",
    "    # plt.ylim(0,2)\n",
    "    plt.show()\n"
   ]
  },
  {
   "cell_type": "code",
   "execution_count": 74,
   "id": "2eab7e50-beb5-4db7-bd09-072147653f5d",
   "metadata": {},
   "outputs": [
    {
     "name": "stdout",
     "output_type": "stream",
     "text": [
      "q1= 0.05190060957156608 q3= 0.11210506231478229 upper_bound= 0.2024117414296066\n",
      "outer cnt= 2477\n"
     ]
    }
   ],
   "source": [
    "# # outlier 찾기. 사분위수 사용. boxplot.  \n",
    "# ampsort = np.sort(amp)  \n",
    "# q1, q3 = np.percentile(ampsort, [27, 73])  \n",
    "# iqr = q3-q1  \n",
    "# upper_bound = q3+1.5*iqr  \n",
    "# print('q1=',q1, 'q3=',q3, 'upper_bound=', upper_bound)  \n",
    "# outer = ampsort[ampsort>upper_bound]  \n",
    "# print('outer cnt=', len(outer))  \n",
    "# topn = len(outer)  \n",
    "\n",
    "# # print(outer)\n"
   ]
  },
  {
   "cell_type": "code",
   "execution_count": 75,
   "id": "66ba6d64-def9-4aa4-a026-1f74c2965d9b",
   "metadata": {},
   "outputs": [],
   "source": [
    "idxy = np.argsort(-amp)  \n",
    "# for i in range(topn):  \n",
    "#     print('freq=', f0[idxy[i]], 'amp=', y[idxy[i]])"
   ]
  },
  {
   "cell_type": "code",
   "execution_count": null,
   "id": "d3855c93-aff6-470f-b61d-03c1ee40b792",
   "metadata": {},
   "outputs": [],
   "source": [
    "topn = 10000\n",
    "# recover  \n",
    "newy = np.zeros((nfft,))  \n",
    "arfreq = []  \n",
    "arcoec = []  \n",
    "arcoes = []  \n",
    "for i in range(topn):  \n",
    "    freq = f0[idxy[i]]  \n",
    "    yx = y[idxy[i]]  \n",
    "    coec = yx.real*0.8\n",
    "    coes = yx.imag * -1\n",
    "    # print('freq=', freq, 'coec=', coec, ' coes', coes)  \n",
    "    # newy += coec * np.cos( 2*np.pi*freq*newt+ang) + coes * np.sin( 2*np.pi*freq*newt+ang)  \n",
    "    newy += coec * np.cos(2 * np.pi * freq * newt) + coes * np.sin(2 * np.pi * freq * newt) \n",
    "    arfreq.append(freq)  \n",
    "    arcoec.append(coec)  \n",
    "    arcoes.append(coes)  \n",
    "    \n",
    "    \n",
    "fig, ax = plt.subplots(1,1, figsize=(20,6))     \n",
    "# ax.set_xlabel('Time (ms)')       \n",
    "# ax.set_ylabel(f'IKr')      \n",
    "ax.plot(times, xs[0]  , c='r', label='orginal')  \n",
    "ax.plot(newt, newy, c='b', label='fft')  \n",
    "ax.legend()\n",
    "ax.grid()\n",
    "plt.show()\n"
   ]
  },
  {
   "cell_type": "code",
   "execution_count": null,
   "id": "b135fd69-1235-41ae-bf6e-a2cf75721616",
   "metadata": {},
   "outputs": [],
   "source": []
  },
  {
   "cell_type": "code",
   "execution_count": null,
   "id": "44912836-59c0-4449-bbd9-72ea225a6672",
   "metadata": {},
   "outputs": [],
   "source": []
  },
  {
   "cell_type": "code",
   "execution_count": null,
   "id": "d656662a-a06d-41d5-93d8-475d02a3d39b",
   "metadata": {},
   "outputs": [],
   "source": []
  },
  {
   "cell_type": "code",
   "execution_count": null,
   "id": "de5e0d61-8c6c-498d-84d0-b5c67dff6303",
   "metadata": {},
   "outputs": [],
   "source": []
  },
  {
   "cell_type": "markdown",
   "id": "12dc929d-bc69-48e4-a6ad-43a4ca700bc4",
   "metadata": {},
   "source": [
    "### Create a folder for results"
   ]
  },
  {
   "cell_type": "code",
   "execution_count": 20,
   "id": "350c1a80-11b8-4c61-b46b-5f383b7b98b2",
   "metadata": {},
   "outputs": [],
   "source": [
    "def create_folder(path):\n",
    "    if not os.path.exists(path):\n",
    "        os.makedirs(path)\n",
    "        print('\"%s\" has been created.'%(path))\n",
    "    else:\n",
    "        print(\"The folder already exists.\")"
   ]
  },
  {
   "cell_type": "code",
   "execution_count": 21,
   "id": "a104d982-35cc-417b-9817-32dde27070cc",
   "metadata": {},
   "outputs": [
    {
     "name": "stdout",
     "output_type": "stream",
     "text": [
      "./modified_experimental_data_type1_w0.01_s0.01_amax\n",
      "The folder already exists.\n"
     ]
    }
   ],
   "source": [
    "dir_name = f\"./modified_experimental_data_type{times_vc['method']}_w{gen_params['window']}_s{gen_params['step_size']}_{gen_params['window_type']}\"\n",
    "print(dir_name)\n",
    "create_folder(dir_name)"
   ]
  },
  {
   "cell_type": "markdown",
   "id": "7e825d54-3be4-4fc4-a5bc-63ea59a3380d",
   "metadata": {
    "tags": []
   },
   "source": [
    "### Save and show results"
   ]
  },
  {
   "cell_type": "code",
   "execution_count": 22,
   "id": "8ab6cd7a-f8e8-492e-861c-f98ea7392f45",
   "metadata": {},
   "outputs": [],
   "source": [
    "def show_results(is_plot=True, index=0):\n",
    "        \n",
    "    raw = {}\n",
    "    raw['time'] = times\n",
    "    raw['IKr'] = xs[index]\n",
    "    raw['window'] = get_currents_with_constant_dt(gen_params, [times, xs[index]])\n",
    "    raw['params'] = ys[index]\n",
    "    # print(np.array(raw['window']).shape)\n",
    "    modified = {}\n",
    "    modified['time'] = times\n",
    "    modified['IKr'] = modified_currents[index]\n",
    "    modified['window'] = get_currents_with_constant_dt(gen_params, [times, modified_currents[index]])\n",
    "        \n",
    "    model_params = {                    \n",
    "        'ikr.g' : raw['params'][0],  # random.uniform(parameter_ranges[0][0], parameter_ranges[0][1]),\n",
    "        'ikr.p1' : raw['params'][1],\n",
    "        'ikr.p2' : raw['params'][2],\n",
    "        'ikr.p3' : raw['params'][3],\n",
    "        'ikr.p4' : raw['params'][4],\n",
    "        'ikr.p5' : raw['params'][5],\n",
    "        'ikr.p6' : raw['params'][6],\n",
    "        'ikr.p7' : raw['params'][7],\n",
    "        'ikr.p8' : raw['params'][8],                \n",
    "    } \n",
    "    sim.set_simulation_params(model_params)                \n",
    "\n",
    "    sim.pre_simulate(100, sim_type=1)\n",
    "    d = sim.simulate( gen_params['end_time'], log_times=gen_params['t_eval'], extra_log=gen_params['log_li'])                           \n",
    "    \n",
    "    sim_result= {}\n",
    "    sim_result[\"time\"] = d['engine.time']\n",
    "    sim_result[\"IKr\"] = d['ikr.IKr'] # + np.random.normal(0, std_avg , d['ikr.IKr'].shape) # add noise\n",
    "    sim_result[\"window\"] = get_currents_with_constant_dt(gen_params, [d['engine.time'], d['ikr.IKr']])\n",
    "    sim_result[\"open\"] = d['ikr.open']\n",
    "    sim_result[\"active\"] = d['ikr.open']\n",
    "    sim_result[\"params\"] = raw['params']\n",
    "    \n",
    "    fig, ax = plt.subplots(3,1, figsize=(20,10))    \n",
    "    # fig.suptitle(sim.name, fontsize=14)\n",
    "    # if name!='Time Start' and name!='Time End' and name!='Time Mid':\n",
    "    # ax.set_title('Simulation %d'%(simulationNo))    \n",
    "    # ax.set_ylim(ylim[0], ylim[1])\n",
    "    \n",
    "    ax[0].set_xlabel('Time (ms)')       \n",
    "    ax[0].set_ylabel(f'Voltage')      \n",
    "    ax[0].plot( times, voltages, label='VC', color='k')\n",
    "    \n",
    "    ax[1].set_xlabel('Time (ms)')       \n",
    "    ax[1].set_ylabel(f'IKr')      \n",
    "    ax[1].plot( raw['time'], raw['IKr'], label='raw', color='k', linewidth=5)         \n",
    "    ax[1].plot( modified['time'], modified['IKr'], label='modified', color='y', linewidth=3)         \n",
    "    ax[1].plot( sim_result['time'], sim_result['IKr'], label='sim', color='r', linewidth=1)\n",
    "    ax[1].legend()\n",
    "    ax[1].grid()\n",
    "    \n",
    "    # ax[2].set_xlabel('Time (ms)')       \n",
    "    ax[2].set_ylabel(f'IKr')      \n",
    "    ax[2].plot(  raw['window'], label='raw', color='k', linewidth=5)         \n",
    "    ax[2].plot(  modified['window'], label='modified', color='y', linewidth=3)         \n",
    "    ax[2].plot(  sim_result['window'], label='sim', color='r', linewidth=1)\n",
    "    ax[2].legend()\n",
    "    ax[2].grid()\n",
    "    \n",
    "    xrange = (0.895, 0.9)\n",
    "    # ax[0].set_xlim(xrange[1]-0.0002, xrange[1]+0.0002*50)\n",
    "    # ax[1].set_xlim(xrange[1]-0.0002, xrange[1]+0.0002*50)\n",
    "    # ax[-1].set_ylim(-5, 5)\n",
    "    plt.subplots_adjust(left=0.07, bottom=0.1, right=0.95, top=0.95, wspace=0.5, hspace=0.04)\n",
    "    \n",
    "    if is_plot:\n",
    "        plt.show()\n",
    "    else:\n",
    "        fig.savefig(os.path.join(dir_name, f\"{cells[index]}.jpg\"), dpi=100)        "
   ]
  },
  {
   "cell_type": "code",
   "execution_count": 23,
   "id": "ab60dbc9-ed3d-4fc3-a15e-4107dba6986d",
   "metadata": {},
   "outputs": [
    {
     "data": {
      "image/png": "[encoded data removed]",
      "text/plain": [
       "<Figure size 1440x720 with 3 Axes>"
      ]
     },
     "metadata": {
      "needs_background": "light"
     },
     "output_type": "display_data"
    },
    {
     "name": "stdout",
     "output_type": "stream",
     "text": [
      "--- 3.427286148071289 seconds ---\n"
     ]
    }
   ],
   "source": [
    "start_time = time.time()\n",
    "\n",
    "for i in np.arange(1) : #np.random.randint(0, len(modified_current), size=5 ) # [1, 3, 4, 5, 6, 7]:    \n",
    "    show_results(is_plot=True, index=i)    \n",
    "    \n",
    "print(\"--- %s seconds ---\"%(time.time()-start_time))"
   ]
  },
  {
   "cell_type": "code",
   "execution_count": 24,
   "id": "ab458a0e-c5d7-4e6a-95a0-e6c832c3fa59",
   "metadata": {},
   "outputs": [
    {
     "name": "stdout",
     "output_type": "stream",
     "text": [
      "--- 29.597820281982422 seconds ---\n"
     ]
    }
   ],
   "source": [
    "start_time = time.time()\n",
    "\n",
    "save_indices = np.arange(211) #np.random.randint(0, len(modified_current), size=5 ) # [1, 3, 4, 5, 6, 7]\n",
    "\n",
    "pool = multiprocessing.Pool(processes=os.cpu_count())\n",
    "func = partial(show_results, False)\n",
    "pool.map(func, save_indices)\n",
    "pool.close()\n",
    "pool.join()\n",
    "\n",
    "print(\"--- %s seconds ---\"%(time.time()-start_time))"
   ]
  },
  {
   "cell_type": "code",
   "execution_count": null,
   "id": "52700916-5814-4aeb-9095-64f4b7ac0c93",
   "metadata": {},
   "outputs": [],
   "source": []
  },
  {
   "cell_type": "code",
   "execution_count": null,
   "id": "6e6e4fcf-5e9b-4c31-a134-9545108b2a31",
   "metadata": {},
   "outputs": [],
   "source": []
  },
  {
   "cell_type": "code",
   "execution_count": null,
   "id": "39e06447-93cd-476a-bfb4-619731c55d5d",
   "metadata": {},
   "outputs": [],
   "source": []
  },
  {
   "cell_type": "code",
   "execution_count": null,
   "id": "170399e3-2a31-4a0e-84ef-4643e25a73a7",
   "metadata": {},
   "outputs": [],
   "source": []
  },
  {
   "cell_type": "code",
   "execution_count": null,
   "id": "f3e6f447-69db-4896-88c2-c6d6504584d1",
   "metadata": {},
   "outputs": [],
   "source": []
  }
 ],
 "metadata": {
  "kernelspec": {
   "display_name": "Python 3 (ipykernel)",
   "language": "python",
   "name": "python3"
  },
  "language_info": {
   "codemirror_mode": {
    "name": "ipython",
    "version": 3
   },
   "file_extension": ".py",
   "mimetype": "text/x-python",
   "name": "python",
   "nbconvert_exporter": "python",
   "pygments_lexer": "ipython3",
   "version": "3.7.11"
  }
 },
 "nbformat": 4,
 "nbformat_minor": 5
}
