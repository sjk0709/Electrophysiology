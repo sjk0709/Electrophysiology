{
 "cells": [
  {
   "cell_type": "code",
   "execution_count": 4,
   "id": "e8763443-8055-4793-9e81-8fd57d0b6b3b",
   "metadata": {},
   "outputs": [],
   "source": [
    "import pickle\n",
    "import sys\n",
    "from os import listdir\n",
    "import matplotlib.pyplot as plt\n",
    "\n",
    "\n",
    "sys.path.append('../Lib')\n",
    "import mod_protocols as protocols\n",
    "import mod_kernik as kernik\n",
    "\n",
    "\n",
    "def plot_shorten_with_vcmd(trial_conditions, model_name, is_vc_only=False):\n",
    "    path_to_data = f\"ga_results/{trial_conditions}\"\n",
    "\n",
    "    files = listdir(path_to_data)\n",
    "\n",
    "    for f in files:\n",
    "        if ('shorten' in f) and ('pkl' in f):\n",
    "            file_name = f\n",
    "    print(f\"{path_to_data}/{file_name}\")\n",
    "    short_protocol = pickle.load(open(f\"{path_to_data}/{file_name}\", 'rb'))\n",
    "    print(\"=\"*50)\n",
    "    print(short_protocol)\n",
    "    print(\"=\"*50)\n",
    "    print(f'The protocol is {short_protocol.get_voltage_change_endpoints()[-1]} ms')\n",
    "\n",
    "    if is_vc_only:\n",
    "        short_protocol.plot_voltage_clamp_protocol()\n",
    "        return\n",
    "\n",
    " \n",
    "\n",
    "def get_max_currents(vc_protocol, prestep, window, model_name, step_size=None):\n",
    "    if step_size is None:\n",
    "        step_size = window\n",
    "\n",
    "    model = kernik.KernikModel(is_exp_artefact=True)\n",
    "    scale = 1\n",
    "\n",
    "    i_trace = get_trace(model, vc_protocol, prestep=prestep)\n",
    "\n",
    "    max_currents = i_trace.current_response_info.get_max_current_contributions( i_trace.t, window=window/scale, step_size=step_size/scale)\n",
    "\n",
    "    return max_currents\n",
    "\n",
    "\n",
    "def get_trace(model, protocol, prestep=2000, with_artefact=False):\n",
    "    prestep_protocol = protocols.VoltageClampProtocol(\n",
    "        [protocols.VoltageClampStep(voltage=-80.0,\n",
    "                                    duration=prestep)])\n",
    "\n",
    "    model.generate_response(prestep_protocol, is_no_ion_selective=False)\n",
    "\n",
    "    model.y_ss = model.y[:, -1]\n",
    "\n",
    "    response_trace = model.generate_response(protocol, is_no_ion_selective=False)\n",
    "\n",
    "    return response_trace\n",
    "\n",
    "\n",
    "def main():\n",
    "    trial_conditions = \"trial_steps_ramps_BR1977_2_2_4_-120_60\"\n",
    "    model_name = 'BR1977'\n",
    "\n",
    "    plot_shorten_with_vcmd(trial_conditions, model_name, is_vc_only=True)\n",
    "\n",
    "\n"
   ]
  },
  {
   "cell_type": "code",
   "execution_count": 5,
   "id": "68c4cd0b-cd7a-4bd7-9993-ac327e112d7d",
   "metadata": {},
   "outputs": [
    {
     "name": "stdout",
     "output_type": "stream",
     "text": [
      "ga_results/trial_steps_ramps_BR1977_2_2_4_-120_60/shortened_trial_steps_ramps_BR1977_2_2_4_-120_60_500_artefact_False_short.pkl\n",
      "==================================================\n",
      "|STEP: Voltage: -80, Duration: 500| | |RAMP: Voltage Start: 13.124018599330583, Voltage End: 14.834924735898255, Duration: 4.262966239026923| | |RAMP: Voltage Start: -101.94118095630088, Voltage End: -63.01564269129275, Duration: 155.73703376097308| | |STEP: Voltage: -80, Duration: 500| | |STEP: Voltage: -116.62379769640204, Duration: 37.749632249982994| | |RAMP: Voltage Start: 19.156441977832543, Voltage End: -113.0773043047255, Duration: 122.22925535071221| | |STEP: Voltage: -80, Duration: 500| | |RAMP: Voltage Start: -100.7498730990125, Voltage End: -95.05722030712779, Duration: 65.0| | |STEP: Voltage: -80, Duration: 500| | |RAMP: Voltage Start: -9.493229614084346, Voltage End: -0.17465958048722996, Duration: 103.70904689446797| | |RAMP: Voltage Start: -80.77811748473856, Voltage End: 49.82174185858892, Duration: 160.5396707253008| | |STEP: Voltage: -12.957380323764639, Duration: 511.7822334649501| | |RAMP: Voltage Start: -100.66963739803907, Voltage End: -89.02498767057189, Duration: 93.96904891528129|\n",
      "==================================================\n",
      "The protocol is 3254.978887600695 ms\n"
     ]
    },
    {
     "data": {
      "image/png": "[encoded data removed]",
      "text/plain": [
       "<Figure size 864x360 with 1 Axes>"
      ]
     },
     "metadata": {
      "needs_background": "light"
     },
     "output_type": "display_data"
    }
   ],
   "source": [
    "if __name__ == '__main__':\n",
    "    main()"
   ]
  },
  {
   "cell_type": "code",
   "execution_count": null,
   "id": "dc96926e-4aa2-40a9-8c64-260ed9c88c2f",
   "metadata": {},
   "outputs": [],
   "source": [
    "print(\"complete\")"
   ]
  }
 ],
 "metadata": {
  "kernelspec": {
   "display_name": "Python 3",
   "language": "python",
   "name": "python3"
  },
  "language_info": {
   "codemirror_mode": {
    "name": "ipython",
    "version": 3
   },
   "file_extension": ".py",
   "mimetype": "text/x-python",
   "name": "python",
   "nbconvert_exporter": "python",
   "pygments_lexer": "ipython3",
   "version": "3.8.10"
  }
 },
 "nbformat": 4,
 "nbformat_minor": 5
}
