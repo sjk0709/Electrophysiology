{
 "cells": [
  {
   "cell_type": "code",
   "execution_count": 1,
   "id": "c797b0f5-b635-44ed-8047-735d4a931ef5",
   "metadata": {},
   "outputs": [],
   "source": [
    "import os, sys, time, copy\n",
    "import random\n",
    "import numpy as np\n",
    "import matplotlib.pyplot as plt\n",
    "\n",
    "import multiprocessing\n",
    "from functools import partial\n",
    "from tqdm import tqdm\n",
    "\n",
    "\n",
    "import myokit\n",
    "sys.path.append('../')\n",
    "sys.path.append('../Protocols')\n",
    "sys.path.append('../Models')\n",
    "sys.path.append('../Lib')\n",
    "import protocol_lib\n",
    "import mod_trace\n",
    "\n",
    "import simulator_myokit\n",
    "import simulator_scipy\n",
    "import vc_protocols"
   ]
  },
  {
   "cell_type": "code",
   "execution_count": 2,
   "id": "361e11a7-efa9-4b45-8831-79bbbea76792",
   "metadata": {},
   "outputs": [],
   "source": [
    "def find_closest_index(array, t):\n",
    "    \"\"\"Given an array, return the index with the value closest to t.\"\"\"\n",
    "    return (np.abs(np.array(array) - t)).argmin()\n",
    "\n",
    "def get_currents_with_constant_dt(xs, window=1, step_size=1):\n",
    "        \n",
    "    times = xs[0]\n",
    "    currents = xs[1:]\n",
    "        \n",
    "    data_li = []\n",
    "    for I in currents:        \n",
    "        data_temp = []\n",
    "        t = 0\n",
    "        while t <= times[-1] - window:\n",
    "            start_index = find_closest_index(times, t)\n",
    "            end_index = find_closest_index(times, t + window)            \n",
    "            I_window = I[start_index: end_index + 1]                                    \n",
    "            data_temp.append(sum(I_window)/len(I_window))            \n",
    "            t += step_size\n",
    "        data_li.append(data_temp)                                        \n",
    "            \n",
    "    return data_li"
   ]
  },
  {
   "cell_type": "code",
   "execution_count": 3,
   "id": "8fe95784-0e55-46da-9bcf-ee1067dde3b8",
   "metadata": {},
   "outputs": [],
   "source": [
    "cell_types = {\n",
    "    'Endocardial' : 0,\n",
    "    'Epicardial' : 1,\n",
    "    'Mid-myocardial' : 2,\n",
    "}"
   ]
  },
  {
   "cell_type": "markdown",
   "id": "d1528dae-c154-4cd7-a444-ce27305be8bc",
   "metadata": {},
   "source": [
    "### Create Voltage Protocol"
   ]
  },
  {
   "cell_type": "code",
   "execution_count": 4,
   "id": "7daddfb8-55ad-4ca1-9091-a12435f615c2",
   "metadata": {},
   "outputs": [],
   "source": [
    "# '''\n",
    "# leemV1\n",
    "# '''\n",
    "# # VC_protocol = vc_protocols.hERG_CiPA()\n",
    "# # VC_protocol = vc_protocols.cav12_CiPA()\n",
    "# # VC_protocol = vc_protocols.lateNav15_CiPA()\n",
    "\n",
    "# VC_protocol = protocol_lib.VoltageClampProtocol()  # steps=steps\n",
    "# VC_protocol.add( protocol_lib.VoltageClampStep(voltage=-80, duration=100) )\n",
    "# VC_protocol.add( protocol_lib.VoltageClampStep(voltage=-90, duration=100) )\n",
    "# VC_protocol.add( protocol_lib.VoltageClampStep(voltage=-80, duration=100) )\n",
    "# VC_protocol.add( protocol_lib.VoltageClampStep(voltage=-35, duration=40) )\n",
    "# VC_protocol.add( protocol_lib.VoltageClampStep(voltage=-80, duration=200) )\n",
    "# VC_protocol.add( protocol_lib.VoltageClampStep(voltage=-40, duration=40) )\n",
    "# VC_protocol.add( protocol_lib.VoltageClampStep(voltage=0, duration=40) )  # <- why?? vo\n",
    "# VC_protocol.add( protocol_lib.VoltageClampStep(voltage=40, duration=500) )\n",
    "# VC_protocol.add( protocol_lib.VoltageClampRamp(voltage_start=40, voltage_end=-120, duration=200)) # ramp step\n",
    "# # VC_protocol.add( protocol_lib.VoltageClampStep(voltage=-80, duration=100) )\n",
    "# # VC_protocol.add( protocol_lib.VoltageClampStep(voltage=0, duration=100) )\n",
    "# # VC_protocol.add( protocol_lib.VoltageClampStep(voltage=60, duration=500) )\n",
    "# # VC_protocol.add( protocol_lib.VoltageClampRamp(voltage_start=60, voltage_end=-80, duration=200)) # ramp step\n",
    "\n",
    "# vhold = VC_protocol.steps[0].voltage\n",
    "\n",
    "# print(f'The protocol is {VC_protocol.get_voltage_change_endpoints()[-1]} ms')"
   ]
  },
  {
   "cell_type": "code",
   "execution_count": 5,
   "id": "816d362d-6a3f-409e-bd30-65e75fbe7fc7",
   "metadata": {},
   "outputs": [
    {
     "name": "stdout",
     "output_type": "stream",
     "text": [
      "The protocol is 1270 ms\n"
     ]
    }
   ],
   "source": [
    "'''\n",
    "SongV1\n",
    "'''\n",
    "VC_protocol = protocol_lib.VoltageClampProtocol()  # steps=steps\n",
    "\n",
    "VC_protocol.add( protocol_lib.VoltageClampStep(voltage=-80, duration=100) )\n",
    "VC_protocol.add( protocol_lib.VoltageClampStep(voltage=-120, duration=20) ) \n",
    "VC_protocol.add( protocol_lib.VoltageClampStep(voltage=-40, duration=200) )\n",
    "VC_protocol.add( protocol_lib.VoltageClampStep(voltage=60, duration=200) )\n",
    "VC_protocol.add( protocol_lib.VoltageClampStep(voltage=0, duration=200) )  # <- why?? vo\n",
    "VC_protocol.add( protocol_lib.VoltageClampStep(voltage=50, duration=200) )\n",
    "VC_protocol.add( protocol_lib.VoltageClampStep(voltage=-10, duration=200) )\n",
    "VC_protocol.add( protocol_lib.VoltageClampStep(voltage=-80, duration=50) )\n",
    "VC_protocol.add( protocol_lib.VoltageClampRamp(voltage_start=30, voltage_end=-50, duration=100)) # ramp step\n",
    "\n",
    "vhold = -80\n",
    "\n",
    "print(f'The protocol is {VC_protocol.get_voltage_change_endpoints()[-1]} ms')"
   ]
  },
  {
   "cell_type": "code",
   "execution_count": 6,
   "id": "708d8fc5-1c07-4933-a342-7be81094db9a",
   "metadata": {},
   "outputs": [
    {
     "name": "stdout",
     "output_type": "stream",
     "text": [
      "--- 3.749445676803589 seconds ---\n"
     ]
    }
   ],
   "source": [
    "start_time = time.time()\n",
    "\n",
    "model, p, s = myokit.load(\"../mmt-model-files/ohara-cipa-v1-2017_JK-v1.mmt\")    \n",
    "sim = simulator_myokit.Simulator(model, VC_protocol, max_step=1.0, abs_tol=1e-06, rel_tol=1e-6, vhold=vhold)  # 1e-12, 1e-14  # 1e-08, 1e-10\n",
    "sim.name = \"ohara2017\"  \n",
    "\n",
    "f = 1.5\n",
    "params = {         \n",
    "    'cell.mode': cell_types['Mid-myocardial'],\n",
    "    'setting.simType': 1,   # 0: AP   |  1: VC  \n",
    "    \n",
    "    'ina.gNa' : 75.0 * f,   \n",
    "    'inal.gNaL' : 0.0075 * 2.661 * f,  \n",
    "    'ito.gto' : 0.02 * 4 * f,\n",
    "    'ical.PCa' : 0.0001 * 1.007 * 2.5 * f,\n",
    "    'ikr.gKr' : 4.65854545454545618e-2 * 1.3 * f, # [mS/uF]\n",
    "    'iks.gKs' : 0.0034 * 1.87 * 1.4 * f,\n",
    "    'ik1.gK1' : 0.1908 * 1.698 * 1.3 * f,\n",
    "    'inaca.gNaCa' : 0.0008 * 1.4,\n",
    "    'inak.PNaK' : 30 * 0.7,\n",
    "    'ikb.gKb' : 0.003,\n",
    "    'inab.PNab' : 3.75e-10,\n",
    "    'icab.PCab' : 2.5e-8,\n",
    "    'ipca.GpCa' : 0.0005,\n",
    "}\n",
    "sim.set_simulation_params(params)\n",
    "\n",
    "print(\"--- %s seconds ---\"%(time.time()-start_time))"
   ]
  },
  {
   "cell_type": "code",
   "execution_count": 7,
   "id": "772e5d95-66ff-4e4c-bffa-72eee0aeaaba",
   "metadata": {},
   "outputs": [
    {
     "name": "stdout",
     "output_type": "stream",
     "text": [
      "cell.mode : 2\n",
      "setting.simType : 1\n",
      "ina.gNa : 112.5\n",
      "inal.gNaL : 0.029936249999999998\n",
      "ito.gto : 0.12\n",
      "ical.PCa : 0.0003776249999999999\n",
      "ikr.gKr : 0.0908416363636364\n",
      "iks.gKs : 0.0133518\n",
      "ik1.gK1 : 0.6317578800000001\n",
      "inaca.gNaCa : 0.00112\n",
      "inak.PNaK : 21.0\n",
      "ikb.gKb : 0.003\n",
      "inab.PNab : 3.75e-10\n",
      "icab.PCab : 2.5e-08\n",
      "ipca.GpCa : 0.0005\n"
     ]
    }
   ],
   "source": [
    "for key, value in params.items():\n",
    "    print(f'{key} : {value}')"
   ]
  },
  {
   "cell_type": "code",
   "execution_count": 8,
   "id": "b85c7cef-8820-4c3a-8e04-4da7067490c8",
   "metadata": {},
   "outputs": [],
   "source": [
    "def gen_dataset( gen_params, datasetNo=1):    \n",
    "    '''\n",
    "    type = 'AP' or 'I\" \n",
    "    params = {\n",
    "        'times': 1,                    \n",
    "        'log_li' : [],\n",
    "        'nData' : 10000,                         \n",
    "        'dataset_dir' :   './dataset',\n",
    "        'data_file_name' :  'current',\n",
    "        'scale' : 2,\n",
    "    }  \n",
    "    '''\n",
    "    random.seed(datasetNo * 84)\n",
    "    np.random.seed(datasetNo * 86)\n",
    "\n",
    "    print(\"-----Dataset%d generation starts.-----\"%(datasetNo))\n",
    "\n",
    "    d = None              \n",
    "    result_li = []\n",
    "    param_li = []\n",
    "    current_nData = 0\n",
    "    \n",
    "    simulation_error_count = 0\n",
    "    with tqdm(total = gen_params['nData']) as pbar: \n",
    "        while (current_nData < gen_params['nData']):                \n",
    "            g_adj = np.random.uniform(0, 1, 7)                      \n",
    "            \n",
    "            g_adj_li= {                    \n",
    "                'ina.g_adj' : g_adj[0],\n",
    "                'inal.g_adj' : g_adj[1],\n",
    "                'ito.g_adj' : g_adj[2],\n",
    "                'ical.g_adj' : g_adj[3],\n",
    "                'ikr.g_adj' : g_adj[4],\n",
    "                'iks.g_adj' : g_adj[5],\n",
    "                'ik1.g_adj' : g_adj[6],\n",
    "                # 'if.g_adj' : g_fc[7]    \n",
    "            } \n",
    "            sim.set_simulation_params(g_adj_li)                \n",
    "            # log_li = ['membrane.V']\n",
    "            # if len(log_li)>0:\n",
    "            #     log_li = gen_params['log_li']\n",
    "            try :                \n",
    "                sim.pre_simulate(5000, sim_type=1)\n",
    "                d = sim.simulate( gen_params['end_time'], extra_log=gen_params['log_li'])                           \n",
    "\n",
    "                temp = [d['engine.time']]\n",
    "                for log in gen_params['save_log_li'] :                                              \n",
    "                    temp.append(d[log])                 \n",
    "                temp = get_currents_with_constant_dt(temp, window=gen_params['window'], step_size=gen_params['step_size'])\n",
    "\n",
    "                result_li.append( np.array(temp) )\n",
    "                param_li.append( g_adj )\n",
    "                current_nData+=1                    \n",
    "                \n",
    "            except :\n",
    "                simulation_error_count += 1\n",
    "                print(\"There is a simulation error.\")\n",
    "                continue\n",
    "                \n",
    "            pbar.update(1) \n",
    "        \n",
    "    result_li = np.array(result_li)        \n",
    "    param_li = np.array(param_li)        \n",
    "    np.save(os.path.join(gen_params['dataset_dir'], f\"{gen_params['data_file_name']}{datasetNo}\" ) , result_li)\n",
    "    np.save(os.path.join(gen_params['dataset_dir'], f'parameter{datasetNo}' ), param_li )\n",
    "\n",
    "    result_li = []\n",
    "    param_li = []\n",
    "\n",
    "    print(\"=====Dataset%d generation End.  &  %d simulation errors occured.=====\"%(datasetNo, simulation_error_count))       "
   ]
  },
  {
   "cell_type": "code",
   "execution_count": null,
   "id": "dfdcc3df-95d1-4d49-90df-869a6ad17c1d",
   "metadata": {},
   "outputs": [
    {
     "name": "stdout",
     "output_type": "stream",
     "text": [
      "The number of process : 72\n",
      "[1, 2, 3, 4, 5, 6, 7, 8, 9, 10, 11, 12, 13, 14, 15, 16, 17, 18, 19, 20, 21, 22, 23, 24, 25, 26, 27, 28, 29, 30]\n",
      "The folder already exists.\n"
     ]
    },
    {
     "data": {
      "image/png": "[encoded data removed]",
      "text/plain": [
       "<Figure size 720x216 with 1 Axes>"
      ]
     },
     "metadata": {
      "needs_background": "light"
     },
     "output_type": "display_data"
    },
    {
     "name": "stdout",
     "output_type": "stream",
     "text": [
      "-----Dataset4 generation starts.----------Dataset3 generation starts.----------Dataset1 generation starts.----------Dataset2 generation starts.----------Dataset5 generation starts.----------Dataset6 generation starts.----------Dataset10 generation starts.----------Dataset12 generation starts.----------Dataset7 generation starts.----------Dataset8 generation starts.----------Dataset9 generation starts.----------Dataset11 generation starts.----------Dataset13 generation starts.----------Dataset15 generation starts.----------Dataset14 generation starts.-----\n",
      "\n",
      "\n",
      "\n",
      "-----Dataset19 generation starts.----------Dataset18 generation starts.----------Dataset17 generation starts.----------Dataset21 generation starts.----------Dataset16 generation starts.-----\n",
      "\n",
      "-----Dataset25 generation starts.----------Dataset20 generation starts.----------Dataset22 generation starts.-----\n",
      "\n",
      "-----Dataset23 generation starts.----------Dataset26 generation starts.-----\n",
      "\n",
      "-----Dataset29 generation starts.-----\n",
      "-----Dataset27 generation starts.-----\n",
      "\n",
      "\n",
      "-----Dataset30 generation starts.----------Dataset28 generation starts.----------Dataset24 generation starts.-----\n",
      "\n",
      "\n",
      "\n",
      "\n",
      "\n",
      "\n"
     ]
    },
    {
     "name": "stderr",
     "output_type": "stream",
     "text": [
      "  0%|                                                 | 0/10000 [00:00<?, ?it/s]"
     ]
    },
    {
     "name": "stdout",
     "output_type": "stream",
     "text": [
      "\n",
      "\n",
      "\n"
     ]
    },
    {
     "name": "stderr",
     "output_type": "stream",
     "text": [
      "  0%|                                                 | 0/10000 [00:00<?, ?it/s]"
     ]
    },
    {
     "name": "stdout",
     "output_type": "stream",
     "text": [
      "\n"
     ]
    },
    {
     "name": "stderr",
     "output_type": "stream",
     "text": [
      "  0%|                                                 | 0/10000 [00:00<?, ?it/s]"
     ]
    },
    {
     "name": "stdout",
     "output_type": "stream",
     "text": [
      "\n",
      "\n"
     ]
    },
    {
     "name": "stderr",
     "output_type": "stream",
     "text": [
      "  0%|                                                 | 0/10000 [00:00<?, ?it/s]"
     ]
    },
    {
     "name": "stdout",
     "output_type": "stream",
     "text": [
      "\n",
      "\n"
     ]
    },
    {
     "name": "stderr",
     "output_type": "stream",
     "text": [
      "  0%|                                                 | 0/10000 [00:00<?, ?it/s]"
     ]
    },
    {
     "name": "stdout",
     "output_type": "stream",
     "text": [
      "\n"
     ]
    },
    {
     "name": "stderr",
     "output_type": "stream",
     "text": [
      "  1%|▎                                       | 77/10000 [00:24<52:04,  3.18it/s]"
     ]
    },
    {
     "name": "stdout",
     "output_type": "stream",
     "text": [
      "There is a simulation error.\n"
     ]
    },
    {
     "name": "stderr",
     "output_type": "stream",
     "text": [
      " 22%|████████▏                             | 2160/10000 [11:00<38:49,  3.37it/s]"
     ]
    },
    {
     "name": "stdout",
     "output_type": "stream",
     "text": [
      "There is a simulation error.\n"
     ]
    },
    {
     "name": "stderr",
     "output_type": "stream",
     "text": [
      " 31%|███████████▊                          | 3117/10000 [16:02<36:10,  3.17it/s]"
     ]
    },
    {
     "name": "stdout",
     "output_type": "stream",
     "text": [
      "There is a simulation error.\n"
     ]
    },
    {
     "name": "stderr",
     "output_type": "stream",
     "text": [
      " 35%|█████████████▏                        | 3460/10000 [17:38<31:44,  3.43it/s]"
     ]
    },
    {
     "name": "stdout",
     "output_type": "stream",
     "text": [
      "There is a simulation error."
     ]
    },
    {
     "name": "stderr",
     "output_type": "stream",
     "text": [
      " 35%|█████████████                         | 3453/10000 [17:38<33:51,  3.22it/s]"
     ]
    },
    {
     "name": "stdout",
     "output_type": "stream",
     "text": [
      "\n"
     ]
    },
    {
     "name": "stderr",
     "output_type": "stream",
     "text": [
      " 37%|██████████████▏                       | 3718/10000 [18:58<32:48,  3.19it/s]"
     ]
    },
    {
     "name": "stdout",
     "output_type": "stream",
     "text": [
      "There is a simulation error.\n"
     ]
    },
    {
     "name": "stderr",
     "output_type": "stream",
     "text": [
      " 67%|█████████████████████████▌            | 6735/10000 [34:44<17:10,  3.17it/s]"
     ]
    },
    {
     "name": "stdout",
     "output_type": "stream",
     "text": [
      "There is a simulation error.\n"
     ]
    },
    {
     "name": "stderr",
     "output_type": "stream",
     "text": [
      " 83%|███████████████████████████████▋      | 8345/10000 [42:42<08:11,  3.37it/s]"
     ]
    },
    {
     "name": "stdout",
     "output_type": "stream",
     "text": [
      "There is a simulation error.\n"
     ]
    },
    {
     "name": "stderr",
     "output_type": "stream",
     "text": [
      " 96%|████████████████████████████████████▌ | 9622/10000 [49:27<01:53,  3.33it/s]"
     ]
    }
   ],
   "source": [
    "if __name__=='__main__':\n",
    "    start_time = time.time()    \n",
    "    nCPU = os.cpu_count()          \n",
    "    print(\"The number of process :\", nCPU )   \n",
    "   \n",
    "    multi = True\n",
    "    \n",
    "    gen_params = {\n",
    "        'end_time': VC_protocol.get_voltage_change_endpoints()[-1],                            \n",
    "        'log_li' : ['membrane.i_ion', 'ina.INa', 'inal.INaL', 'ito.Ito', 'ical.ICaL', 'ical.ICaNa', 'ical.ICaK', 'ikr.IKr', 'iks.IKs', 'ik1.IK1', 'inaca.INaCa', 'inacass.INaCa_ss', 'inak.INaK', 'ikb.IKb', 'inab.INab', 'icab.ICab', 'ipca.IpCa'],\n",
    "        'save_log_li' : ['membrane.i_ion', 'ina.INa', 'inal.INaL', 'ito.Ito', 'ical.ICaL', 'ikr.IKr', 'iks.IKs',  'ik1.IK1'],\n",
    "        'nData' : 10000,                         \n",
    "        'dataset_dir' : './ohara2017_songV1',\n",
    "        'data_file_name' : 'currents',\n",
    "        'window' : 10,\n",
    "        'step_size' : 5,\n",
    "        'startNo' : 1,\n",
    "        'nDataset' : 30,\n",
    "    }  \n",
    "    gen_params['dataset_dir'] = gen_params['dataset_dir'] + f\"_w{gen_params['window']}_s{gen_params['step_size']}\"\n",
    "\n",
    "    datasetNo_li = list(range(gen_params['startNo'], gen_params['startNo']+gen_params['nDataset']))  # Core 수만큼  [1,2,3,4,5,6,7,8,9,10]    \n",
    "    print(datasetNo_li)          \n",
    "        \n",
    "    try:\n",
    "        if not os.path.exists(gen_params['dataset_dir']):\n",
    "            os.makedirs(gen_params['dataset_dir'])\n",
    "            print('\"%s\" has been created.'%(gen_params['dataset_dir']))\n",
    "        else:\n",
    "            print(\"The folder already exists.\")\n",
    "    except OSError:\n",
    "        print('Error: create_folder(). : ' + gen_params['dataset_dir'])\n",
    "        \n",
    "    \n",
    "    '''\n",
    "    Plot\n",
    "    '''\n",
    "    fig, ax = plt.subplots(1,1, figsize=(10,3))    \n",
    "    # fig.suptitle(sim.name, fontsize=14)\n",
    "    # ax.set_title('Simulation %d'%(simulationNo))\n",
    "    # axes[i].set_xlim(model_scipy.times.min(), model_scipy.times.max())\n",
    "    # ax.set_ylim(ylim[0], ylim[1])\n",
    "    ax.set_xlabel('Time (ms)')       \n",
    "    ax.set_ylabel(f'Voltage')      \n",
    "    times = np.linspace(0, VC_protocol.get_voltage_change_endpoints()[-1], 10000)  \n",
    "    ax.plot( times, VC_protocol.get_voltage_clamp_protocol(times), label='SongV1', color='k', linewidth=5)     \n",
    "    ax.legend()\n",
    "    ax.grid()\n",
    "    # ax[-1].set_ylim(-5, 5)\n",
    "\n",
    "    plt.subplots_adjust(left=0.07, bottom=0.05, right=0.95, top=0.95, wspace=0.5, hspace=0.15)\n",
    "    plt.show()\n",
    "    fig.savefig(os.path.join(gen_params['dataset_dir'], \"aVC.jpg\" ), dpi=100)\n",
    "\n",
    "    \n",
    "         \n",
    "    if multi :            \n",
    "        pool = multiprocessing.Pool(processes=gen_params['nDataset'] )\n",
    "        func = partial(gen_dataset, gen_params)\n",
    "        pool.map(func, datasetNo_li)\n",
    "        pool.close()\n",
    "        pool.join()\n",
    "    else:\n",
    "        for No in datasetNo_li :\n",
    "            gen_dataset(gen_params, No)\n",
    "        \n",
    "    # print(\"Dataset has been generated.\")\n",
    "    \n",
    "    print(\"--- %s seconds ---\"%(time.time()-start_time))\n",
    "    \n",
    "    # \n",
    "\n",
    "    # # Set parameter transformation\n",
    "    # transform_to_model_param = log_transform_to_model_param       # return np.exp(out)\n",
    "    # transform_from_model_param = log_transform_from_model_param   # return np.log(out)\n",
    "    \n",
    "    # logprior = LogPrior(transform_to_model_param, transform_from_model_param)\n",
    "      \n",
    "    # p = logprior.sample_without_inv_transform()\n",
    "    # print(p)\n",
    "    \n",
    "    # print(logprior.rmax)\n",
    "    # print(logprior.rmin)\n",
    "    # print(5e5)\n",
    "\n",
    " "
   ]
  },
  {
   "cell_type": "code",
   "execution_count": 12,
   "id": "f7e984b5-0794-4eae-98a0-bec0f6b4b033",
   "metadata": {},
   "outputs": [
    {
     "name": "stdout",
     "output_type": "stream",
     "text": [
      "Finish\n"
     ]
    }
   ],
   "source": [
    "print(\"Finish\")"
   ]
  },
  {
   "cell_type": "code",
   "execution_count": null,
   "id": "0dd4f7f1-7751-4bed-9801-2b433dc720a6",
   "metadata": {},
   "outputs": [],
   "source": []
  }
 ],
 "metadata": {
  "kernelspec": {
   "display_name": "Python 3 (ipykernel)",
   "language": "python",
   "name": "python3"
  },
  "language_info": {
   "codemirror_mode": {
    "name": "ipython",
    "version": 3
   },
   "file_extension": ".py",
   "mimetype": "text/x-python",
   "name": "python",
   "nbconvert_exporter": "python",
   "pygments_lexer": "ipython3",
   "version": "3.7.11"
  }
 },
 "nbformat": 4,
 "nbformat_minor": 5
}
