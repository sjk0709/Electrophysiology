{
 "cells": [
  {
   "cell_type": "code",
   "execution_count": 1,
   "id": "c797b0f5-b635-44ed-8047-735d4a931ef5",
   "metadata": {},
   "outputs": [],
   "source": [
    "import os, sys, time, copy\n",
    "import random\n",
    "import numpy as np\n",
    "import pandas as pd\n",
    "import matplotlib.pyplot as plt\n",
    "\n",
    "import multiprocessing\n",
    "from functools import partial\n",
    "from tqdm import tqdm\n",
    "\n",
    "import collections\n",
    "from typing import List\n",
    "\n",
    "import myokit\n",
    "sys.path.append('../')\n",
    "sys.path.append('../Protocols')\n",
    "sys.path.append('../Models')\n",
    "sys.path.append('../Lib')\n",
    "import protocol_lib\n",
    "import mod_trace\n",
    "\n",
    "import simulator_myokit\n",
    "import simulator_scipy\n",
    "import vc_protocols"
   ]
  },
  {
   "cell_type": "code",
   "execution_count": 2,
   "id": "8c32eec2-f258-4225-a166-bdfd2154afd2",
   "metadata": {},
   "outputs": [],
   "source": [
    "def find_closest_index(array, t):\n",
    "    \"\"\"Given an array, return the index with the value closest to t.\"\"\"\n",
    "    return (np.abs(np.array(array) - t)).argmin()\n",
    "\n",
    "# def get_currents_with_constant_dt(xs, window=1, step_size=1):\n",
    "        \n",
    "#     times = xs[0]\n",
    "#     currents = xs[1:]\n",
    "        \n",
    "#     data_li = []\n",
    "#     for I in currents:        \n",
    "#         data_temp = []\n",
    "#         t = 0\n",
    "#         while t <= times[-1] - window:\n",
    "#             start_index = find_closest_index(times, t)\n",
    "#             end_index = find_closest_index(times, t + window)            \n",
    "#             I_window = I[start_index: end_index + 1]                                    \n",
    "#             data_temp.append(sum(I_window)/len(I_window))            \n",
    "#             t += step_size\n",
    "#         data_li.append(data_temp)                                        \n",
    "            \n",
    "#     return data_li\n",
    "\n",
    "def get_currents_with_constant_dt(param, x):\n",
    "        \n",
    "    window = param['window']\n",
    "    step_size = param['step_size']\n",
    "        \n",
    "    times = x[0]\n",
    "    i_ion = x[1]\n",
    "              \n",
    "    i_ion_window = []\n",
    "    t = 0\n",
    "    while t <= times[-1] - window:\n",
    "        start_index = find_closest_index(times, t)\n",
    "        end_index = find_closest_index(times, t + window)            \n",
    "        I_window = i_ion[start_index: end_index + 1]                                    \n",
    "        i_ion_window.append(sum(I_window)/len(I_window))            \n",
    "        t += step_size\n",
    "            \n",
    "    return i_ion_window"
   ]
  },
  {
   "cell_type": "code",
   "execution_count": 3,
   "id": "52b8cecc-47e6-4421-8283-e980ba20cd2f",
   "metadata": {},
   "outputs": [
    {
     "name": "stdout",
     "output_type": "stream",
     "text": [
      "The protocol is 1320 ms\n"
     ]
    }
   ],
   "source": [
    "# VC_protocol = vc_protocols.hERG_CiPA()\n",
    "# VC_protocol = vc_protocols.cav12_CiPA()\n",
    "# VC_protocol = vc_protocols.lateNav15_CiPA()\n",
    "\n",
    "VC_protocol = protocol_lib.VoltageClampProtocol()  # steps=steps\n",
    "VC_protocol.add( protocol_lib.VoltageClampStep(voltage=-80, duration=100) )\n",
    "VC_protocol.add( protocol_lib.VoltageClampStep(voltage=-90, duration=100) )\n",
    "VC_protocol.add( protocol_lib.VoltageClampStep(voltage=-80, duration=100) )\n",
    "VC_protocol.add( protocol_lib.VoltageClampStep(voltage=-35, duration=40) )\n",
    "VC_protocol.add( protocol_lib.VoltageClampStep(voltage=-80, duration=200) )\n",
    "VC_protocol.add( protocol_lib.VoltageClampStep(voltage=-40, duration=40) )\n",
    "VC_protocol.add( protocol_lib.VoltageClampStep(voltage=0, duration=40) )  # <- why?? vo\n",
    "VC_protocol.add( protocol_lib.VoltageClampStep(voltage=40, duration=500) )\n",
    "VC_protocol.add( protocol_lib.VoltageClampRamp(voltage_start=40, voltage_end=-120, duration=200)) # ramp step\n",
    "# VC_protocol.add( protocol_lib.VoltageClampStep(voltage=-80, duration=100) )\n",
    "# VC_protocol.add( protocol_lib.VoltageClampStep(voltage=0, duration=100) )\n",
    "# VC_protocol.add( protocol_lib.VoltageClampStep(voltage=60, duration=500) )\n",
    "# VC_protocol.add( protocol_lib.VoltageClampRamp(voltage_start=60, voltage_end=-80, duration=200)) # ramp step\n",
    "\n",
    "vhold = VC_protocol.steps[0].voltage\n",
    "\n",
    "print(f'The protocol is {VC_protocol.get_voltage_change_endpoints()[-1]} ms')"
   ]
  },
  {
   "cell_type": "code",
   "execution_count": 4,
   "id": "b75e557b-cf61-48aa-a3f8-6a8ce4cd107b",
   "metadata": {},
   "outputs": [
    {
     "name": "stdout",
     "output_type": "stream",
     "text": [
      "../../Dataset/ohara2017_LeemV1\n"
     ]
    }
   ],
   "source": [
    "gen_params = {\n",
    "    'end_time': VC_protocol.get_voltage_change_endpoints()[-1],                            \n",
    "    'log_li' : ['ina.INa', 'inal.INaL', 'ito.Ito', 'ical.ICaL', 'ical.ICaNa', 'ical.ICaK', 'ikr.IKr', 'iks.IKs', 'ik1.IK1', 'inaca.INaCa', 'inacass.INaCa_ss', 'inak.INaK', 'ikb.IKb', 'inab.INab', 'icab.ICab', 'ipca.IpCa'],\n",
    "    'save_log_li' : ['ina.INa', 'ikr.IKr', 'iks.IKs', 'ito.Ito', 'ical.ICaL',  'ik1.IK1', 'inal.INaL'],\n",
    "    'nData' : 5,                         \n",
    "    'dataset_dir' : '../../Dataset/ohara2017_LeemV1',\n",
    "    'data_file_name' : 'currents',\n",
    "    'window' : 10,\n",
    "    'step_size' : 5,\n",
    "}  \n",
    "# gen_params['dataset_dir'] = gen_params['dataset_dir'] + f\"_w{gen_params['window']}_s{gen_params['step_size']}\"\n",
    "print( gen_params['dataset_dir'] )\n",
    "cell_types = {\n",
    "    'Endocardial' : 0,\n",
    "    'Epicardial' : 1,\n",
    "    'Mid-myocardial' : 2,\n",
    "}\n",
    "sys.path.append(gen_params['dataset_dir'])\n",
    "from agetdata import get_dataset, get_dataset2"
   ]
  },
  {
   "cell_type": "code",
   "execution_count": 5,
   "id": "9fcabe9c-ba62-41c7-adbc-af9796337637",
   "metadata": {},
   "outputs": [
    {
     "data": {
      "text/plain": [
       "'../../Dataset/ohara2017_LeemV1'"
      ]
     },
     "execution_count": 5,
     "metadata": {},
     "output_type": "execute_result"
    }
   ],
   "source": [
    "gen_params['dataset_dir']"
   ]
  },
  {
   "cell_type": "code",
   "execution_count": 8,
   "id": "cfc0b610-2b71-414d-9c0a-a1b794ac34ee",
   "metadata": {},
   "outputs": [
    {
     "name": "stdout",
     "output_type": "stream",
     "text": [
      "--- 143.1973135471344 seconds ---\n"
     ]
    }
   ],
   "source": [
    "# for i in range(5):\n",
    "# xs, ys = get_dataset(file_numbers=range(1, 3), multi=True, use_torch=True)\n",
    "\n",
    "xs, ys = get_dataset(file_numbers=range(1, 3), window=10, step_size=5, multi=False, use_torch=False, get_raw=False)\n",
    "\n",
    "# xs, ys = get_dataset2(file_numbers=range(1, 3), window=10, step_size=5, multi=True, use_torch=True)"
   ]
  },
  {
   "cell_type": "code",
   "execution_count": 9,
   "id": "d911f5ee-3cbd-41aa-bf8d-f38799a75895",
   "metadata": {},
   "outputs": [
    {
     "name": "stdout",
     "output_type": "stream",
     "text": [
      "torch.Size([20000, 263]) torch.Size([20000, 7])\n"
     ]
    }
   ],
   "source": [
    "print(xs.shape, ys.shape)"
   ]
  },
  {
   "cell_type": "code",
   "execution_count": null,
   "id": "1bc2828e-fe84-4f3e-a6e8-99772dd6abb2",
   "metadata": {},
   "outputs": [],
   "source": []
  },
  {
   "cell_type": "code",
   "execution_count": null,
   "id": "dafde476-2941-4f89-a61e-75233d9bc370",
   "metadata": {},
   "outputs": [],
   "source": []
  },
  {
   "cell_type": "code",
   "execution_count": null,
   "id": "aeb08fca-8890-4294-937d-93c6398c79db",
   "metadata": {},
   "outputs": [],
   "source": [
    "dataNo = 0\n",
    "\n",
    "sol1 = {}\n",
    "sol1[\"I_ion\"] = xs[dataNo]\n",
    "y = ys[dataNo]\n",
    "\n",
    "# sol1 = pd.DataFrame(data=sol1)\n",
    "# sol1.head()"
   ]
  },
  {
   "cell_type": "code",
   "execution_count": null,
   "id": "103c44c0-62bc-4296-b977-18ffd5bc8ece",
   "metadata": {},
   "outputs": [],
   "source": [
    "def find_closest_index(array, t):\n",
    "    \"\"\"Given an array, return the index with the value closest to t.\"\"\"\n",
    "    return (np.abs(np.array(array) - t)).argmin()\n",
    "\n",
    "def get_currents_with_constant_dt(sol, window=1, step_size=1):\n",
    "    \n",
    "    times = sol['Time'].values\n",
    "    currents = sol.drop(['Time'], axis=1)\n",
    "    \n",
    "    avg_currents = collections.defaultdict(list)\n",
    "    t = 0\n",
    "    while t <= times[-1] - window:\n",
    "        start_index = find_closest_index(times, t)\n",
    "        end_index = find_closest_index(times, t + window)\n",
    "        currents_in_window = currents[start_index: end_index + 1]\n",
    "\n",
    "        window_avg_currents = {}               \n",
    "        for name in currents.columns:                 \n",
    "            window_avg_currents[name] = currents_in_window[name].sum()/len(currents_in_window[name])    \n",
    "            # window_avg_currents[name] = currents_in_window[name].min()\n",
    "            # window_avg_currents[name] = currents_in_window[name].max()\n",
    "\n",
    "        avg_currents['Time Start'].append(t)\n",
    "        avg_currents['Time End'].append(t + window)\n",
    "        avg_currents['Time Mid'].append((2*t + window)/2)\n",
    "\n",
    "        for key, val in window_avg_currents.items():     \n",
    "            # print(key, val)\n",
    "            avg_currents[key].append(val)\n",
    "        t += step_size\n",
    "        \n",
    "    return avg_currents"
   ]
  },
  {
   "cell_type": "code",
   "execution_count": null,
   "id": "e321e34b-ab37-4ef4-8f7a-706e38e242f2",
   "metadata": {},
   "outputs": [],
   "source": [
    "start_time = time.time()\n",
    "\n",
    "model, p, s = myokit.load(\"../mmt-model-files/ohara-cipa-v1-2017_JK-v1.mmt\")    \n",
    "sim = simulator_myokit.Simulator(model, VC_protocol, max_step=1.0, abs_tol=1e-06, rel_tol=1e-6, vhold=-80)  # 1e-12, 1e-14  # 1e-08, 1e-10\n",
    "sim.name = \"ohara2017\"  \n",
    "\n",
    "f = 1.5\n",
    "params = {         \n",
    "    'cell.mode': cell_types['Mid-myocardial'],\n",
    "    'setting.simType': 1,   # 0: AP   |  1: VC  \n",
    "    \n",
    "    'ina.gNa' : 75.0 * f,   \n",
    "    'inal.gNaL' : 0.0075 * 2.661 * f,  \n",
    "    'ito.gto' : 0.02 * 4 * f,\n",
    "    'ical.PCa' : 0.0001 * 1.007 * 2.5 * f,\n",
    "    'ikr.gKr' : 4.65854545454545618e-2 * 1.3 * f, # [mS/uF]\n",
    "    'iks.gKs' : 0.0034 * 1.87 * 1.4 * f,\n",
    "    'ik1.gK1' : 0.1908 * 1.698 * 1.3 * f,\n",
    "    'inaca.gNaCa' : 0.0008 * 1.4,\n",
    "    'inak.PNaK' : 30 * 0.7,\n",
    "    'ikb.gKb' : 0.003,\n",
    "    'inab.PNab' : 3.75e-10,\n",
    "    'icab.PCab' : 2.5e-8,\n",
    "    'ipca.GpCa' : 0.0005,\n",
    "}\n",
    "sim.set_simulation_params(params)\n",
    "\n",
    "print(\"--- %s seconds ---\"%(time.time()-start_time))"
   ]
  },
  {
   "cell_type": "code",
   "execution_count": null,
   "id": "c1a5c912-420b-45a4-9ca3-746e36b9fa06",
   "metadata": {},
   "outputs": [],
   "source": [
    "start_time = time.time()\n",
    "\n",
    "g_adj_li= {\n",
    "    'ina.g_adj' : y[0],\n",
    "    'inal.g_adj' : y[1],\n",
    "    'ito.g_adj' : y[2],\n",
    "    'ical.g_adj' : y[3],\n",
    "    'ikr.g_adj' : y[4],\n",
    "    'iks.g_adj' : y[5],    \n",
    "    'ik1.g_adj' : y[6],\n",
    "    \n",
    "                # 'if.g_adj' : g_fc[7]    \n",
    "} \n",
    "sim.set_simulation_params(g_adj_li)  \n",
    "\n",
    "sim.pre_simulate(5000, sim_type=1)\n",
    "d = sim.simulate( gen_params['end_time'], extra_log=['membrane.VC', 'membrane.i_ion']+gen_params['log_li'])                           \n",
    "\n",
    "sol2 = {}\n",
    "sol2[\"Time\"] = d['engine.time']\n",
    "# sol2[\"Voltage\"] = d['membrane.VC']\n",
    "sol2[\"I_ion\"] = d['membrane.i_ion'] #+ np.random.normal(0, 2, d['membrane.i_ion'].shape) # add noise\n",
    "sol2[\"I_Na\"] = sim.current_response_info.get_current(['INa'])\n",
    "sol2[\"I_NaL\"] = sim.current_response_info.get_current(['INaL'])\n",
    "sol2[\"I_To\"] = sim.current_response_info.get_current(['Ito'])\n",
    "sol2[\"I_CaL\"] = sim.current_response_info.get_current(['ICaL'])\n",
    "sol2[\"I_Kr\"] = sim.current_response_info.get_current(['IKr'])\n",
    "sol2[\"I_Ks\"] = sim.current_response_info.get_current(['IKs'])\n",
    "sol2[\"I_K1\"] = sim.current_response_info.get_current(['IK1'])\n",
    "sol2 = pd.DataFrame(data=sol2)\n",
    "sol2.head()\n",
    "# np.random.normal(0, noise_sigma, current.shape) # add noise\n",
    "print(\"--- %s seconds ---\"%(time.time()-start_time))"
   ]
  },
  {
   "cell_type": "code",
   "execution_count": null,
   "id": "4b6f4733-a632-44f0-8e95-d24b340042e4",
   "metadata": {},
   "outputs": [],
   "source": [
    "sol2"
   ]
  },
  {
   "cell_type": "code",
   "execution_count": null,
   "id": "8e9256d7-26c6-45a0-af10-334dd16f8f0a",
   "metadata": {},
   "outputs": [],
   "source": [
    "sol2 = get_currents_with_constant_dt(sol2, window=gen_params['window'], step_size=gen_params['step_size'])"
   ]
  },
  {
   "cell_type": "code",
   "execution_count": null,
   "id": "7887a940-9e23-4747-8102-e4b0494463ac",
   "metadata": {},
   "outputs": [],
   "source": [
    "'''\n",
    "Plot\n",
    "'''\n",
    "fig, ax = plt.subplots(2,1, figsize=(10,10))    \n",
    "# fig.suptitle(sim.name, fontsize=14)\n",
    "axNo = 0\n",
    "for name, value in sol1.items():    \n",
    "    if name!='Time Start' and name!='Time End' and name!='Time Mid':\n",
    "        # ax.set_title('Simulation %d'%(simulationNo))\n",
    "        # axes[i].set_xlim(model_scipy.times.min(), model_scipy.times.max())\n",
    "        # ax.set_ylim(ylim[0], ylim[1])\n",
    "        ax[axNo].set_xlabel('Time (ms)')       \n",
    "        ax[axNo].set_ylabel(f'{name}')      \n",
    "        ax[axNo].plot( value, label='control', color='k', linewidth=5)     \n",
    "        ax[axNo].plot( sol2[name], label='treatment', color='r', linewidth=2)    \n",
    "        ax[axNo].legend()\n",
    "        ax[axNo].grid()\n",
    "        axNo += 1\n",
    "\n",
    "# ax[-1].set_ylim(-5, 5)\n",
    "\n",
    "plt.subplots_adjust(left=0.07, bottom=0.05, right=0.95, top=0.95, wspace=0.5, hspace=0.15)\n",
    "plt.show()\n",
    "# fig.savefig(os.path.join('Results', \"C.jpg\"), dpi=100)"
   ]
  },
  {
   "cell_type": "code",
   "execution_count": null,
   "id": "9bf122ed-9527-4ec3-9830-1348cef7dbcc",
   "metadata": {},
   "outputs": [],
   "source": []
  },
  {
   "cell_type": "code",
   "execution_count": null,
   "id": "170399e3-2a31-4a0e-84ef-4643e25a73a7",
   "metadata": {},
   "outputs": [],
   "source": []
  },
  {
   "cell_type": "code",
   "execution_count": null,
   "id": "f3e6f447-69db-4896-88c2-c6d6504584d1",
   "metadata": {},
   "outputs": [],
   "source": []
  }
 ],
 "metadata": {
  "kernelspec": {
   "display_name": "Python 3 (ipykernel)",
   "language": "python",
   "name": "python3"
  },
  "language_info": {
   "codemirror_mode": {
    "name": "ipython",
    "version": 3
   },
   "file_extension": ".py",
   "mimetype": "text/x-python",
   "name": "python",
   "nbconvert_exporter": "python",
   "pygments_lexer": "ipython3",
   "version": "3.7.11"
  }
 },
 "nbformat": 4,
 "nbformat_minor": 5
}
