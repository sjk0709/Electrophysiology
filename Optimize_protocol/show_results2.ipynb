{
 "cells": [
  {
   "cell_type": "code",
   "execution_count": 6,
   "id": "a69b90ea-fc42-4d44-9a82-e3c5ede63b78",
   "metadata": {},
   "outputs": [],
   "source": [
    "import os, sys, time, copy\n",
    "import numpy as np\n",
    "import matplotlib.pyplot as plt\n",
    "from matplotlib import cm\n",
    "import pickle\n",
    "\n",
    "sys.path.append('../')\n",
    "sys.path.append('../Lib')\n",
    "sys.path.append('../Models')\n",
    "sys.path.append('../Protocols')\n",
    "from cell_models import kernik, protocols, paci_2018\n",
    "\n",
    "import mod_protocols\n",
    "import protocol_lib\n",
    "import mod_kernik as kernik\n",
    "import mod_trace as trace\n",
    "from Models.br1977 import BR1977\n",
    "from ord2011 import ORD2011\n",
    "import model_response"
   ]
  },
  {
   "cell_type": "code",
   "execution_count": 7,
   "id": "b757fda3-8fd0-48e1-80ea-a5bde0193b62",
   "metadata": {},
   "outputs": [],
   "source": [
    "model_name = 'ORD2011'\n",
    "prestep = 5000\n",
    "window = 10\n",
    "step_size = 5\n",
    "holding_step = 500\n",
    "only_end = False\n",
    "with_artefact =False"
   ]
  },
  {
   "cell_type": "code",
   "execution_count": 8,
   "id": "51a6fdff-81b2-45f1-b604-ebaf88fe69ad",
   "metadata": {},
   "outputs": [
    {
     "data": {
      "image/png": "[encoded data removed]",
      "text/plain": [
       "<Figure size 1080x360 with 1 Axes>"
      ]
     },
     "metadata": {
      "needs_background": "light"
     },
     "output_type": "display_data"
    }
   ],
   "source": [
    "VC_protocol = protocol_lib.VoltageClampProtocol()  # steps=steps\n",
    "\n",
    "VC_protocol.add( protocol_lib.VoltageClampStep(voltage=-80, duration=100) )\n",
    "VC_protocol.add( protocol_lib.VoltageClampStep(voltage=-90, duration=100) )\n",
    "VC_protocol.add( protocol_lib.VoltageClampStep(voltage=-80, duration=100) )\n",
    "VC_protocol.add( protocol_lib.VoltageClampStep(voltage=-35, duration=40) )\n",
    "VC_protocol.add( protocol_lib.VoltageClampStep(voltage=-100, duration=200) )\n",
    "VC_protocol.add( protocol_lib.VoltageClampStep(voltage=-40, duration=40) )\n",
    "VC_protocol.add( protocol_lib.VoltageClampStep(voltage=0, duration=40) )\n",
    "VC_protocol.add( protocol_lib.VoltageClampStep(voltage=40, duration=500) )\n",
    "VC_protocol.add( protocol_lib.VoltageClampRamp(voltage_start=40, voltage_end=-120, duration=200)) # ramp step\n",
    "VC_protocol.add( protocol_lib.VoltageClampStep(voltage=-80, duration=100) )\n",
    "VC_protocol.add( protocol_lib.VoltageClampStep(voltage=0, duration=100) )\n",
    "VC_protocol.add( protocol_lib.VoltageClampStep(voltage=60, duration=500) )\n",
    "VC_protocol.add( protocol_lib.VoltageClampRamp(voltage_start=60, voltage_end=-80, duration=200)) # ramp step\n",
    "\n",
    "times = np.arange(0, VC_protocol.get_voltage_change_endpoints()[-1], 1) \n",
    "VC_protocol.plot_voltage_clamp_protocol(times)"
   ]
  },
  {
   "cell_type": "code",
   "execution_count": 22,
   "id": "8e411476-c155-4a58-8a83-46626530a310",
   "metadata": {},
   "outputs": [],
   "source": [
    "import simulator_myokit\n",
    "import myokit\n",
    "'''\n",
    "Simulation with Myokit\n",
    "'''\n",
    "model_path = \"../mmt-model-files/ohara-cipa-v1-2017_VC.mmt\" \n",
    "model_myokit, protocol_myokit, script = myokit.load(model_path)\n",
    "sim_myokit = simulator_myokit.Simulator(model_myokit, VC_protocol, max_step=1.0, abs_tol=1e-8, rel_tol=1e-8, vhold=-80) # 1e-12, 1e-14 # 1e-08, 1e-10  # max_step=1, atol=1E-2, rtol=1E-4 # defalt: abs_tol=1e-06, rel_tol=0.0001\n",
    "sim_myokit.name = \"OHara2017-CiPA-v1\""
   ]
  },
  {
   "cell_type": "code",
   "execution_count": 23,
   "id": "0c7c342c-5fad-4d43-a8d6-838146801022",
   "metadata": {},
   "outputs": [
    {
     "name": "stdout",
     "output_type": "stream",
     "text": [
      "--- 0.13393545150756836 seconds ---\n"
     ]
    },
    {
     "data": {
      "text/plain": [
       "inf"
      ]
     },
     "execution_count": 23,
     "metadata": {},
     "output_type": "execute_result"
    }
   ],
   "source": [
    "start_time = time.time()\n",
    "\n",
    "sim_myokit.simulation.set_constant('cell.mode', 1)    \n",
    "y0_myokit = sim_myokit.pre_simulate(5000, sim_type=1)\n",
    "d_myokit = sim_myokit.simulate( VC_protocol.get_voltage_change_endpoints()[-1], log_times=None, extra_log=['ina.INa', 'inal.INaL', 'ito.Ito', 'ical.ICaL', 'ikr.IKr', 'iks.IKs', 'ik1.IK1'] )\n",
    "\n",
    "print(\"--- %s seconds ---\"%(time.time()-start_time))\n",
    "d_myokit"
   ]
  },
  {
   "cell_type": "code",
   "execution_count": null,
   "id": "a933e6fc-f3d2-49ea-9698-d4c43cfcfb43",
   "metadata": {},
   "outputs": [],
   "source": []
  },
  {
   "cell_type": "code",
   "execution_count": 4,
   "id": "5c06ad9e-4654-48f7-b217-4744d0cb64ff",
   "metadata": {},
   "outputs": [
    {
     "name": "stderr",
     "output_type": "stream",
     "text": [
      "D:\\Asan\\Codes\\Electrophysiology\\Optimize_protocol\\../Models\\ord2011.py:399: RuntimeWarning: invalid value encountered in double_scalars\n",
      "  PhiCaL  = 4 * vffrt *(       cass  * exp(2 * vfrt) - 0.341 * self.extra.Cao) / (exp(2 * vfrt) - 1)\n",
      "D:\\Asan\\Codes\\Electrophysiology\\Optimize_protocol\\../Models\\ord2011.py:400: RuntimeWarning: invalid value encountered in double_scalars\n",
      "  PhiCaNa = 1 * vffrt *(0.75 * Na_ss   * exp(1 * vfrt) - 0.75  * self.extra.Nao) / (exp(1 * vfrt) - 1)\n",
      "D:\\Asan\\Codes\\Electrophysiology\\Optimize_protocol\\../Models\\ord2011.py:401: RuntimeWarning: invalid value encountered in double_scalars\n",
      "  PhiCaK  = 1 * vffrt *(0.75 * K_ss * exp(1 * vfrt) - 0.75  * self.extra.Ko ) / (exp(1 * vfrt) - 1)\n",
      "D:\\Asan\\Codes\\Electrophysiology\\Optimize_protocol\\../Models\\ord2011.py:762: RuntimeWarning: invalid value encountered in double_scalars\n",
      "  INab = (A*U)/(exp(U)-1.0)\n",
      "D:\\Asan\\Codes\\Electrophysiology\\Optimize_protocol\\../Models\\ord2011.py:783: RuntimeWarning: invalid value encountered in double_scalars\n",
      "  ICab = (A*U)/(exp(U)-1.0)\n"
     ]
    },
    {
     "ename": "ValueError",
     "evalue": "array must not contain infs or NaNs",
     "output_type": "error",
     "traceback": [
      "\u001b[1;31m---------------------------------------------------------------------------\u001b[0m",
      "\u001b[1;31mValueError\u001b[0m                                Traceback (most recent call last)",
      "\u001b[1;32m<ipython-input-4-bc2d7f454977>\u001b[0m in \u001b[0;36m<module>\u001b[1;34m\u001b[0m\n\u001b[0;32m      5\u001b[0m \u001b[1;32mif\u001b[0m \u001b[0mmodel_name\u001b[0m\u001b[1;33m==\u001b[0m\u001b[1;34m'ORD2011'\u001b[0m \u001b[1;33m:\u001b[0m\u001b[1;33m\u001b[0m\u001b[1;33m\u001b[0m\u001b[0m\n\u001b[0;32m      6\u001b[0m     \u001b[0mmodel\u001b[0m \u001b[1;33m=\u001b[0m \u001b[0mORD2011\u001b[0m\u001b[1;33m(\u001b[0m\u001b[0mVC_protocol\u001b[0m\u001b[1;33m)\u001b[0m\u001b[1;33m\u001b[0m\u001b[1;33m\u001b[0m\u001b[0m\n\u001b[1;32m----> 7\u001b[1;33m     \u001b[0mtr\u001b[0m \u001b[1;33m=\u001b[0m \u001b[0mmodel_response\u001b[0m\u001b[1;33m.\u001b[0m\u001b[0mget_model_response_JK\u001b[0m\u001b[1;33m(\u001b[0m\u001b[0mmodel\u001b[0m\u001b[1;33m,\u001b[0m \u001b[0mVC_protocol\u001b[0m\u001b[1;33m,\u001b[0m \u001b[0mprestep\u001b[0m\u001b[1;33m=\u001b[0m\u001b[0mprestep\u001b[0m\u001b[1;33m)\u001b[0m\u001b[1;33m\u001b[0m\u001b[1;33m\u001b[0m\u001b[0m\n\u001b[0m\u001b[0;32m      8\u001b[0m \u001b[1;32melif\u001b[0m \u001b[0mmodel_name\u001b[0m\u001b[1;33m==\u001b[0m\u001b[1;34m'OHara2017'\u001b[0m\u001b[1;33m:\u001b[0m\u001b[1;33m\u001b[0m\u001b[1;33m\u001b[0m\u001b[0m\n\u001b[0;32m      9\u001b[0m     \u001b[0mmodel\u001b[0m \u001b[1;33m=\u001b[0m \u001b[1;34m'../mmt-model-files/ohara-cipa-v1-2017_VC.mmt'\u001b[0m\u001b[1;33m\u001b[0m\u001b[1;33m\u001b[0m\u001b[0m\n",
      "\u001b[1;32mD:\\Asan\\Codes\\Electrophysiology\\Optimize_protocol\\model_response.py\u001b[0m in \u001b[0;36mget_model_response_JK\u001b[1;34m(model, protocol, prestep)\u001b[0m\n\u001b[0;32m     65\u001b[0m     \u001b[1;32melse\u001b[0m\u001b[1;33m:\u001b[0m\u001b[1;33m\u001b[0m\u001b[1;33m\u001b[0m\u001b[0m\n\u001b[0;32m     66\u001b[0m         \u001b[0msimulator\u001b[0m\u001b[1;33m.\u001b[0m\u001b[0mpre_simulate\u001b[0m\u001b[1;33m(\u001b[0m \u001b[0mpre_step\u001b[0m\u001b[1;33m=\u001b[0m\u001b[0mprestep\u001b[0m\u001b[1;33m,\u001b[0m \u001b[0mprotocol\u001b[0m\u001b[1;33m=\u001b[0m\u001b[1;34m'constant'\u001b[0m\u001b[1;33m)\u001b[0m\u001b[1;33m\u001b[0m\u001b[1;33m\u001b[0m\u001b[0m\n\u001b[1;32m---> 67\u001b[1;33m     \u001b[0msolution\u001b[0m \u001b[1;33m=\u001b[0m \u001b[0msimulator\u001b[0m\u001b[1;33m.\u001b[0m\u001b[0msimulate\u001b[0m\u001b[1;33m(\u001b[0m \u001b[1;33m[\u001b[0m\u001b[1;36m0\u001b[0m\u001b[1;33m,\u001b[0m \u001b[0mprotocol\u001b[0m\u001b[1;33m.\u001b[0m\u001b[0mget_voltage_change_endpoints\u001b[0m\u001b[1;33m(\u001b[0m\u001b[1;33m)\u001b[0m\u001b[1;33m[\u001b[0m\u001b[1;33m-\u001b[0m\u001b[1;36m1\u001b[0m\u001b[1;33m]\u001b[0m\u001b[1;33m]\u001b[0m\u001b[1;33m,\u001b[0m \u001b[0mmethod\u001b[0m\u001b[1;33m=\u001b[0m\u001b[1;34m'BDF'\u001b[0m\u001b[1;33m,\u001b[0m \u001b[0mmax_step\u001b[0m\u001b[1;33m=\u001b[0m\u001b[1;36m1\u001b[0m\u001b[1;33m,\u001b[0m \u001b[0matol\u001b[0m\u001b[1;33m=\u001b[0m\u001b[1;36m1e-06\u001b[0m\u001b[1;33m,\u001b[0m \u001b[0mrtol\u001b[0m\u001b[1;33m=\u001b[0m\u001b[1;36m1e-6\u001b[0m\u001b[1;33m)\u001b[0m\u001b[1;33m\u001b[0m\u001b[1;33m\u001b[0m\u001b[0m\n\u001b[0m\u001b[0;32m     68\u001b[0m     \u001b[0mcommand_voltages\u001b[0m \u001b[1;33m=\u001b[0m \u001b[1;33m[\u001b[0m\u001b[0mprotocol\u001b[0m\u001b[1;33m.\u001b[0m\u001b[0mget_voltage_at_time\u001b[0m\u001b[1;33m(\u001b[0m\u001b[0mt\u001b[0m\u001b[1;33m)\u001b[0m \u001b[1;32mfor\u001b[0m \u001b[0mt\u001b[0m \u001b[1;32min\u001b[0m \u001b[0msolution\u001b[0m\u001b[1;33m.\u001b[0m\u001b[0mt\u001b[0m\u001b[1;33m]\u001b[0m\u001b[1;33m\u001b[0m\u001b[1;33m\u001b[0m\u001b[0m\n\u001b[0;32m     69\u001b[0m \u001b[1;33m\u001b[0m\u001b[0m\n",
      "\u001b[1;32mD:\\Asan\\Codes\\Electrophysiology\\Optimize_protocol\\..\\simulator_scipy.py\u001b[0m in \u001b[0;36msimulate\u001b[1;34m(self, t_span, t_eval, log, method, max_step, atol, rtol)\u001b[0m\n\u001b[0;32m     68\u001b[0m         \u001b[0mmethod\u001b[0m \u001b[1;33m:\u001b[0m \u001b[0mRK45\u001b[0m \u001b[1;33m|\u001b[0m \u001b[0mLSODA\u001b[0m \u001b[1;33m|\u001b[0m \u001b[0mDOP853\u001b[0m \u001b[1;33m|\u001b[0m \u001b[0mRadau\u001b[0m \u001b[1;33m|\u001b[0m \u001b[0mBDF\u001b[0m \u001b[1;33m|\u001b[0m \u001b[0mRK23\u001b[0m\u001b[1;33m\u001b[0m\u001b[1;33m\u001b[0m\u001b[0m\n\u001b[0;32m     69\u001b[0m         '''                            \n\u001b[1;32m---> 70\u001b[1;33m         self.solution = solve_ivp(self.model.diff_eq_solve_ivp, t_span, y0=self.model.y0, t_eval=t_eval,\n\u001b[0m\u001b[0;32m     71\u001b[0m                                 \u001b[0mdense_output\u001b[0m\u001b[1;33m=\u001b[0m\u001b[1;32mFalse\u001b[0m\u001b[1;33m,\u001b[0m\u001b[1;33m\u001b[0m\u001b[1;33m\u001b[0m\u001b[0m\n\u001b[0;32m     72\u001b[0m                                 \u001b[0mmethod\u001b[0m\u001b[1;33m=\u001b[0m\u001b[0mmethod\u001b[0m\u001b[1;33m,\u001b[0m \u001b[1;31m# RK45 | LSODA | DOP853 | Radau | BDF | RK23\u001b[0m\u001b[1;33m\u001b[0m\u001b[1;33m\u001b[0m\u001b[0m\n",
      "\u001b[1;32mC:\\Anaconda3\\envs\\ml\\lib\\site-packages\\scipy\\integrate\\_ivp\\ivp.py\u001b[0m in \u001b[0;36msolve_ivp\u001b[1;34m(fun, t_span, y0, method, t_eval, dense_output, events, vectorized, args, **options)\u001b[0m\n\u001b[0;32m    574\u001b[0m     \u001b[0mstatus\u001b[0m \u001b[1;33m=\u001b[0m \u001b[1;32mNone\u001b[0m\u001b[1;33m\u001b[0m\u001b[1;33m\u001b[0m\u001b[0m\n\u001b[0;32m    575\u001b[0m     \u001b[1;32mwhile\u001b[0m \u001b[0mstatus\u001b[0m \u001b[1;32mis\u001b[0m \u001b[1;32mNone\u001b[0m\u001b[1;33m:\u001b[0m\u001b[1;33m\u001b[0m\u001b[1;33m\u001b[0m\u001b[0m\n\u001b[1;32m--> 576\u001b[1;33m         \u001b[0mmessage\u001b[0m \u001b[1;33m=\u001b[0m \u001b[0msolver\u001b[0m\u001b[1;33m.\u001b[0m\u001b[0mstep\u001b[0m\u001b[1;33m(\u001b[0m\u001b[1;33m)\u001b[0m\u001b[1;33m\u001b[0m\u001b[1;33m\u001b[0m\u001b[0m\n\u001b[0m\u001b[0;32m    577\u001b[0m \u001b[1;33m\u001b[0m\u001b[0m\n\u001b[0;32m    578\u001b[0m         \u001b[1;32mif\u001b[0m \u001b[0msolver\u001b[0m\u001b[1;33m.\u001b[0m\u001b[0mstatus\u001b[0m \u001b[1;33m==\u001b[0m \u001b[1;34m'finished'\u001b[0m\u001b[1;33m:\u001b[0m\u001b[1;33m\u001b[0m\u001b[1;33m\u001b[0m\u001b[0m\n",
      "\u001b[1;32mC:\\Anaconda3\\envs\\ml\\lib\\site-packages\\scipy\\integrate\\_ivp\\base.py\u001b[0m in \u001b[0;36mstep\u001b[1;34m(self)\u001b[0m\n\u001b[0;32m    179\u001b[0m         \u001b[1;32melse\u001b[0m\u001b[1;33m:\u001b[0m\u001b[1;33m\u001b[0m\u001b[1;33m\u001b[0m\u001b[0m\n\u001b[0;32m    180\u001b[0m             \u001b[0mt\u001b[0m \u001b[1;33m=\u001b[0m \u001b[0mself\u001b[0m\u001b[1;33m.\u001b[0m\u001b[0mt\u001b[0m\u001b[1;33m\u001b[0m\u001b[1;33m\u001b[0m\u001b[0m\n\u001b[1;32m--> 181\u001b[1;33m             \u001b[0msuccess\u001b[0m\u001b[1;33m,\u001b[0m \u001b[0mmessage\u001b[0m \u001b[1;33m=\u001b[0m \u001b[0mself\u001b[0m\u001b[1;33m.\u001b[0m\u001b[0m_step_impl\u001b[0m\u001b[1;33m(\u001b[0m\u001b[1;33m)\u001b[0m\u001b[1;33m\u001b[0m\u001b[1;33m\u001b[0m\u001b[0m\n\u001b[0m\u001b[0;32m    182\u001b[0m \u001b[1;33m\u001b[0m\u001b[0m\n\u001b[0;32m    183\u001b[0m             \u001b[1;32mif\u001b[0m \u001b[1;32mnot\u001b[0m \u001b[0msuccess\u001b[0m\u001b[1;33m:\u001b[0m\u001b[1;33m\u001b[0m\u001b[1;33m\u001b[0m\u001b[0m\n",
      "\u001b[1;32mC:\\Anaconda3\\envs\\ml\\lib\\site-packages\\scipy\\integrate\\_ivp\\bdf.py\u001b[0m in \u001b[0;36m_step_impl\u001b[1;34m(self)\u001b[0m\n\u001b[0;32m    349\u001b[0m             \u001b[1;32mwhile\u001b[0m \u001b[1;32mnot\u001b[0m \u001b[0mconverged\u001b[0m\u001b[1;33m:\u001b[0m\u001b[1;33m\u001b[0m\u001b[1;33m\u001b[0m\u001b[0m\n\u001b[0;32m    350\u001b[0m                 \u001b[1;32mif\u001b[0m \u001b[0mLU\u001b[0m \u001b[1;32mis\u001b[0m \u001b[1;32mNone\u001b[0m\u001b[1;33m:\u001b[0m\u001b[1;33m\u001b[0m\u001b[1;33m\u001b[0m\u001b[0m\n\u001b[1;32m--> 351\u001b[1;33m                     \u001b[0mLU\u001b[0m \u001b[1;33m=\u001b[0m \u001b[0mself\u001b[0m\u001b[1;33m.\u001b[0m\u001b[0mlu\u001b[0m\u001b[1;33m(\u001b[0m\u001b[0mself\u001b[0m\u001b[1;33m.\u001b[0m\u001b[0mI\u001b[0m \u001b[1;33m-\u001b[0m \u001b[0mc\u001b[0m \u001b[1;33m*\u001b[0m \u001b[0mJ\u001b[0m\u001b[1;33m)\u001b[0m\u001b[1;33m\u001b[0m\u001b[1;33m\u001b[0m\u001b[0m\n\u001b[0m\u001b[0;32m    352\u001b[0m \u001b[1;33m\u001b[0m\u001b[0m\n\u001b[0;32m    353\u001b[0m                 converged, n_iter, y_new, d = solve_bdf_system(\n",
      "\u001b[1;32mC:\\Anaconda3\\envs\\ml\\lib\\site-packages\\scipy\\integrate\\_ivp\\bdf.py\u001b[0m in \u001b[0;36mlu\u001b[1;34m(A)\u001b[0m\n\u001b[0;32m    216\u001b[0m             \u001b[1;32mdef\u001b[0m \u001b[0mlu\u001b[0m\u001b[1;33m(\u001b[0m\u001b[0mA\u001b[0m\u001b[1;33m)\u001b[0m\u001b[1;33m:\u001b[0m\u001b[1;33m\u001b[0m\u001b[1;33m\u001b[0m\u001b[0m\n\u001b[0;32m    217\u001b[0m                 \u001b[0mself\u001b[0m\u001b[1;33m.\u001b[0m\u001b[0mnlu\u001b[0m \u001b[1;33m+=\u001b[0m \u001b[1;36m1\u001b[0m\u001b[1;33m\u001b[0m\u001b[1;33m\u001b[0m\u001b[0m\n\u001b[1;32m--> 218\u001b[1;33m                 \u001b[1;32mreturn\u001b[0m \u001b[0mlu_factor\u001b[0m\u001b[1;33m(\u001b[0m\u001b[0mA\u001b[0m\u001b[1;33m,\u001b[0m \u001b[0moverwrite_a\u001b[0m\u001b[1;33m=\u001b[0m\u001b[1;32mTrue\u001b[0m\u001b[1;33m)\u001b[0m\u001b[1;33m\u001b[0m\u001b[1;33m\u001b[0m\u001b[0m\n\u001b[0m\u001b[0;32m    219\u001b[0m \u001b[1;33m\u001b[0m\u001b[0m\n\u001b[0;32m    220\u001b[0m             \u001b[1;32mdef\u001b[0m \u001b[0msolve_lu\u001b[0m\u001b[1;33m(\u001b[0m\u001b[0mLU\u001b[0m\u001b[1;33m,\u001b[0m \u001b[0mb\u001b[0m\u001b[1;33m)\u001b[0m\u001b[1;33m:\u001b[0m\u001b[1;33m\u001b[0m\u001b[1;33m\u001b[0m\u001b[0m\n",
      "\u001b[1;32mC:\\Anaconda3\\envs\\ml\\lib\\site-packages\\scipy\\linalg\\decomp_lu.py\u001b[0m in \u001b[0;36mlu_factor\u001b[1;34m(a, overwrite_a, check_finite)\u001b[0m\n\u001b[0;32m     68\u001b[0m     \"\"\"\n\u001b[0;32m     69\u001b[0m     \u001b[1;32mif\u001b[0m \u001b[0mcheck_finite\u001b[0m\u001b[1;33m:\u001b[0m\u001b[1;33m\u001b[0m\u001b[1;33m\u001b[0m\u001b[0m\n\u001b[1;32m---> 70\u001b[1;33m         \u001b[0ma1\u001b[0m \u001b[1;33m=\u001b[0m \u001b[0masarray_chkfinite\u001b[0m\u001b[1;33m(\u001b[0m\u001b[0ma\u001b[0m\u001b[1;33m)\u001b[0m\u001b[1;33m\u001b[0m\u001b[1;33m\u001b[0m\u001b[0m\n\u001b[0m\u001b[0;32m     71\u001b[0m     \u001b[1;32melse\u001b[0m\u001b[1;33m:\u001b[0m\u001b[1;33m\u001b[0m\u001b[1;33m\u001b[0m\u001b[0m\n\u001b[0;32m     72\u001b[0m         \u001b[0ma1\u001b[0m \u001b[1;33m=\u001b[0m \u001b[0masarray\u001b[0m\u001b[1;33m(\u001b[0m\u001b[0ma\u001b[0m\u001b[1;33m)\u001b[0m\u001b[1;33m\u001b[0m\u001b[1;33m\u001b[0m\u001b[0m\n",
      "\u001b[1;32mC:\\Anaconda3\\envs\\ml\\lib\\site-packages\\numpy\\lib\\function_base.py\u001b[0m in \u001b[0;36masarray_chkfinite\u001b[1;34m(a, dtype, order)\u001b[0m\n\u001b[0;32m    483\u001b[0m     \u001b[0ma\u001b[0m \u001b[1;33m=\u001b[0m \u001b[0masarray\u001b[0m\u001b[1;33m(\u001b[0m\u001b[0ma\u001b[0m\u001b[1;33m,\u001b[0m \u001b[0mdtype\u001b[0m\u001b[1;33m=\u001b[0m\u001b[0mdtype\u001b[0m\u001b[1;33m,\u001b[0m \u001b[0morder\u001b[0m\u001b[1;33m=\u001b[0m\u001b[0morder\u001b[0m\u001b[1;33m)\u001b[0m\u001b[1;33m\u001b[0m\u001b[1;33m\u001b[0m\u001b[0m\n\u001b[0;32m    484\u001b[0m     \u001b[1;32mif\u001b[0m \u001b[0ma\u001b[0m\u001b[1;33m.\u001b[0m\u001b[0mdtype\u001b[0m\u001b[1;33m.\u001b[0m\u001b[0mchar\u001b[0m \u001b[1;32min\u001b[0m \u001b[0mtypecodes\u001b[0m\u001b[1;33m[\u001b[0m\u001b[1;34m'AllFloat'\u001b[0m\u001b[1;33m]\u001b[0m \u001b[1;32mand\u001b[0m \u001b[1;32mnot\u001b[0m \u001b[0mnp\u001b[0m\u001b[1;33m.\u001b[0m\u001b[0misfinite\u001b[0m\u001b[1;33m(\u001b[0m\u001b[0ma\u001b[0m\u001b[1;33m)\u001b[0m\u001b[1;33m.\u001b[0m\u001b[0mall\u001b[0m\u001b[1;33m(\u001b[0m\u001b[1;33m)\u001b[0m\u001b[1;33m:\u001b[0m\u001b[1;33m\u001b[0m\u001b[1;33m\u001b[0m\u001b[0m\n\u001b[1;32m--> 485\u001b[1;33m         raise ValueError(\n\u001b[0m\u001b[0;32m    486\u001b[0m             \"array must not contain infs or NaNs\")\n\u001b[0;32m    487\u001b[0m     \u001b[1;32mreturn\u001b[0m \u001b[0ma\u001b[0m\u001b[1;33m\u001b[0m\u001b[1;33m\u001b[0m\u001b[0m\n",
      "\u001b[1;31mValueError\u001b[0m: array must not contain infs or NaNs"
     ]
    }
   ],
   "source": [
    "start_time = time.time()\n",
    "\n",
    "currents = ['I_Na', 'I_Kr', 'I_Ks', 'I_To', 'I_CaL', 'I_K1', 'I_NaL' ]               \n",
    "tr = None\n",
    "if model_name=='ORD2011' :\n",
    "    model = ORD2011(VC_protocol)\n",
    "    tr = model_response.get_model_response_JK(model, VC_protocol, prestep=prestep)\n",
    "elif model_name=='OHara2017':\n",
    "    model = '../mmt-model-files/ohara-cipa-v1-2017_VC.mmt'\n",
    "    tr = model_response.get_model_response_with_myokit(model, VC_protocol, prestep=prestep)\n",
    "elif model_name=='BR1977' :\n",
    "    currents = ['I_Na', 'I_si', 'I_K1', 'I_x1']\n",
    "    model = BR1977(VC_protocol)  \n",
    "    tr = model_response.get_model_response_JK(model, VC_protocol, prestep=prestep)\n",
    "elif model_name=='Kernik':\n",
    "    currents = ['I_Na', 'I_Kr', 'I_Ks', 'I_To', 'I_F', 'I_CaL', 'I_K1'] \n",
    "    k = kernik.KernikModel(is_exp_artefact=True)        \n",
    "    tr = k.generate_response(VC_protocol, is_no_ion_selective=False)\n",
    "\n",
    "print(\"--- %s seconds ---\"%(time.time()-start_time))"
   ]
  },
  {
   "cell_type": "code",
   "execution_count": null,
   "id": "1dd3ca9a-8543-4e2d-8948-58613970f002",
   "metadata": {},
   "outputs": [],
   "source": [
    "start_time = time.time()\n",
    "current_contributions = tr.current_response_info.get_current_contributions( time=tr.t, window=window, step_size=step_size)\n",
    "total_current = tr.current_response_info.get_current_summed()\n",
    "c_li = {}\n",
    "for current_name in currents:\n",
    "    c = []\n",
    "    for t in tr.t:    \n",
    "        idx = current_contributions['Time Mid'].sub(t).abs().idxmin()\n",
    "        c.append(current_contributions[current_name].loc[idx])        \n",
    "    c_li[current_name] = c\n",
    "print(\"--- %s seconds ---\"%(time.time()-start_time))"
   ]
  },
  {
   "cell_type": "code",
   "execution_count": null,
   "id": "09c9862f-d899-4679-af77-b24f85792b5c",
   "metadata": {},
   "outputs": [],
   "source": [
    "max_contributions = tr.current_response_info.get_max_current_contributions(tr.t, window=window, step_size=step_size)\n",
    "max_contributions"
   ]
  },
  {
   "cell_type": "code",
   "execution_count": null,
   "id": "a36c039d-7470-4797-81fb-73b0670773f7",
   "metadata": {},
   "outputs": [],
   "source": [
    "'''\n",
    "Plot\n",
    "'''\n",
    "fig, ax = plt.subplots(9,1, figsize=(15,25))    \n",
    "fig.suptitle(model_name, fontsize=14)\n",
    "total_duration = holding_step\n",
    "for i, name in enumerate(['Voltage', 'I_total'] + currents):        \n",
    "#     ax[i].set_title(name)\n",
    "    # ax[i].set_xlim(model_scipy.times.min(), model_scipy.times.max())\n",
    "    # ax[i].set_ylim(ylim[0], ylim[1])\n",
    "    ax[i].set_xlabel('Time (ms)', fontsize=14)           \n",
    "    ax[i].tick_params(axis=\"x\", labelsize=14)\n",
    "    ax[i].tick_params(axis=\"y\", labelsize=14)\n",
    "    ax[i].spines['right'].set_visible(False)\n",
    "    ax[i].spines['top'].set_visible(False)     \n",
    "    ax[i].text(0.01, 0.8, name, transform=ax[i].transAxes, fontsize=14, verticalalignment='top', c='k',\n",
    "               bbox=dict(boxstyle='round', facecolor='wheat', alpha=0.2))    \n",
    "    if i==0:\n",
    "        ax[i].set_ylabel(f'{name} (mV)', fontsize=14)     \n",
    "        ax[i].plot( tr.t, VC_protocol.get_voltage_clamp_protocol(tr.t), label=name, color='k')    \n",
    "    elif i==1:\n",
    "        ax[i].set_ylabel(f'{name} (nA/nF)', fontsize=14)     \n",
    "        ax[i].plot( tr.t, tr.current_response_info.get_current_summed(), label=name, color='k', linewidth=2)\n",
    "    else:         \n",
    "        ax[i].set_ylabel(f'{name} (nA/nF)', fontsize=14) \n",
    "        ax_im = ax[i].scatter(tr.t, tr.current_response_info.get_current([name]), c=c_li[name], cmap=cm.copper, vmin=0, vmax=1, label=[name, name])                \n",
    "        \n",
    "        contribution = max_contributions[max_contributions[\"Current\"]==name]['Contribution'].values[0]\n",
    "        start = max_contributions[max_contributions[\"Current\"]==name]['Time Start'].values[0]\n",
    "        end = max_contributions[max_contributions[\"Current\"]==name]['Time End'].values[0]         \n",
    "        ax[i].axvspan(start, end, color='g', alpha=0.4)   \n",
    "#         ax[i].text(0.01, 0.8, name, transform=ax[i].transAxes, fontsize=14, verticalalignment='top', c='k',\n",
    "#                bbox=dict(boxstyle='round', facecolor='wheat', alpha=0.2))    \n",
    "\n",
    "#     ax[i].legend(loc=2, prop={'size': 14})    \n",
    "    ax[i].grid()\n",
    "# fig = plt.gcf()\n",
    "cbar_ax = fig.add_axes([0.92, 0.08, 0.05, 0.85])\n",
    "fig.colorbar(ax_im, cax=cbar_ax)\n",
    "plt.subplots_adjust(left=0.07, bottom=0.05, right=0.9, top=0.96, wspace=0.5, hspace=0.15)\n",
    "plt.show()\n",
    "fig.savefig( f\"aaa.jpg\", dpi=200)\n",
    "plt.close(fig)"
   ]
  },
  {
   "cell_type": "code",
   "execution_count": null,
   "id": "a6705a8f-c7d1-410a-a65d-5a4e2aaa0fd4",
   "metadata": {},
   "outputs": [],
   "source": []
  },
  {
   "cell_type": "code",
   "execution_count": null,
   "id": "16353aa7-f18b-4bf4-ba06-d28352d8716f",
   "metadata": {},
   "outputs": [],
   "source": [
    "# for current_name in currents:\n",
    "#     tr.plot_currents_contribution(current_name,  window=window, step_size=step_size, is_shown=True, title=current_name,\n",
    "#                                   saved_to=f'./ga_results/{trial_conditions}/{current_name}.svg')"
   ]
  },
  {
   "cell_type": "code",
   "execution_count": null,
   "id": "c67edc6d-c3c6-4a56-abb0-136668ff84d9",
   "metadata": {},
   "outputs": [],
   "source": [
    "# print(\"Complete\")"
   ]
  },
  {
   "cell_type": "code",
   "execution_count": null,
   "id": "f9eb4787-147d-46ec-a400-480e483d1367",
   "metadata": {},
   "outputs": [],
   "source": []
  },
  {
   "cell_type": "code",
   "execution_count": null,
   "id": "2213ef85-8933-44ff-a1e6-3a50065b9892",
   "metadata": {},
   "outputs": [],
   "source": []
  }
 ],
 "metadata": {
  "kernelspec": {
   "display_name": "Python 3",
   "language": "python",
   "name": "python3"
  },
  "language_info": {
   "codemirror_mode": {
    "name": "ipython",
    "version": 3
   },
   "file_extension": ".py",
   "mimetype": "text/x-python",
   "name": "python",
   "nbconvert_exporter": "python",
   "pygments_lexer": "ipython3",
   "version": "3.8.10"
  }
 },
 "nbformat": 4,
 "nbformat_minor": 5
}
