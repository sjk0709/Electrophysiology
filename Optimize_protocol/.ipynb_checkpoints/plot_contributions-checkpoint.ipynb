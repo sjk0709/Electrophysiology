{
 "cells": [
  {
   "cell_type": "code",
   "execution_count": 39,
   "id": "c797b0f5-b635-44ed-8047-735d4a931ef5",
   "metadata": {},
   "outputs": [],
   "source": [
    "import os, sys, time, copy\n",
    "import numpy as np\n",
    "import matplotlib.pyplot as plt\n",
    "import pickle\n",
    "import random\n",
    "\n",
    "sys.path.append('../')\n",
    "sys.path.append('../Lib')\n",
    "sys.path.append('../Protocols')\n",
    "sys.path.append('../Models')\n",
    "import protocol_lib\n",
    "\n",
    "from br1977 import BR1977\n",
    "from ord2011JK_v1 import ORD2011\n",
    "import model_response\n",
    "import simulator_myokit\n",
    "import myokit"
   ]
  },
  {
   "cell_type": "code",
   "execution_count": 40,
   "id": "06325c03-71d9-481c-9f34-c0aaecd46246",
   "metadata": {},
   "outputs": [],
   "source": [
    "def get_high_fitness(ga_result):\n",
    "    best_individual = ga_result.generations[0][0]\n",
    "\n",
    "    for i, gen in enumerate(ga_result.generations):\n",
    "        best_in_gen = ga_result.get_high_fitness_individual(i)\n",
    "        if best_in_gen.fitness > best_individual.fitness:            \n",
    "            best_individual = best_in_gen\n",
    "\n",
    "    return best_individual"
   ]
  },
  {
   "cell_type": "code",
   "execution_count": 41,
   "id": "51d8f0ea-9750-4a07-9879-b05fcb34317c",
   "metadata": {},
   "outputs": [],
   "source": [
    "steps_in_protocol = 4\n",
    "step_types=['step', 'ramp']\n",
    "step_duration_bounds=(5, 1000)\n",
    "step_voltage_bounds=(-120, 60)\n",
    "window=2\n",
    "step_size=1\n",
    "LIST_OF_CURRENTS = [ 'I_Na', 'I_NaL', 'I_to', 'I_CaL', 'I_Kr', 'I_Ks', 'I_K1' ]# ['I_Na', 'I_Kr', 'I_Ks', 'I_To', 'I_F', 'I_CaL', 'I_K1'] "
   ]
  },
  {
   "cell_type": "code",
   "execution_count": 42,
   "id": "465b09c2-b832-4ef1-8cae-08197ce98195",
   "metadata": {},
   "outputs": [
    {
     "name": "stdout",
     "output_type": "stream",
     "text": [
      "|RAMP: Voltage Start: -24.884265647446643, Voltage End: -107.35898059956352, Duration: 244.98109499829968| | |STEP: Voltage: -38.266220913694674, Duration: 663.2670320031141| | |STEP: Voltage: -119.88353380492657, Duration: 45.58985412063697| | |RAMP: Voltage Start: -30.35604144977756, Voltage End: -73.95635295816794, Duration: 407.8358525181555|\n",
      "0.9994632967886729\n"
     ]
    }
   ],
   "source": [
    "trial_conditions = \"trial_steps_ramps_ORD2011_256_64_4_-120_60\"\n",
    "current = 'I_Na'\n",
    "ga_result = pickle.load(open(f'ga_results/{trial_conditions}/ga_results_{current}_artefact_False', 'rb'))\n",
    "best_individual = get_high_fitness(ga_result)\n",
    "best_protocol = best_individual.protocol\n",
    "best_fitness = best_individual.fitness\n",
    "print(best_protocol)\n",
    "print(best_fitness)"
   ]
  },
  {
   "cell_type": "code",
   "execution_count": 44,
   "id": "7927624a-228f-4774-82be-a712e8564a4b",
   "metadata": {},
   "outputs": [
    {
     "ename": "AttributeError",
     "evalue": "module 'model_response' has no attribute 'get_model_response_with_myokit'",
     "output_type": "error",
     "traceback": [
      "\u001b[0;31m---------------------------------------------------------------------------\u001b[0m",
      "\u001b[0;31mAttributeError\u001b[0m                            Traceback (most recent call last)",
      "\u001b[0;32m/tmp/ipykernel_77181/3971336479.py\u001b[0m in \u001b[0;36m<module>\u001b[0;34m\u001b[0m\n\u001b[1;32m      1\u001b[0m \u001b[0mm_myokit\u001b[0m\u001b[0;34m,\u001b[0m \u001b[0mp\u001b[0m\u001b[0;34m,\u001b[0m \u001b[0ms\u001b[0m \u001b[0;34m=\u001b[0m \u001b[0mmyokit\u001b[0m\u001b[0;34m.\u001b[0m\u001b[0mload\u001b[0m\u001b[0;34m(\u001b[0m\u001b[0;34m\"../mmt-model-files/ohara-cipa-v1-2017_VC.mmt\"\u001b[0m\u001b[0;34m)\u001b[0m\u001b[0;34m\u001b[0m\u001b[0;34m\u001b[0m\u001b[0m\n\u001b[1;32m      2\u001b[0m \u001b[0msim_myokit\u001b[0m \u001b[0;34m=\u001b[0m \u001b[0msimulator_myokit\u001b[0m\u001b[0;34m.\u001b[0m\u001b[0mSimulator\u001b[0m\u001b[0;34m(\u001b[0m\u001b[0mm_myokit\u001b[0m\u001b[0;34m,\u001b[0m \u001b[0mbest_protocol\u001b[0m\u001b[0;34m,\u001b[0m \u001b[0mmax_step\u001b[0m\u001b[0;34m=\u001b[0m\u001b[0;36m1.0\u001b[0m\u001b[0;34m,\u001b[0m \u001b[0mabs_tol\u001b[0m\u001b[0;34m=\u001b[0m\u001b[0;36m1e-8\u001b[0m\u001b[0;34m,\u001b[0m \u001b[0mrel_tol\u001b[0m\u001b[0;34m=\u001b[0m\u001b[0;36m1e-8\u001b[0m\u001b[0;34m,\u001b[0m \u001b[0mvhold\u001b[0m\u001b[0;34m=\u001b[0m\u001b[0;34m-\u001b[0m\u001b[0;36m87\u001b[0m\u001b[0;34m)\u001b[0m\u001b[0;34m\u001b[0m\u001b[0;34m\u001b[0m\u001b[0m\n\u001b[0;32m----> 3\u001b[0;31m \u001b[0mtr\u001b[0m \u001b[0;34m=\u001b[0m \u001b[0mmodel_response\u001b[0m\u001b[0;34m.\u001b[0m\u001b[0mget_model_response_with_myokit\u001b[0m\u001b[0;34m(\u001b[0m \u001b[0msim_myokit\u001b[0m\u001b[0;34m,\u001b[0m \u001b[0mbest_protocol\u001b[0m\u001b[0;34m,\u001b[0m \u001b[0mprestep\u001b[0m\u001b[0;34m=\u001b[0m\u001b[0;36m2000\u001b[0m \u001b[0;34m)\u001b[0m\u001b[0;34m\u001b[0m\u001b[0;34m\u001b[0m\u001b[0m\n\u001b[0m",
      "\u001b[0;31mAttributeError\u001b[0m: module 'model_response' has no attribute 'get_model_response_with_myokit'"
     ]
    }
   ],
   "source": [
    "m_myokit, p, s = myokit.load(\"../mmt-model-files/ohara-cipa-v1-2017_VC.mmt\")\n",
    "sim_myokit = simulator_myokit.Simulator(m_myokit, best_protocol, max_step=1.0, abs_tol=1e-8, rel_tol=1e-8, vhold=-87) \n",
    "tr = model_response.get_model_response_with_myokit( sim_myokit, best_protocol, prestep=2000 )"
   ]
  },
  {
   "cell_type": "code",
   "execution_count": 5,
   "id": "d2675c45-4e8f-4642-98f6-c41d8d1972ec",
   "metadata": {},
   "outputs": [
    {
     "data": {
      "text/plain": [
       "<mod_trace.Trace at 0x7f203be0f490>"
      ]
     },
     "execution_count": 5,
     "metadata": {},
     "output_type": "execute_result"
    }
   ],
   "source": [
    "model = None\n",
    "if 'ORD2011' in trial_conditions:\n",
    "    model = ORD2011(best_protocol)\n",
    "elif 'BR1977' in trial_conditions:\n",
    "    model = BR1977(best_protocol)  \n",
    "    \n",
    "tr = model_response.get_model_response_JK(model, best_protocol, prestep=5000)\n",
    "tr"
   ]
  },
  {
   "cell_type": "code",
   "execution_count": 13,
   "id": "4d00c9ad-48b6-4fcd-8879-a687492f8f39",
   "metadata": {},
   "outputs": [
    {
     "name": "stdout",
     "output_type": "stream",
     "text": [
      "  Current  Contribution  Time Start  Time End\n",
      "0    I_Na      0.999467       954.0     956.0\n",
      "1   I_NaL      0.506953        30.0      32.0\n",
      "2    I_to      0.236621       906.0     908.0\n",
      "3   I_CaL      0.132391       983.0     985.0\n",
      "4    I_Kr      0.033589       906.0     908.0\n",
      "5    I_Ks      0.001385       906.0     908.0\n",
      "6    I_K1      0.999932       242.0     244.0\n"
     ]
    }
   ],
   "source": [
    "scale = 1\n",
    "max_contributions = tr.current_response_info.get_max_current_contributions(\n",
    "                time=tr.t,\n",
    "                window=window/scale,\n",
    "                step_size=step_size/scale)\n",
    "print(max_contributions)\n"
   ]
  },
  {
   "cell_type": "code",
   "execution_count": 17,
   "id": "7a7a4977-ca72-4c98-a30a-3156e3d5383f",
   "metadata": {},
   "outputs": [],
   "source": [
    "current_contributions = tr.current_response_info.get_current_contributions( time= model.times, window=window, step_size=step_size )"
   ]
  },
  {
   "cell_type": "code",
   "execution_count": 26,
   "id": "8581b8f7-1586-45f8-b387-5f759e08a598",
   "metadata": {},
   "outputs": [
    {
     "data": {
      "text/plain": [
       "Time Start    2.420000e+02\n",
       "Time End      2.440000e+02\n",
       "Time Mid      2.430000e+02\n",
       "I_Na          1.971985e-06\n",
       "I_NaL         2.071128e-07\n",
       "I_to          5.176589e-05\n",
       "I_CaL         4.022253e-10\n",
       "I_Kr          1.446857e-05\n",
       "I_Ks          1.349834e-08\n",
       "I_K1          9.999316e-01\n",
       "Name: 242, dtype: float64"
      ]
     },
     "execution_count": 26,
     "metadata": {},
     "output_type": "execute_result"
    }
   ],
   "source": [
    "current_contributions.iloc[242]"
   ]
  },
  {
   "cell_type": "code",
   "execution_count": null,
   "id": "00d0965a-12f5-4e5f-9c4f-f33649e72b00",
   "metadata": {},
   "outputs": [],
   "source": [
    "tr.plot_currents_contribution(current, window=window, step_size=step_size, is_shown=True, title=current,\n",
    "        saved_to=f'./ga_results/{trial_conditions}/{current}.svg')"
   ]
  },
  {
   "cell_type": "code",
   "execution_count": null,
   "id": "a2537d3f-b0e2-4485-87aa-bcd86bdb5676",
   "metadata": {},
   "outputs": [],
   "source": [
    "'''\n",
    "Plot\n",
    "'''\n",
    "plot_li = ['command_voltages', 'I_ion']+LIST_OF_CURRENTS\n",
    "fig, axes = plt.subplots(len(plot_li), 1, figsize=(10, 20))    \n",
    "fig.suptitle('ORD2011', fontsize=14)\n",
    "I_ion = None\n",
    "for i, name in enumerate(LIST_OF_CURRENTS):            \n",
    "    I_x = model.current_response_info.get_current([name])\n",
    "    if i==0 :\n",
    "        I_ion = copy.copy(I_x)\n",
    "        print(I_ion)\n",
    "    else :\n",
    "        I_ion += I_x\n",
    "        \n",
    "for i, name in enumerate(plot_li):    \n",
    "    # ax.set_title('Simulation %d'%(simulationNo))\n",
    "    axes[i].set_xlim(model.times.min(), model.times.max())\n",
    "    # ax.set_ylim(ylim[0], ylim[1])\n",
    "    axes[i].set_ylabel(name)  \n",
    "    axes[i].set_xlabel('Time (ms)') \n",
    "    if name=='command_voltages':\n",
    "        axes[i].plot( model.times, tr.command_voltages, label=name, c='b') \n",
    "    elif name=='I_ion':        \n",
    "        axes[i].plot( model.times, I_ion, label=name, c='black')     \n",
    "    else:        \n",
    "        axes[i].plot( model.times, model.current_response_info.get_current([name]), label=name, c='black')     \n",
    "    axes[i].legend()\n",
    "    axes[i].grid()\n",
    "plt.subplots_adjust(left=0.0, bottom=0.0, right=1.0, top=0.96, wspace=0.5, hspace=0.15)\n",
    "plt.show()\n",
    "# fig.savefig(os.path.join('Results', \"ORD2011-JK-scipy\"), dpi=100)"
   ]
  },
  {
   "cell_type": "code",
   "execution_count": null,
   "id": "e10daa7f-7413-4f9f-962b-a9da80e38ea5",
   "metadata": {},
   "outputs": [],
   "source": []
  },
  {
   "cell_type": "code",
   "execution_count": null,
   "id": "0bd91703-7876-426e-a366-010ef1dd2436",
   "metadata": {},
   "outputs": [],
   "source": []
  },
  {
   "cell_type": "code",
   "execution_count": null,
   "id": "76893a37-4a4f-4599-a03f-500e77cc5092",
   "metadata": {},
   "outputs": [],
   "source": [
    "protocol_li = []\n",
    "for i in [0, 1, 2, 3, 0, 1, 3]:\n",
    "    protocol_li.append(best_protocol.steps[i])\n",
    "protocol = mod_protocols.VoltageClampProtocol(steps=protocol_li)"
   ]
  },
  {
   "cell_type": "code",
   "execution_count": null,
   "id": "92801f35-0616-4d47-90a5-07952077d9bb",
   "metadata": {},
   "outputs": [],
   "source": [
    "model = None\n",
    "if 'ORD2011' in trial_conditions:\n",
    "    model = ORD2011(protocol)\n",
    "elif 'BR1977' in trial_conditions:\n",
    "    model = BR1977(protocol)  \n",
    "    \n",
    "tr = model_response.get_model_response_JK(model, protocol)\n",
    "\n",
    "scale = 1\n",
    "max_contributions = tr.current_response_info.\\\n",
    "            get_max_current_contributions(\n",
    "                time=tr.t,\n",
    "                window=window/scale,\n",
    "                step_size=step_size/scale)\n",
    "print(max_contributions)\n",
    "tr.plot_currents_contribution(current, window=window, step_size=step_size, is_shown=True, title=current,\n",
    "        saved_to=f'./ga_results/{trial_conditions}/{current}.svg')"
   ]
  },
  {
   "cell_type": "code",
   "execution_count": null,
   "id": "9dd9180e-9815-4770-ae63-35c0b0973248",
   "metadata": {},
   "outputs": [],
   "source": []
  },
  {
   "cell_type": "code",
   "execution_count": null,
   "id": "a4d7c08f-70ce-4f09-8837-fd2c3072587d",
   "metadata": {},
   "outputs": [],
   "source": []
  }
 ],
 "metadata": {
  "kernelspec": {
   "display_name": "Python 3 (ipykernel)",
   "language": "python",
   "name": "python3"
  },
  "language_info": {
   "codemirror_mode": {
    "name": "ipython",
    "version": 3
   },
   "file_extension": ".py",
   "mimetype": "text/x-python",
   "name": "python",
   "nbconvert_exporter": "python",
   "pygments_lexer": "ipython3",
   "version": "3.7.11"
  }
 },
 "nbformat": 4,
 "nbformat_minor": 5
}
