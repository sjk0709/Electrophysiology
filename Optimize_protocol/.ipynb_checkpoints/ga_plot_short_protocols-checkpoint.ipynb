{
 "cells": [
  {
   "cell_type": "code",
   "execution_count": 1,
   "id": "3b37df08-ab88-42b4-a0ae-3e9d6b493ade",
   "metadata": {},
   "outputs": [],
   "source": [
    "import pickle\n",
    "import matplotlib.pyplot as plt\n",
    "\n",
    "# import mod_kernik as kernik\n",
    "\n",
    "#############################################\n",
    "from scipy.integrate import ode, solve_ivp\n",
    "import os, sys, time\n",
    "import numpy as np\n",
    "import matplotlib.pyplot as plt\n",
    "import pickle\n",
    "import bisect\n",
    "\n",
    "sys.path.append('../Protocols')\n",
    "from pacing_protocol import PacingProtocol\n",
    "from leakstaircase import LeakStaircase\n",
    "\n",
    "sys.path.append('../')\n",
    "import simulator_scipy\n",
    "\n",
    "sys.path.append('../Lib')\n",
    "import model_response\n",
    "\n",
    "sys.path.append('../Models')\n",
    "from br1977 import BR1977\n",
    "from ord2011JK_v1 import ORD2011\n",
    "\n",
    "import mod_trace as trace"
   ]
  },
  {
   "cell_type": "code",
   "execution_count": 2,
   "id": "7230db56-aa79-4367-87bf-9d17b39e19a9",
   "metadata": {},
   "outputs": [],
   "source": [
    "def get_high_fitness(ga_result):\n",
    "    best_individual = ga_result.generations[0][0]\n",
    "\n",
    "    for i, gen in enumerate(ga_result.generations):\n",
    "        best_in_gen = ga_result.get_high_fitness_individual(i)\n",
    "        if best_in_gen.fitness > best_individual.fitness:\n",
    "            best_individual = best_in_gen\n",
    "\n",
    "    return best_individual"
   ]
  },
  {
   "cell_type": "code",
   "execution_count": 3,
   "id": "0f744901-d69a-437b-b25e-92ee883b8e87",
   "metadata": {},
   "outputs": [],
   "source": [
    "def plot_current_conributions():\n",
    "    trial_conditions = \"trial_steps_ramps_ORD2011_2_2_4_-120_60\"\n",
    "    currents = []\n",
    "    \n",
    "    if 'ORD2011' in trial_conditions:\n",
    "        currents = ['I_Na', 'I_NaL', 'I_to', 'I_CaL', 'I_Kr', 'I_Ks', 'I_K1' ]         \n",
    "    elif 'BR1977' in trial_conditions:\n",
    "        currents = ['I_Na', 'I_si', 'I_K1', 'I_x1']\n",
    "\n",
    "    for i, current in enumerate(currents):\n",
    "        ga_result = pickle.load(open(f'ga_results/{trial_conditions}/ga_results_{current}_artefact_False', 'rb'))\n",
    "        \n",
    "        best_individual = get_high_fitness(ga_result)\n",
    "        protocol = best_individual.protocol\n",
    "        \n",
    "        if 'ORD2011' in trial_conditions:\n",
    "            model = ORD2011(protocol)\n",
    "        elif 'BR1977' in trial_conditions:\n",
    "            model = BR1977(protocol)  \n",
    "        \n",
    "        \n",
    "        tr = model_response.get_model_response_JK(model, protocol)\n",
    "        # k = kernik.KernikModel(is_exp_artefact=True)        \n",
    "        # tr = k.generate_response(proto, is_no_ion_selective=False)\n",
    "\n",
    "        tr.plot_currents_contribution(current, is_shown=True, title=current,\n",
    "                saved_to=f'./ga_results/{trial_conditions}/{current}.svg')\n"
   ]
  },
  {
   "cell_type": "code",
   "execution_count": 4,
   "id": "d0b11394-522c-438c-8516-a6ef2b1a4170",
   "metadata": {},
   "outputs": [],
   "source": [
    "def main():\n",
    "    plot_current_conributions()    "
   ]
  },
  {
   "cell_type": "code",
   "execution_count": null,
   "id": "59f1c47d-e78b-4b29-9d1a-e1fa683caf4e",
   "metadata": {},
   "outputs": [
    {
     "name": "stdout",
     "output_type": "stream",
     "text": [
      "fjsalkfjalksjdfl\n",
      "There is no pre-step simulation.\n"
     ]
    }
   ],
   "source": [
    "if __name__ == '__main__':\n",
    "    main()\n",
    "    print(\"=====Complete==============================\")"
   ]
  },
  {
   "cell_type": "code",
   "execution_count": null,
   "id": "54451813-253e-4708-a0bc-2c72bddf33a3",
   "metadata": {},
   "outputs": [],
   "source": []
  },
  {
   "cell_type": "code",
   "execution_count": null,
   "id": "c752c8d8-d7a0-44a3-a823-d6afe0b0b853",
   "metadata": {},
   "outputs": [],
   "source": []
  },
  {
   "cell_type": "code",
   "execution_count": null,
   "id": "3465a50d-595d-4885-9680-baaf38fdc946",
   "metadata": {},
   "outputs": [],
   "source": []
  }
 ],
 "metadata": {
  "kernelspec": {
   "display_name": "Python 3 (ipykernel)",
   "language": "python",
   "name": "python3"
  },
  "language_info": {
   "codemirror_mode": {
    "name": "ipython",
    "version": 3
   },
   "file_extension": ".py",
   "mimetype": "text/x-python",
   "name": "python",
   "nbconvert_exporter": "python",
   "pygments_lexer": "ipython3",
   "version": "3.7.11"
  }
 },
 "nbformat": 4,
 "nbformat_minor": 5
}
