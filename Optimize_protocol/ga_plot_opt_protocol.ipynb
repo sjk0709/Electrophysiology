{
 "cells": [
  {
   "cell_type": "code",
   "execution_count": 1,
   "id": "e8763443-8055-4793-9e81-8fd57d0b6b3b",
   "metadata": {},
   "outputs": [
    {
     "name": "stderr",
     "output_type": "stream",
     "text": [
      "C:\\Anaconda3\\envs\\ml\\lib\\site-packages\\numpy\\_distributor_init.py:30: UserWarning: loaded more than 1 DLL from .libs:\n",
      "C:\\Anaconda3\\envs\\ml\\lib\\site-packages\\numpy\\.libs\\libopenblas.NOIJJG62EMASZI6NYURL6JBKM4EVBGM7.gfortran-win_amd64.dll\n",
      "C:\\Anaconda3\\envs\\ml\\lib\\site-packages\\numpy\\.libs\\libopenblas.WCDJNK7YVMPZQ2ME2ZZHJJRJ3JIKNDB7.gfortran-win_amd64.dll\n",
      "  warnings.warn(\"loaded more than 1 DLL from .libs:\\n%s\" %\n"
     ]
    }
   ],
   "source": [
    "import pickle\n",
    "import sys, os\n",
    "import matplotlib.pyplot as plt\n",
    "\n",
    "\n",
    "sys.path.append('../Lib')\n",
    "import mod_protocols as protocols\n",
    "import mod_kernik as kernik\n",
    "\n",
    "\n",
    "def plot_shorten_with_vcmd(trial_conditions, model_name, is_vc_only=False):\n",
    "    path_to_data = f\"ga_results/{trial_conditions}\"\n",
    "\n",
    "    files = os.listdir(path_to_data)\n",
    "\n",
    "    for f in files:\n",
    "        if ('shorten' in f) and ('pkl' in f):\n",
    "            file_name = f\n",
    "    print(f\"{path_to_data}/{file_name}\")\n",
    "    short_protocol = pickle.load(open(f\"{path_to_data}/{file_name}\", 'rb'))\n",
    "    print(\"=\"*50)\n",
    "    print(short_protocol)\n",
    "    print(\"=\"*50)\n",
    "    print(f'The protocol is {short_protocol.get_voltage_change_endpoints()[-1]} ms')\n",
    "\n",
    "    if is_vc_only:\n",
    "        short_protocol.plot_voltage_clamp_protocol()\n",
    "        return"
   ]
  },
  {
   "cell_type": "code",
   "execution_count": 2,
   "id": "7b4064b3-91f3-44c9-9d69-71a5945c054a",
   "metadata": {},
   "outputs": [],
   "source": [
    "def main():\n",
    "    trial_conditions = \"trial_steps_ramps_ORD2011_256_64_4_-120_60\"\n",
    "    if 'ORD2011' in trial_conditions:\n",
    "        model_name = 'ORD2011'\n",
    "    elif 'BR1977' in trial_conditions:\n",
    "        model_name = 'BR1977'\n",
    "    elif 'Kernik' in trial_conditions:\n",
    "        model_name = 'Kernik'\n",
    "    \n",
    "    plot_shorten_with_vcmd(trial_conditions, model_name, is_vc_only=True)"
   ]
  },
  {
   "cell_type": "code",
   "execution_count": 3,
   "id": "68c4cd0b-cd7a-4bd7-9993-ac327e112d7d",
   "metadata": {},
   "outputs": [
    {
     "name": "stdout",
     "output_type": "stream",
     "text": [
      "ga_results/trial_steps_ramps_ORD2011_256_64_4_-120_60/shortened_trial_steps_ramps_ORD2011_256_64_4_-120_60_500_artefact_False_short.pkl\n",
      "==================================================\n",
      "|STEP: Voltage: -80, Duration: 500| | |RAMP: Voltage Start: -103.19255071598224, Voltage End: -105.53890717341677, Duration: 9.508563655552791| | |STEP: Voltage: -32.03236134609155, Duration: 100.49143634444721|\n",
      "==================================================\n",
      "The protocol is 610.0 ms\n"
     ]
    },
    {
     "data": {
      "image/png": "[encoded data removed]",
      "text/plain": [
       "<Figure size 864x360 with 1 Axes>"
      ]
     },
     "metadata": {
      "needs_background": "light"
     },
     "output_type": "display_data"
    },
    {
     "name": "stdout",
     "output_type": "stream",
     "text": [
      "=====Complete==============================\n"
     ]
    }
   ],
   "source": [
    "if __name__ == '__main__':\n",
    "    main()\n",
    "    print(\"=====Complete==============================\")"
   ]
  },
  {
   "cell_type": "code",
   "execution_count": null,
   "id": "dc96926e-4aa2-40a9-8c64-260ed9c88c2f",
   "metadata": {},
   "outputs": [],
   "source": []
  }
 ],
 "metadata": {
  "kernelspec": {
   "display_name": "Python 3",
   "language": "python",
   "name": "python3"
  },
  "language_info": {
   "codemirror_mode": {
    "name": "ipython",
    "version": 3
   },
   "file_extension": ".py",
   "mimetype": "text/x-python",
   "name": "python",
   "nbconvert_exporter": "python",
   "pygments_lexer": "ipython3",
   "version": "3.8.10"
  }
 },
 "nbformat": 4,
 "nbformat_minor": 5
}
