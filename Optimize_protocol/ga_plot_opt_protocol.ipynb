{
 "cells": [
  {
   "cell_type": "code",
   "execution_count": 22,
   "id": "e8763443-8055-4793-9e81-8fd57d0b6b3b",
   "metadata": {},
   "outputs": [],
   "source": [
    "import sys, os\n",
    "import numpy as np\n",
    "import matplotlib.pyplot as plt\n",
    "import pickle\n",
    "\n",
    "sys.path.append('../Lib')\n",
    "sys.path.append('../Protocols')\n",
    "import protocol_lib\n",
    "import mod_kernik as kernik\n",
    "\n",
    "def plot_shorten_with_vcmd(trial_conditions, model_name, is_vc_only=False):\n",
    "    path_to_data = f\"ga_results/{trial_conditions}\"\n",
    "\n",
    "    files = os.listdir(path_to_data)\n",
    "\n",
    "    for f in files:\n",
    "        if ('shorten' in f) and ('pkl' in f):\n",
    "            file_name = f\n",
    "    print(f\"{path_to_data}/{file_name}\")\n",
    "    short_protocol = pickle.load(open(f\"{path_to_data}/{file_name}\", 'rb'))\n",
    "    print(\"=\"*50)\n",
    "    print(short_protocol)\n",
    "    print(\"=\"*50)\n",
    "    print(f'The protocol is {short_protocol.get_voltage_change_endpoints()[-1]} ms')\n",
    "\n",
    "    if is_vc_only:\n",
    "        times = np.arange(0, short_protocol.get_voltage_change_endpoints()[-1], 0.5)         \n",
    "        print(times.shape)\n",
    "        short_protocol.plot_voltage_clamp_protocol(times)\n",
    "        return"
   ]
  },
  {
   "cell_type": "code",
   "execution_count": 23,
   "id": "7b4064b3-91f3-44c9-9d69-71a5945c054a",
   "metadata": {},
   "outputs": [],
   "source": [
    "def main():\n",
    "    trial_conditions = \"trial_steps_ramps_ORD2011_2_2_4_-120_60\"\n",
    "    if 'ORD2011' in trial_conditions:\n",
    "        model_name = 'ORD2011'\n",
    "    elif 'BR1977' in trial_conditions:\n",
    "        model_name = 'BR1977'\n",
    "    elif 'Kernik' in trial_conditions:\n",
    "        model_name = 'Kernik'\n",
    "    \n",
    "    plot_shorten_with_vcmd(trial_conditions, model_name, is_vc_only=True)"
   ]
  },
  {
   "cell_type": "code",
   "execution_count": 24,
   "id": "68c4cd0b-cd7a-4bd7-9993-ac327e112d7d",
   "metadata": {},
   "outputs": [
    {
     "name": "stdout",
     "output_type": "stream",
     "text": [
      "ga_results/trial_steps_ramps_ORD2011_2_2_4_-120_60/shortened_trial_steps_ramps_ORD2011_2_2_4_-120_60_500_artefact_False_short.pkl\n",
      "==================================================\n",
      "|STEP: Voltage: -80, Duration: 500| + |RAMP: Voltage Start: -38.66071706072815, Voltage End: -4.985323895776169, Duration: 65.0| + |STEP: Voltage: -80, Duration: 500| + |RAMP: Voltage Start: -39.222591081470156, Voltage End: -18.87619433080818, Duration: -2086.536106629003| + |STEP: Voltage: -80, Duration: 500| + |STEP: Voltage: -81.3432761085985, Duration: 196.04221797165377| + |RAMP: Voltage Start: 39.69095969870918, Voltage End: -12.07832868416184, Duration: 103.95778202834623| + |STEP: Voltage: -80, Duration: 500| + |RAMP: Voltage Start: -3.9877259561013574, Voltage End: -13.174526306803568, Duration: -2213.726251653478| + |STEP: Voltage: -80, Duration: 500| + |STEP: Voltage: 27.909543979442503, Duration: 49.38812123735815| + |STEP: Voltage: -46.14128994268398, Duration: 733.9016113645101| + |RAMP: Voltage Start: 3.4498137779274174, Voltage End: -20.234621139342508, Duration: 116.89836666520475| + |RAMP: Voltage Start: 33.89517713397217, Voltage End: -65.06860749637332, Duration: 279.8119007329269| + |STEP: Voltage: -80, Duration: 500| + |STEP: Voltage: 34.391178501067174, Duration: 207.7782271418953| + |RAMP: Voltage Start: 17.47622491051507, Voltage End: -6.331145600905131, Duration: 712.9172567110883| + |RAMP: Voltage Start: 17.47622491051507, Voltage End: -6.331145600905131, Duration: 712.9172567110883| + |STEP: Voltage: 41.12365471632015, Duration: 50.49175618567696| + |STEP: Voltage: -80, Duration: 500| + |STEP: Voltage: -108.09216726538331, Duration: 61.21691612335144| + |RAMP: Voltage Start: -112.03016787992092, Voltage End: -99.27106008906131, Duration: 103.78308387664856|\n",
      "==================================================\n",
      "The protocol is 2593.842138467268 ms\n",
      "(5188,)\n"
     ]
    },
    {
     "data": {
      "image/png": "[encoded data removed]",
      "text/plain": [
       "<Figure size 1080x360 with 1 Axes>"
      ]
     },
     "metadata": {
      "needs_background": "light"
     },
     "output_type": "display_data"
    },
    {
     "name": "stdout",
     "output_type": "stream",
     "text": [
      "=====Complete==============================\n"
     ]
    }
   ],
   "source": [
    "if __name__ == '__main__':\n",
    "    main()\n",
    "    print(\"=====Complete==============================\")"
   ]
  },
  {
   "cell_type": "code",
   "execution_count": null,
   "id": "dc96926e-4aa2-40a9-8c64-260ed9c88c2f",
   "metadata": {},
   "outputs": [],
   "source": []
  },
  {
   "cell_type": "code",
   "execution_count": null,
   "id": "5c1be45e-699c-4090-bce1-e8f0000109ed",
   "metadata": {},
   "outputs": [],
   "source": []
  }
 ],
 "metadata": {
  "kernelspec": {
   "display_name": "Python 3",
   "language": "python",
   "name": "python3"
  },
  "language_info": {
   "codemirror_mode": {
    "name": "ipython",
    "version": 3
   },
   "file_extension": ".py",
   "mimetype": "text/x-python",
   "name": "python",
   "nbconvert_exporter": "python",
   "pygments_lexer": "ipython3",
   "version": "3.8.10"
  }
 },
 "nbformat": 4,
 "nbformat_minor": 5
}
