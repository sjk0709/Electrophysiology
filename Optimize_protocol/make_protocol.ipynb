{
 "cells": [
  {
   "cell_type": "code",
   "execution_count": 1,
   "id": "c797b0f5-b635-44ed-8047-735d4a931ef5",
   "metadata": {},
   "outputs": [],
   "source": [
    "import os, sys, time\n",
    "import numpy as np\n",
    "import matplotlib.pyplot as plt\n",
    "import pickle\n",
    "import random\n",
    "\n",
    "sys.path.append('../')\n",
    "sys.path.append('../Lib')\n",
    "sys.path.append('../Protocols')\n",
    "import mod_protocols\n",
    "import jk_protocols\n",
    "sys.path.append('../Models')\n",
    "from br1977 import BR1977\n",
    "from ord2011JK_v1 import ORD2011\n",
    "import model_response\n"
   ]
  },
  {
   "cell_type": "code",
   "execution_count": 2,
   "id": "06325c03-71d9-481c-9f34-c0aaecd46246",
   "metadata": {},
   "outputs": [],
   "source": [
    "def get_high_fitness(ga_result):\n",
    "    best_individual = ga_result.generations[0][0]\n",
    "\n",
    "    for i, gen in enumerate(ga_result.generations):\n",
    "        best_in_gen = ga_result.get_high_fitness_individual(i)\n",
    "        if best_in_gen.fitness > best_individual.fitness:            \n",
    "            best_individual = best_in_gen\n",
    "\n",
    "    return best_individual"
   ]
  },
  {
   "cell_type": "code",
   "execution_count": 3,
   "id": "51d8f0ea-9750-4a07-9879-b05fcb34317c",
   "metadata": {},
   "outputs": [],
   "source": [
    "steps_in_protocol = 4\n",
    "step_types=['step', 'ramp']\n",
    "step_duration_bounds=(5, 1000)\n",
    "step_voltage_bounds=(-120, 60)\n",
    "window=2\n",
    "step_size=2\n",
    "LIST_OF_CURRENTS = [ 'I_Na', 'I_NaL', 'I_to', 'I_CaL', 'I_Kr', 'I_Ks', 'I_K1' ]# ['I_Na', 'I_Kr', 'I_Ks', 'I_To', 'I_F', 'I_CaL', 'I_K1'] "
   ]
  },
  {
   "cell_type": "code",
   "execution_count": 12,
   "id": "141fc5aa-c727-4790-9969-0302324275d8",
   "metadata": {},
   "outputs": [
    {
     "name": "stdout",
     "output_type": "stream",
     "text": [
      "[0, 200.0, 500.0]\n",
      "[200.0, 500.0, 800.0]\n",
      "|STEP: Voltage: -80, Duration: 200.0| + |RAMP: Voltage Start: -50, Voltage End: 30, Duration: 300| + |RAMP: Voltage Start: -50, Voltage End: 30, Duration: 300|\n"
     ]
    },
    {
     "data": {
      "image/png": "[encoded data removed]",
      "text/plain": [
       "<Figure size 864x360 with 1 Axes>"
      ]
     },
     "metadata": {
      "needs_background": "light"
     },
     "output_type": "display_data"
    }
   ],
   "source": [
    "p_li = []\n",
    "p1 = jk_protocols.VoltageClampStep(voltage=-80, duration=200.0)\n",
    "p_li.append(p1)\n",
    "p2 = jk_protocols.VoltageClampRamp(voltage_start=-50, voltage_end=30, duration=300) \n",
    "p_li.append(p2)\n",
    "p3 = jk_protocols.VoltageClampRamp()\n",
    "p3.set_to_random_step( voltage_bounds=step_voltage_bounds,    # -> (-120, 60)\n",
    "                      duration_bounds=step_duration_bounds)\n",
    "p_li.append(p2)\n",
    "\n",
    "p = jk_protocols.VoltageClampProtocol(steps=p_li)\n",
    "print(p.get_voltage_change_startpoints())\n",
    "print(p.get_voltage_change_endpoints())\n",
    "print(p)\n",
    "p.get_voltage_clamp_protocol()"
   ]
  },
  {
   "cell_type": "code",
   "execution_count": 4,
   "id": "7821aff4-7a55-464c-bd62-e3c60cba8276",
   "metadata": {},
   "outputs": [],
   "source": []
  },
  {
   "cell_type": "code",
   "execution_count": null,
   "id": "d4dfd4ce-f61a-4dce-8f45-49de5151fa65",
   "metadata": {},
   "outputs": [],
   "source": []
  },
  {
   "cell_type": "code",
   "execution_count": null,
   "id": "e35cc7f6-16a2-4537-8830-b29a7267cbbd",
   "metadata": {},
   "outputs": [],
   "source": []
  },
  {
   "cell_type": "code",
   "execution_count": null,
   "id": "747f6159-3056-4673-88d1-66a0ca06676f",
   "metadata": {},
   "outputs": [],
   "source": []
  },
  {
   "cell_type": "code",
   "execution_count": 6,
   "id": "63c2c7c3-bbe5-4f6b-a602-0cfc250d4394",
   "metadata": {},
   "outputs": [
    {
     "data": {
      "text/plain": [
       "[200, 700, 1200]"
      ]
     },
     "execution_count": 6,
     "metadata": {},
     "output_type": "execute_result"
    }
   ],
   "source": []
  },
  {
   "cell_type": "code",
   "execution_count": null,
   "id": "4f512ea7-8cd7-4ef5-bc24-09ab543c64b3",
   "metadata": {},
   "outputs": [],
   "source": []
  },
  {
   "cell_type": "code",
   "execution_count": 8,
   "id": "465b09c2-b832-4ef1-8cae-08197ce98195",
   "metadata": {},
   "outputs": [
    {
     "name": "stdout",
     "output_type": "stream",
     "text": [
      "|STEP: Voltage: -115.69547260492953, Duration: 638.9592002615126| | |STEP: Voltage: -119.6223546833323, Duration: 955.168451140388| | |STEP: Voltage: -119.8576965483277, Duration: 996.8644734365002| | |RAMP: Voltage Start: 3.7172294215999893, Voltage End: -57.8159885307908, Duration: 71.3887040686221|\n",
      "0.7258659654686296\n"
     ]
    }
   ],
   "source": [
    "trial_conditions = \"trial_steps_ramps_ORD2011_256_64_4_-120_60\"\n",
    "current = 'I_NaL'\n",
    "ga_result = pickle.load(open(f'ga_results/{trial_conditions}/ga_results_{current}_artefact_False', 'rb'))\n",
    "best_individual = get_high_fitness(ga_result)\n",
    "best_protocol = best_individual.protocol\n",
    "best_fitness = best_individual.fitness\n",
    "print(best_protocol)\n",
    "print(best_fitness)"
   ]
  },
  {
   "cell_type": "code",
   "execution_count": 9,
   "id": "d2675c45-4e8f-4642-98f6-c41d8d1972ec",
   "metadata": {},
   "outputs": [
    {
     "ename": "KeyboardInterrupt",
     "evalue": "",
     "output_type": "error",
     "traceback": [
      "\u001b[0;31m---------------------------------------------------------------------------\u001b[0m",
      "\u001b[0;31mKeyboardInterrupt\u001b[0m                         Traceback (most recent call last)",
      "\u001b[0;32m/tmp/ipykernel_55694/3709376835.py\u001b[0m in \u001b[0;36m<module>\u001b[0;34m\u001b[0m\n\u001b[1;32m      5\u001b[0m     \u001b[0mmodel\u001b[0m \u001b[0;34m=\u001b[0m \u001b[0mBR1977\u001b[0m\u001b[0;34m(\u001b[0m\u001b[0mbest_protocol\u001b[0m\u001b[0;34m)\u001b[0m\u001b[0;34m\u001b[0m\u001b[0;34m\u001b[0m\u001b[0m\n\u001b[1;32m      6\u001b[0m \u001b[0;34m\u001b[0m\u001b[0m\n\u001b[0;32m----> 7\u001b[0;31m \u001b[0mtr\u001b[0m \u001b[0;34m=\u001b[0m \u001b[0mmodel_response\u001b[0m\u001b[0;34m.\u001b[0m\u001b[0mget_model_response_JK\u001b[0m\u001b[0;34m(\u001b[0m\u001b[0mmodel\u001b[0m\u001b[0;34m,\u001b[0m \u001b[0mbest_protocol\u001b[0m\u001b[0;34m,\u001b[0m \u001b[0mprestep\u001b[0m\u001b[0;34m=\u001b[0m\u001b[0;36m5000\u001b[0m\u001b[0;34m)\u001b[0m\u001b[0;34m\u001b[0m\u001b[0;34m\u001b[0m\u001b[0m\n\u001b[0m\u001b[1;32m      8\u001b[0m \u001b[0;34m\u001b[0m\u001b[0m\n\u001b[1;32m      9\u001b[0m \u001b[0mscale\u001b[0m \u001b[0;34m=\u001b[0m \u001b[0;36m1\u001b[0m\u001b[0;34m\u001b[0m\u001b[0;34m\u001b[0m\u001b[0m\n",
      "\u001b[0;32m/workspace/share/Electrophysiology/Optimize_protocol/model_response.py\u001b[0m in \u001b[0;36mget_model_response_JK\u001b[0;34m(model, protocol, prestep)\u001b[0m\n\u001b[1;32m     73\u001b[0m     \u001b[0msimulator\u001b[0m\u001b[0;34m.\u001b[0m\u001b[0mmodel\u001b[0m\u001b[0;34m.\u001b[0m\u001b[0mcurrent_response_info\u001b[0m \u001b[0;34m=\u001b[0m \u001b[0mtrace\u001b[0m\u001b[0;34m.\u001b[0m\u001b[0mCurrentResponseInfo\u001b[0m\u001b[0;34m(\u001b[0m\u001b[0;34m)\u001b[0m\u001b[0;34m\u001b[0m\u001b[0;34m\u001b[0m\u001b[0m\n\u001b[1;32m     74\u001b[0m     \u001b[0;32mif\u001b[0m \u001b[0mlen\u001b[0m\u001b[0;34m(\u001b[0m\u001b[0msolution\u001b[0m\u001b[0;34m.\u001b[0m\u001b[0my\u001b[0m\u001b[0;34m)\u001b[0m \u001b[0;34m<\u001b[0m \u001b[0;36m200\u001b[0m\u001b[0;34m:\u001b[0m\u001b[0;34m\u001b[0m\u001b[0;34m\u001b[0m\u001b[0m\n\u001b[0;32m---> 75\u001b[0;31m         \u001b[0mlist\u001b[0m\u001b[0;34m(\u001b[0m\u001b[0mmap\u001b[0m\u001b[0;34m(\u001b[0m\u001b[0msimulator\u001b[0m\u001b[0;34m.\u001b[0m\u001b[0mmodel\u001b[0m\u001b[0;34m.\u001b[0m\u001b[0mdifferential_eq\u001b[0m\u001b[0;34m,\u001b[0m \u001b[0msolution\u001b[0m\u001b[0;34m.\u001b[0m\u001b[0mt\u001b[0m\u001b[0;34m,\u001b[0m \u001b[0msolution\u001b[0m\u001b[0;34m.\u001b[0m\u001b[0my\u001b[0m\u001b[0;34m.\u001b[0m\u001b[0mtranspose\u001b[0m\u001b[0;34m(\u001b[0m\u001b[0;34m)\u001b[0m\u001b[0;34m)\u001b[0m\u001b[0;34m)\u001b[0m\u001b[0;34m\u001b[0m\u001b[0;34m\u001b[0m\u001b[0m\n\u001b[0m\u001b[1;32m     76\u001b[0m     \u001b[0;32melse\u001b[0m\u001b[0;34m:\u001b[0m\u001b[0;34m\u001b[0m\u001b[0;34m\u001b[0m\u001b[0m\n\u001b[1;32m     77\u001b[0m         \u001b[0mlist\u001b[0m\u001b[0;34m(\u001b[0m\u001b[0mmap\u001b[0m\u001b[0;34m(\u001b[0m\u001b[0msimulator\u001b[0m\u001b[0;34m.\u001b[0m\u001b[0mmodel\u001b[0m\u001b[0;34m.\u001b[0m\u001b[0mdifferential_eq\u001b[0m\u001b[0;34m,\u001b[0m \u001b[0msolution\u001b[0m\u001b[0;34m.\u001b[0m\u001b[0mt\u001b[0m\u001b[0;34m,\u001b[0m \u001b[0msolution\u001b[0m\u001b[0;34m.\u001b[0m\u001b[0my\u001b[0m\u001b[0;34m)\u001b[0m\u001b[0;34m)\u001b[0m\u001b[0;34m\u001b[0m\u001b[0;34m\u001b[0m\u001b[0m\n",
      "\u001b[0;32m/workspace/share/Electrophysiology/Models/ord2011JK_v1.py\u001b[0m in \u001b[0;36mdifferential_eq\u001b[0;34m(self, t, y)\u001b[0m\n\u001b[1;32m   1114\u001b[0m         \u001b[0md_INaL_li\u001b[0m\u001b[0;34m,\u001b[0m \u001b[0mINaL\u001b[0m \u001b[0;34m=\u001b[0m \u001b[0mself\u001b[0m\u001b[0;34m.\u001b[0m\u001b[0minal\u001b[0m\u001b[0;34m.\u001b[0m\u001b[0mdiff_eq\u001b[0m\u001b[0;34m(\u001b[0m\u001b[0mV\u001b[0m\u001b[0;34m,\u001b[0m \u001b[0mmL\u001b[0m\u001b[0;34m,\u001b[0m \u001b[0mhL\u001b[0m\u001b[0;34m,\u001b[0m \u001b[0mhLp\u001b[0m\u001b[0;34m,\u001b[0m \u001b[0mself\u001b[0m\u001b[0;34m.\u001b[0m\u001b[0mcamk\u001b[0m\u001b[0;34m,\u001b[0m \u001b[0mself\u001b[0m\u001b[0;34m.\u001b[0m\u001b[0mnernst\u001b[0m\u001b[0;34m,\u001b[0m \u001b[0mself\u001b[0m\u001b[0;34m.\u001b[0m\u001b[0mina\u001b[0m\u001b[0;34m)\u001b[0m\u001b[0;34m\u001b[0m\u001b[0;34m\u001b[0m\u001b[0m\n\u001b[1;32m   1115\u001b[0m         \u001b[0md_Ito_li\u001b[0m\u001b[0;34m,\u001b[0m \u001b[0mIto\u001b[0m \u001b[0;34m=\u001b[0m \u001b[0mself\u001b[0m\u001b[0;34m.\u001b[0m\u001b[0mito\u001b[0m\u001b[0;34m.\u001b[0m\u001b[0mdiff_eq\u001b[0m\u001b[0;34m(\u001b[0m\u001b[0mV\u001b[0m\u001b[0;34m,\u001b[0m \u001b[0ma\u001b[0m\u001b[0;34m,\u001b[0m \u001b[0miF\u001b[0m\u001b[0;34m,\u001b[0m \u001b[0miS\u001b[0m\u001b[0;34m,\u001b[0m \u001b[0map\u001b[0m\u001b[0;34m,\u001b[0m \u001b[0miFp\u001b[0m\u001b[0;34m,\u001b[0m \u001b[0miSp\u001b[0m\u001b[0;34m,\u001b[0m \u001b[0mself\u001b[0m\u001b[0;34m.\u001b[0m\u001b[0mcamk\u001b[0m\u001b[0;34m,\u001b[0m \u001b[0mself\u001b[0m\u001b[0;34m.\u001b[0m\u001b[0mnernst\u001b[0m\u001b[0;34m)\u001b[0m\u001b[0;34m\u001b[0m\u001b[0;34m\u001b[0m\u001b[0m\n\u001b[0;32m-> 1116\u001b[0;31m         \u001b[0md_ICaL_li\u001b[0m\u001b[0;34m,\u001b[0m \u001b[0mICaL\u001b[0m\u001b[0;34m,\u001b[0m \u001b[0mICaNa\u001b[0m\u001b[0;34m,\u001b[0m \u001b[0mICaK\u001b[0m \u001b[0;34m=\u001b[0m \u001b[0mself\u001b[0m\u001b[0;34m.\u001b[0m\u001b[0mical\u001b[0m\u001b[0;34m.\u001b[0m\u001b[0mdiff_eq\u001b[0m\u001b[0;34m(\u001b[0m\u001b[0mV\u001b[0m\u001b[0;34m,\u001b[0m \u001b[0md\u001b[0m\u001b[0;34m,\u001b[0m \u001b[0mff\u001b[0m\u001b[0;34m,\u001b[0m \u001b[0mfs\u001b[0m\u001b[0;34m,\u001b[0m \u001b[0mfcaf\u001b[0m\u001b[0;34m,\u001b[0m \u001b[0mfcas\u001b[0m\u001b[0;34m,\u001b[0m \u001b[0mjca\u001b[0m\u001b[0;34m,\u001b[0m \u001b[0mnca\u001b[0m\u001b[0;34m,\u001b[0m \u001b[0mffp\u001b[0m\u001b[0;34m,\u001b[0m \u001b[0mfcafp\u001b[0m\u001b[0;34m,\u001b[0m \u001b[0mcass\u001b[0m\u001b[0;34m,\u001b[0m \u001b[0mNa_ss\u001b[0m\u001b[0;34m,\u001b[0m \u001b[0mK_ss\u001b[0m\u001b[0;34m,\u001b[0m \u001b[0mself\u001b[0m\u001b[0;34m.\u001b[0m\u001b[0mcamk\u001b[0m\u001b[0;34m,\u001b[0m \u001b[0mself\u001b[0m\u001b[0;34m.\u001b[0m\u001b[0mnernst\u001b[0m\u001b[0;34m)\u001b[0m\u001b[0;34m\u001b[0m\u001b[0;34m\u001b[0m\u001b[0m\n\u001b[0m\u001b[1;32m   1117\u001b[0m         \u001b[0md_IKr_li\u001b[0m\u001b[0;34m,\u001b[0m \u001b[0mIKr\u001b[0m \u001b[0;34m=\u001b[0m \u001b[0mself\u001b[0m\u001b[0;34m.\u001b[0m\u001b[0mikr\u001b[0m\u001b[0;34m.\u001b[0m\u001b[0mdiff_eq\u001b[0m\u001b[0;34m(\u001b[0m\u001b[0mV\u001b[0m\u001b[0;34m,\u001b[0m \u001b[0mxf\u001b[0m\u001b[0;34m,\u001b[0m \u001b[0mxs\u001b[0m\u001b[0;34m,\u001b[0m \u001b[0mself\u001b[0m\u001b[0;34m.\u001b[0m\u001b[0mcamk\u001b[0m\u001b[0;34m,\u001b[0m \u001b[0mself\u001b[0m\u001b[0;34m.\u001b[0m\u001b[0mnernst\u001b[0m\u001b[0;34m)\u001b[0m\u001b[0;34m\u001b[0m\u001b[0;34m\u001b[0m\u001b[0m\n\u001b[1;32m   1118\u001b[0m         \u001b[0md_IKs_li\u001b[0m\u001b[0;34m,\u001b[0m \u001b[0mIKs\u001b[0m \u001b[0;34m=\u001b[0m \u001b[0mself\u001b[0m\u001b[0;34m.\u001b[0m\u001b[0miks\u001b[0m\u001b[0;34m.\u001b[0m\u001b[0mdiff_eq\u001b[0m\u001b[0;34m(\u001b[0m\u001b[0mV\u001b[0m\u001b[0;34m,\u001b[0m \u001b[0mxs1\u001b[0m\u001b[0;34m,\u001b[0m \u001b[0mxs2\u001b[0m\u001b[0;34m,\u001b[0m \u001b[0mCai\u001b[0m\u001b[0;34m,\u001b[0m \u001b[0mself\u001b[0m\u001b[0;34m.\u001b[0m\u001b[0mcamk\u001b[0m\u001b[0;34m,\u001b[0m \u001b[0mself\u001b[0m\u001b[0;34m.\u001b[0m\u001b[0mnernst\u001b[0m\u001b[0;34m)\u001b[0m\u001b[0;34m\u001b[0m\u001b[0;34m\u001b[0m\u001b[0m\n",
      "\u001b[0;32m/workspace/share/Electrophysiology/Models/ord2011JK_v1.py\u001b[0m in \u001b[0;36mdiff_eq\u001b[0;34m(self, V, d, ff, fs, fcaf, fcas, jca, nca, ffp, fcafp, cass, Na_ss, K_ss, camk, nernst)\u001b[0m\n\u001b[1;32m    434\u001b[0m         \u001b[0mPhiCaL\u001b[0m  \u001b[0;34m=\u001b[0m \u001b[0;36m4\u001b[0m \u001b[0;34m*\u001b[0m \u001b[0mvffrt\u001b[0m \u001b[0;34m*\u001b[0m\u001b[0;34m(\u001b[0m       \u001b[0mcass\u001b[0m  \u001b[0;34m*\u001b[0m \u001b[0mexp\u001b[0m\u001b[0;34m(\u001b[0m\u001b[0;36m2\u001b[0m \u001b[0;34m*\u001b[0m \u001b[0mvfrt\u001b[0m\u001b[0;34m)\u001b[0m \u001b[0;34m-\u001b[0m \u001b[0;36m0.341\u001b[0m \u001b[0;34m*\u001b[0m \u001b[0mself\u001b[0m\u001b[0;34m.\u001b[0m\u001b[0mextra\u001b[0m\u001b[0;34m.\u001b[0m\u001b[0mCao\u001b[0m\u001b[0;34m)\u001b[0m \u001b[0;34m/\u001b[0m \u001b[0;34m(\u001b[0m\u001b[0mexp\u001b[0m\u001b[0;34m(\u001b[0m\u001b[0;36m2\u001b[0m \u001b[0;34m*\u001b[0m \u001b[0mvfrt\u001b[0m\u001b[0;34m)\u001b[0m \u001b[0;34m-\u001b[0m \u001b[0;36m1\u001b[0m\u001b[0;34m)\u001b[0m\u001b[0;34m\u001b[0m\u001b[0;34m\u001b[0m\u001b[0m\n\u001b[1;32m    435\u001b[0m         \u001b[0mPhiCaNa\u001b[0m \u001b[0;34m=\u001b[0m \u001b[0;36m1\u001b[0m \u001b[0;34m*\u001b[0m \u001b[0mvffrt\u001b[0m \u001b[0;34m*\u001b[0m\u001b[0;34m(\u001b[0m\u001b[0;36m0.75\u001b[0m \u001b[0;34m*\u001b[0m \u001b[0mNa_ss\u001b[0m   \u001b[0;34m*\u001b[0m \u001b[0mexp\u001b[0m\u001b[0;34m(\u001b[0m\u001b[0;36m1\u001b[0m \u001b[0;34m*\u001b[0m \u001b[0mvfrt\u001b[0m\u001b[0;34m)\u001b[0m \u001b[0;34m-\u001b[0m \u001b[0;36m0.75\u001b[0m  \u001b[0;34m*\u001b[0m \u001b[0mself\u001b[0m\u001b[0;34m.\u001b[0m\u001b[0mextra\u001b[0m\u001b[0;34m.\u001b[0m\u001b[0mNao\u001b[0m\u001b[0;34m)\u001b[0m \u001b[0;34m/\u001b[0m \u001b[0;34m(\u001b[0m\u001b[0mexp\u001b[0m\u001b[0;34m(\u001b[0m\u001b[0;36m1\u001b[0m \u001b[0;34m*\u001b[0m \u001b[0mvfrt\u001b[0m\u001b[0;34m)\u001b[0m \u001b[0;34m-\u001b[0m \u001b[0;36m1\u001b[0m\u001b[0;34m)\u001b[0m\u001b[0;34m\u001b[0m\u001b[0;34m\u001b[0m\u001b[0m\n\u001b[0;32m--> 436\u001b[0;31m         \u001b[0mPhiCaK\u001b[0m  \u001b[0;34m=\u001b[0m \u001b[0;36m1\u001b[0m \u001b[0;34m*\u001b[0m \u001b[0mvffrt\u001b[0m \u001b[0;34m*\u001b[0m\u001b[0;34m(\u001b[0m\u001b[0;36m0.75\u001b[0m \u001b[0;34m*\u001b[0m \u001b[0mK_ss\u001b[0m \u001b[0;34m*\u001b[0m \u001b[0mexp\u001b[0m\u001b[0;34m(\u001b[0m\u001b[0;36m1\u001b[0m \u001b[0;34m*\u001b[0m \u001b[0mvfrt\u001b[0m\u001b[0;34m)\u001b[0m \u001b[0;34m-\u001b[0m \u001b[0;36m0.75\u001b[0m  \u001b[0;34m*\u001b[0m \u001b[0mself\u001b[0m\u001b[0;34m.\u001b[0m\u001b[0mextra\u001b[0m\u001b[0;34m.\u001b[0m\u001b[0mKo\u001b[0m \u001b[0;34m)\u001b[0m \u001b[0;34m/\u001b[0m \u001b[0;34m(\u001b[0m\u001b[0mexp\u001b[0m\u001b[0;34m(\u001b[0m\u001b[0;36m1\u001b[0m \u001b[0;34m*\u001b[0m \u001b[0mvfrt\u001b[0m\u001b[0;34m)\u001b[0m \u001b[0;34m-\u001b[0m \u001b[0;36m1\u001b[0m\u001b[0;34m)\u001b[0m\u001b[0;34m\u001b[0m\u001b[0;34m\u001b[0m\u001b[0m\n\u001b[0m\u001b[1;32m    437\u001b[0m \u001b[0;34m\u001b[0m\u001b[0m\n\u001b[1;32m    438\u001b[0m         \u001b[0mPCa\u001b[0m \u001b[0;34m=\u001b[0m \u001b[0mself\u001b[0m\u001b[0;34m.\u001b[0m\u001b[0mPCa_max\u001b[0m \u001b[0;34m*\u001b[0m \u001b[0mself\u001b[0m\u001b[0;34m.\u001b[0m\u001b[0mPCa_adj\u001b[0m\u001b[0;34m\u001b[0m\u001b[0;34m\u001b[0m\u001b[0m\n",
      "\u001b[0;31mKeyboardInterrupt\u001b[0m: "
     ]
    }
   ],
   "source": [
    "model = None\n",
    "if 'ORD2011' in trial_conditions:\n",
    "    model = ORD2011(best_protocol)\n",
    "elif 'BR1977' in trial_conditions:\n",
    "    model = BR1977(best_protocol)  \n",
    "    \n",
    "tr = model_response.get_model_response_JK(model, best_protocol, prestep=5000)\n",
    "\n",
    "scale = 1\n",
    "max_contributions = tr.current_response_info.get_max_current_contributions(\n",
    "                time=tr.t,\n",
    "                window=window/scale,\n",
    "                step_size=step_size/scale)\n",
    "print(max_contributions)\n",
    "tr.plot_currents_contribution(current, window=window, step_size=step_size, is_shown=True, title=current,\n",
    "        saved_to=f'./ga_results/{trial_conditions}/{current}.svg')"
   ]
  },
  {
   "cell_type": "code",
   "execution_count": null,
   "id": "a2537d3f-b0e2-4485-87aa-bcd86bdb5676",
   "metadata": {},
   "outputs": [],
   "source": [
    "'''\n",
    "Plot\n",
    "'''\n",
    "plot_li = ['command_voltages', 'I_ion']+LIST_OF_CURRENTS\n",
    "fig, axes = plt.subplots(len(plot_li), 1, figsize=(10, 20))    \n",
    "fig.suptitle('ORD2011', fontsize=14)\n",
    "for i, name in enumerate(plot_li):    \n",
    "    # ax.set_title('Simulation %d'%(simulationNo))\n",
    "    axes[i].set_xlim(model.times.min(), model.times.max())\n",
    "    # ax.set_ylim(ylim[0], ylim[1])\n",
    "    axes[i].set_ylabel(name)  \n",
    "    axes[i].set_xlabel('Time (ms)') \n",
    "    if name=='command_voltages':\n",
    "        axes[i].plot( model.times, tr.command_voltages, label=name, c='b') \n",
    "    else:\n",
    "        axes[i].plot( model.times, model.current_response_info.get_current([name]), label=name, c='black')     \n",
    "    axes[i].legend()\n",
    "    axes[i].grid()\n",
    "plt.subplots_adjust(left=0.0, bottom=0.0, right=1.0, top=0.96, wspace=0.5, hspace=0.15)\n",
    "plt.show()\n",
    "# fig.savefig(os.path.join('Results', \"ORD2011-JK-scipy\"), dpi=100)"
   ]
  },
  {
   "cell_type": "code",
   "execution_count": null,
   "id": "e10daa7f-7413-4f9f-962b-a9da80e38ea5",
   "metadata": {},
   "outputs": [],
   "source": []
  },
  {
   "cell_type": "code",
   "execution_count": null,
   "id": "0bd91703-7876-426e-a366-010ef1dd2436",
   "metadata": {},
   "outputs": [],
   "source": []
  },
  {
   "cell_type": "code",
   "execution_count": null,
   "id": "76893a37-4a4f-4599-a03f-500e77cc5092",
   "metadata": {},
   "outputs": [],
   "source": [
    "protocol_li = []\n",
    "for i in [0, 1, 2, 3, 0, 1, 3]:\n",
    "    protocol_li.append(best_protocol.steps[i])\n",
    "protocol = mod_protocols.VoltageClampProtocol(steps=protocol_li)"
   ]
  },
  {
   "cell_type": "code",
   "execution_count": null,
   "id": "92801f35-0616-4d47-90a5-07952077d9bb",
   "metadata": {},
   "outputs": [],
   "source": [
    "model = None\n",
    "if 'ORD2011' in trial_conditions:\n",
    "    model = ORD2011(protocol)\n",
    "elif 'BR1977' in trial_conditions:\n",
    "    model = BR1977(protocol)  \n",
    "    \n",
    "tr = model_response.get_model_response_JK(model, protocol)\n",
    "\n",
    "scale = 1\n",
    "max_contributions = tr.current_response_info.\\\n",
    "            get_max_current_contributions(\n",
    "                time=tr.t,\n",
    "                window=window/scale,\n",
    "                step_size=step_size/scale)\n",
    "print(max_contributions)\n",
    "tr.plot_currents_contribution(current, window=window, step_size=step_size, is_shown=True, title=current,\n",
    "        saved_to=f'./ga_results/{trial_conditions}/{current}.svg')"
   ]
  },
  {
   "cell_type": "code",
   "execution_count": null,
   "id": "9bf15fa7-5598-4398-8065-90336eddfc70",
   "metadata": {},
   "outputs": [],
   "source": []
  },
  {
   "cell_type": "code",
   "execution_count": null,
   "id": "9dd9180e-9815-4770-ae63-35c0b0973248",
   "metadata": {},
   "outputs": [],
   "source": []
  },
  {
   "cell_type": "code",
   "execution_count": null,
   "id": "a4d7c08f-70ce-4f09-8837-fd2c3072587d",
   "metadata": {},
   "outputs": [],
   "source": []
  }
 ],
 "metadata": {
  "kernelspec": {
   "display_name": "Python 3 (ipykernel)",
   "language": "python",
   "name": "python3"
  },
  "language_info": {
   "codemirror_mode": {
    "name": "ipython",
    "version": 3
   },
   "file_extension": ".py",
   "mimetype": "text/x-python",
   "name": "python",
   "nbconvert_exporter": "python",
   "pygments_lexer": "ipython3",
   "version": "3.7.11"
  }
 },
 "nbformat": 4,
 "nbformat_minor": 5
}
