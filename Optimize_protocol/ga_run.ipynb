{
 "cells": [
  {
   "cell_type": "code",
   "execution_count": 1,
   "id": "99873ba3-fa12-4373-ad1b-535fbeddf973",
   "metadata": {},
   "outputs": [
    {
     "name": "stderr",
     "output_type": "stream",
     "text": [
      "C:\\Anaconda3\\envs\\ml\\lib\\site-packages\\numpy\\_distributor_init.py:30: UserWarning: loaded more than 1 DLL from .libs:\n",
      "C:\\Anaconda3\\envs\\ml\\lib\\site-packages\\numpy\\.libs\\libopenblas.NOIJJG62EMASZI6NYURL6JBKM4EVBGM7.gfortran-win_amd64.dll\n",
      "C:\\Anaconda3\\envs\\ml\\lib\\site-packages\\numpy\\.libs\\libopenblas.WCDJNK7YVMPZQ2ME2ZZHJJRJ3JIKNDB7.gfortran-win_amd64.dll\n",
      "  warnings.warn(\"loaded more than 1 DLL from .libs:\\n%s\" %\n"
     ]
    }
   ],
   "source": [
    "import sys, os\n",
    "import copy\n",
    "import time\n",
    "import pickle\n",
    "\n",
    "sys.path.append('../')\n",
    "sys.path.append('../Lib')\n",
    "sys.path.append('../Protocols')\n",
    "import ga_configs\n",
    "import ga_vc_optimization_JK\n",
    "import myokit\n",
    "import simulator_myokit\n",
    "import vc_protocols"
   ]
  },
  {
   "cell_type": "code",
   "execution_count": 2,
   "id": "eaec83f7-654d-45c5-82bc-16de3e3e9f71",
   "metadata": {},
   "outputs": [],
   "source": [
    "WITH_ARTEFACT = False\n",
    "\n",
    "VCO_CONFIG = ga_configs.VoltageOptimizationConfig(\n",
    "    window=10,\n",
    "    step_size=5,\n",
    "    steps_in_protocol=3,\n",
    "    step_duration_bounds=(5, 1000),\n",
    "    step_voltage_bounds=(-121, 61),\n",
    "    target_current='',\n",
    "    population_size=4,\n",
    "    max_generations=2,\n",
    "    mate_probability=0.9,\n",
    "    mutate_probability=0.9,\n",
    "    gene_swap_probability=0.2,\n",
    "    gene_mutation_probability=0.1,\n",
    "    tournament_size=2,\n",
    "    step_types=['step', 'ramp'],\n",
    "    with_artefact=WITH_ARTEFACT,    \n",
    "    model_name='ORD2011',  # OHara2017   Kernik       ORD2011\n",
    "    mmt_file = \"../mmt-model-files/ohara-cipa-v1-2017_VC.mmt\" # if myokit model is used.\n",
    ")\n",
    "\n",
    "LIST_OF_CURRENTS = [ 'I_Na', 'I_NaL', 'I_to', 'I_CaL', 'I_Kr', 'I_Ks', 'I_K1' ]# ['I_Na', 'I_Kr', 'I_Ks', 'I_To', 'I_F', 'I_CaL', 'I_K1'] \n",
    "# LIST_OF_CURRENTS = [ 'INa', 'INaL', 'Ito', 'ICaL', 'IKr', 'IKs', 'IK1' ]# ['I_Na', 'I_Kr', 'I_Ks', 'I_To', 'I_F', 'I_CaL', 'I_K1'] "
   ]
  },
  {
   "cell_type": "code",
   "execution_count": 3,
   "id": "10d6c724-faa1-466f-88c8-98f5fc435c0a",
   "metadata": {},
   "outputs": [],
   "source": [
    "def main():\n",
    "    \"\"\"Run parameter tuning or voltage clamp protocol experiments here\n",
    "    \"\"\"\n",
    "    results_dir = './ga_results'\n",
    "    if not os.path.exists(results_dir):\n",
    "        os.makedirs(results_dir)\n",
    "        \n",
    "    vco_dir_name = f'{VCO_CONFIG.model_name}_{VCO_CONFIG.population_size}_{VCO_CONFIG.max_generations}_{VCO_CONFIG.steps_in_protocol}_{VCO_CONFIG.step_voltage_bounds[0]}_{VCO_CONFIG.step_voltage_bounds[1]}_{VCO_CONFIG.window}_{VCO_CONFIG.step_size}'\n",
    "    print(vco_dir_name)\n",
    "    \n",
    "    if not vco_dir_name in os.listdir('ga_results'):\n",
    "        os.mkdir(f'ga_results/{vco_dir_name}')\n",
    "\n",
    "    for c in LIST_OF_CURRENTS:\n",
    "        f = f\"{results_dir}/{vco_dir_name}/ga_results_{c}_artefact_{WITH_ARTEFACT}\"\n",
    "        print(f\"Finding best protocol for {c}. Writing protocol to: {f}\")\n",
    "        VCO_CONFIG.target_current = c\n",
    "        result = ga_vc_optimization_JK.start_ga(VCO_CONFIG)\n",
    "        print(\"=\"*100)\n",
    "        pickle.dump(result, open(f, 'wb'))"
   ]
  },
  {
   "cell_type": "code",
   "execution_count": null,
   "id": "b15cd042-8bd9-4853-90f0-36703dd399ca",
   "metadata": {},
   "outputs": [
    {
     "name": "stdout",
     "output_type": "stream",
     "text": [
      "ORD2011_4_2_3_-121_61_10_5\n",
      "Finding best protocol for I_Na. Writing protocol to: ./ga_results/ORD2011_4_2_3_-121_61_10_5/ga_results_I_Na_artefact_False\n",
      "\tEvaluating initial population.\n"
     ]
    },
    {
     "name": "stderr",
     "output_type": "stream",
     "text": [
      "C:\\Anaconda3\\envs\\ml\\lib\\site-packages\\numpy\\core\\_asarray.py:83: VisibleDeprecationWarning: Creating an ndarray from ragged nested sequences (which is a list-or-tuple of lists-or-tuples-or ndarrays with different lengths or shapes) is deprecated. If you meant to do this, you must specify 'dtype=object' when creating the ndarray\n",
      "  return array(a, dtype, copy=False, order=order)\n"
     ]
    },
    {
     "name": "stdout",
     "output_type": "stream",
     "text": [
      "JK--- 4.81225061416626 seconds ---\n",
      "\tGeneration 1 for I_Na\n",
      "\t\tMin fitness: (0.0,)\n",
      "\t\tMax fitness: (0.0,)\n",
      "\t\tAverage fitness: 0.0\n",
      "\t\tStandard deviation: 0.0\n",
      "====================================================================================================\n",
      "Finding best protocol for I_NaL. Writing protocol to: ./ga_results/ORD2011_4_2_3_-121_61_10_5/ga_results_I_NaL_artefact_False\n",
      "\tEvaluating initial population.\n",
      "JK--- 4.923190593719482 seconds ---\n",
      "\tGeneration 1 for I_NaL\n",
      "\t\tMin fitness: (0.0,)\n",
      "\t\tMax fitness: (0.0,)\n",
      "\t\tAverage fitness: 0.0\n",
      "\t\tStandard deviation: 0.0\n",
      "====================================================================================================\n",
      "Finding best protocol for I_to. Writing protocol to: ./ga_results/ORD2011_4_2_3_-121_61_10_5/ga_results_I_to_artefact_False\n",
      "\tEvaluating initial population.\n"
     ]
    }
   ],
   "source": [
    "if __name__ == '__main__':\n",
    "    main()\n",
    "    print(\"=====Complete==============================\")"
   ]
  },
  {
   "cell_type": "code",
   "execution_count": null,
   "id": "326b004b-9ec9-450b-a687-0667d73970e7",
   "metadata": {},
   "outputs": [],
   "source": []
  },
  {
   "cell_type": "code",
   "execution_count": null,
   "id": "8645a4fa-55cc-4d8d-870d-11300ca9034a",
   "metadata": {},
   "outputs": [],
   "source": []
  }
 ],
 "metadata": {
  "kernelspec": {
   "display_name": "Python 3",
   "language": "python",
   "name": "python3"
  },
  "language_info": {
   "codemirror_mode": {
    "name": "ipython",
    "version": 3
   },
   "file_extension": ".py",
   "mimetype": "text/x-python",
   "name": "python",
   "nbconvert_exporter": "python",
   "pygments_lexer": "ipython3",
   "version": "3.8.10"
  }
 },
 "nbformat": 4,
 "nbformat_minor": 5
}
