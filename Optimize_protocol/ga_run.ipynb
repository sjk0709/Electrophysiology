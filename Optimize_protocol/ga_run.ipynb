{
 "cells": [
  {
   "cell_type": "code",
   "execution_count": 1,
   "id": "99873ba3-fa12-4373-ad1b-535fbeddf973",
   "metadata": {},
   "outputs": [],
   "source": [
    "import sys, os\n",
    "import copy\n",
    "import time\n",
    "import pickle\n",
    "\n",
    "sys.path.append('../')\n",
    "sys.path.append('../Lib')\n",
    "sys.path.append('../Protocols')\n",
    "import ga_configs\n",
    "import ga_vc_optimization_JK\n",
    "import myokit\n",
    "import simulator_myokit\n",
    "import vc_protocols"
   ]
  },
  {
   "cell_type": "code",
   "execution_count": 2,
   "id": "eaec83f7-654d-45c5-82bc-16de3e3e9f71",
   "metadata": {},
   "outputs": [],
   "source": [
    "VCO_CONFIG = ga_configs.VoltageOptimizationConfig(\n",
    "    window=10,\n",
    "    step_size=5,\n",
    "    steps_in_protocol=4,\n",
    "    step_duration_bounds=(5, 1000),\n",
    "    step_voltage_bounds=(-121, 61),\n",
    "    target_current='',\n",
    "    population_size=504,\n",
    "    max_generations=101,\n",
    "    mate_probability=0.9,\n",
    "    mutate_probability=0.9,\n",
    "    gene_swap_probability=0.2,\n",
    "    gene_mutation_probability=0.1,\n",
    "    tournament_size=2,\n",
    "    step_types=['step', 'ramp'],\n",
    "    with_artefact=False,    \n",
    "    model_name='ORD2011',  # OHara2017   Kernik       ORD2011\n",
    "    mmt_file = \"../mmt-model-files/ohara-cipa-v1-2017_VC.mmt\" # if myokit model is used.\n",
    ")\n",
    "\n",
    "LIST_OF_CURRENTS = ['I_Na', 'I_Kr', 'I_Ks', 'I_To', 'I_CaL', 'I_K1', 'I_NaL' ]   "
   ]
  },
  {
   "cell_type": "code",
   "execution_count": 3,
   "id": "10d6c724-faa1-466f-88c8-98f5fc435c0a",
   "metadata": {},
   "outputs": [],
   "source": [
    "def main():\n",
    "    \"\"\"Run parameter tuning or voltage clamp protocol experiments here\n",
    "    \"\"\"\n",
    "    results_dir = './ga_results'\n",
    "    if not os.path.exists(results_dir):\n",
    "        os.makedirs(results_dir)\n",
    "        \n",
    "    vco_dir_name = f'{VCO_CONFIG.model_name}_{VCO_CONFIG.population_size}_{VCO_CONFIG.max_generations}_{VCO_CONFIG.steps_in_protocol}_{VCO_CONFIG.step_voltage_bounds[0]}_{VCO_CONFIG.step_voltage_bounds[1]}_{VCO_CONFIG.window}_{VCO_CONFIG.step_size}'\n",
    "    print(vco_dir_name)\n",
    "    \n",
    "    if not vco_dir_name in os.listdir('ga_results'):\n",
    "        os.mkdir(f'ga_results/{vco_dir_name}')\n",
    "\n",
    "    for c in LIST_OF_CURRENTS:\n",
    "        f = f\"{results_dir}/{vco_dir_name}/ga_results_{c}_a{VCO_CONFIG.with_artefact}\"\n",
    "        print(f\"Finding best protocol for {c}. Writing protocol to: {f}\")\n",
    "        VCO_CONFIG.target_current = c\n",
    "        result = ga_vc_optimization_JK.start_ga(VCO_CONFIG)\n",
    "        print(\"=\"*100)\n",
    "        pickle.dump(result, open(f, 'wb'))"
   ]
  },
  {
   "cell_type": "code",
   "execution_count": null,
   "id": "b15cd042-8bd9-4853-90f0-36703dd399ca",
   "metadata": {},
   "outputs": [
    {
     "name": "stdout",
     "output_type": "stream",
     "text": [
      "ORD2011_504_101_4_-121_61_10_5\n",
      "Finding best protocol for I_Na. Writing protocol to: ./ga_results/ORD2011_504_101_4_-121_61_10_5/ga_results_I_Na_aFalse\n",
      "\tEvaluating initial population.\n"
     ]
    },
    {
     "name": "stderr",
     "output_type": "stream",
     "text": [
      "/opt/conda/lib/python3.7/site-packages/numpy/core/fromnumeric.py:43: VisibleDeprecationWarning: Creating an ndarray from ragged nested sequences (which is a list-or-tuple of lists-or-tuples-or ndarrays with different lengths or shapes) is deprecated. If you meant to do this, you must specify 'dtype=object' when creating the ndarray.\n",
      "  result = getattr(asarray(obj), method)(*args, **kwds)\n"
     ]
    },
    {
     "name": "stdout",
     "output_type": "stream",
     "text": [
      "JK--- 41.12965154647827 seconds ---\n",
      "\tGeneration 1 for I_Na\n",
      "\t\tMin fitness: (0.013164564802333316,)\n",
      "\t\tMax fitness: (0.9579316596851231,)\n",
      "\t\tAverage fitness: 0.6553747431448345\n",
      "\t\tStandard deviation: 0.18398621508275417\n",
      "\tGeneration 2 for I_Na\n",
      "\t\tMin fitness: (0.016568495881873983,)\n",
      "\t\tMax fitness: (0.9566123430340643,)\n",
      "\t\tAverage fitness: 0.714554725244085\n",
      "\t\tStandard deviation: 0.1543974672512103\n",
      "\tGeneration 3 for I_Na\n",
      "\t\tMin fitness: (0.025423289480893254,)\n",
      "\t\tMax fitness: (0.9566123430340643,)\n",
      "\t\tAverage fitness: 0.7598738157815175\n",
      "\t\tStandard deviation: 0.12901971628544603\n",
      "\tGeneration 4 for I_Na\n",
      "\t\tMin fitness: (0.0203641847118146,)\n",
      "\t\tMax fitness: (0.9593123367971533,)\n",
      "\t\tAverage fitness: 0.781320905580088\n",
      "\t\tStandard deviation: 0.13829364690574292\n",
      "\tGeneration 5 for I_Na\n",
      "\t\tMin fitness: (0.01777226696952988,)\n",
      "\t\tMax fitness: (0.9580170794749331,)\n",
      "\t\tAverage fitness: 0.7942125178707988\n",
      "\t\tStandard deviation: 0.13696367351966754\n",
      "\tGeneration 6 for I_Na\n"
     ]
    }
   ],
   "source": [
    "if __name__ == '__main__':\n",
    "    main()\n",
    "    print(\"=====Complete==============================\")"
   ]
  },
  {
   "cell_type": "code",
   "execution_count": null,
   "id": "326b004b-9ec9-450b-a687-0667d73970e7",
   "metadata": {},
   "outputs": [],
   "source": []
  },
  {
   "cell_type": "code",
   "execution_count": null,
   "id": "8645a4fa-55cc-4d8d-870d-11300ca9034a",
   "metadata": {},
   "outputs": [],
   "source": []
  }
 ],
 "metadata": {
  "kernelspec": {
   "display_name": "Python 3 (ipykernel)",
   "language": "python",
   "name": "python3"
  },
  "language_info": {
   "codemirror_mode": {
    "name": "ipython",
    "version": 3
   },
   "file_extension": ".py",
   "mimetype": "text/x-python",
   "name": "python",
   "nbconvert_exporter": "python",
   "pygments_lexer": "ipython3",
   "version": "3.7.11"
  }
 },
 "nbformat": 4,
 "nbformat_minor": 5
}
