{
 "cells": [
  {
   "cell_type": "code",
   "execution_count": 1,
   "id": "f5cbbdbe-d96c-40ab-93be-16b854518cec",
   "metadata": {},
   "outputs": [],
   "source": [
    "from scipy.integrate import ode, solve_ivp\n",
    "import os, sys, time\n",
    "import numpy as np\n",
    "import matplotlib.pyplot as plt\n",
    "import pickle\n",
    "import bisect\n",
    "\n",
    "sys.path.append('../')\n",
    "from Protocols.pacing_protocol import PacingProtocol\n",
    "from Protocols.leakstaircase import LeakStaircase\n",
    "\n",
    "sys.path.append('../../')\n",
    "import plot_cell\n",
    "\n",
    "sys.path.append('../')\n",
    "import scipy_simulator\n",
    "import euler_simulator"
   ]
  },
  {
   "cell_type": "code",
   "execution_count": 2,
   "id": "bc229fc9-b3c1-4f81-8c67-55a939cf6c84",
   "metadata": {},
   "outputs": [
    {
     "name": "stdout",
     "output_type": "stream",
     "text": [
      "(6002,)\n",
      "--- 0.2653219699859619 seconds ---\n"
     ]
    },
    {
     "data": {
      "image/png": "[encoded data removed]",
      "text/plain": [
       "<Figure size 432x288 with 1 Axes>"
      ]
     },
     "metadata": {
      "needs_background": "light"
     },
     "output_type": "display_data"
    }
   ],
   "source": [
    "from Models.hh1592d import HH1592d\n",
    "protocol = PacingProtocol(level=1, start=5, length=0.03, period=30, multiplier=0, default_time_unit='ms')\n",
    "model = HH1592d(protocol)\n",
    "model.name = \"Hodgkin Huxley 1592d\"\n",
    "times = np.linspace(0,60,1000)\n",
    "\n",
    "start_time = time.time()\n",
    "euler_sim = euler_simulator.Simulator(model)\n",
    "euler_sim.simulate(end_time=times.max())    # , max_step=8e-4\n",
    "print(\"--- %s seconds ---\"%(time.time()-start_time))\n",
    "\n",
    "plot_cell.plot_1D( model.times, model.V, title=model.name, figsize=(6,4))"
   ]
  },
  {
   "cell_type": "code",
   "execution_count": null,
   "id": "d5eef547-5695-4fa7-8549-b70862608ddd",
   "metadata": {},
   "outputs": [
    {
     "name": "stdout",
     "output_type": "stream",
     "text": [
      "0.06006006006006006\n"
     ]
    }
   ],
   "source": [
    "from Models.hh1592d import HH1592d\n",
    "'''\n",
    "Hodgkin Huxley 1592d\n",
    "'''\n",
    "protocol = PacingProtocol(level=1, start=5, length=0.03, period=30, multiplier=0, default_time_unit='ms')\n",
    "model = HH1592d(protocol)\n",
    "model.name = \"Hodgkin Huxley 1592d\"\n",
    "times = np.linspace(0,60,1000)\n",
    "\n",
    "# Scipy\n",
    "start_time = time.time()\n",
    "scipy_sim = scipy_simulator.Simulator(model)\n",
    "scipy_sim.simulate(times, method='LSODA', max_step=8e-4)    \n",
    "print(\"--- %s seconds ---\"%(time.time()-start_time))\n",
    "\n",
    "\n",
    "protocol = PacingProtocol(level=1, start=5, length=0.03, period=30, multiplier=0, default_time_unit='ms')\n",
    "model2 = HH1592d(protocol)\n",
    "model2.name = \"Hodgkin Huxley 1592d\"\n",
    "times = np.linspace(0,60,1000)\n",
    "\n",
    "# Euler\n",
    "start_time = time.time()\n",
    "euler_sim = euler_simulator.Simulator(model2)\n",
    "euler_sim.simulate(end_time=times.max())    \n",
    "print(\"--- %s seconds ---\"%(time.time()-start_time))\n",
    "\n",
    "\n",
    "\n",
    "# plot_cell.plot_1D( model2.times, model2.V, title=model.name, figsize=(6,4))"
   ]
  },
  {
   "cell_type": "code",
   "execution_count": null,
   "id": "85e64d0a-59e8-4534-b03d-c0a2f3e6a072",
   "metadata": {},
   "outputs": [],
   "source": [
    "print(model.V.shape, model2.V[:-1].shape)"
   ]
  },
  {
   "cell_type": "code",
   "execution_count": null,
   "id": "cd47127a-8f2a-4ee8-a752-fef55f6228ab",
   "metadata": {},
   "outputs": [],
   "source": [
    "plt.plot( model.times, model.V)\n",
    "plt.plot( model2.times[:-1], model2.V[:-1])\n",
    "plt.show()"
   ]
  },
  {
   "cell_type": "code",
   "execution_count": null,
   "id": "fb7bed2c-5256-4ffd-94ea-9227ffda3536",
   "metadata": {},
   "outputs": [],
   "source": []
  },
  {
   "cell_type": "code",
   "execution_count": null,
   "id": "d7c108de-b744-4d4a-9447-22f8327c08e0",
   "metadata": {},
   "outputs": [],
   "source": []
  },
  {
   "cell_type": "code",
   "execution_count": null,
   "id": "97641c17-04af-4896-9243-55054ecd44b4",
   "metadata": {},
   "outputs": [],
   "source": []
  },
  {
   "cell_type": "code",
   "execution_count": null,
   "id": "5be29183-4793-44a9-9e49-d88c7a9873dc",
   "metadata": {},
   "outputs": [],
   "source": []
  },
  {
   "cell_type": "code",
   "execution_count": null,
   "id": "762cf3e8-add6-4f29-a92e-58f0e48ddbef",
   "metadata": {},
   "outputs": [],
   "source": [
    "from Models.br1977 import BR1977\n",
    "'''\n",
    "Beeler and Reuter 1977\n",
    "'''\n",
    "protocol = PacingProtocol(level=1, start=100, length=2, period=1000, multiplier=0, default_time_unit='ms')\n",
    "model = BR1977(protocol)\n",
    "simulator = Simulator(model)\n",
    "start_time = time.time()\n",
    "model.name = \"Beeler and Reuter 1977\"\n",
    "times = np.linspace(0, 2000, 5000)\n",
    "simulator.simulate(times)    \n",
    "plot_cell.plot_1D( model.times, model.V, title=model.name, figsize=(6,4))\n",
    "print(\"--- %s seconds ---\"%(time.time()-start_time))"
   ]
  },
  {
   "cell_type": "code",
   "execution_count": null,
   "id": "74d52664-ca4a-4e27-8a7c-5108ca6e41e0",
   "metadata": {},
   "outputs": [],
   "source": []
  }
 ],
 "metadata": {
  "kernelspec": {
   "display_name": "Python 3",
   "language": "python",
   "name": "python3"
  },
  "language_info": {
   "codemirror_mode": {
    "name": "ipython",
    "version": 3
   },
   "file_extension": ".py",
   "mimetype": "text/x-python",
   "name": "python",
   "nbconvert_exporter": "python",
   "pygments_lexer": "ipython3",
   "version": "3.8.8"
  }
 },
 "nbformat": 4,
 "nbformat_minor": 5
}
