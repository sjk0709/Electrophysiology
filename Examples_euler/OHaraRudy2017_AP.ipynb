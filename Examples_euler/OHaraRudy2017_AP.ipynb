{
 "cells": [
  {
   "cell_type": "code",
   "execution_count": 1,
   "id": "f5cbbdbe-d96c-40ab-93be-16b854518cec",
   "metadata": {},
   "outputs": [
    {
     "name": "stderr",
     "output_type": "stream",
     "text": [
      "C:\\Anaconda3\\envs\\ml\\lib\\site-packages\\numpy\\_distributor_init.py:30: UserWarning: loaded more than 1 DLL from .libs:\n",
      "C:\\Anaconda3\\envs\\ml\\lib\\site-packages\\numpy\\.libs\\libopenblas.NOIJJG62EMASZI6NYURL6JBKM4EVBGM7.gfortran-win_amd64.dll\n",
      "C:\\Anaconda3\\envs\\ml\\lib\\site-packages\\numpy\\.libs\\libopenblas.WCDJNK7YVMPZQ2ME2ZZHJJRJ3JIKNDB7.gfortran-win_amd64.dll\n",
      "  warnings.warn(\"loaded more than 1 DLL from .libs:\\n%s\" %\n"
     ]
    }
   ],
   "source": [
    "from scipy.integrate import ode, solve_ivp\n",
    "import os, sys, time, copy\n",
    "import numpy as np\n",
    "import matplotlib.pyplot as plt\n",
    "import pickle\n",
    "import bisect\n",
    "\n",
    "sys.path.append('../')\n",
    "from Protocols.pacing_protocol import PacingProtocol\n",
    "from Protocols.leakstaircase import LeakStaircase\n",
    "\n",
    "sys.path.append('../')\n",
    "import euler_simulator\n",
    "\n",
    "sys.path.append('../Lib')"
   ]
  },
  {
   "cell_type": "code",
   "execution_count": 10,
   "id": "7a6aba9f-e0af-49e3-b1d0-8f0f8ec3777b",
   "metadata": {},
   "outputs": [
    {
     "name": "stdout",
     "output_type": "stream",
     "text": [
      "[-8.79441378e+01  9.68346804e-03  7.38690644e-03  6.96103247e-01\n",
      "  6.96102624e-01  6.96098569e-01  4.52659371e-01  6.96095442e-01\n",
      "  1.90338617e-04  5.10213636e-01  2.94237037e-01  1.00499872e-03\n",
      "  9.99549702e-01  7.71777609e-01  5.12074954e-04  9.99549702e-01\n",
      "  8.17368244e-01  2.37294574e-09  9.99999991e-01  9.45558919e-01\n",
      "  9.99999991e-01  9.99998675e-01  9.99999957e-01  2.12199735e-03\n",
      "  9.99999991e-01  9.99999991e-01  9.99632126e-01  6.91363928e-05\n",
      "  1.82232399e-08  8.36448884e-05  1.57683179e-04  5.76640794e-05\n",
      "  0.00000000e+00  0.00000000e+00  0.00000000e+00  0.00000000e+00\n",
      "  2.13232671e-01  1.94040725e-04  9.96774536e-01  2.78756751e-07\n",
      "  3.48425818e-07  7.26206504e+00  7.26214275e+00  1.44662279e+02\n",
      "  1.44662252e+02  8.11221020e-05  7.94048678e-05  1.61407706e+00\n",
      "  1.61033070e+00]\n",
      "Pre-simulation has been completed.\n"
     ]
    }
   ],
   "source": [
    "from Models.ord2017 import ORD2017\n",
    "'''\n",
    "O'Hara-Rudy CiPA v1.0 (2017)\n",
    "'''\n",
    "\n",
    "model = ORD2017()\n",
    "simulator = euler_simulator.Simulator(model)\n",
    "simulator.dt = 0.005\n",
    "\n",
    "# prestep_protocol = mod_protocols.VoltageClampProtocol( [mod_protocols.VoltageClampStep(voltage=-87, duration=pre_step)] )\n",
    "model.protocol = PacingProtocol(level=1, start=0, length=0.5, period=1000, multiplier=0, default_time_unit='ms')\n",
    "simulator.simulate(end_time=500)                  \n",
    "model.y0[:] = np.array(simulator.y_li)[-1,:]  \n",
    "print(np.array(simulator.y_li)[-1,:])\n",
    "print(\"Pre-simulation has been completed.\")"
   ]
  },
  {
   "cell_type": "code",
   "execution_count": null,
   "id": "59f6320b-7839-4ea8-b77f-d77d55fe099e",
   "metadata": {},
   "outputs": [],
   "source": []
  },
  {
   "cell_type": "code",
   "execution_count": 22,
   "id": "ff14bbf2-93f9-4db7-a697-beb074a969e4",
   "metadata": {},
   "outputs": [
    {
     "name": "stderr",
     "output_type": "stream",
     "text": [
      "D:\\Asan\\Codes\\Electrophysiology\\Simulation_JK\\Examples_euler\\..\\Models\\ord2017.py:533: RuntimeWarning: divide by zero encountered in log\n",
      "  - ((Kmax*Ku*np.exp(n*np.log(D)))/(np.exp(n*np.log(D))+halfmax) * O  - Ku * Obound)\n",
      "D:\\Asan\\Codes\\Electrophysiology\\Simulation_JK\\Examples_euler\\..\\Models\\ord2017.py:536: RuntimeWarning: divide by zero encountered in log\n",
      "  - ((Kmax*Ku*np.exp(n*np.log(D)))/(np.exp(n*np.log(D))+halfmax) * IO - (Ku*A53*np.exp(B53*V)*np.exp((Temp-20.0)*np.log(q53)/10.0))/(A63*np.exp(B63*V)*np.exp((Temp-20)*np.log(q63)/10)) * IObound)\n",
      "D:\\Asan\\Codes\\Electrophysiology\\Simulation_JK\\Examples_euler\\..\\Models\\ord2017.py:537: RuntimeWarning: divide by zero encountered in log\n",
      "  d_IObound = ( (Kmax * Ku * np.exp(n*np.log(D))) / (np.exp(n*np.log(D)) + halfmax) * IO \\\n",
      "D:\\Asan\\Codes\\Electrophysiology\\Simulation_JK\\Examples_euler\\..\\Models\\ord2017.py:540: RuntimeWarning: divide by zero encountered in log\n",
      "  d_Obound = ( (Kmax * Ku * np.exp(n*np.log(D))) / (np.exp(n*np.log(D)) + halfmax) *  O - Ku * Obound ) + Kt / (1 + np.exp(-(V-Vhalf)/6.789)) * Cbound - Kt * Obound\n"
     ]
    },
    {
     "name": "stdout",
     "output_type": "stream",
     "text": [
      "--- 593.1402089595795 seconds ---\n"
     ]
    }
   ],
   "source": [
    "simulated_model_li = []\n",
    "for i in range(1):\n",
    "    start_time = time.time()\n",
    "    \n",
    "    model.cell.mode=i    \n",
    "    model.protocol = PacingProtocol(level=1, start=20, length=0.5, period=1000, multiplier=0, default_time_unit='ms')\n",
    "    \n",
    "    simulator.dt = 0.0005    \n",
    "    simulator.simulate(end_time=500)  \n",
    "    \n",
    "    simulated_model_li.append(copy.copy(model))\n",
    "    print(\"--- %s seconds ---\"%(time.time()-start_time))"
   ]
  },
  {
   "cell_type": "code",
   "execution_count": 23,
   "id": "921fda4e-69ac-41fc-8010-665109813e62",
   "metadata": {},
   "outputs": [
    {
     "name": "stdout",
     "output_type": "stream",
     "text": [
      "[-87.94413777 -87.94173953 -87.93938864 ...          nan          nan\n",
      "          nan]\n"
     ]
    },
    {
     "data": {
      "image/png": "[encoded data removed]",
      "text/plain": [
       "<Figure size 1296x288 with 3 Axes>"
      ]
     },
     "metadata": {
      "needs_background": "light"
     },
     "output_type": "display_data"
    }
   ],
   "source": [
    "fig, axes = plt.subplots(1,3, figsize=(18,4))    \n",
    "for i in range(1):\n",
    "    model = simulated_model_li[i]\n",
    "    \n",
    "    # Plot AP    \n",
    "    fig.suptitle(model.name, fontsize=14)\n",
    "    # ax.set_title('Simulation %d'%(simulationNo))\n",
    "    axes[i].set_xlim(model.times.min(), model.times.max())\n",
    "    # ax.set_ylim(ylim[0], ylim[1])\n",
    "    axes[i].set_ylabel('Membrane Potential (mV)')  \n",
    "    axes[i].set_xlabel('Time (ms)')       \n",
    "    axes[i].plot(model.times, model.V, label='AP')   \n",
    "    # textstr = \"GNa : %1.4f\\nGNaL : %1.4f\\nGto : %1.4f\\nPCa : %1.4f\\nGKr : %1.4f\\nGKs : %1.4f\\nGK1 : %1.4f\\nGf : %1.4f\"%(GNa/g_fc[0], \\\n",
    "    #             GNaL/g_fc[1], Gto/g_fc[2], PCa/g_fc[3], GKr/g_fc[4], GKs/g_fc[5], GK1/g_fc[6], Gf/g_fc[7])\n",
    "    # props = dict(boxstyle='round', facecolor='wheat', alpha=0.5)\n",
    "    # place a text box in upper left in axes coords\n",
    "    #     ax.text(0.67, 0.60, textstr, transform=ax.transAxes, fontsize=14, verticalalignment='top', bbox=props)    \n",
    "    #     fig1 = plt.gcf()\n",
    "    axes[i].legend()\n",
    "    axes[i].grid()\n",
    "    print(model.V)\n",
    "    \n",
    "plt.show()\n",
    "fig.savefig(os.path.join('Results', \"ORD2017\"), dpi=100)"
   ]
  },
  {
   "cell_type": "code",
   "execution_count": 24,
   "id": "74d52664-ca4a-4e27-8a7c-5108ca6e41e0",
   "metadata": {},
   "outputs": [
    {
     "name": "stdout",
     "output_type": "stream",
     "text": [
      "Complete\n"
     ]
    }
   ],
   "source": [
    "print(\"Complete\")"
   ]
  },
  {
   "cell_type": "code",
   "execution_count": null,
   "id": "a103b394-3820-4808-b94e-b7e17ca89561",
   "metadata": {},
   "outputs": [],
   "source": []
  }
 ],
 "metadata": {
  "kernelspec": {
   "display_name": "Python 3",
   "language": "python",
   "name": "python3"
  },
  "language_info": {
   "codemirror_mode": {
    "name": "ipython",
    "version": 3
   },
   "file_extension": ".py",
   "mimetype": "text/x-python",
   "name": "python",
   "nbconvert_exporter": "python",
   "pygments_lexer": "ipython3",
   "version": "3.8.10"
  }
 },
 "nbformat": 4,
 "nbformat_minor": 5
}
