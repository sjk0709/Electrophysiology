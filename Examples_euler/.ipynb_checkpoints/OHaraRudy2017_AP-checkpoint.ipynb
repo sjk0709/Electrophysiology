{
 "cells": [
  {
   "cell_type": "code",
   "execution_count": 7,
   "id": "f5cbbdbe-d96c-40ab-93be-16b854518cec",
   "metadata": {},
   "outputs": [],
   "source": [
    "from scipy.integrate import ode, solve_ivp\n",
    "import os, sys, time, copy\n",
    "import numpy as np\n",
    "import matplotlib.pyplot as plt\n",
    "import pickle\n",
    "import bisect\n",
    "\n",
    "sys.path.append('../')\n",
    "from Protocols.pacing_protocol import PacingProtocol\n",
    "from Protocols.leakstaircase import LeakStaircase\n",
    "\n",
    "sys.path.append('../')\n",
    "import euler_simulator\n",
    "\n",
    "sys.path.append('../Lib')"
   ]
  },
  {
   "cell_type": "code",
   "execution_count": null,
   "id": "7a6aba9f-e0af-49e3-b1d0-8f0f8ec3777b",
   "metadata": {},
   "outputs": [],
   "source": [
    "from Models.ord2017 import ORD2017\n",
    "'''\n",
    "O'Hara-Rudy CiPA v1.0 (2017)\n",
    "'''\n",
    "\n",
    "model = ORD2017()\n",
    "simulator = euler_simulator.Simulator(model)\n",
    "simulator.dt = 0.01\n",
    "\n",
    "pre_step = 1000\n",
    "# prestep_protocol = mod_protocols.VoltageClampProtocol( [mod_protocols.VoltageClampStep(voltage=-87, duration=pre_step)] )\n",
    "model.protocol = PacingProtocol(level=1, start=0, length=0.5, period=1000, multiplier=0, default_time_unit='ms')\n",
    "t_span = (0, pre_step) \n",
    "simulator.simulate(end_time=pre_step)                  \n",
    "model.y0[:] = np.array(simulator.y_li)[-1,:]  \n",
    "print(\"Pre-simulation has been completed.\")"
   ]
  },
  {
   "cell_type": "code",
   "execution_count": null,
   "id": "ff14bbf2-93f9-4db7-a697-beb074a969e4",
   "metadata": {},
   "outputs": [],
   "source": [
    "simulated_model_li = []\n",
    "for i in range(3):\n",
    "    start_time = time.time()\n",
    "    \n",
    "    model.cell.mode=i\n",
    "\n",
    "    model.protocol = PacingProtocol(level=1, start=20, length=0.5, period=1000, multiplier=0, default_time_unit='ms')\n",
    "    t_span = (0, 500)\n",
    "    t_eval = np.linspace(0, t_span[1], 5000)  \n",
    "    simulator.simulate(end_time=500)  \n",
    "    \n",
    "    simulated_model_li.append(copy.copy(model))\n",
    "    print(\"--- %s seconds ---\"%(time.time()-start_time))"
   ]
  },
  {
   "cell_type": "code",
   "execution_count": null,
   "id": "921fda4e-69ac-41fc-8010-665109813e62",
   "metadata": {},
   "outputs": [],
   "source": [
    "fig, axes = plt.subplots(1,3, figsize=(18,4))    \n",
    "for i in range(3):\n",
    "    model = simulated_model_li[i]\n",
    "    \n",
    "    # Plot AP    \n",
    "    fig.suptitle(model.name, fontsize=14)\n",
    "    # ax.set_title('Simulation %d'%(simulationNo))\n",
    "    axes[i].set_xlim(model.times.min(), model.times.max())\n",
    "    # ax.set_ylim(ylim[0], ylim[1])\n",
    "    axes[i].set_ylabel('Membrane Potential (mV)')  \n",
    "    axes[i].set_xlabel('Time (ms)')       \n",
    "    axes[i].plot(model.times, model.V, label='AP')   \n",
    "    # textstr = \"GNa : %1.4f\\nGNaL : %1.4f\\nGto : %1.4f\\nPCa : %1.4f\\nGKr : %1.4f\\nGKs : %1.4f\\nGK1 : %1.4f\\nGf : %1.4f\"%(GNa/g_fc[0], \\\n",
    "    #             GNaL/g_fc[1], Gto/g_fc[2], PCa/g_fc[3], GKr/g_fc[4], GKs/g_fc[5], GK1/g_fc[6], Gf/g_fc[7])\n",
    "    # props = dict(boxstyle='round', facecolor='wheat', alpha=0.5)\n",
    "    # place a text box in upper left in axes coords\n",
    "    #     ax.text(0.67, 0.60, textstr, transform=ax.transAxes, fontsize=14, verticalalignment='top', bbox=props)    \n",
    "    #     fig1 = plt.gcf()\n",
    "    axes[i].legend()\n",
    "    axes[i].grid()\n",
    "    \n",
    "plt.show()\n",
    "fig.savefig(os.path.join('Results', \"ORD2017\"), dpi=100)"
   ]
  },
  {
   "cell_type": "code",
   "execution_count": null,
   "id": "74d52664-ca4a-4e27-8a7c-5108ca6e41e0",
   "metadata": {},
   "outputs": [],
   "source": [
    "print(\"Complete\")"
   ]
  },
  {
   "cell_type": "code",
   "execution_count": null,
   "id": "a103b394-3820-4808-b94e-b7e17ca89561",
   "metadata": {},
   "outputs": [],
   "source": []
  }
 ],
 "metadata": {
  "kernelspec": {
   "display_name": "Python 3",
   "language": "python",
   "name": "python3"
  },
  "language_info": {
   "codemirror_mode": {
    "name": "ipython",
    "version": 3
   },
   "file_extension": ".py",
   "mimetype": "text/x-python",
   "name": "python",
   "nbconvert_exporter": "python",
   "pygments_lexer": "ipython3",
   "version": "3.8.10"
  }
 },
 "nbformat": 4,
 "nbformat_minor": 5
}
