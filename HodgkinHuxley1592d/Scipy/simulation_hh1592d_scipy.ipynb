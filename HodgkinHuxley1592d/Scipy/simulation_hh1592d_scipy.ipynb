{
 "cells": [
  {
   "cell_type": "code",
   "execution_count": 1,
   "id": "f5cbbdbe-d96c-40ab-93be-16b854518cec",
   "metadata": {},
   "outputs": [
    {
     "name": "stderr",
     "output_type": "stream",
     "text": [
      "WARNING:myokit._config:Sundials version not set in myokit.ini. Continuing with detected version (20700). For a tiny performance boost, please set this version in /root/.config/myokit/myokit.ini\n"
     ]
    }
   ],
   "source": [
    "from scipy.integrate import ode, solve_ivp\n",
    "import numpy as np\n",
    "import matplotlib.pyplot as plt\n",
    "\n",
    "import pickle\n",
    "import os, sys\n",
    "import matplotlib.pyplot as plt\n",
    "\n",
    "import bisect\n",
    "\n",
    "import pints\n",
    "import myokit\n",
    "import myokit.pacing as pacing\n",
    "\n",
    "sys.path.append('../../../JKLib')\n",
    "from pythonJK import create_folder"
   ]
  },
  {
   "cell_type": "code",
   "execution_count": 2,
   "id": "fd4df662-c3d1-46be-a84d-fbf409878b78",
   "metadata": {},
   "outputs": [
    {
     "name": "stdout",
     "output_type": "stream",
     "text": [
      "The folder already exists.\n"
     ]
    }
   ],
   "source": [
    "result_folder = './Figures'\n",
    "create_folder(result_folder)"
   ]
  },
  {
   "cell_type": "code",
   "execution_count": 3,
   "id": "d7b309a6-2a26-4af5-8556-ebe1e10763ca",
   "metadata": {},
   "outputs": [],
   "source": [
    "from hh1592d_scipy import HH1592d\n",
    "from pacing_protocol import PacingProtocol\n",
    "protocol = PacingProtocol(level=1, start=5, length=0.03, period=30, multiplier=0, end=60, default_time_unit='ms')\n",
    "hh1592d = HH1592d(protocol)"
   ]
  },
  {
   "cell_type": "code",
   "execution_count": 4,
   "id": "7745f330-aebe-4217-b9e9-fe9c142bb81d",
   "metadata": {},
   "outputs": [
    {
     "name": "stdout",
     "output_type": "stream",
     "text": [
      "(1000,) 60.0\n",
      "Simulation done.\n"
     ]
    }
   ],
   "source": [
    "times = np.linspace(0, 60, 1000)\n",
    "print(times.shape, times.max())\n",
    "# voltage = kylie.voltage(times)\n",
    "\n",
    "AP = hh1592d.simulate(times)\n",
    "print(\"Simulation done.\")"
   ]
  },
  {
   "cell_type": "code",
   "execution_count": 5,
   "id": "82474522-b92b-4bc4-93a9-f0a9cbe2ef4f",
   "metadata": {},
   "outputs": [
    {
     "name": "stdout",
     "output_type": "stream",
     "text": [
      "(1000,)\n",
      "(1000,)\n"
     ]
    }
   ],
   "source": [
    "times = hh1592d.solver.t\n",
    "print(times.shape)\n",
    "print(AP.shape)"
   ]
  },
  {
   "cell_type": "code",
   "execution_count": 6,
   "id": "326d786e-b199-44f8-a37a-1b1dbf82ab7f",
   "metadata": {},
   "outputs": [
    {
     "data": {
      "image/png": "[encoded data removed]",
      "text/plain": [
       "<Figure size 432x288 with 1 Axes>"
      ]
     },
     "metadata": {
      "needs_background": "light"
     },
     "output_type": "display_data"
    }
   ],
   "source": [
    "fig, ax = plt.subplots(figsize=(6,4))    \n",
    "fig.suptitle('Hodgkin-Huxley 1952d', fontsize=14)\n",
    "# ax.set_title('Simulation %d'%(simulationNo))\n",
    "plt.xlabel('Time (ms)')\n",
    "plt.ylabel('Membrane Potential (mV)')     \n",
    "ax.plot(times, hh1592d.V, label='AP')    \n",
    "# textstr = \"GNa : %1.4f\\nGNaL : %1.4f\\nGto : %1.4f\\nPCa : %1.4f\\nGKr : %1.4f\\nGKs : %1.4f\\nGK1 : %1.4f\\nGf : %1.4f\"%(GNa/g_fc[0], GNaL/g_fc[1], Gto/g_fc[2], PCa/g_fc[3], GKr/g_fc[4], GKs/g_fc[5], GK1/g_fc[6], Gf/g_fc[7])\n",
    "# props = dict(boxstyle='round', facecolor='wheat', alpha=0.5)\n",
    "# place a text box in upper left in axes coords\n",
    "#     ax.text(0.67, 0.60, textstr, transform=ax.transAxes, fontsize=14, verticalalignment='top', bbox=props)    \n",
    "#     fig1 = plt.gcf()\n",
    "ax.legend()\n",
    "plt.show()\n",
    "fig.savefig(os.path.join(result_folder, \"AP.jpg\"), dpi=100)"
   ]
  },
  {
   "cell_type": "code",
   "execution_count": 7,
   "id": "626f0a50-61cd-4c42-aa29-de470f993eb3",
   "metadata": {},
   "outputs": [
    {
     "name": "stdout",
     "output_type": "stream",
     "text": [
      "finish\n"
     ]
    }
   ],
   "source": [
    "print(\"finish\")"
   ]
  },
  {
   "cell_type": "code",
   "execution_count": null,
   "id": "ea6e2aff-19f0-4d0f-8ab6-06c8b4dcea2c",
   "metadata": {},
   "outputs": [],
   "source": []
  }
 ],
 "metadata": {
  "kernelspec": {
   "display_name": "Python 3",
   "language": "python",
   "name": "python3"
  },
  "language_info": {
   "codemirror_mode": {
    "name": "ipython",
    "version": 3
   },
   "file_extension": ".py",
   "mimetype": "text/x-python",
   "name": "python",
   "nbconvert_exporter": "python",
   "pygments_lexer": "ipython3",
   "version": "3.8.8"
  }
 },
 "nbformat": 4,
 "nbformat_minor": 5
}
