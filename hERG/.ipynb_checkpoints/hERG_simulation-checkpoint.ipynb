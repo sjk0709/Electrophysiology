{
 "cells": [
  {
   "cell_type": "code",
   "execution_count": 1,
   "id": "f5cbbdbe-d96c-40ab-93be-16b854518cec",
   "metadata": {},
   "outputs": [
    {
     "name": "stderr",
     "output_type": "stream",
     "text": [
      "C:\\Anaconda3\\envs\\ml\\lib\\site-packages\\numpy\\_distributor_init.py:30: UserWarning: loaded more than 1 DLL from .libs:\n",
      "C:\\Anaconda3\\envs\\ml\\lib\\site-packages\\numpy\\.libs\\libopenblas.NOIJJG62EMASZI6NYURL6JBKM4EVBGM7.gfortran-win_amd64.dll\n",
      "C:\\Anaconda3\\envs\\ml\\lib\\site-packages\\numpy\\.libs\\libopenblas.WCDJNK7YVMPZQ2ME2ZZHJJRJ3JIKNDB7.gfortran-win_amd64.dll\n",
      "  warnings.warn(\"loaded more than 1 DLL from .libs:\\n%s\" %\n"
     ]
    }
   ],
   "source": [
    "from scipy.integrate import ode, solve_ivp\n",
    "import numpy as np\n",
    "import matplotlib.pyplot as plt\n",
    "\n",
    "import pickle\n",
    "from os import listdir\n",
    "import matplotlib.pyplot as plt\n",
    "\n",
    "# import mod_kernik as kernik\n",
    "import bisect\n",
    "import mod_protocols\n",
    "\n",
    "import pints\n",
    "import myokit\n",
    "import myokit.pacing as pacing"
   ]
  },
  {
   "cell_type": "code",
   "execution_count": 2,
   "id": "0d55d39c-83f9-472e-9e87-5e8880f461ae",
   "metadata": {},
   "outputs": [],
   "source": [
    "def get_voltage_clamp_step_tangent_yIntercept(t1, V1, t2, V2):\n",
    "    '''\n",
    "    y=ax+b\n",
    "    y-V1 = (V2-V1)/(t2-t1)*(x-t1)  <-  (t1, V1) , (t2, V2)\n",
    "    return a, b\n",
    "    '''\n",
    "    a = (V2 - V1)/(t2 - t1)\n",
    "    b = -a*t1 + V1\n",
    "    return a, b"
   ]
  },
  {
   "cell_type": "code",
   "execution_count": 3,
   "id": "4104121b-6f2a-493d-86cf-1ab76fad30b7",
   "metadata": {},
   "outputs": [],
   "source": [
    "def plot_shorten_with_vcmd(model, trial_conditions, model_name, is_vc_only=False):\n",
    "    path_to_data = f\"{trial_conditions}\"\n",
    "    \n",
    "    files = listdir(path_to_data)\n",
    "\n",
    "    for f in files:\n",
    "        if ('shorten' in f) and ('pkl' in f):\n",
    "            file_name = f\n",
    "    print(f\"{path_to_data}/{file_name}\")\n",
    "    short_protocol = pickle.load(open(f\"{path_to_data}/{file_name}\", 'rb'))\n",
    "#     print(short_protocol.steps)  \n",
    "#     print(short_protocol.get_voltage_change_endpoints())\n",
    "#     print(short_protocol.get_voltage_change_startpoints())      \n",
    "#     print(\"=\"*50)    \n",
    "    start_point_li = short_protocol.get_voltage_change_startpoints()\n",
    "    end_point_li = short_protocol.get_voltage_change_endpoints()\n",
    "    steps = []\n",
    "    ramp_mmt_script = 'piecewise('\n",
    "    for step_index, current_step in enumerate(short_protocol.steps):        \n",
    "        if isinstance(current_step, mod_protocols.VoltageClampStep):\n",
    "            # print(\"voltage :\", current_step.voltage)\n",
    "            # print(\"duration :\", current_step.duration)            \n",
    "            steps += [(current_step.voltage, current_step.duration)]            \n",
    "        elif isinstance(current_step, mod_protocols.VoltageClampRamp):            \n",
    "#             print(\"start :\", start_point_li[step_index])\n",
    "#             print(\"end :\", end_point_li[step_index])\n",
    "#             print(\"voltage_start :\", current_step.voltage_start)\n",
    "#             print(\"voltage_end :\", current_step.voltage_end)            \n",
    "#             print(\"duration :\", current_step.duration)        \n",
    "            steps += [(0.5*(current_step.voltage_start+current_step.voltage_end), current_step.duration)]\n",
    "            a, b = get_voltage_clamp_step_tangent_yIntercept(start_point_li[step_index], current_step.voltage_start, end_point_li[step_index], current_step.voltage_end) \n",
    "#             print(\"Tangent :\", a)\n",
    "#             print(\"y-intercept\", b)\n",
    "            # return current_step.get_voltage(time_into_step)\n",
    "            # get_voltage_clamp_step_range_tangent()       \n",
    "#             print(\"-\"*50)                \n",
    "            ramp_mmt_script += 'engine.time >= %f and engine.time < %f,'%(start_point_li[step_index], end_point_li[step_index]) \n",
    "            ramp_mmt_script += ' %f + (%f) * engine.time, '%(b, a)\n",
    "        else:\n",
    "            # return current_step.get_voltage(time_into_step)\n",
    "            # print(current_step.get_voltage(time_into_step))\n",
    "            continue        \n",
    "    ramp_mmt_script += 'engine.pace)'\n",
    "    \n",
    "    model.get('membrane.V').set_rhs(ramp_mmt_script)\n",
    "    \n",
    "#     print(\"=\"*50)\n",
    "    print(f'The protocol is {short_protocol.get_voltage_change_endpoints()[-1]} ms')\n",
    "    \n",
    "    if is_vc_only:\n",
    "        short_protocol.get_voltage_clamp_protocol()\n",
    "    \n",
    "    # time = 1000\n",
    "    # step_index = bisect.bisect_left(\n",
    "    #     short_protocol.get_voltage_change_endpoints(),\n",
    "    #     time)\n",
    "    # print(step_index)\n",
    "    # current_step = short_protocol.steps[step_index]\n",
    "    # time_into_step = time - short_protocol.get_voltage_change_startpoints()[\n",
    "    #             step_index]        \n",
    "    # if isinstance(current_step, protocols.VoltageClampStep):\n",
    "    #     # print(\"voltage :\", current_step.voltage)\n",
    "    #     # print(\"duration :\", current_step.duration)\n",
    "    #     return current_step.voltage\n",
    "    # elif isinstance(current_step, protocols.VoltageClampRamp):\n",
    "    #     # print(time_into_step)\n",
    "    #     return current_step.get_voltage(time_into_step)\n",
    "    # else:\n",
    "    #     return current_step.get_voltage(time_into_step)    \n",
    "    return model, steps"
   ]
  },
  {
   "cell_type": "code",
   "execution_count": 5,
   "id": "76921545-3483-4772-aa31-c84e6a70b0c6",
   "metadata": {},
   "outputs": [
    {
     "data": {
      "text/plain": [
       "<Model(ohara-2017)>"
      ]
     },
     "execution_count": 5,
     "metadata": {},
     "output_type": "execute_result"
    }
   ],
   "source": [
    "model_file = '../mmt-model-files/newordherg_qNet_JK.mmt'\n",
    "model = myokit.load_model(model_file)\n",
    "model"
   ]
  },
  {
   "cell_type": "code",
   "execution_count": 6,
   "id": "f7974e4c-600d-4ef7-bc0f-302e21470791",
   "metadata": {},
   "outputs": [
    {
     "name": "stdout",
     "output_type": "stream",
     "text": [
      "trial_steps_ramps_Kernik_200_50_4_-120_60/shortened_trial_steps_ramps_Kernik_200_50_4_-120_60_500_artefact_True_short.pkl\n",
      "The protocol is 9055.950603217367 ms\n",
      "9055.0\n"
     ]
    }
   ],
   "source": [
    "# 1. Create pre-pacing protocol\n",
    "vhold = -80e-3\n",
    "protocol = pacing.constant(vhold)\n",
    "# Create pre-pacing simulation\n",
    "simulation1 = myokit.Simulation(model, protocol)\n",
    "\n",
    "trial_conditions = \"trial_steps_ramps_Kernik_200_50_4_-120_60\"\n",
    "model_name = 'Kernik'\n",
    "model, steps = plot_shorten_with_vcmd(model, trial_conditions, model_name, is_vc_only=False)\n",
    "protocol = myokit.Protocol()\n",
    "total_duration = 0\n",
    "for f, t in steps:\n",
    "    protocol.add_step(f, t)\n",
    "    total_duration += t\n",
    "times = np.arange(0, total_duration, 1)\n",
    "simulation2 = myokit.Simulation(model, protocol)\n",
    "# simulation2.set_tolerance(1e-12, 1e-14)\n",
    "# simulation2.set_max_step_size(1e-5)\n",
    "init_state = simulation1.state()\n",
    "\n",
    "# Run\n",
    "simulation1.reset()\n",
    "simulation2.reset()\n",
    "simulation1.set_state(init_state)\n",
    "simulation2.set_state(init_state)\n",
    "\n",
    "\n",
    "d = None\n",
    "bcl =1000\n",
    "# try:\n",
    "simulation1.pre(bcl*100)\n",
    "# simulation2.pre(100) # self._bcl*100\n",
    "simulation2.set_state(simulation1.state())\n",
    "print(np.max(times))\n",
    "d = simulation2.run(np.max(times), # np.max(times)+1,\n",
    "                    log_times = times,                        \n",
    "                    log = ['engine.time', 'membrane.V', 'membrane.i_ion', 'ina.INa', 'inal.INaL', 'ito.Ito', 'ical.ICaL', 'ikr.IKr', 'iks.IKs', 'ik1.IK1', 'if.iF', 'qnet.qNet_JK' ],\n",
    "                    #log_interval = 0.025\n",
    "                   ).npview()\n",
    "# except myokit.SimulationError:\n",
    "#     print(\"simulation fail\")\n"
   ]
  },
  {
   "cell_type": "code",
   "execution_count": 7,
   "id": "7fc9d5f0-108f-4836-9817-0aac72fcabf9",
   "metadata": {},
   "outputs": [
    {
     "data": {
      "image/png": "[encoded data removed]",
      "text/plain": [
       "<Figure size 432x288 with 1 Axes>"
      ]
     },
     "metadata": {
      "needs_background": "light"
     },
     "output_type": "display_data"
    }
   ],
   "source": [
    "plt.figure()\n",
    "# plt.suptitle('New ORD-hERG - '+ self._cell_types[self._cell_mode] +' cell')\n",
    "plt.plot(d['engine.time'], d['membrane.V'])\n",
    "# plt.title('Membrane potential')\n",
    "plt.xlabel('Time (ms)')\n",
    "plt.ylabel('Voltage (mV)')\n",
    "#plt.legend(\"membrane\", loc='best')\n",
    "#             plt.savefig(\"./default.png\")\n",
    "plt.show()"
   ]
  },
  {
   "cell_type": "code",
   "execution_count": 8,
   "id": "9e7a219e-6dce-4218-9e17-03447f9f56ba",
   "metadata": {},
   "outputs": [
    {
     "data": {
      "image/png": "[encoded data removed]",
      "text/plain": [
       "<Figure size 432x288 with 1 Axes>"
      ]
     },
     "metadata": {
      "needs_background": "light"
     },
     "output_type": "display_data"
    }
   ],
   "source": [
    "plt.figure()\n",
    "# plt.suptitle('New ORD-hERG - '+ self._cell_types[self._cell_mode] +' cell')\n",
    "plt.plot(d['engine.time'], d['membrane.i_ion'])\n",
    "# plt.title('Membrane potential')\n",
    "plt.xlabel('Time (ms)')\n",
    "plt.ylabel('Current (mV)')\n",
    "#plt.legend(\"membrane\", loc='best')\n",
    "#             plt.savefig(\"./default.png\")\n",
    "plt.show()"
   ]
  },
  {
   "cell_type": "code",
   "execution_count": 9,
   "id": "134140cd-0642-4104-a983-8b73302c7be7",
   "metadata": {},
   "outputs": [
    {
     "data": {
      "image/png": "[encoded data removed]",
      "text/plain": [
       "<Figure size 432x288 with 1 Axes>"
      ]
     },
     "metadata": {
      "needs_background": "light"
     },
     "output_type": "display_data"
    }
   ],
   "source": [
    "plt.figure()\n",
    "# plt.suptitle('New ORD-hERG - '+ self._cell_types[self._cell_mode] +' cell')\n",
    "plt.plot(d['engine.time'], d['ikr.IKr'])\n",
    "# plt.title('Membrane potential')\n",
    "plt.xlabel('Time (ms)')\n",
    "plt.ylabel('Current (mV)')\n",
    "#plt.legend(\"membrane\", loc='best')\n",
    "#             plt.savefig(\"./default.png\")\n",
    "plt.show()"
   ]
  },
  {
   "cell_type": "code",
   "execution_count": 10,
   "id": "fd4df662-c3d1-46be-a84d-fbf409878b78",
   "metadata": {},
   "outputs": [
    {
     "name": "stdout",
     "output_type": "stream",
     "text": [
      "OK\n"
     ]
    }
   ],
   "source": [
    "print(\"OK\")"
   ]
  },
  {
   "cell_type": "code",
   "execution_count": null,
   "id": "2e1feba3-e418-4a9e-8588-57ceca9789f7",
   "metadata": {},
   "outputs": [],
   "source": [
    "afasdf"
   ]
  },
  {
   "cell_type": "code",
   "execution_count": null,
   "id": "95e27ea9-0302-450f-9960-03cda9b4e7d4",
   "metadata": {},
   "outputs": [],
   "source": []
  },
  {
   "cell_type": "code",
   "execution_count": null,
   "id": "f701c205-4871-4e12-8f95-df220f011c5d",
   "metadata": {},
   "outputs": [],
   "source": [
    "kernik_model_initial = np.array([-7.559660163885467909e+01\n",
    "        ,3.350867967323261087e-01 ,2.191916424249644175e-04\n",
    "        ,7.169280912509991666e+00 ,1.047488243941121340e+02\n",
    "        ,0.000000000000000000e+00 ,3.949253426529243357e-04\n",
    "        ,1.709901055855402585e-01 ,8.777989461340885979e-01\n",
    "        ,3.097674857154331662e-01 ,4.505771851485185775e-01\n",
    "        ,1.537882816509487383e-01 ,7.395436078124292267e-01\n",
    "        ,1.245159825745049409e-01 ,2.975499629264136137e-02\n",
    "        ,6.403385049126154686e-03 ,7.468028106140061073e-01\n",
    "        ,2.675978333441605570e-04 ,2.701955734715771754e-04\n",
    "        ,7.560329043683934325e-01 ,1.131203634337511060e-02\n",
    "        ,1.650451053123964203e-04 ,1.421536223230116143e-02])\n",
    "kernik_model_initial[15]"
   ]
  },
  {
   "cell_type": "code",
   "execution_count": null,
   "id": "719c9fc3-edb8-4d5f-b540-34ea8e4f70d8",
   "metadata": {},
   "outputs": [],
   "source": [
    "conductances = np.array([\n",
    "            [0.133785778, 0.167232222, 0.1539573, 0.02287708, 0.37448125],\n",
    "            [0.218025, 0.218025, 0.12307354, 0.1173, 0.38556],\n",
    "            [0.0077, 0.0077, 4.10E-03, 0.003, 0.0105],\n",
    "            [0.117833333, 0.11783333, 0.08164915, 0.025, 0.1785],\n",
    "            [0.308027691, 0.30802769, 0.14947741, 0.17779487\t, 0.48404881],\n",
    "            [0.185, 0.185, 0, 0.185, 0.185],\n",
    "            [9.720613409, 7.77649073, 5.64526927, 3.314905, 14.1230769],\n",
    "            [0.0435, 0.0725, 0.03889087, 0.045, 0.1]])\n",
    "cond = conductances[:,0]\n",
    "dict(zip(['G_K1', 'G_Kr', 'G_Ks', 'G_To', 'G_CaL',\n",
    "            'G_CaT', 'G_Na', 'G_F'], cond))"
   ]
  },
  {
   "cell_type": "code",
   "execution_count": null,
   "id": "a705d6bd-ed68-4a59-b663-830c9b56aed4",
   "metadata": {},
   "outputs": [],
   "source": [
    "kinetics = np.array([\n",
    "            [0.477994972, 0.477994972, 0.78032536, 0.086091386, 1.643258199],\n",
    "            [27.24275588, 27.24275588, 46.6925068, 1, 96.93907235],\n",
    "            [4.925023318, 4.925023318, 4.82603947, 1.543602925, 9.5526684],\n",
    "            [8.7222376, 5.814825067, 11.4633013, 1, 23.00964732],\n",
    "            [56.6361975, 56.6361975, 36.8545007, 5.89018309, 53.98242312],\n",
    "            [0.005748852, 0.005748852, 0.00473475, 0.002413274, 0.012618316],\n",
    "            [13.62349264, 13.62349264, 3.08586237, 9.982309016, 16.41208169],\n",
    "            [0.047630571, 0.047630571, 0.04826739, 0.010493187, 0.116829523],\n",
    "            [-7.06808743, -7.06808743, 1.09408185, -7.837301799, -5.503841634],\n",
    "            [0.012456641, 0.012456641, 0, 0.012456641, 0.012456641],\n",
    "            [-25.99445816, -25.99445816, 0, -25.99445816, -25.99445816],\n",
    "            [37.34263315, 37.34263315, 0, 37.34263315, 37.34263315],\n",
    "            [22.09196424, 22.09196424, 0, 22.09196424, 22.09196424],\n",
    "            [50, 50, 0, 50, 50],\n",
    "            [0, 0, 0, 0, 0],\n",
    "            [0.001165584, 0.00116558, 1.97E-04, 0.000938402, 0.001279985],\n",
    "            [66726.83868, 66726.8387, 5.76E+04, 180.516028, 180.516028],\n",
    "            [0.280458908, 0.28045891, 6.53E-02, 0.226791034, 0.35315329],\n",
    "            [-18.86697157, -18.866972, 3.81E+00, -22.09064507, -14.66331138],\n",
    "            [4.74E-06, 4.7412E-06, 8.21E-06, 1.42234E-05, 1.42234E-05],\n",
    "            [0.055361418, 0.05536142, 0.00650597, 0.047848966, 0.059117682],\n",
    "            [11.68420234, 11.6842023, 3.01474182, 9.943629418, 15.16532634],\n",
    "            [3.98918108, 3.98918108, 1.05712329, 3.378844251, 5.209841907],\n",
    "            [-11.0471393, -11.047139, 3.12062648, -14.65052838, -9.245436067],\n",
    "            [0.000344231, 0.00034423, 0.00016743, 0.000156649, 0.000478564],\n",
    "            [-17.63447229, -17.634472, 5.50967004, -21.83632615, -11.39654378],\n",
    "            [186.7605369, 186.760537, 95.4355319, 76.78365895, 247.8116054],\n",
    "            [8.180933873, 8.18093387, 1.5661887, 7.245459851, 9.989048928],\n",
    "            [0.696758421, 0.69675842, 0.28471474, 0.367998153, 0.861139357],\n",
    "            [11.22445772, 11.2244577, 3.59589485, 9.143422652, 15.37663552],\n",
    "            [12.96629419, 11.6559002, 3.97928545, 7.724718063, 15.56079568],\n",
    "            [7.079145965, 6.90656573, 0.94025736, 5.861186262, 7.874815006],\n",
    "            [0.044909416, 0.05568978, 0.02496024, 0.032552968, 0.088030875],\n",
    "            [-6.909880369, -6.7488536, 0.88944641, -7.668072635, -5.756217955],\n",
    "            [0.00051259, 0.00079554, 0.00057811, 0.000345496, 0.001644383],\n",
    "            [-49.50571203, -57.74437, 17.0315447, -82.46034376, -43.41688999],\n",
    "            [1931.211224, 1652.96016, 1278.99495, 729.0226806, 3483.755573],\n",
    "            [5.7300275, 5.38558719, 0.91724962, 4.352266246, 6.184908264],\n",
    "            [1.658246947, 1.67772716, 0.05215074, 1.612282651, 1.736167781],\n",
    "            [100.4625592, 99.7825129, 3.44090843, 97.14763413, 104.7168375],\n",
    "            [108.0458464, 456.733242, 604.009439, 99.17442902, 1154.108035],\n",
    "            [13.10701573, 11.3992167, 2.97074072, 7.983618551, 13.38191118],\n",
    "            [0.002326914, 0.00162761, 0.00196027, 0.000229015, 0.003868206],\n",
    "            [-7.91772629, -7.4266635, 0.90062426, -8.213861508, -6.444537922],\n",
    "            [0.003626599, 0.0036266, 0.00265009, 0.000960603, 0.0062605],\n",
    "            [-19.83935886, -19.839359, 2.34170813, -21.62564536, -17.18823882],\n",
    "            [9663.294977, 9890.78299, 6950.91978, 4042.292718, 17575.45426],\n",
    "            [7.395503565, 8.10022296, 1.19231566, 6.724140533, 8.825873829],\n",
    "            [0.000512257, 0.00051226, 0.00020327, 0.000278371, 0.000646264],\n",
    "            [-66.5837555, -66.583756, 6.10674426, -70.75895034, -59.57496549],\n",
    "            [0.03197758, 0.03197758, 0.00474363, 0.028876838, 0.037438327],\n",
    "            [0.167331503, 0.1673315, 0.02829329, 0.149629048, 0.199962502],\n",
    "            [0.951088725, 0.95108872, 0.32200385, 0.741717293, 1.321874393],\n",
    "            [5.79E-07, 9.7833E-07, 9.413E-07, 3.1273E-07, 1.64393E-06],\n",
    "            [-14.58971217, -14.474487, 0.27158838, -14.66652896, -14.282445],\n",
    "            [20086.65024, 20461.5753, 1060.44821, 19711.72518, 21211.42542],\n",
    "            [10.20235285, 9.66252506, 1.52686356, 8.582869478, 10.74218063],\n",
    "            [23.94529135, 23.9452913, 33.8200742, 1, 47.85969513]])"
   ]
  },
  {
   "cell_type": "code",
   "execution_count": null,
   "id": "97fba50e-f564-4133-b60d-525614d32984",
   "metadata": {},
   "outputs": [],
   "source": [
    "model_kinetics = kinetics[:,0]\n",
    "model_kinetics[53:]"
   ]
  },
  {
   "cell_type": "code",
   "execution_count": null,
   "id": "ab4a77fd-a910-4fe5-afdb-fcf1c9f68130",
   "metadata": {},
   "outputs": [],
   "source": []
  },
  {
   "cell_type": "code",
   "execution_count": null,
   "id": "04ab1d2c-7d36-443e-bf8a-17f299ad29e5",
   "metadata": {},
   "outputs": [],
   "source": [
    "def leak_staircase(return_capmask=False):\n",
    "    # My 'test6_v3'/staircase-ramp protocol\n",
    "    # model: myokit model\n",
    "    # return_capmask: if True, return an extra function that takes time series\n",
    "    #                 as argument and return a mask to filter off capacitance\n",
    "    #                 effect.\n",
    "\n",
    "    tpre  = 0.2           # Time before step to variable V\n",
    "    tstep = 0.5           # Time at variable V\n",
    "    tpost = 0.1           # Time after step to variable V\n",
    "    vhold = -80e-3\n",
    "    vmin = -60e-3#-100e-3\n",
    "    vmax = 40e-3\n",
    "    vres = 20e-3        # Difference in V between steps\n",
    "    v = np.arange(vmin, vmax + vres, vres)\n",
    "\n",
    "    steps = []\n",
    "    # Leak estimate\n",
    "    steps += [(vhold, 0.25)]\n",
    "    steps += [(-120e-3, 0.05)]\n",
    "    steps += [(-30e-3, 400e-3)]  # ramp step\n",
    "    # Staircase\n",
    "    steps += [(vhold, 0.2)]\n",
    "    steps += [(40e-3, 1.0)]\n",
    "    steps += [(-120e-3, 0.5)]\n",
    "    steps += [(vhold, 1.0)]\n",
    "    for vstep in v[1::]:\n",
    "        steps += [(vstep, tstep)]\n",
    "        steps += [(vstep-vres, tstep)]\n",
    "    for vstep in v[::-1][:-1]:\n",
    "        steps += [(vstep, tstep)]\n",
    "        steps += [(vstep-2*vres, tstep)]\n",
    "    steps += [(vhold, 1.0 - tstep)]  # extend a bit the ending...\n",
    "    # EK estimate\n",
    "    steps += [(40e-3, tstep)]\n",
    "    steps += [(-70e-3, 10e-3)]  # Michael's suggestion\n",
    "    steps += [(-120e-3, tstep - 10e-3)]  # second ramp step\n",
    "    steps += [(vhold, 100)]\n",
    "    # Set ramp bit\n",
    "    model.get('membrane.V').set_rhs(\n",
    "                'piecewise('\n",
    "                +\n",
    "                'engine.time >= 1971.2982963651616 and engine.time < 2075.0,'\n",
    "                + ' + 607.7131830386915 - 0.3093435089926058 * engine.time'\n",
    "                +\n",
    "                ', engine.time >= 2758.0120940706697 and engine.time < 2860.0,'\n",
    "                + ' - 1817.6148387865226 + 0.6403044009790962 * engine.time'\n",
    "                +\n",
    "                ', engine.time >= 3360.0 and engine.time < 3632.183537190953,'\n",
    "                + ' + 2046.3437058386642 - 0.5929092803115996 * engine.time'\n",
    "                +\n",
    "                ', engine.time >= 4235.0 and engine.time < 4287.212253716296,'\n",
    "                + ' + 261.8543636773942 - 0.07985308595470898 * engine.time'\n",
    "                +\n",
    "                ', engine.time >= 6435.0 and engine.time < 7164.411843355022,'\n",
    "                + ' + 49.49681884726567 + 0.0008984787040976795 * engine.time'\n",
    "                +\n",
    "                ', engine.time >= 8161.023394295294 and engine.time < 9055.950603217367,'\n",
    "                + ' + 338.6149508447877 - 0.034286830393634095 * engine.time'\n",
    "                +\n",
    "                ', engine.pace)')\n",
    "\n",
    "    if return_capmask:\n",
    "\n",
    "        def capmask(times, capmaskdt=capmaskdt):\n",
    "            fcap = np.ones(times.shape)\n",
    "            currentt = 0\n",
    "            for v, dur in steps:\n",
    "                idxi = np.where(times > currentt)[0][0] - 1  # inclusive\n",
    "                idxf = np.where(times > currentt + capmaskdt)[0][0]\n",
    "                fcap[idxi:idxf] = 0\n",
    "                currentt += dur\n",
    "            return fcap\n",
    "\n",
    "        return steps, capmask\n",
    "    else:\n",
    "        return steps"
   ]
  },
  {
   "cell_type": "code",
   "execution_count": null,
   "id": "08b670fd-4509-480a-813a-6ac62de01b0d",
   "metadata": {},
   "outputs": [],
   "source": [
    "def leak_staircase(return_capmask=False):\n",
    "    # My 'test6_v3'/staircase-ramp protocol\n",
    "    # model: myokit model\n",
    "    # return_capmask: if True, return an extra function that takes time series\n",
    "    #                 as argument and return a mask to filter off capacitance\n",
    "    #                 effect.\n",
    "\n",
    "    tpre  = 0.2           # Time before step to variable V\n",
    "    tstep = 0.5           # Time at variable V\n",
    "    tpost = 0.1           # Time after step to variable V\n",
    "    vhold = -80e-3\n",
    "    vmin = -60e-3#-100e-3\n",
    "    vmax = 40e-3\n",
    "    vres = 20e-3        # Difference in V between steps\n",
    "    v = np.arange(vmin, vmax + vres, vres)\n",
    "\n",
    "    steps = []\n",
    "    # Leak estimate\n",
    "    steps += [(vhold, 0.25)]\n",
    "    steps += [(-120e-3, 0.05)]\n",
    "    steps += [(-30e-3, 400e-3)]  # ramp step\n",
    "    # Staircase\n",
    "    steps += [(vhold, 0.2)]\n",
    "    steps += [(40e-3, 1.0)]\n",
    "    steps += [(-120e-3, 0.5)]\n",
    "    steps += [(vhold, 1.0)]\n",
    "    for vstep in v[1::]:\n",
    "        steps += [(vstep, tstep)]\n",
    "        steps += [(vstep-vres, tstep)]\n",
    "    for vstep in v[::-1][:-1]:\n",
    "        steps += [(vstep, tstep)]\n",
    "        steps += [(vstep-2*vres, tstep)]\n",
    "    steps += [(vhold, 1.0 - tstep)]  # extend a bit the ending...\n",
    "    # EK estimate\n",
    "    steps += [(40e-3, tstep)]\n",
    "    steps += [(-70e-3, 10e-3)]  # Michael's suggestion\n",
    "    steps += [(-120e-3, tstep - 10e-3)]  # second ramp step\n",
    "    steps += [(vhold, 100)]\n",
    "    # Set ramp bit\n",
    "#     model.get('membrane.V').set_rhs(\n",
    "#                 'piecewise('\n",
    "#                 +\n",
    "#                 'engine.time >= 0.300 and engine.time < 0.700001,'\n",
    "#                 + '-150e-3 + 0.1 * engine.time'\n",
    "#                 +\n",
    "#                 ', engine.time >= 14.410 and engine.time < 14.510001,'\n",
    "#                 + ' + 5.694 - 0.4 * engine.time'\n",
    "#                 +\n",
    "#                 ', engine.pace)')\n",
    "\n",
    "    if return_capmask:\n",
    "\n",
    "        def capmask(times, capmaskdt=capmaskdt):\n",
    "            fcap = np.ones(times.shape)\n",
    "            currentt = 0\n",
    "            for v, dur in steps:\n",
    "                idxi = np.where(times > currentt)[0][0] - 1  # inclusive\n",
    "                idxf = np.where(times > currentt + capmaskdt)[0][0]\n",
    "                fcap[idxi:idxf] = 0\n",
    "                currentt += dur\n",
    "            return fcap\n",
    "\n",
    "        return steps, capmask\n",
    "    else:\n",
    "        return steps"
   ]
  },
  {
   "cell_type": "code",
   "execution_count": null,
   "id": "5316ee32-18b9-46c9-a771-69ed0370c9e1",
   "metadata": {},
   "outputs": [],
   "source": [
    "a = leak_staircase()\n",
    "a"
   ]
  },
  {
   "cell_type": "code",
   "execution_count": null,
   "id": "5ee1ca34-35ae-47c3-b177-1332efb9f4f1",
   "metadata": {},
   "outputs": [],
   "source": [
    "\n",
    "time = np.linspace(0, 15.4, 65)\n",
    "time = np.arange(1540)*0.01\n",
    "dt = time[1] - time[0]\n",
    "print(\"dt :\", dt)\n",
    "voltage_protocol = 80*np.sin(time) \n",
    "\n",
    "p = (10, 2,2,1,1,1,1,1,1)\n",
    "\n",
    "def voltage(t):\n",
    "    return 1.2*np.sin(t)\n",
    "\n",
    "def f(t, ar):    \n",
    "    V = voltage(t) \n",
    "    k1 = p[1]*np.exp(p[2]*V)\n",
    "    k2 = p[3]*np.exp(-p[4]*V)\n",
    "    k3 = p[5]*np.exp(p[6]*V)\n",
    "    k4 = p[7]*np.exp(-p[8]*V)\n",
    "    tau_a = 1/(k1+k2)\n",
    "    tau_r = 1/(k3+k4)\n",
    "    a_inf = k1/(k1+k2)\n",
    "    r_inf = k4/(k3+k4)    \n",
    "    dot_a = (a_inf-ar[0])/tau_a\n",
    "    dot_r = (r_inf-ar[1])/tau_r\n",
    "    return [dot_a, dot_r]\n",
    "\n"
   ]
  },
  {
   "cell_type": "code",
   "execution_count": null,
   "id": "85f21cb5-e216-441c-8d8e-b16edce0683d",
   "metadata": {},
   "outputs": [],
   "source": [
    "ar0 = [0,1]\n",
    "\n",
    "r = ode(f).set_integrator('vode', method='bdf', atol=1e-06, rtol=1e-06, max_step=1)\n",
    "r.set_initial_value(ar0, time[0]) #.set_f_params(2.0)\n",
    "t1 = 15\n",
    "dt = 0.01\n",
    "# times = []\n",
    "a_li = []\n",
    "r_li = []\n",
    "a_li.append(ar0[0])\n",
    "r_li.append(ar0[1])\n",
    "# print(time)\n",
    "for (i, t) in enumerate(time[1:]):    \n",
    "    if r.successful():        \n",
    "        y = r.integrate(t)\n",
    "#         print(y)\n",
    "#         times.append(t)\n",
    "        a_li.append(y[0])\n",
    "        r_li.append(y[1])\n",
    "#         print(t, y)\n",
    "    else :\n",
    "        break\n",
    "a1 = np.array(a_li)\n",
    "r1 = np.array(r_li)\n",
    "print(a1, r1)\n",
    "print(\"finish\")"
   ]
  },
  {
   "cell_type": "code",
   "execution_count": null,
   "id": "6116cb70-1c92-4574-98d7-42a114529dcd",
   "metadata": {},
   "outputs": [],
   "source": [
    "def hERG(t, z, p1, p2, p3, p4, p5, p6, p7, p8):    \n",
    "    a, r = z    \n",
    "    V = voltage(t)\n",
    "    k1 = p1*np.exp(p2*V)\n",
    "    k2 = p3*np.exp(-p4*V)\n",
    "    k3 = p5*np.exp(p6*V)\n",
    "    k4 = p7*np.exp(-p8*V)\n",
    "    tau_a = 1/(k1+k2)\n",
    "    tau_r = 1/(k3+k4)\n",
    "    a_inf = k1/(k1+k2)\n",
    "    r_inf = k4/(k3+k4)    \n",
    "  \n",
    "    return [(a_inf-a)/tau_a, (r_inf-r)/tau_r]"
   ]
  },
  {
   "cell_type": "code",
   "execution_count": null,
   "id": "25b1e176-765f-44cf-8671-b01d9d46f818",
   "metadata": {},
   "outputs": [],
   "source": [
    "default_time_unit = 's'\n",
    "if default_time_unit == 's':\n",
    "    time_conversion = 1.0\n",
    "    default_unit = 'standard'\n",
    "else:\n",
    "    time_conversion = 1000.0\n",
    "    default_unit = 'milli'\n",
    "sol = solve_ivp(hERG, [0, 15.4], [0, 1], args=p[1:], dense_output=True, \n",
    "                method='LSODA', # RK45 | LSODA\n",
    "                max_step=8e-4*time_conversion)\n",
    "# print(sol.t)\n",
    "print(sol.y.shape)\n",
    "a2, r2 = sol.sol(time)\n",
    "print(a2, r2)\n",
    "print(\"finish\")"
   ]
  },
  {
   "cell_type": "code",
   "execution_count": null,
   "id": "a1bf92ff-c922-4afc-908c-15c553104012",
   "metadata": {},
   "outputs": [],
   "source": [
    "V = voltage(time)\n",
    "# print(V)\n",
    "I1 = p[0]*a1*r1*(V-80)\n",
    "I2 = p[0]*a2*r2*(V-80)\n",
    "plt.plot(time, I1)\n",
    "plt.plot(time, I2)\n",
    "plt.show()"
   ]
  },
  {
   "cell_type": "code",
   "execution_count": null,
   "id": "d7b309a6-2a26-4af5-8556-ebe1e10763ca",
   "metadata": {},
   "outputs": [],
   "source": []
  },
  {
   "cell_type": "code",
   "execution_count": null,
   "id": "f3ef0690-7ea1-4984-8cca-077c0135e64b",
   "metadata": {},
   "outputs": [],
   "source": []
  },
  {
   "cell_type": "code",
   "execution_count": null,
   "id": "626f0a50-61cd-4c42-aa29-de470f993eb3",
   "metadata": {},
   "outputs": [],
   "source": []
  }
 ],
 "metadata": {
  "kernelspec": {
   "display_name": "Python 3",
   "language": "python",
   "name": "python3"
  },
  "language_info": {
   "codemirror_mode": {
    "name": "ipython",
    "version": 3
   },
   "file_extension": ".py",
   "mimetype": "text/x-python",
   "name": "python",
   "nbconvert_exporter": "python",
   "pygments_lexer": "ipython3",
   "version": "3.8.8"
  }
 },
 "nbformat": 4,
 "nbformat_minor": 5
}
