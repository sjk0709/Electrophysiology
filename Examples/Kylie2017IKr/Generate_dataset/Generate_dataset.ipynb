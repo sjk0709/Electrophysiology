{
 "cells": [
  {
   "cell_type": "code",
   "execution_count": 1,
   "id": "c797b0f5-b635-44ed-8047-735d4a931ef5",
   "metadata": {},
   "outputs": [
    {
     "name": "stderr",
     "output_type": "stream",
     "text": [
      "C:\\Anaconda3\\envs\\ml\\lib\\site-packages\\numpy\\_distributor_init.py:30: UserWarning: loaded more than 1 DLL from .libs:\n",
      "C:\\Anaconda3\\envs\\ml\\lib\\site-packages\\numpy\\.libs\\libopenblas.NOIJJG62EMASZI6NYURL6JBKM4EVBGM7.gfortran-win_amd64.dll\n",
      "C:\\Anaconda3\\envs\\ml\\lib\\site-packages\\numpy\\.libs\\libopenblas.WCDJNK7YVMPZQ2ME2ZZHJJRJ3JIKNDB7.gfortran-win_amd64.dll\n",
      "  warnings.warn(\"loaded more than 1 DLL from .libs:\\n%s\" %\n"
     ]
    }
   ],
   "source": [
    "import os, sys, time, copy\n",
    "import random\n",
    "import numpy as np\n",
    "import matplotlib.pyplot as plt\n",
    "\n",
    "import multiprocessing\n",
    "from functools import partial\n",
    "from tqdm import tqdm\n",
    "\n",
    "\n",
    "import myokit\n",
    "sys.path.append('../../../')\n",
    "sys.path.append('../../../Protocols')\n",
    "sys.path.append('../../../Models')\n",
    "sys.path.append('../../../Lib')\n",
    "import protocol_lib\n",
    "import mod_trace\n",
    "\n",
    "import simulator_myokit\n",
    "import simulator_scipy\n",
    "import vc_protocols\n",
    "import vc_protocols_for_myokit "
   ]
  },
  {
   "cell_type": "code",
   "execution_count": 2,
   "id": "361e11a7-efa9-4b45-8831-79bbbea76792",
   "metadata": {},
   "outputs": [],
   "source": [
    "def find_closest_index(array, t):\n",
    "    \"\"\"Given an array, return the index with the value closest to t.\"\"\"\n",
    "    return (np.abs(np.array(array) - t)).argmin()\n",
    "\n",
    "def get_currents_with_constant_dt(xs, window=1, step_size=1):\n",
    "        \n",
    "    times = xs[0]\n",
    "    i_ion = xs[1]\n",
    "              \n",
    "    i_ion_window = []\n",
    "    t = 0\n",
    "    while t <= times[-1] - window:\n",
    "        start_index = find_closest_index(times, t)\n",
    "        end_index = find_closest_index(times, t + window)            \n",
    "        I_window = i_ion[start_index: end_index + 1]                                    \n",
    "        i_ion_window.append(sum(I_window)/len(I_window))            \n",
    "        t += step_size\n",
    "            \n",
    "    return i_ion_window"
   ]
  },
  {
   "cell_type": "code",
   "execution_count": 3,
   "id": "8fe95784-0e55-46da-9bcf-ee1067dde3b8",
   "metadata": {},
   "outputs": [
    {
     "data": {
      "text/plain": [
       "(0, 15.3998)"
      ]
     },
     "execution_count": 3,
     "metadata": {},
     "output_type": "execute_result"
    }
   ],
   "source": [
    "# V = model.voltage(times)\n",
    "g = 0.1524 * 1e3 # [pA/V]\n",
    "p1 = 2.26e-4 * 1e3 # [1/s]\n",
    "p2 = 0.0699 * 1e3  # [1/V]\n",
    "p3 = 3.45e-5 * 1e3 # [1/s]\n",
    "p4 = 0.05462 * 1e3 # [1/V]\n",
    "p5 = 0.0873 * 1e3  # [1/s]\n",
    "p6 = 8.91e-3 * 1e3 # [1/V]\n",
    "p7 = 5.15e-3 * 1e3 # [1/s]\n",
    "p8 = 0.03158 * 1e3 # [1/V]\n",
    "\n",
    "dt = 0.0002\n",
    "t_eval = np.arange(77000)*dt  # times = np.linspace(0, 15.4, 77000)\n",
    "t_span = (0, t_eval.max())\n",
    "t_span"
   ]
  },
  {
   "cell_type": "markdown",
   "id": "d1528dae-c154-4cd7-a444-ce27305be8bc",
   "metadata": {},
   "source": [
    "### Create Voltage Protocol"
   ]
  },
  {
   "cell_type": "code",
   "execution_count": 4,
   "id": "7daddfb8-55ad-4ca1-9091-a12435f615c2",
   "metadata": {},
   "outputs": [
    {
     "name": "stdout",
     "output_type": "stream",
     "text": [
      "The protocol is 15.4 s\n"
     ]
    },
    {
     "data": {
      "image/png": "[encoded data removed]",
      "text/plain": [
       "<Figure size 1080x360 with 1 Axes>"
      ]
     },
     "metadata": {
      "needs_background": "light"
     },
     "output_type": "display_data"
    }
   ],
   "source": [
    "'''\n",
    "leak_staircase\n",
    "'''\n",
    "\n",
    "# VC_protocol = vc_protocols_for_myokit.leak_staircase()\n",
    "VC_protocol = vc_protocols.leak_staircase()\n",
    "\n",
    "print(f'The protocol is {VC_protocol.get_voltage_change_endpoints()[-1]} s')\n",
    "VC_protocol.plot_voltage_clamp_protocol(t_eval)"
   ]
  },
  {
   "cell_type": "code",
   "execution_count": null,
   "id": "816d362d-6a3f-409e-bd30-65e75fbe7fc7",
   "metadata": {},
   "outputs": [],
   "source": []
  },
  {
   "cell_type": "code",
   "execution_count": 5,
   "id": "708d8fc5-1c07-4933-a342-7be81094db9a",
   "metadata": {},
   "outputs": [
    {
     "name": "stdout",
     "output_type": "stream",
     "text": [
      "--- 10.382701873779297 seconds ---\n"
     ]
    }
   ],
   "source": [
    "start_time = time.time()\n",
    "\n",
    "# hERG model settings\n",
    "temperature = 25.0\n",
    "temperature += 273.15  # in K\n",
    "fit_seed = '542811797'\n",
    "withfcap = False\n",
    "\n",
    "model, p, s = myokit.load(\"../../../mmt-model-files/kylie-2017-IKr.mmt\")    \n",
    "model.get('phys.T').set_rhs(temperature)\n",
    "# Set concentration\n",
    "model.get('potassium.Ko').set_rhs(float(4.0))\n",
    "model.get('potassium.Ki').set_rhs(float(110.0))\n",
    "\n",
    "sim = simulator_myokit.Simulator(model, VC_protocol, max_step=1e-3, abs_tol=1e-12, rel_tol=1e-14, vhold=-80e-3)  # 1e-12, 1e-14  # 1e-08, 1e-10\n",
    "sim.name = \"kylie2017IKr\"  \n",
    "\n",
    "print(\"--- %s seconds ---\"%(time.time()-start_time))"
   ]
  },
  {
   "cell_type": "code",
   "execution_count": 6,
   "id": "772e5d95-66ff-4e4c-bffa-72eee0aeaaba",
   "metadata": {},
   "outputs": [],
   "source": [
    "y0 = sim.pre_simulate( 100, sim_type=1)\n",
    "d = sim.simulate(VC_protocol.get_voltage_change_endpoints()[-1], log_times=t_eval, extra_log=['ikr.IKr', 'ikr.open', 'ikr.active'])\n",
    "population_by_continent = {\n",
    "    'O': d['ikr.open']*d['ikr.active'],\n",
    "    'I': d['ikr.open']*(1-d['ikr.active']),\n",
    "    'C': (1-d['ikr.open'])*d['ikr.active'],\n",
    "    'IC': (1-d['ikr.open'])*(1-d['ikr.active']),    \n",
    "}"
   ]
  },
  {
   "cell_type": "code",
   "execution_count": 7,
   "id": "2cadf7bb-4ca1-4203-871a-779b5ad826e9",
   "metadata": {},
   "outputs": [],
   "source": [
    "from priors_JK import BeattieLogPrior as LogPrior\n",
    "\n",
    "def log_transform_from_model_param(param):\n",
    "    # Apply natural log transformation to all parameters\n",
    "    out = np.copy(param)\n",
    "    out = np.log(out)\n",
    "    return out\n",
    "\n",
    "\n",
    "def log_transform_to_model_param(param):\n",
    "    # Inverse of log_transform_from_model_param()\n",
    "    # Apply natural exp transformation to all parameters\n",
    "    out = np.copy(param)\n",
    "    out = np.exp(out)\n",
    "    return out"
   ]
  },
  {
   "cell_type": "code",
   "execution_count": 8,
   "id": "b85c7cef-8820-4c3a-8e04-4da7067490c8",
   "metadata": {},
   "outputs": [],
   "source": [
    "def gen_dataset( gen_params, datasetNo=1):    \n",
    "    '''\n",
    "    type = 'AP' or 'I\" \n",
    "    params = {\n",
    "        'times': 1,                    \n",
    "        'log_li' : [],\n",
    "        'nData' : 10000,                         \n",
    "        'dataset_dir' :   './dataset',\n",
    "        'data_file_name' :  'current',\n",
    "        'scale' : 2,\n",
    "    }  \n",
    "    '''\n",
    "    random.seed(datasetNo * 84)\n",
    "    np.random.seed(datasetNo * 86)\n",
    "\n",
    "    print(\"-----Dataset%d generation starts.-----\"%(datasetNo))\n",
    "    \n",
    "    # Set parameter transformation\n",
    "    transform_to_model_param = log_transform_to_model_param       # return np.exp(out)\n",
    "    transform_from_model_param = log_transform_from_model_param   # return np.log(out)\n",
    "    logprior = LogPrior(transform_to_model_param, transform_from_model_param)\n",
    "\n",
    "    d = None              \n",
    "    result_li = []\n",
    "    param_li = []\n",
    "    current_nData = 0\n",
    "    \n",
    "    simulation_error_count = 0\n",
    "    with tqdm(total = gen_params['nData']) as pbar: \n",
    "        while (current_nData < gen_params['nData']):    \n",
    "            \n",
    "            generated_parameters = logprior.sample_without_inv_transform()\n",
    "\n",
    "            # ikr_g = \n",
    "            # ikr_p1 = random.uniform(parameter_ranges[1][0]-epsilon, parameter_ranges[1][1]+epsilon)\n",
    "            # ikr_p2 = random.uniform(parameter_ranges[2][0]-epsilon, parameter_ranges[2][1]+epsilon)\n",
    "            # ikr_p3 = random.uniform(parameter_ranges[3][0]-epsilon, parameter_ranges[3][1]+epsilon)\n",
    "            # ikr_p4 = random.uniform(parameter_ranges[4][0]-epsilon, parameter_ranges[4][1]+epsilon)\n",
    "            # ikr_p5 = random.uniform(parameter_ranges[5][0]-epsilon, parameter_ranges[5][1]+epsilon)\n",
    "            # ikr_p6 = random.uniform(parameter_ranges[6][0]-epsilon, parameter_ranges[6][1]+epsilon)\n",
    "            # ikr_p7 = random.uniform(parameter_ranges[7][0]-epsilon, parameter_ranges[7][1]+epsilon)\n",
    "            # ikr_p8 = random.uniform(parameter_ranges[8][0]-epsilon, parameter_ranges[8][1]+epsilon)\n",
    "            # generated_parameters = np.array([ikr_g, ikr_p1, ikr_p2, ikr_p3, ikr_p4, ikr_p5, ikr_p6, ikr_p7, ikr_p8], dtype=np.float32)             \n",
    "            \n",
    "            model_params = {                    \n",
    "                'ikr.g' : generated_parameters[0],  # random.uniform(parameter_ranges[0][0], parameter_ranges[0][1]),\n",
    "                'ikr.p1' : generated_parameters[1],\n",
    "                'ikr.p2' : generated_parameters[2],\n",
    "                'ikr.p3' : generated_parameters[3],\n",
    "                'ikr.p4' : generated_parameters[4],\n",
    "                'ikr.p5' : generated_parameters[5],\n",
    "                'ikr.p6' : generated_parameters[6],\n",
    "                'ikr.p7' : generated_parameters[7],\n",
    "                'ikr.p8' : generated_parameters[8],                \n",
    "            } \n",
    "            sim.set_simulation_params(model_params)                \n",
    "            # log_li = ['membrane.V']\n",
    "            # if len(log_li)>0:\n",
    "            #     log_li = gen_params['log_li']\n",
    "            try :                \n",
    "                sim.pre_simulate(100, sim_type=1)                \n",
    "                d = sim.simulate( gen_params['end_time'], log_times=None, extra_log=gen_params['log_li'])                           \n",
    "                temp = [d['engine.time'], d['ikr.IKr']]                                \n",
    "                # d = sim.simulate( gen_params['end_time'], log_times=gen_params['t_eval'], extra_log=gen_params['log_li'])                           \n",
    "                # temp = d['ikr.IKr']                            \n",
    "\n",
    "                if (gen_params['window']>0) and (gen_params['step_size']>0):\n",
    "                    temp = get_currents_with_constant_dt(temp, window=gen_params['window'], step_size=gen_params['step_size'])\n",
    "                    result_li.append( np.array(temp) )\n",
    "                else:\n",
    "                    result_li.append( temp )                                \n",
    "\n",
    "                param_li.append( generated_parameters )\n",
    "                current_nData+=1                    \n",
    "\n",
    "            except :\n",
    "                simulation_error_count += 1\n",
    "                print(\"There is a simulation error.\")\n",
    "                continue\n",
    "                \n",
    "            pbar.update(1) \n",
    "        \n",
    "    if (gen_params['window']>0) and (gen_params['step_size']>0):\n",
    "        result_li = np.array(result_li)        \n",
    "    else:\n",
    "        result_li = np.array(result_li, dtype=object)        \n",
    "    \n",
    "    param_li = np.array(param_li)    \n",
    "        \n",
    "    np.save(os.path.join(gen_params['dataset_dir'], f\"{gen_params['data_file_name']}{datasetNo}\" ) , result_li)\n",
    "    np.save(os.path.join(gen_params['dataset_dir'], f'parameter{datasetNo}' ), param_li )\n",
    "\n",
    "    result_li = []\n",
    "    param_li = []\n",
    "\n",
    "    print(\"=====Dataset%d generation End.  &  %d simulation errors occured.=====\"%(datasetNo, simulation_error_count))       "
   ]
  },
  {
   "cell_type": "code",
   "execution_count": 9,
   "id": "dfdcc3df-95d1-4d49-90df-869a6ad17c1d",
   "metadata": {},
   "outputs": [
    {
     "name": "stdout",
     "output_type": "stream",
     "text": [
      "The number of process : 8\n",
      "[71, 72]\n",
      "The folder already exists.\n"
     ]
    },
    {
     "data": {
      "image/png": "[encoded data removed]",
      "text/plain": [
       "<Figure size 720x216 with 1 Axes>"
      ]
     },
     "metadata": {
      "needs_background": "light"
     },
     "output_type": "display_data"
    },
    {
     "name": "stdout",
     "output_type": "stream",
     "text": [
      "-----Dataset71 generation starts.-----\n"
     ]
    },
    {
     "name": "stderr",
     "output_type": "stream",
     "text": [
      "100%|████████████████████████████████████████████████████████████████████████████████| 100/100 [00:22<00:00,  4.39it/s]\n"
     ]
    },
    {
     "name": "stdout",
     "output_type": "stream",
     "text": [
      "=====Dataset71 generation End.  &  0 simulation errors occured.=====\n",
      "-----Dataset72 generation starts.-----\n"
     ]
    },
    {
     "name": "stderr",
     "output_type": "stream",
     "text": [
      "100%|████████████████████████████████████████████████████████████████████████████████| 100/100 [00:22<00:00,  4.35it/s]"
     ]
    },
    {
     "name": "stdout",
     "output_type": "stream",
     "text": [
      "=====Dataset72 generation End.  &  0 simulation errors occured.=====\n",
      "--- 46.185518980026245 seconds ---\n"
     ]
    },
    {
     "name": "stderr",
     "output_type": "stream",
     "text": [
      "\n"
     ]
    }
   ],
   "source": [
    "if __name__=='__main__':\n",
    "    start_time = time.time()    \n",
    "    nCPU = os.cpu_count()          \n",
    "    print(\"The number of process :\", nCPU )   \n",
    "   \n",
    "    multi = False\n",
    "    \n",
    "    gen_params = {\n",
    "        'end_time': VC_protocol.get_voltage_change_endpoints()[-1],    \n",
    "        't_eval' : t_eval, \n",
    "        'log_li' : ['ikr.IKr', 'ikr.open', 'ikr.active'],\n",
    "        'save_log_li' : ['ikr.IKr'],\n",
    "        'nData' : 100,                         \n",
    "        'dataset_dir' : f'./kylie2017_hERG_leakstaircase',\n",
    "        'data_file_name' : 'IKr',\n",
    "        'window' : -1,\n",
    "        'step_size' : -1,\n",
    "        'startNo' : 71,\n",
    "        'nDataset' : 2,\n",
    "    }  \n",
    "    # gen_params['dataset_dir'] = gen_params['dataset_dir'] + f\"_w{gen_params['window']}_s{gen_params['step_size']}\"\n",
    "\n",
    "    datasetNo_li = list(range(gen_params['startNo'], gen_params['startNo']+gen_params['nDataset']))  # Core 수만큼  [1,2,3,4,5,6,7,8,9,10]    \n",
    "    print(datasetNo_li)          \n",
    "        \n",
    "    try:\n",
    "        if not os.path.exists(gen_params['dataset_dir']):\n",
    "            os.makedirs(gen_params['dataset_dir'])\n",
    "            print('\"%s\" has been created.'%(gen_params['dataset_dir']))\n",
    "        else:\n",
    "            print(\"The folder already exists.\")\n",
    "    except OSError:\n",
    "        print('Error: create_folder(). : ' + gen_params['dataset_dir'])\n",
    "        \n",
    "    \n",
    "    '''\n",
    "    Plot\n",
    "    '''\n",
    "    fig, ax = plt.subplots(1,1, figsize=(10,3))    \n",
    "    # fig.suptitle(sim.name, fontsize=14)\n",
    "    # ax.set_title('Simulation %d'%(simulationNo))\n",
    "    # axes[i].set_xlim(model_scipy.times.min(), model_scipy.times.max())\n",
    "    # ax.set_ylim(ylim[0], ylim[1])\n",
    "    ax.set_xlabel('Time (ms)')       \n",
    "    ax.set_ylabel(f'Voltage')      \n",
    "    times = np.linspace(0, VC_protocol.get_voltage_change_endpoints()[-1], 10000)  \n",
    "    ax.plot( times, VC_protocol.get_voltage_clamp_protocol(times), label='VC', color='k', linewidth=5)     \n",
    "    ax.legend()\n",
    "    ax.grid()\n",
    "    # ax[-1].set_ylim(-5, 5)\n",
    "    plt.subplots_adjust(left=0.07, bottom=0.05, right=0.95, top=0.95, wspace=0.5, hspace=0.15)\n",
    "    plt.show()\n",
    "    fig.savefig(os.path.join(gen_params['dataset_dir'], \"aVC.jpg\" ), dpi=100)\n",
    "        \n",
    "    if multi :            \n",
    "        pool = multiprocessing.Pool(processes=os.cpu_count() )\n",
    "        func = partial(gen_dataset, gen_params)\n",
    "        pool.map(func, datasetNo_li)\n",
    "        pool.close()\n",
    "        pool.join()\n",
    "    else:\n",
    "        for No in datasetNo_li :\n",
    "            gen_dataset(gen_params, No)\n",
    "        \n",
    "    # print(\"Dataset has been generated.\")\n",
    "    \n",
    "    print(\"--- %s seconds ---\"%(time.time()-start_time))\n",
    "    \n",
    "    # \n",
    "\n",
    "    # # Set parameter transformation\n",
    "    # transform_to_model_param = log_transform_to_model_param       # return np.exp(out)\n",
    "    # transform_from_model_param = log_transform_from_model_param   # return np.log(out)\n",
    "    \n",
    "    # logprior = LogPrior(transform_to_model_param, transform_from_model_param)\n",
    "      \n",
    "    # p = logprior.sample_without_inv_transform()\n",
    "    # print(p)\n",
    "    \n",
    "    # print(logprior.rmax)\n",
    "    # print(logprior.rmin)\n",
    "    # print(5e5)\n",
    "\n",
    " "
   ]
  },
  {
   "cell_type": "code",
   "execution_count": 10,
   "id": "f7e984b5-0794-4eae-98a0-bec0f6b4b033",
   "metadata": {},
   "outputs": [
    {
     "name": "stdout",
     "output_type": "stream",
     "text": [
      "Finish\n"
     ]
    }
   ],
   "source": [
    "print(\"Finish\")"
   ]
  },
  {
   "cell_type": "code",
   "execution_count": null,
   "id": "0dd4f7f1-7751-4bed-9801-2b433dc720a6",
   "metadata": {},
   "outputs": [],
   "source": []
  }
 ],
 "metadata": {
  "kernelspec": {
   "display_name": "Python 3",
   "language": "python",
   "name": "python3"
  },
  "language_info": {
   "codemirror_mode": {
    "name": "ipython",
    "version": 3
   },
   "file_extension": ".py",
   "mimetype": "text/x-python",
   "name": "python",
   "nbconvert_exporter": "python",
   "pygments_lexer": "ipython3",
   "version": "3.8.10"
  }
 },
 "nbformat": 4,
 "nbformat_minor": 5
}
