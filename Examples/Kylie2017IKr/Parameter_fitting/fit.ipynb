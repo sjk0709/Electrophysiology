{
 "cells": [
  {
   "cell_type": "markdown",
   "id": "1db8c92d-c9c4-47c9-9a52-86fe7170a1ed",
   "metadata": {},
   "source": [
    "# Parameter Fitting"
   ]
  },
  {
   "cell_type": "code",
   "execution_count": 4,
   "id": "b3c7af1c-35e9-43c9-8eec-79d3cadbb892",
   "metadata": {},
   "outputs": [],
   "source": [
    "from __future__ import print_function\n",
    "import os, sys, time, copy\n",
    "import random\n",
    "import numpy as np\n",
    "import matplotlib.pyplot as plt\n",
    "from multiprocessing import freeze_support\n",
    "\n",
    "import pints\n"
   ]
  },
  {
   "cell_type": "code",
   "execution_count": null,
   "id": "823f4c47-6110-480b-9a9e-9aa567fff9b8",
   "metadata": {},
   "outputs": [],
   "source": [
    "random.seed(542811797)\n",
    "np.random.seed(542811797)"
   ]
  }
 ],
 "metadata": {
  "kernelspec": {
   "display_name": "Python 3 (ipykernel)",
   "language": "python",
   "name": "python3"
  },
  "language_info": {
   "codemirror_mode": {
    "name": "ipython",
    "version": 3
   },
   "file_extension": ".py",
   "mimetype": "text/x-python",
   "name": "python",
   "nbconvert_exporter": "python",
   "pygments_lexer": "ipython3",
   "version": "3.7.11"
  }
 },
 "nbformat": 4,
 "nbformat_minor": 5
}
