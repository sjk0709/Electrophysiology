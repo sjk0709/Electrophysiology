{
 "cells": [
  {
   "cell_type": "code",
   "execution_count": 1,
   "id": "f5cbbdbe-d96c-40ab-93be-16b854518cec",
   "metadata": {},
   "outputs": [
    {
     "name": "stderr",
     "output_type": "stream",
     "text": [
      "C:\\Anaconda3\\envs\\ml\\lib\\site-packages\\numpy\\_distributor_init.py:30: UserWarning: loaded more than 1 DLL from .libs:\n",
      "C:\\Anaconda3\\envs\\ml\\lib\\site-packages\\numpy\\.libs\\libopenblas.NOIJJG62EMASZI6NYURL6JBKM4EVBGM7.gfortran-win_amd64.dll\n",
      "C:\\Anaconda3\\envs\\ml\\lib\\site-packages\\numpy\\.libs\\libopenblas.WCDJNK7YVMPZQ2ME2ZZHJJRJ3JIKNDB7.gfortran-win_amd64.dll\n",
      "  warnings.warn(\"loaded more than 1 DLL from .libs:\\n%s\" %\n"
     ]
    }
   ],
   "source": [
    "import os, sys, time, copy\n",
    "import numpy as np\n",
    "import matplotlib.pyplot as plt\n",
    "import pickle\n",
    "import bisect\n",
    "\n",
    "import myokit\n",
    "from scipy.integrate import ode, solve_ivp\n",
    "sys.path.append('../')\n",
    "sys.path.append('../Lib')\n",
    "sys.path.append('../Protocols')\n",
    "from pacing_protocol import PacingProtocol\n",
    "import mod_protocols\n",
    "sys.path.append('../models')\n",
    "from Models.ord2011 import ORD2011"
   ]
  },
  {
   "cell_type": "code",
   "execution_count": 2,
   "id": "762cf3e8-add6-4f29-a92e-58f0e48ddbef",
   "metadata": {},
   "outputs": [],
   "source": [
    "'''\n",
    "O'Hara-Rudy CiPA v1.0 (2011)\n",
    "'''\n",
    "cells = {\n",
    "    'Endocardial' : 0,\n",
    "    'Epicardial' : 1,\n",
    "    'Mid-myocardial' : 2,\n",
    "}\n",
    "end_time = 500\n",
    "bcl = 1000\n",
    "duration = 0.5\n",
    "offset = 20"
   ]
  },
  {
   "cell_type": "code",
   "execution_count": 3,
   "id": "efb978cc-84fb-4edc-99fc-e83f1e58a015",
   "metadata": {},
   "outputs": [],
   "source": [
    "a = [-87.99697547749032, 7.096321518112385, 7.096404290494018, 144.8304082113188, 144.83038391742753, 8.568928274107874e-05, 8.463271033652429e-05, 1.6037834806338052, 1.5536428004491096, 0.007347762481645693, 0.697936461145313, 0.6979182033452321, 0.6978158639529485, 0.4547453323348951, 0.6977470443923227, 0.0001884380670952559, 0.49989442318436483, 0.2679266473893076, 0.0010014305596707563, 0.9995537876071112, 0.5801452425634359, 0.0005102559843220271, 0.9995537956260864, 0.6326168674251693, 2.3435233442418746e-09, 0.999999990862488, 0.9075386190063421, 0.9999999908625554, 0.9997677469406823, 0.9999652173989056, 0.002712610199016676, 0.9999999908620326, 0.9999999908595661, 8.263686649689228e-06, 0.46143060561991744, 0.2753638673999758, 0.000192958992421993, 0.9967610690978087, 2.403290978837076e-07, 3.0023854223905535e-07, 0.012377484610423357]\n",
    "b = [-87.93653448517782, 7.499178544530731, 7.499254669070625, 144.3616914921008, 144.36166445794998, 7.59342348681183e-05, 7.499529503394359e-05, 1.9680749034792357, 1.9070937585440166, 0.007392557295371753, 0.6958387567328437, 0.6958277200352065, 0.6957637282692158, 0.45231064497048484, 0.695718832704746, 0.00019061373044554857, 0.5008706398574784, 0.2740122025033474, 0.0010055168710729758, 0.9995491014617318, 0.9995383994363888, 0.0005123390984921641, 0.9995491018064401, 0.9995467138399825, 2.377235084683379e-09, 0.9999999907126026, 0.9184967760249303, 0.9999999907126444, 0.9998549025755935, 0.9999781008842502, 0.0017053738733506698, 0.9999999907106037, 0.9999999907107742, 8.150812051521697e-06, 0.4366577200287514, 0.2495538290465403, 0.00019424397115646203, 0.9967767557823464, 4.5085246443361706e-07, 5.634454491343157e-07, 0.015526378726033043]\n",
    "c = [-87.71815424079526, 8.34610076580103, 8.346220867062161, 143.51723511116603, 143.51720755505454, 9.27848409559049e-05, 9.079573594281579e-05, 1.9419765866099288, 1.8615469547508838, 0.007556681180023667, 0.6881912036810729, 0.6881651312317851, 0.6880164406496969, 0.44338294913451953, 0.6879130228908704, 0.00019868632439958283, 0.4837529559466092, 0.24577190092238366, 0.0010204323811995118, 0.9995314467764733, 0.5419037991536735, 0.0005199427775340963, 0.99953145845905, 0.5882669556391358, 2.50321676071934e-09, 0.999999990145673, 0.868209682573566, 0.9999999901457779, 0.9994775526824476, 0.9999298260261735, 0.0035498762940489033, 0.9999999901412451, 0.9999999901412105, 8.822770100814404e-06, 0.5004333691590932, 0.34057727355634065, 0.0001991056169864157, 0.9968336805088868, 1.60495006023744e-06, 2.005531045150147e-06, 0.023371326456743738]\n",
    "y0 = [a, b, c]"
   ]
  },
  {
   "cell_type": "code",
   "execution_count": 4,
   "id": "e37c2186-d744-4445-922f-1fda7b83b46c",
   "metadata": {},
   "outputs": [
    {
     "name": "stdout",
     "output_type": "stream",
     "text": [
      "--- 0.028177499771118164 seconds ---\n",
      "--- 0.0059967041015625 seconds ---\n",
      "--- 0.01898956298828125 seconds ---\n"
     ]
    }
   ],
   "source": [
    "import simulator_myokit\n",
    "'''\n",
    "Simulation with Myokit\n",
    "'''\n",
    "model_path = \"../mmt-model-files/ord-2011.mmt\" \n",
    "\n",
    "protocol_myokit = myokit.pacing.blocktrain(bcl, duration, offset=offset) # period, duration, offset=0, level=1.0, limit=0\n",
    "sim_myokit = simulator_myokit.Simulator(model_path, protocol_myokit, max_step=None, abs_tol=1e-08, rel_tol=1e-10)  # 1e-12, 1e-14  # 1e-08, 1e-10\n",
    "sim_myokit.name = \"ORD2011\"\n",
    "sim_myokit.bcl = bcl\n",
    "\n",
    "times = np.linspace(0, end_time, 5000)\n",
    "\n",
    "simulated_models_myokit = []\n",
    "for name, mode in cells.items():    \n",
    "    start_time = time.time()\n",
    "    \n",
    "    sim_myokit.simulation.set_constant('cell.mode', mode)    \n",
    "#     sim_myokit.pre_simulate(bcl*100, sim_type=0)\n",
    "    d = sim_myokit.simulate(end_time, log_times=times)\n",
    "    simulated_models_myokit.append(d)\n",
    "    \n",
    "    print(\"--- %s seconds ---\"%(time.time()-start_time))"
   ]
  },
  {
   "cell_type": "code",
   "execution_count": 5,
   "id": "9c8879bc-8aa6-471f-9f56-9a2a8878fe27",
   "metadata": {},
   "outputs": [
    {
     "name": "stdout",
     "output_type": "stream",
     "text": [
      "--- 2.7063868045806885 seconds ---\n",
      "--- 2.2825658321380615 seconds ---\n",
      "--- 2.3493528366088867 seconds ---\n"
     ]
    }
   ],
   "source": [
    "import simulator_scipy\n",
    "'''\n",
    "Simulation with BDF\n",
    "'''\n",
    "protocol = PacingProtocol(level=1, start=offset, length=duration, period=bcl, multiplier=0, default_time_unit='ms')\n",
    "model = ORD2011(protocol)\n",
    "sim_bdf = simulator_scipy.Simulator(model)\n",
    "t_span = (0, end_time)\n",
    "t_eval = np.linspace(0, t_span[1], 5000)  \n",
    "\n",
    "simulated_models_BDF = []\n",
    "for name, mode in cells.items(): \n",
    "    start_time = time.time()\n",
    "\n",
    "    model.cell.mode = mode\n",
    "#     sim_bdf.pre_simulate( pre_step=bcl*100, protocol='constant' )   \n",
    "    sim_bdf.simulate(t_span=t_span, t_eval=t_eval, method='LSODA', max_step=0.5, atol=1e-08, rtol=1e-10) # 1e-12, 1e-14  # 1e-08, 1e-10\n",
    "    simulated_models_BDF.append(copy.copy(model))\n",
    "\n",
    "    print(\"--- %s seconds ---\"%(time.time()-start_time))"
   ]
  },
  {
   "cell_type": "code",
   "execution_count": 6,
   "id": "93636d3d-f00e-4295-bea3-31c02777be8e",
   "metadata": {},
   "outputs": [
    {
     "name": "stdout",
     "output_type": "stream",
     "text": [
      "--- 5.306947946548462 seconds ---\n",
      "--- 5.200039386749268 seconds ---\n",
      "--- 5.216017961502075 seconds ---\n"
     ]
    }
   ],
   "source": [
    "import simulator_euler\n",
    "'''\n",
    "Simulation with Euler\n",
    "'''\n",
    "protocol = PacingProtocol(level=1, start=20, length=0.5, period=1000, multiplier=0, default_time_unit='ms')\n",
    "# model = ORD2011(protocol)\n",
    "sim_euler = simulator_euler.Simulator(model)\n",
    "\n",
    "simulated_models_Euler = []\n",
    "for name, mode in cells.items(): \n",
    "    start_time = time.time()\n",
    "    \n",
    "    model.cell.mode = mode      \n",
    "#     model.y0 = copy.copy(np.array(y0[mode]))    \n",
    "    sim_euler.dt = 0.02\n",
    "    sim_euler.simulate(end_time=end_time)      \n",
    "    simulated_models_Euler.append(copy.copy(model))\n",
    "    \n",
    "    print(\"--- %s seconds ---\"%(time.time()-start_time))"
   ]
  },
  {
   "cell_type": "code",
   "execution_count": 7,
   "id": "accf9b24-9475-489c-9137-8175e3bff59f",
   "metadata": {},
   "outputs": [
    {
     "data": {
      "image/png": "[encoded data removed]",
      "text/plain": [
       "<Figure size 1296x288 with 3 Axes>"
      ]
     },
     "metadata": {
      "needs_background": "light"
     },
     "output_type": "display_data"
    }
   ],
   "source": [
    "'''\n",
    "Plot\n",
    "'''\n",
    "fig, axes = plt.subplots(1,3, figsize=(18,4))    \n",
    "fig.suptitle(model.name, fontsize=14)\n",
    "for name, mode in cells.items(): \n",
    "    myokit_m = simulated_models_myokit[mode]\n",
    "    bdf_m = simulated_models_BDF[mode]      \n",
    "    euler_m = simulated_models_Euler[mode]\n",
    "    \n",
    "    # ax.set_title('Simulation %d'%(simulationNo))\n",
    "    axes[mode].set_xlim(bdf_m.times.min(), bdf_m.times.max())\n",
    "    # ax.set_ylim(ylim[0], ylim[1])\n",
    "    axes[mode].set_ylabel('Membrane Potential (mV)')  \n",
    "    axes[mode].set_xlabel('Time (ms)')       \n",
    "    axes[mode].plot( myokit_m['engine.time'], myokit_m['membrane.V'], label='Myokit') \n",
    "    axes[mode].plot(bdf_m.times, bdf_m.V, label='BDF')   \n",
    "    axes[mode].plot(euler_m.times, euler_m.V, label='Euler')   \n",
    "    \n",
    "    # textstr = \"GNa : %1.4f\\nGNaL : %1.4f\\nGto : %1.4f\\nPCa : %1.4f\\nGKr : %1.4f\\nGKs : %1.4f\\nGK1 : %1.4f\\nGf : %1.4f\"%(GNa/g_fc[0], \\\n",
    "    #             GNaL/g_fc[1], Gto/g_fc[2], PCa/g_fc[3], GKr/g_fc[4], GKs/g_fc[5], GK1/g_fc[6], Gf/g_fc[7])\n",
    "    # props = dict(boxstyle='round', facecolor='wheat', alpha=0.5)\n",
    "    # place a text box in upper left in axes coords\n",
    "    #     ax.text(0.67, 0.60, textstr, transform=ax.transAxes, fontsize=14, verticalalignment='top', bbox=props)    \n",
    "    #     fig1 = plt.gcf()\n",
    "    axes[mode].legend()\n",
    "    axes[mode].grid()\n",
    "    \n",
    "#     print(bdf.V)\n",
    "#     print(euler.V)\n",
    "#     print(\"-\"*100)\n",
    "    \n",
    "plt.show()\n",
    "fig.savefig(os.path.join('Results', \"ORD2011-all\"), dpi=100)"
   ]
  },
  {
   "cell_type": "code",
   "execution_count": 8,
   "id": "74d52664-ca4a-4e27-8a7c-5108ca6e41e0",
   "metadata": {},
   "outputs": [
    {
     "name": "stdout",
     "output_type": "stream",
     "text": [
      "Complete\n"
     ]
    }
   ],
   "source": [
    "print(\"Complete\")"
   ]
  },
  {
   "cell_type": "code",
   "execution_count": null,
   "id": "7c650e89-1db0-46bb-b233-b704d769dc72",
   "metadata": {},
   "outputs": [],
   "source": []
  },
  {
   "cell_type": "code",
   "execution_count": null,
   "id": "56d1e5c0-eecf-4824-ab6c-3158a9cbb046",
   "metadata": {},
   "outputs": [],
   "source": []
  }
 ],
 "metadata": {
  "kernelspec": {
   "display_name": "Python 3",
   "language": "python",
   "name": "python3"
  },
  "language_info": {
   "codemirror_mode": {
    "name": "ipython",
    "version": 3
   },
   "file_extension": ".py",
   "mimetype": "text/x-python",
   "name": "python",
   "nbconvert_exporter": "python",
   "pygments_lexer": "ipython3",
   "version": "3.8.10"
  }
 },
 "nbformat": 4,
 "nbformat_minor": 5
}
