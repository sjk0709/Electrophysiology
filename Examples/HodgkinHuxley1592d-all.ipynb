{
 "cells": [
  {
   "cell_type": "code",
   "execution_count": 1,
   "id": "f5cbbdbe-d96c-40ab-93be-16b854518cec",
   "metadata": {},
   "outputs": [
    {
     "name": "stderr",
     "output_type": "stream",
     "text": [
      "C:\\Anaconda3\\envs\\ml\\lib\\site-packages\\numpy\\_distributor_init.py:30: UserWarning: loaded more than 1 DLL from .libs:\n",
      "C:\\Anaconda3\\envs\\ml\\lib\\site-packages\\numpy\\.libs\\libopenblas.NOIJJG62EMASZI6NYURL6JBKM4EVBGM7.gfortran-win_amd64.dll\n",
      "C:\\Anaconda3\\envs\\ml\\lib\\site-packages\\numpy\\.libs\\libopenblas.WCDJNK7YVMPZQ2ME2ZZHJJRJ3JIKNDB7.gfortran-win_amd64.dll\n",
      "  warnings.warn(\"loaded more than 1 DLL from .libs:\\n%s\" %\n"
     ]
    }
   ],
   "source": [
    "import os, sys, time, copy\n",
    "import numpy as np\n",
    "import matplotlib.pyplot as plt\n",
    "import pickle\n",
    "import bisect\n",
    "from scipy.integrate import ode, solve_ivp\n",
    "sys.path.append('../')\n",
    "sys.path.append('../Lib')\n",
    "sys.path.append('../Protocols')\n",
    "from pacing_protocol import PacingProtocol\n",
    "import mod_protocols\n",
    "sys.path.append('../models')\n",
    "from Models.hh1592d import HH1592d"
   ]
  },
  {
   "cell_type": "code",
   "execution_count": 2,
   "id": "b2ab57d1-fdbc-455c-a125-839ada9afa17",
   "metadata": {},
   "outputs": [],
   "source": [
    "'''\n",
    "\"Hodgkin Huxley 1592d\"\n",
    "'''\n",
    "end_time = 30"
   ]
  },
  {
   "cell_type": "code",
   "execution_count": 3,
   "id": "762cf3e8-add6-4f29-a92e-58f0e48ddbef",
   "metadata": {},
   "outputs": [
    {
     "name": "stdout",
     "output_type": "stream",
     "text": [
      "--- 0.002996206283569336 seconds ---\n"
     ]
    }
   ],
   "source": [
    "import simulator_myokit\n",
    "'''\n",
    "Simulation with Myokit\n",
    "'''\n",
    "model_path = \"../mmt-model-files/hh-1952d-modern.mmt\" \n",
    "sim_myokit = simulator_myokit.Simulator(model_path) \n",
    "sim_myokit.name = \"HH1952d\"\n",
    "times = np.linspace(0, end_time, 5000)\n",
    "\n",
    "simulated_models_myokit = []\n",
    "\n",
    "start_time = time.time()\n",
    "\n",
    "# y0 = sim_myokit.pre_simulate( 1000*100, sim_type=1)\n",
    "d = sim_myokit.simulate(end_time=end_time)\n",
    "simulated_models_myokit.append(d)\n",
    "\n",
    "print(\"--- %s seconds ---\"%(time.time()-start_time))"
   ]
  },
  {
   "cell_type": "code",
   "execution_count": 4,
   "id": "9c8879bc-8aa6-471f-9f56-9a2a8878fe27",
   "metadata": {},
   "outputs": [
    {
     "name": "stdout",
     "output_type": "stream",
     "text": [
      "--- 0.3967761993408203 seconds ---\n"
     ]
    }
   ],
   "source": [
    "import simulator_scipy\n",
    "'''\n",
    "Simulation with BDF\n",
    "'''\n",
    "protocol = PacingProtocol(level=1, start=5, length=0.03, period=30, multiplier=0, default_time_unit='ms')\n",
    "model = HH1592d(protocol)\n",
    "\n",
    "sim_bdf = simulator_scipy.Simulator(model)\n",
    "simulated_models_BDF = []\n",
    "\n",
    "start_time = time.time()\n",
    "\n",
    "# t_eval = np.linspace(0, t_span[1], 5000)  \n",
    "sim_bdf.simulate(t_span=(0, end_time), method='BDF', max_step=0.02, atol=1E-6, rtol=1E-3)       \n",
    "simulated_models_BDF.append(copy.copy(model))\n",
    "\n",
    "print(\"--- %s seconds ---\"%(time.time()-start_time))"
   ]
  },
  {
   "cell_type": "code",
   "execution_count": 5,
   "id": "93636d3d-f00e-4295-bea3-31c02777be8e",
   "metadata": {},
   "outputs": [
    {
     "name": "stdout",
     "output_type": "stream",
     "text": [
      "--- 0.43375492095947266 seconds ---\n"
     ]
    }
   ],
   "source": [
    "import simulator_euler\n",
    "'''\n",
    "Simulation with Euler\n",
    "'''\n",
    "sim_euler = simulator_euler.Simulator(model)\n",
    "simulated_models_Euler = []\n",
    "\n",
    "start_time = time.time()\n",
    "\n",
    "sim_euler.dt = 0.002\n",
    "sim_euler.simulate(end_time=end_time)      \n",
    "simulated_models_Euler.append(copy.copy(model))\n",
    "\n",
    "print(\"--- %s seconds ---\"%(time.time()-start_time))"
   ]
  },
  {
   "cell_type": "code",
   "execution_count": 6,
   "id": "accf9b24-9475-489c-9137-8175e3bff59f",
   "metadata": {},
   "outputs": [
    {
     "data": {
      "image/png": "[encoded data removed]",
      "text/plain": [
       "<Figure size 432x288 with 1 Axes>"
      ]
     },
     "metadata": {
      "needs_background": "light"
     },
     "output_type": "display_data"
    }
   ],
   "source": [
    "'''\n",
    "Plot\n",
    "'''\n",
    "fig, ax = plt.subplots(figsize=(6,4))    \n",
    "fig.suptitle(model.name, fontsize=14)\n",
    "\n",
    "bdf = simulated_models_BDF[0]\n",
    "euler = simulated_models_Euler[0]\n",
    "myokit = simulated_models_myokit[0]\n",
    "\n",
    "# ax.set_title('Simulation %d'%(simulationNo))\n",
    "ax.set_xlim(bdf.times.min(), bdf.times.max())\n",
    "# ax.set_ylim(ylim[0], ylim[1])\n",
    "ax.set_ylabel('Membrane Potential (mV)')  \n",
    "ax.set_xlabel('Time (ms)')       \n",
    "\n",
    "ax.plot(bdf.times, bdf.V, label='BDF')   \n",
    "ax.plot(euler.times, euler.V, label='Euler')   \n",
    "ax.plot( myokit['engine.time'], myokit['membrane.V'], label='Myokit') \n",
    "# textstr = \"GNa : %1.4f\\nGNaL : %1.4f\\nGto : %1.4f\\nPCa : %1.4f\\nGKr : %1.4f\\nGKs : %1.4f\\nGK1 : %1.4f\\nGf : %1.4f\"%(GNa/g_fc[0], \\\n",
    "#             GNaL/g_fc[1], Gto/g_fc[2], PCa/g_fc[3], GKr/g_fc[4], GKs/g_fc[5], GK1/g_fc[6], Gf/g_fc[7])\n",
    "# props = dict(boxstyle='round', facecolor='wheat', alpha=0.5)\n",
    "# place a text box in upper left in axes coords\n",
    "#     ax.text(0.67, 0.60, textstr, transform=ax.transAxes, fontsize=14, verticalalignment='top', bbox=props)    \n",
    "#     fig1 = plt.gcf()\n",
    "ax.legend()\n",
    "ax.grid()\n",
    "\n",
    "#     print(bdf.V)\n",
    "#     print(euler.V)\n",
    "#     print(\"-\"*100)\n",
    "    \n",
    "plt.show()\n",
    "fig.savefig(os.path.join('Results', \"HH1592d-all\"), dpi=100)"
   ]
  },
  {
   "cell_type": "code",
   "execution_count": 7,
   "id": "74d52664-ca4a-4e27-8a7c-5108ca6e41e0",
   "metadata": {},
   "outputs": [
    {
     "name": "stdout",
     "output_type": "stream",
     "text": [
      "Complete\n"
     ]
    }
   ],
   "source": [
    "print(\"Complete\")"
   ]
  },
  {
   "cell_type": "code",
   "execution_count": null,
   "id": "7c650e89-1db0-46bb-b233-b704d769dc72",
   "metadata": {},
   "outputs": [],
   "source": []
  },
  {
   "cell_type": "code",
   "execution_count": null,
   "id": "56d1e5c0-eecf-4824-ab6c-3158a9cbb046",
   "metadata": {},
   "outputs": [],
   "source": []
  }
 ],
 "metadata": {
  "kernelspec": {
   "display_name": "Python 3",
   "language": "python",
   "name": "python3"
  },
  "language_info": {
   "codemirror_mode": {
    "name": "ipython",
    "version": 3
   },
   "file_extension": ".py",
   "mimetype": "text/x-python",
   "name": "python",
   "nbconvert_exporter": "python",
   "pygments_lexer": "ipython3",
   "version": "3.8.10"
  }
 },
 "nbformat": 4,
 "nbformat_minor": 5
}
