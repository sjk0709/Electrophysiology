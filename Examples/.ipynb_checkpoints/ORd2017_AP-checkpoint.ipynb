{
 "cells": [
  {
   "cell_type": "code",
   "execution_count": 1,
   "id": "f5cbbdbe-d96c-40ab-93be-16b854518cec",
   "metadata": {},
   "outputs": [],
   "source": [
    "import os, sys, time, copy\n",
    "import numpy as np\n",
    "import matplotlib.pyplot as plt\n",
    "\n",
    "import myokit\n",
    "sys.path.append('../')\n",
    "sys.path.append('../Protocols')\n",
    "sys.path.append('../Models')\n",
    "sys.path.append('../Lib')\n",
    "import protocol_lib\n",
    "import mod_trace\n",
    "from ord2017 import ORD2017"
   ]
  },
  {
   "cell_type": "code",
   "execution_count": 2,
   "id": "762cf3e8-add6-4f29-a92e-58f0e48ddbef",
   "metadata": {},
   "outputs": [],
   "source": [
    "'''\n",
    "O'Hara-Rudy CiPA v1.0 (2017)\n",
    "'''\n",
    "cells = {\n",
    "    'Endocardial' : 0,\n",
    "    'Epicardial' : 1,\n",
    "    'Mid-myocardial' : 2,\n",
    "}\n",
    "end_time = 500\n",
    "bcl = 1000\n",
    "duration = 0.5\n",
    "offset = 20\n",
    "\n",
    "t_span = (0, end_time)\n",
    "t_eval = np.linspace(0, t_span[1], 5000)  "
   ]
  },
  {
   "cell_type": "code",
   "execution_count": 3,
   "id": "323655ce-ff4f-44e4-b9a6-e64f9b45078b",
   "metadata": {},
   "outputs": [],
   "source": [
    "import simulator_myokit\n",
    "'''\n",
    "Simulation with Myokit\n",
    "'''\n",
    "model_path = \"../mmt-model-files/ohara-cipa-v1-2017.mmt\" \n",
    "model_myokit, protocol_myokit, script = myokit.load(model_path)\n",
    "protocol_myokit = myokit.pacing.blocktrain(bcl*100, duration, offset=offset) # period, duration, offset=0, level=1.0, limit=0\n",
    "sim_myokit = simulator_myokit.Simulator(model_myokit, protocol_myokit, max_step=1.0, abs_tol=1e-08, rel_tol=1e-10, vhold=0)  # 1e-12, 1e-14  # 1e-08, 1e-10\n",
    "sim_myokit.name = \"ORD2017\"\n",
    "sim_myokit.bcl = bcl"
   ]
  },
  {
   "cell_type": "code",
   "execution_count": 4,
   "id": "e37c2186-d744-4445-922f-1fda7b83b46c",
   "metadata": {},
   "outputs": [
    {
     "name": "stdout",
     "output_type": "stream",
     "text": [
      "--- 0.07475137710571289 seconds ---\n",
      "--- 0.0769503116607666 seconds ---\n",
      "--- 0.057436227798461914 seconds ---\n"
     ]
    }
   ],
   "source": [
    "y0_li = []\n",
    "simulated_models_myokit = []\n",
    "for name, mode in cells.items():    \n",
    "    start_time = time.time()\n",
    "    \n",
    "    sim_myokit.simulation.set_constant('cell.mode', mode)    \n",
    "    y0_myokit = sim_myokit.pre_simulate(bcl*100, sim_type=1)\n",
    "    d = sim_myokit.simulate(end_time, log_times=t_eval)\n",
    "    simulated_models_myokit.append(d)\n",
    "    y0_li.append(y0_myokit)\n",
    "    \n",
    "    print(\"--- %s seconds ---\"%(time.time()-start_time))"
   ]
  },
  {
   "cell_type": "code",
   "execution_count": 5,
   "id": "50652dd6-5764-42d7-bdfd-d9c0584cd226",
   "metadata": {},
   "outputs": [],
   "source": [
    "# for i in range(49):\n",
    "#     print(y0_li[0][i], sim.model.y0[i])"
   ]
  },
  {
   "cell_type": "code",
   "execution_count": null,
   "id": "9c8879bc-8aa6-471f-9f56-9a2a8878fe27",
   "metadata": {},
   "outputs": [],
   "source": [
    "import simulator_scipy\n",
    "'''\n",
    "Simulation with BDF\n",
    "'''\n",
    "protocol = protocol_lib.PacingProtocol(level=1, start=offset, length=duration, period=bcl, multiplier=0, default_time_unit='ms')\n",
    "model = ORD2017(protocol)\n",
    "sim = simulator_scipy.Simulator(model)\n",
    "\n",
    "simulated_models_BDF = []\n",
    "for i, (name, mode) in enumerate(cells.items()): \n",
    "    start_time = time.time()\n",
    "\n",
    "    sim.model.change_cell(mode)        \n",
    "    # sim.model.y0[:-1] = y0_li[mode]    \n",
    "    y0 = sim.pre_simulate( pre_step=bcl*100, protocol='constant', v0=-8.80019046500000002e1)   \n",
    "    # y0 = sim.pre_simulate( pre_step=bcl*100, protocol='pacing', v0=-8.80019046500000002e1, method='BDF', max_step=0.5, atol=1E-6, rtol=1E-3, t_eval=None )   \n",
    "    sim.simulate(t_span=t_span, t_eval=t_eval, method='BDF', max_step=0.5, atol=1e-08, rtol=1e-10) # 1e-12, 1e-14  # 1e-08, 1e-10\n",
    "    simulated_models_BDF.append(copy.copy(model))\n",
    "\n",
    "    print(\"--- %s seconds ---\"%(time.time()-start_time))"
   ]
  },
  {
   "cell_type": "code",
   "execution_count": null,
   "id": "93636d3d-f00e-4295-bea3-31c02777be8e",
   "metadata": {},
   "outputs": [],
   "source": [
    "# import simulator_euler\n",
    "# '''\n",
    "# Simulation with Euler\n",
    "# '''\n",
    "# protocol = protocol_lib.PacingProtocol(level=1, start=20, length=0.5, period=1000, multiplier=0, default_time_unit='ms')\n",
    "# model = ORD2017(protocol, is_exp_artefact=False)\n",
    "# sim = simulator_euler.Simulator(model)\n",
    "\n",
    "# simulated_models_Euler = []\n",
    "# for i, (name, mode) in enumerate(cells.items()): \n",
    "#     start_time = time.time()\n",
    "    \n",
    "#     sim.model.change_cell(mode)       \n",
    "#     sim.model.y0[:-1] = y0_li[i]\n",
    "#     sim.dt = 0.02\n",
    "#     sim.simulate(end_time=end_time)      \n",
    "#     simulated_models_Euler.append(copy.copy(model))\n",
    "    \n",
    "#     print(\"--- %s seconds ---\"%(time.time()-start_time))"
   ]
  },
  {
   "cell_type": "code",
   "execution_count": null,
   "id": "accf9b24-9475-489c-9137-8175e3bff59f",
   "metadata": {},
   "outputs": [],
   "source": [
    "'''\n",
    "Plot\n",
    "'''\n",
    "fig, axes = plt.subplots(1,3, figsize=(18,4))    \n",
    "fig.suptitle(model.name, fontsize=14)\n",
    "for name, mode in cells.items(): \n",
    "    myokit_m = simulated_models_myokit[mode]\n",
    "    bdf_m = simulated_models_BDF[mode]      \n",
    "    # euler_m = simulated_models_Euler[mode]\n",
    "    \n",
    "    axes[mode].set_title(name)\n",
    "    axes[mode].set_xlim(bdf_m.times.min(), bdf_m.times.max())\n",
    "    # ax.set_ylim(ylim[0], ylim[1])\n",
    "    axes[mode].set_ylabel('Membrane Potential (mV)')  \n",
    "    axes[mode].set_xlabel('Time (ms)')       \n",
    "    axes[mode].plot( myokit_m['engine.time'], myokit_m['membrane.V'], label='Myokit', linewidth=8, color='y') \n",
    "    axes[mode].plot(bdf_m.times, bdf_m.V, label='Scipy', linewidth=2, color='r')   \n",
    "    # axes[mode].plot(euler_m.times, euler_m.V, label='Euler', linewidth=2, color='k')   \n",
    "        \n",
    "    # textstr = \"GNa : %1.4f\\nGNaL : %1.4f\\nGto : %1.4f\\nPCa : %1.4f\\nGKr : %1.4f\\nGKs : %1.4f\\nGK1 : %1.4f\\nGf : %1.4f\"%(GNa/g_fc[0], \\\n",
    "    #             GNaL/g_fc[1], Gto/g_fc[2], PCa/g_fc[3], GKr/g_fc[4], GKs/g_fc[5], GK1/g_fc[6], Gf/g_fc[7])\n",
    "    # props = dict(boxstyle='round', facecolor='wheat', alpha=0.5)\n",
    "    # place a text box in upper left in axes coords\n",
    "    #     ax.text(0.67, 0.60, textstr, transform=ax.transAxes, fontsize=14, verticalalignment='top', bbox=props)    \n",
    "    #     fig1 = plt.gcf()\n",
    "    axes[mode].legend()\n",
    "    axes[mode].grid()\n",
    "    \n",
    "#     print(bdf.V)\n",
    "#     print(euler.V)\n",
    "#     print(\"-\"*100)\n",
    "    \n",
    "plt.show()\n",
    "fig.savefig(os.path.join('Results', \"ORd2011_AP.jpg\"), dpi=100)"
   ]
  },
  {
   "cell_type": "code",
   "execution_count": null,
   "id": "74d52664-ca4a-4e27-8a7c-5108ca6e41e0",
   "metadata": {},
   "outputs": [],
   "source": [
    "print(\"Complete\")"
   ]
  },
  {
   "cell_type": "code",
   "execution_count": null,
   "id": "7c650e89-1db0-46bb-b233-b704d769dc72",
   "metadata": {},
   "outputs": [],
   "source": []
  },
  {
   "cell_type": "code",
   "execution_count": null,
   "id": "56d1e5c0-eecf-4824-ab6c-3158a9cbb046",
   "metadata": {},
   "outputs": [],
   "source": []
  }
 ],
 "metadata": {
  "kernelspec": {
   "display_name": "Python 3 (ipykernel)",
   "language": "python",
   "name": "python3"
  },
  "language_info": {
   "codemirror_mode": {
    "name": "ipython",
    "version": 3
   },
   "file_extension": ".py",
   "mimetype": "text/x-python",
   "name": "python",
   "nbconvert_exporter": "python",
   "pygments_lexer": "ipython3",
   "version": "3.7.11"
  }
 },
 "nbformat": 4,
 "nbformat_minor": 5
}
