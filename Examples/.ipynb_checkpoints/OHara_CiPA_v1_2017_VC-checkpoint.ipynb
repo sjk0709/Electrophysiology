{
 "cells": [
  {
   "cell_type": "code",
   "execution_count": null,
   "id": "f5cbbdbe-d96c-40ab-93be-16b854518cec",
   "metadata": {},
   "outputs": [],
   "source": [
    "import os, sys, time, copy\n",
    "import numpy as np\n",
    "import matplotlib.pyplot as plt\n",
    "import pickle\n",
    "import myokit\n",
    "sys.path.append('../')\n",
    "sys.path.append('../Protocols')\n",
    "sys.path.append('../Models')\n",
    "sys.path.append('../Lib')\n",
    "import protocol_lib, vc_protocols\n",
    "import mod_trace\n",
    "from ord2011 import ORD2011"
   ]
  },
  {
   "cell_type": "code",
   "execution_count": null,
   "id": "762cf3e8-add6-4f29-a92e-58f0e48ddbef",
   "metadata": {},
   "outputs": [],
   "source": [
    "'''\n",
    "O'Hara-Rudy CiPA v1.0 (2017)\n",
    "'''\n",
    "cells = {\n",
    "    'Endocardial' : 0,\n",
    "    'Epicardial' : 1,\n",
    "    'Mid-myocardial' : 2,\n",
    "}\n",
    "current_li = ['I_Na', 'I_NaL', 'I_to', 'I_CaL', 'I_Kr', 'I_Ks', 'I_K1' ]         \n",
    "protocol = vc_protocols.hERG_CiPA()\n",
    "# protocol = pickle.load(open(\"./trial_steps_ramps_Kernik_200_50_4_-120_60_paper/shortened_trial_steps_ramps_Kernik_200_50_4_-120_60_500_artefact_True_short.pkl\", 'rb'))\n",
    "protocol = pickle.load(open(\"./trial_steps_ramps_ORD2011_288_51_4_-121_61/shortened_trial_steps_ramps_ORD2011_288_51_4_-121_61_500_artefact_False_short.pkl\", 'rb'))\n",
    "\n",
    "end_time = protocol.get_voltage_change_endpoints()[-1]\n",
    "t_span = (0, end_time)\n",
    "t_eval = np.linspace(0, end_time, 10000)\n",
    "print(end_time)"
   ]
  },
  {
   "cell_type": "code",
   "execution_count": null,
   "id": "5e326f05-80b4-4d1c-8149-42efddfc9581",
   "metadata": {},
   "outputs": [],
   "source": [
    "import simulator_myokit\n",
    "'''\n",
    "Simulation with Myokit\n",
    "'''\n",
    "model_path = \"../mmt-model-files/ohara-cipa-v1-2017_VC.mmt\" \n",
    "model_myokit, protocol_myokit, script = myokit.load(model_path)\n",
    "model_myokit, protocol_myokit = protocol_lib.transform_to_myokit_protocol( protocol, model_myokit )\n",
    "# model_myokit, protocol_myokit = protocol_lib.transform_to_myokit_protocol2( protocol )\n",
    "sim_myokit = simulator_myokit.Simulator(model_myokit, protocol_myokit, max_step=1.0, abs_tol=1e-8, rel_tol=1e-8, vhold=-8.80019046500000002e1) # 1e-12, 1e-14 # 1e-08, 1e-10  # max_step=1, atol=1E-2, rtol=1E-4 # defalt: abs_tol=1e-06, rel_tol=0.0001\n",
    "sim_myokit.name = \"ORD2017-CiPA-v1\""
   ]
  },
  {
   "cell_type": "code",
   "execution_count": null,
   "id": "e37c2186-d744-4445-922f-1fda7b83b46c",
   "metadata": {},
   "outputs": [],
   "source": [
    "start_time = time.time()\n",
    "\n",
    "sim_myokit.simulation.set_constant('cell.mode', cells['Epicardial'])    \n",
    "y0_myokit = sim_myokit.pre_simulate(5000, sim_type=1)\n",
    "d_myokit = sim_myokit.simulate(end_time, log_times=None, extra_log=['ina.INa', 'inal.INaL', 'ito.Ito', 'ical.ICaL', 'ikr.IKr', 'iks.IKs', 'ik1.IK1'])\n",
    "\n",
    "myokit_current_response_info = mod_trace.CurrentResponseInfo(protocol)\n",
    "\n",
    "for i in range(len(d_myokit['engine.time'])):      \n",
    "    current_timestep = [                \n",
    "        mod_trace.Current(name='I_Na', value=d_myokit['ina.INa'][i]),\n",
    "        mod_trace.Current(name='I_NaL', value=d_myokit['inal.INaL'][i]),                \n",
    "        mod_trace.Current(name='I_to', value=d_myokit['ito.Ito'][i]),\n",
    "        mod_trace.Current(name='I_CaL', value=d_myokit['ical.ICaL'][i]),\n",
    "        mod_trace.Current(name='I_Kr', value=d_myokit['ikr.IKr'][i]),\n",
    "        mod_trace.Current(name='I_Ks', value=d_myokit['iks.IKs'][i]),\n",
    "        mod_trace.Current(name='I_K1', value=d_myokit['ik1.IK1'][i]),\n",
    "    ]\n",
    "    myokit_current_response_info.currents.append(current_timestep)\n",
    "\n",
    "print(\"--- %s seconds ---\"%(time.time()-start_time))"
   ]
  },
  {
   "cell_type": "code",
   "execution_count": null,
   "id": "1490828d-5dbc-4d75-90cb-a34808dffb87",
   "metadata": {},
   "outputs": [],
   "source": [
    "'''\n",
    "Plot\n",
    "'''\n",
    "fig, axes = plt.subplots(8,1, figsize=(20,20))    \n",
    "fig.suptitle(sim_myokit.name, fontsize=14)\n",
    "plot_li = ['Voltage'] + current_li\n",
    "for i, name in enumerate(plot_li):    \n",
    "    # ax.set_title('Simulation %d'%(simulationNo))\n",
    "    # axes[i].set_xlim(model_scipy.times.min(), model_scipy.times.max())\n",
    "    # ax.set_ylim(ylim[0], ylim[1])\n",
    "    axes[i].set_xlabel('Time (ms)')       \n",
    "    axes[i].set_ylabel(f'{name} (mV)')  \n",
    "    \n",
    "    if i==0:                \n",
    "        # axes[i].plot( d_myokit['engine.time'], protocol_myokit.value_at_times(d_myokit['engine.time']), label=name, color='k')           \n",
    "        axes[i].plot( t_eval, [protocol.get_voltage_at_time(t) for t in t_eval], label=name, color='k', linewidth=2)                   \n",
    "    else:\n",
    "        axes[i].plot( d_myokit['engine.time'], myokit_current_response_info.get_current([name]), label=name, color='k', linewidth=2) \n",
    "        \n",
    "    axes[i].legend()\n",
    "    axes[i].grid()\n",
    "\n",
    "plt.subplots_adjust(left=0.0, bottom=0.3, right=1.0, top=0.95, wspace=0.5, hspace=0.2)\n",
    "plt.show()\n",
    "fig.savefig(os.path.join('Results', \"ORD2011-VC\"), dpi=100)"
   ]
  },
  {
   "cell_type": "code",
   "execution_count": null,
   "id": "74d52664-ca4a-4e27-8a7c-5108ca6e41e0",
   "metadata": {},
   "outputs": [],
   "source": [
    "print(\"Complete\")"
   ]
  },
  {
   "cell_type": "code",
   "execution_count": null,
   "id": "56d1e5c0-eecf-4824-ab6c-3158a9cbb046",
   "metadata": {},
   "outputs": [],
   "source": []
  },
  {
   "cell_type": "code",
   "execution_count": null,
   "id": "52af0145-17f4-452f-8eb0-1b57816ce6cb",
   "metadata": {},
   "outputs": [],
   "source": []
  },
  {
   "cell_type": "code",
   "execution_count": null,
   "id": "577c1511-c9b7-4293-9ac9-aba414ac5aa5",
   "metadata": {},
   "outputs": [],
   "source": []
  },
  {
   "cell_type": "code",
   "execution_count": null,
   "id": "4ce68f82-a49f-4b47-a1a4-092fa0d8eebc",
   "metadata": {},
   "outputs": [],
   "source": []
  }
 ],
 "metadata": {
  "kernelspec": {
   "display_name": "Python 3 (ipykernel)",
   "language": "python",
   "name": "python3"
  },
  "language_info": {
   "codemirror_mode": {
    "name": "ipython",
    "version": 3
   },
   "file_extension": ".py",
   "mimetype": "text/x-python",
   "name": "python",
   "nbconvert_exporter": "python",
   "pygments_lexer": "ipython3",
   "version": "3.7.11"
  }
 },
 "nbformat": 4,
 "nbformat_minor": 5
}
