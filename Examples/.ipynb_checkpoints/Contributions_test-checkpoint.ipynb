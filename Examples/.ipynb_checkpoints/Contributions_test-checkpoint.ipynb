{
 "cells": [
  {
   "cell_type": "code",
   "execution_count": 1,
   "id": "c797b0f5-b635-44ed-8047-735d4a931ef5",
   "metadata": {},
   "outputs": [
    {
     "name": "stderr",
     "output_type": "stream",
     "text": [
      "C:\\Anaconda3\\envs\\ml\\lib\\site-packages\\numpy\\_distributor_init.py:30: UserWarning: loaded more than 1 DLL from .libs:\n",
      "C:\\Anaconda3\\envs\\ml\\lib\\site-packages\\numpy\\.libs\\libopenblas.NOIJJG62EMASZI6NYURL6JBKM4EVBGM7.gfortran-win_amd64.dll\n",
      "C:\\Anaconda3\\envs\\ml\\lib\\site-packages\\numpy\\.libs\\libopenblas.WCDJNK7YVMPZQ2ME2ZZHJJRJ3JIKNDB7.gfortran-win_amd64.dll\n",
      "  warnings.warn(\"loaded more than 1 DLL from .libs:\\n%s\" %\n"
     ]
    }
   ],
   "source": [
    "import os, sys, time, copy\n",
    "import numpy as np\n",
    "import matplotlib.pyplot as plt\n",
    "import pickle\n",
    "import myokit\n",
    "sys.path.append('../')\n",
    "sys.path.append('../Protocols')\n",
    "sys.path.append('../Models')\n",
    "sys.path.append('../Lib')\n",
    "import protocol_lib, vc_protocols\n",
    "import mod_trace\n",
    "from ord2011 import ORD2011"
   ]
  },
  {
   "cell_type": "code",
   "execution_count": 2,
   "id": "06325c03-71d9-481c-9f34-c0aaecd46246",
   "metadata": {},
   "outputs": [],
   "source": [
    "def get_high_fitness(ga_result):\n",
    "    best_individual = ga_result.generations[0][0]\n",
    "\n",
    "    for i, gen in enumerate(ga_result.generations):\n",
    "        best_in_gen = ga_result.get_high_fitness_individual(i)\n",
    "        if best_in_gen.fitness > best_individual.fitness:            \n",
    "            best_individual = best_in_gen\n",
    "\n",
    "    return best_individual"
   ]
  },
  {
   "cell_type": "code",
   "execution_count": 3,
   "id": "4f7c5048-f1c3-49cf-a2ce-4c656f7774fb",
   "metadata": {},
   "outputs": [
    {
     "name": "stdout",
     "output_type": "stream",
     "text": [
      "610.0\n"
     ]
    }
   ],
   "source": [
    "'''\n",
    "O'Hara-Rudy 2011\n",
    "'''\n",
    "cells = {\n",
    "    'Endocardial' : 0,\n",
    "    'Epicardial' : 1,\n",
    "    'Mid-myocardial' : 2,\n",
    "}\n",
    "protocol = vc_protocols.hERG_CiPA()\n",
    "# protocol = pickle.load(open(\"./trial_steps_ramps_Kernik_200_50_4_-120_60_paper/shortened_trial_steps_ramps_Kernik_200_50_4_-120_60_500_artefact_True_short.pkl\", 'rb'))\n",
    "protocol = pickle.load(open(\"./trial_steps_ramps_ORD2011_288_51_4_-121_61/shortened_trial_steps_ramps_ORD2011_288_51_4_-121_61_500_artefact_False_short.pkl\", 'rb'))\n",
    "protocol = pickle.load(open(\"./trial_steps_ramps_ORD2011_256_64_4_-120_60/shortened_trial_steps_ramps_ORD2011_256_64_4_-120_60_500_artefact_False_short.pkl\", 'rb'))\n",
    "\n",
    "window=20\n",
    "step_size=5\n",
    "end_time = protocol.get_voltage_change_endpoints()[-1]\n",
    "t_span = (0, end_time)\n",
    "t_eval = np.linspace(0, end_time, 10000)\n",
    "print(end_time)"
   ]
  },
  {
   "cell_type": "code",
   "execution_count": 4,
   "id": "df8a3d3c-b69a-4aa1-b060-613929f4ec57",
   "metadata": {},
   "outputs": [],
   "source": [
    "import simulator_myokit\n",
    "'''\n",
    "Simulation with Myokit\n",
    "'''\n",
    "model_path = \"../mmt-model-files/ord-2011_VC.mmt\" \n",
    "model_myokit, protocol_myokit, script = myokit.load(model_path)\n",
    "sim_myokit = simulator_myokit.Simulator(model_myokit, protocol, max_step=1.0, abs_tol=1e-8, rel_tol=1e-8, vhold=protocol.get_voltage_at_time(0)) # 1e-12, 1e-14 # 1e-08, 1e-10  # max_step=1, atol=1E-2, rtol=1E-4 # defalt: abs_tol=1e-06, rel_tol=0.0001\n",
    "sim_myokit.name = \"ORD2011\""
   ]
  },
  {
   "cell_type": "code",
   "execution_count": 5,
   "id": "d60460f8-c0a7-4110-8089-51fcdc29a734",
   "metadata": {},
   "outputs": [
    {
     "name": "stdout",
     "output_type": "stream",
     "text": [
      "--- 0.03499603271484375 seconds ---\n"
     ]
    }
   ],
   "source": [
    "start_time = time.time()\n",
    "\n",
    "# sim_myokit.simulation.set_constant('cell.mode', cells['Epicardial'])    \n",
    "# y0_myokit = sim_myokit.pre_simulate(5000, sim_type=1)\n",
    "d = sim_myokit.simulate(end_time, log_times=None, extra_log=['ina.INa', 'inal.INaL', 'ito.Ito', 'ical.ICaL', 'ikr.IKr', 'iks.IKs', 'ik1.IK1'])\n",
    "   \n",
    "times = d['engine.time']    \n",
    "command_voltages = [protocol.get_voltage_at_time(t) for t in times]    \n",
    "print(\"--- %s seconds ---\"%(time.time()-start_time))"
   ]
  },
  {
   "cell_type": "code",
   "execution_count": 6,
   "id": "20244593-cbaf-4d41-95af-b6b654390f4a",
   "metadata": {},
   "outputs": [],
   "source": [
    "tr = mod_trace.Trace(protocol,\n",
    "                 cell_params=None,\n",
    "                 t=times,\n",
    "                 y=command_voltages,  # simulator.model.V,\n",
    "                 command_voltages=command_voltages,\n",
    "                 current_response_info=sim_myokit.current_response_info,\n",
    "                 default_unit=None)   "
   ]
  },
  {
   "cell_type": "code",
   "execution_count": 7,
   "id": "f15ecfe2-6722-451d-ad07-ccaff2bbc192",
   "metadata": {},
   "outputs": [
    {
     "name": "stdout",
     "output_type": "stream",
     "text": [
      "  Current  Contribution  Time Start  Time End\n",
      "0     INa      0.849358       510.0     530.0\n",
      "1    INaL      0.396830       545.0     565.0\n",
      "2     Ito      0.190280       585.0     605.0\n",
      "3    ICaL      0.203855       585.0     605.0\n",
      "4     IKr      0.009161       585.0     605.0\n",
      "5     IKs      0.000262       585.0     605.0\n",
      "6     IK1      0.997800       485.0     505.0\n"
     ]
    }
   ],
   "source": [
    "scale = 1\n",
    "max_contributions = tr.current_response_info.get_max_current_contributions(\n",
    "                time=tr.t,\n",
    "                window=window/scale,\n",
    "                step_size=step_size/scale)\n",
    "print(max_contributions)"
   ]
  },
  {
   "cell_type": "code",
   "execution_count": 8,
   "id": "7a2b424d-7fce-4177-a4e5-ca1fc95b9aa2",
   "metadata": {},
   "outputs": [
    {
     "data": {
      "image/png": "[encoded data removed]",
      "text/plain": [
       "<Figure size 864x576 with 3 Axes>"
      ]
     },
     "metadata": {
      "needs_background": "light"
     },
     "output_type": "display_data"
    }
   ],
   "source": [
    "current = 'IK1'\n",
    "tr.plot_currents_contribution(current, window=window, step_size=step_size, is_shown=True, title=current,\n",
    "        saved_to=None)  # f'./ga_results/{trial_conditions}/{current}.svg'"
   ]
  },
  {
   "cell_type": "code",
   "execution_count": null,
   "id": "1ed74a17-2b86-4a3d-90f2-d15fbecfa2be",
   "metadata": {},
   "outputs": [],
   "source": []
  },
  {
   "cell_type": "code",
   "execution_count": 9,
   "id": "624a5b00-16d6-47d5-bbf3-f8c6121bd5a7",
   "metadata": {},
   "outputs": [
    {
     "name": "stdout",
     "output_type": "stream",
     "text": [
      "--- 1.689072847366333 seconds ---\n"
     ]
    }
   ],
   "source": [
    "import simulator_scipy\n",
    "'''\n",
    "Simulation with Scipy\n",
    "'''\n",
    "model_scipy = ORD2011(protocol)\n",
    "sim_scipy = simulator_scipy.Simulator(model_scipy)\n",
    "\n",
    "start_time = time.time()\n",
    "\n",
    "# model_scipy.cell.mode = cells['Epicardial']\n",
    "# model_scipy.y0[1:] = y0_myokit\n",
    "# y0 = sim_scipy.pre_simulate( pre_step=5000, protocol='constant' )   \n",
    "sol_scipy = sim_scipy.simulate(t_span=t_span, t_eval=None, method='BDF', max_step=1.0, atol=1e-8, rtol=1e-8) # 1e-12, 1e-14  # 1e-08, 1e-10  # max_step=1, atol=1E-2, rtol=1E-4 # defalt: abs_tol=1e-06, rel_tol=0.001\n",
    "# sol_scipy = sim_scipy.simulate2( t_eval, max_step=1e-5*100000, atol=1e-08, rtol=1e-10) # 1e-12, 1e-14  # 1e-08, 1e-10  # max_step=1E-3*self.time_conversion,  atol=1E-2, rtol=1E-4\n",
    "command_voltages = [protocol.get_voltage_at_time(t) for t in sol_scipy.t]  \n",
    "\n",
    "print(\"--- %s seconds ---\"%(time.time()-start_time))"
   ]
  },
  {
   "cell_type": "code",
   "execution_count": 10,
   "id": "27baaeb9-d254-4070-a448-09714f440f73",
   "metadata": {},
   "outputs": [],
   "source": [
    "tr2 = mod_trace.Trace(protocol,\n",
    "                 cell_params=None,\n",
    "                 t=sol_scipy.t,\n",
    "                 y=command_voltages,  # simulator.model.V,\n",
    "                 command_voltages=command_voltages,\n",
    "                 current_response_info=model_scipy.current_response_info,\n",
    "                 default_unit=None)   "
   ]
  },
  {
   "cell_type": "code",
   "execution_count": 11,
   "id": "7a42caa8-20fe-43bd-b27c-21f142f2a9bb",
   "metadata": {},
   "outputs": [
    {
     "name": "stdout",
     "output_type": "stream",
     "text": [
      "  Current  Contribution  Time Start  Time End\n",
      "0    I_Na      0.878379       510.0     530.0\n",
      "1   I_NaL      0.396825       545.0     565.0\n",
      "2    I_to      0.191675       590.0     610.0\n",
      "3   I_CaL      0.205839       590.0     610.0\n",
      "4    I_Kr      0.009802       590.0     610.0\n",
      "5    I_Ks      0.000294       590.0     610.0\n",
      "6    I_K1      0.997923       485.0     505.0\n"
     ]
    }
   ],
   "source": [
    "scale = 1\n",
    "max_contributions = tr2.current_response_info.get_max_current_contributions(\n",
    "                time=sol_scipy.t,\n",
    "                window=window/scale,\n",
    "                step_size=step_size/scale)\n",
    "print(max_contributions)"
   ]
  },
  {
   "cell_type": "code",
   "execution_count": 12,
   "id": "9dd9180e-9815-4770-ae63-35c0b0973248",
   "metadata": {},
   "outputs": [
    {
     "data": {
      "image/png": "[encoded data removed]",
      "text/plain": [
       "<Figure size 864x576 with 3 Axes>"
      ]
     },
     "metadata": {
      "needs_background": "light"
     },
     "output_type": "display_data"
    }
   ],
   "source": [
    "current = 'I_Na'\n",
    "tr2.plot_currents_contribution(current, window=window, step_size=step_size, is_shown=True, title=current,\n",
    "        saved_to=None)  # f'./ga_results/{trial_conditions}/{current}.svg'"
   ]
  },
  {
   "cell_type": "code",
   "execution_count": null,
   "id": "a4d7c08f-70ce-4f09-8837-fd2c3072587d",
   "metadata": {},
   "outputs": [],
   "source": []
  },
  {
   "cell_type": "code",
   "execution_count": null,
   "id": "7706581f-0336-4db2-9791-e430dc71c1b2",
   "metadata": {},
   "outputs": [],
   "source": []
  },
  {
   "cell_type": "code",
   "execution_count": null,
   "id": "38419bca-ee00-4d5a-8e63-06fbffc2c454",
   "metadata": {},
   "outputs": [],
   "source": []
  },
  {
   "cell_type": "code",
   "execution_count": null,
   "id": "b69e721e-ab89-4b29-8976-9b9bfcaecef3",
   "metadata": {},
   "outputs": [],
   "source": []
  },
  {
   "cell_type": "code",
   "execution_count": null,
   "id": "a0ba19ce-b28e-4203-ad33-6046b5634780",
   "metadata": {},
   "outputs": [],
   "source": []
  },
  {
   "cell_type": "code",
   "execution_count": null,
   "id": "7da80d16-d045-45f8-ab9e-2559cfe1bdc9",
   "metadata": {},
   "outputs": [],
   "source": []
  },
  {
   "cell_type": "code",
   "execution_count": null,
   "id": "110d88e9-d286-416b-8dfc-d3c747038ced",
   "metadata": {},
   "outputs": [],
   "source": []
  }
 ],
 "metadata": {
  "kernelspec": {
   "display_name": "Python 3",
   "language": "python",
   "name": "python3"
  },
  "language_info": {
   "codemirror_mode": {
    "name": "ipython",
    "version": 3
   },
   "file_extension": ".py",
   "mimetype": "text/x-python",
   "name": "python",
   "nbconvert_exporter": "python",
   "pygments_lexer": "ipython3",
   "version": "3.8.10"
  }
 },
 "nbformat": 4,
 "nbformat_minor": 5
}
