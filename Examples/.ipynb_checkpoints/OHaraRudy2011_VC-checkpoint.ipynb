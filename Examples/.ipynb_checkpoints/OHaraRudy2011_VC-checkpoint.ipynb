{
 "cells": [
  {
   "cell_type": "code",
   "execution_count": 1,
   "id": "f5cbbdbe-d96c-40ab-93be-16b854518cec",
   "metadata": {},
   "outputs": [],
   "source": [
    "import os, sys, time, copy\n",
    "import numpy as np\n",
    "import matplotlib.pyplot as plt\n",
    "\n",
    "import myokit\n",
    "sys.path.append('../')\n",
    "sys.path.append('../Protocols')\n",
    "sys.path.append('../Models')\n",
    "sys.path.append('../Lib')\n",
    "import protocol_lib, vc_protocols\n",
    "import mod_trace\n",
    "from ord2011 import ORD2011"
   ]
  },
  {
   "cell_type": "code",
   "execution_count": 2,
   "id": "762cf3e8-add6-4f29-a92e-58f0e48ddbef",
   "metadata": {},
   "outputs": [
    {
     "name": "stdout",
     "output_type": "stream",
     "text": [
      "1000\n"
     ]
    }
   ],
   "source": [
    "'''\n",
    "O'Hara-Rudy CiPA v1.0 (2011)\n",
    "'''\n",
    "cells = {\n",
    "    'Endocardial' : 0,\n",
    "    'Epicardial' : 1,\n",
    "    'Mid-myocardial' : 2,\n",
    "}\n",
    "current_li = ['I_Na', 'I_NaL', 'I_to', 'I_CaL', 'I_Kr', 'I_Ks', 'I_K1' ]         \n",
    "protocol = vc_protocols.hERG_CiPA()\n",
    "end_time = 1000 #protocol.get_voltage_change_endpoints()[-1]\n",
    "t_span = (0, end_time)\n",
    "t_eval = np.linspace(0, end_time, 5000)\n",
    "print(end_time)"
   ]
  },
  {
   "cell_type": "code",
   "execution_count": null,
   "id": "323655ce-ff4f-44e4-b9a6-e64f9b45078b",
   "metadata": {},
   "outputs": [
    {
     "name": "stdout",
     "output_type": "stream",
     "text": [
      "[[protocol]]\n",
      "# Level  Start    Length   Period   Multiplier\n",
      "-0.08    0.0      100.0    0.0      0\n",
      "-0.09    100.0    100.0    0.0      0\n",
      "-0.08    200.0    100.0    0.0      0\n",
      "0.04     300.0    500.0    0.0      0\n",
      "-0.02    800.0    100.0    0.0      0\n",
      "-0.08    900.0    3000.0   0.0      0\n"
     ]
    }
   ],
   "source": [
    "import simulator_myokit\n",
    "'''\n",
    "Simulation with Myokit\n",
    "'''\n",
    "model_path = \"../mmt-model-files/ord-2011_VC.mmt\" \n",
    "model_myokit, protocol_myokit, script = myokit.load(model_path)\n",
    "model_myokit, protocol_myokit = protocol_lib.transform_to_myokit_protocol( protocol, model_myokit )\n",
    "print(protocol_myokit)\n",
    "\n",
    "sim_myokit = simulator_myokit.Simulator(model_myokit, protocol_myokit, max_step=None, abs_tol=1e-12, rel_tol=1e-14, vhold=0)  # 1e-12, 1e-14  # 1e-08, 1e-10\n",
    "sim_myokit.name = \"ORD2011\""
   ]
  },
  {
   "cell_type": "code",
   "execution_count": null,
   "id": "e37c2186-d744-4445-922f-1fda7b83b46c",
   "metadata": {},
   "outputs": [],
   "source": [
    "start_time = time.time()\n",
    "\n",
    "sim_myokit.simulation.set_constant('cell.mode', cells['Epicardial'])    \n",
    "# y0_myokit = sim_myokit.pre_simulate(100, sim_type=1)\n",
    "d_myokit = sim_myokit.simulate(end_time, log_times=t_eval, extra_log=['ina.INa', 'inal.INaL', 'ito.Ito', 'ical.ICaL', 'ikr.IKr', 'iks.IKs', 'ik1.IK1'])\n",
    "\n",
    "print(\"--- %s seconds ---\"%(time.time()-start_time))"
   ]
  },
  {
   "cell_type": "code",
   "execution_count": null,
   "id": "9c8879bc-8aa6-471f-9f56-9a2a8878fe27",
   "metadata": {},
   "outputs": [],
   "source": [
    "import simulator_scipy\n",
    "'''\n",
    "Simulation with Scipy\n",
    "'''\n",
    "model_scipy = ORD2011(protocol)\n",
    "sim_scipy = simulator_scipy.Simulator(model_scipy)\n",
    "\n",
    "start_time = time.time()\n",
    "\n",
    "model_scipy.cell.mode = cells['Epicardial']\n",
    "# model_scipy.y0 = y0_myokit\n",
    "# y0 = sim_bdf.pre_simulate( pre_step=bcl*100, protocol='constant' )   \n",
    "sol_scipy = sim_scipy.simulate(t_span=t_span, t_eval=t_eval, method='BDF', max_step=0.5, atol=1e-8, rtol=1e-10) # 1e-12, 1e-14  # 1e-08, 1e-10\n",
    "\n",
    "print(\"--- %s seconds ---\"%(time.time()-start_time))"
   ]
  },
  {
   "cell_type": "code",
   "execution_count": null,
   "id": "9c75f73e-7cf8-4dd7-94f2-8c23260a0d11",
   "metadata": {},
   "outputs": [],
   "source": [
    "# sim_scipy.model.current_response_info = mod_trace.CurrentResponseInfo()\n",
    "# list(map(sim_scipy.model.differential_eq, sol_scipy.t, sol_scipy.y.transpose()))"
   ]
  },
  {
   "cell_type": "code",
   "execution_count": null,
   "id": "93636d3d-f00e-4295-bea3-31c02777be8e",
   "metadata": {},
   "outputs": [],
   "source": [
    "import simulator_euler\n",
    "'''\n",
    "Simulation with Euler\n",
    "'''\n",
    "model_euler = ORD2011(protocol)\n",
    "sim_euler = simulator_euler.Simulator(model_euler)\n",
    "\n",
    "start_time = time.time()\n",
    "\n",
    "model_euler.cell.mode = cells['Epicardial']      \n",
    "model_euler.y0 = y0_myokit \n",
    "sim_euler.dt = 0.02\n",
    "sim_euler.simulate(end_time=end_time)      \n",
    "\n",
    "print(\"--- %s seconds ---\"%(time.time()-start_time))"
   ]
  },
  {
   "cell_type": "code",
   "execution_count": null,
   "id": "b47783cb-22a1-4d2f-af0e-fd768414a198",
   "metadata": {},
   "outputs": [],
   "source": []
  },
  {
   "cell_type": "code",
   "execution_count": null,
   "id": "36729ee4-4716-4025-902d-9fb99232232c",
   "metadata": {},
   "outputs": [],
   "source": [
    "sim_scipy.model.current_response_info = mod_trace.CurrentResponseInfo()\n",
    "list(map(sim_scipy.model.differential_eq, sol_scipy.t, sol_scipy.y.transpose()))"
   ]
  },
  {
   "cell_type": "code",
   "execution_count": null,
   "id": "1490828d-5dbc-4d75-90cb-a34808dffb87",
   "metadata": {},
   "outputs": [],
   "source": [
    "'''\n",
    "Plot\n",
    "'''\n",
    "fig, axes = plt.subplots(8,1, figsize=(30,20))    \n",
    "fig.suptitle(model_scipy.name, fontsize=14)\n",
    "plot_li = ['Voltage'] + ['ina.INa', 'inal.INaL', 'ito.Ito', 'ical.ICaL', 'ikr.IKr', 'iks.IKs', 'ik1.IK1']\n",
    "for i, name in enumerate(plot_li):\n",
    "    # ax.set_title('Simulation %d'%(simulationNo))\n",
    "    # axes[i].set_xlim(model_scipy.times.min(), model_scipy.times.max())\n",
    "    # ax.set_ylim(ylim[0], ylim[1])\n",
    "    axes[i].set_xlabel('Time (ms)')       \n",
    "    axes[i].set_ylabel(f'{name} (mV)')  \n",
    "    \n",
    "    if name=='Voltage':\n",
    "        axes[i].plot( t_eval, protocol.get_voltage_clamp_protocol(t_eval), label=name, color='k')   \n",
    "    else:\n",
    "        # axes[i].plot( model_scipy.current_response_info.get_current([name]), label=name, color='k')   \n",
    "        axes[i].plot( d_myokit['engine.time'], d_myokit[name]*1000, label='Myokit', color='k') \n",
    "    # axes[i].plot(model_euler.times, model_euler.current_response_info.get_current(['I_Kr']), label='Euler')   \n",
    "    axes[i].legend()\n",
    "    axes[i].grid()\n",
    "\n",
    "\n",
    "plt.show()\n",
    "fig.savefig(os.path.join('Results', \"ORD2011-all\"), dpi=100)"
   ]
  },
  {
   "cell_type": "code",
   "execution_count": null,
   "id": "accf9b24-9475-489c-9137-8175e3bff59f",
   "metadata": {},
   "outputs": [],
   "source": [
    "'''\n",
    "Plot\n",
    "'''\n",
    "fig, axes = plt.subplots(8,1, figsize=(30,20))    \n",
    "fig.suptitle(model_scipy.name, fontsize=14)\n",
    "plot_li = ['Voltage'] + current_li\n",
    "for i, name in enumerate(plot_li):\n",
    "    # ax.set_title('Simulation %d'%(simulationNo))\n",
    "    # axes[i].set_xlim(model_scipy.times.min(), model_scipy.times.max())\n",
    "    # ax.set_ylim(ylim[0], ylim[1])\n",
    "    axes[i].set_xlabel('Time (ms)')       \n",
    "    axes[i].set_ylabel(f'{name} (mV)')  \n",
    "    \n",
    "    if name=='Voltage':\n",
    "        axes[i].plot( t_eval, protocol.get_voltage_clamp_protocol(t_eval), label=name, color='k')   \n",
    "    else:\n",
    "        axes[i].plot( model_scipy.current_response_info.get_current([name]), label=name, color='k')   \n",
    "        # axes[i].plot( d_myokit['engine.time'], d_myokit['ikr.IKr']*1000, label='Myokit', color='k') \n",
    "    # axes[i].plot(model_euler.times, model_euler.current_response_info.get_current(['I_Kr']), label='Euler')   \n",
    "    axes[i].legend()\n",
    "    axes[i].grid()\n",
    "\n",
    "\n",
    "plt.show()\n",
    "fig.savefig(os.path.join('Results', \"ORD2011-all\"), dpi=100)"
   ]
  },
  {
   "cell_type": "code",
   "execution_count": null,
   "id": "74d52664-ca4a-4e27-8a7c-5108ca6e41e0",
   "metadata": {},
   "outputs": [],
   "source": [
    "print(\"Complete\")"
   ]
  },
  {
   "cell_type": "code",
   "execution_count": null,
   "id": "7c650e89-1db0-46bb-b233-b704d769dc72",
   "metadata": {},
   "outputs": [],
   "source": []
  },
  {
   "cell_type": "code",
   "execution_count": null,
   "id": "56d1e5c0-eecf-4824-ab6c-3158a9cbb046",
   "metadata": {},
   "outputs": [],
   "source": []
  }
 ],
 "metadata": {
  "kernelspec": {
   "display_name": "Python 3 (ipykernel)",
   "language": "python",
   "name": "python3"
  },
  "language_info": {
   "codemirror_mode": {
    "name": "ipython",
    "version": 3
   },
   "file_extension": ".py",
   "mimetype": "text/x-python",
   "name": "python",
   "nbconvert_exporter": "python",
   "pygments_lexer": "ipython3",
   "version": "3.7.11"
  }
 },
 "nbformat": 4,
 "nbformat_minor": 5
}
