{
 "cells": [
  {
   "cell_type": "code",
   "execution_count": 1,
   "id": "f5cbbdbe-d96c-40ab-93be-16b854518cec",
   "metadata": {},
   "outputs": [
    {
     "name": "stderr",
     "output_type": "stream",
     "text": [
      "C:\\Anaconda3\\envs\\ml\\lib\\site-packages\\numpy\\_distributor_init.py:30: UserWarning: loaded more than 1 DLL from .libs:\n",
      "C:\\Anaconda3\\envs\\ml\\lib\\site-packages\\numpy\\.libs\\libopenblas.NOIJJG62EMASZI6NYURL6JBKM4EVBGM7.gfortran-win_amd64.dll\n",
      "C:\\Anaconda3\\envs\\ml\\lib\\site-packages\\numpy\\.libs\\libopenblas.WCDJNK7YVMPZQ2ME2ZZHJJRJ3JIKNDB7.gfortran-win_amd64.dll\n",
      "  warnings.warn(\"loaded more than 1 DLL from .libs:\\n%s\" %\n"
     ]
    }
   ],
   "source": [
    "import os, sys, time, copy\n",
    "from math import log, sqrt, floor\n",
    "import numpy as np\n",
    "import matplotlib.pyplot as plt\n",
    "import pickle\n",
    "import bisect\n",
    "\n",
    "import myokit\n",
    "from scipy.integrate import ode, solve_ivp, odeint\n",
    "sys.path.append('../')\n",
    "sys.path.append('../Lib')\n",
    "import mod_trace as trace\n",
    "\n",
    "sys.path.append('../Protocols')\n",
    "from pacing_protocol import PacingProtocol\n",
    "import mod_protocols\n",
    "\n",
    "sys.path.append('../Models')\n",
    "import ord2011JK_v1 \n",
    "import ord2011JK_fc \n",
    "\n",
    "from numbalsoda import lsoda_sig, lsoda\n",
    "from numba import njit, cfunc"
   ]
  },
  {
   "cell_type": "code",
   "execution_count": 2,
   "id": "c43bf57d-8cad-41d8-81c1-ee5635d79a8b",
   "metadata": {},
   "outputs": [],
   "source": [
    "'''\n",
    "O'Hara-Rudy CiPA v1.0 (2011)\n",
    "'''\n",
    "cells = {\n",
    "    'Endocardial' : 0,\n",
    "    'Epicardial' : 1,\n",
    "    'Mid-myocardial' : 2,\n",
    "}\n",
    "cell_mode = cells['Epicardial']\n",
    "end_time = 500\n",
    "bcl = 1000\n",
    "duration = 0.5\n",
    "offset = 20\n",
    "\n",
    "t_span = (0, end_time)\n",
    "t_eval = np.linspace(0, t_span[1], 5000)  "
   ]
  },
  {
   "cell_type": "code",
   "execution_count": 3,
   "id": "3120ed7d-8be2-4f10-a5a4-cc5c5ff86ec5",
   "metadata": {},
   "outputs": [],
   "source": [
    "import simulator_myokit\n",
    "'''\n",
    "Simulation with Myokit\n",
    "'''\n",
    "model_path = \"../mmt-model-files/ord-2011.mmt\" \n",
    "protocol_myokit = myokit.pacing.blocktrain(bcl, duration, offset=offset) # period, duration, offset=0, level=1.0, limit=0\n",
    "sim_myokit = simulator_myokit.Simulator(model_path, max_step=None, abs_tol=1e-08, rel_tol=1e-10)  # 1e-12, 1e-14  # 1e-08, 1e-10\n",
    "sim_myokit.name = \"ORD2011\"\n",
    "sim_myokit.bcl = bcl"
   ]
  },
  {
   "cell_type": "code",
   "execution_count": 4,
   "id": "ed57f3db-067d-474a-9b4e-5de679c92c5e",
   "metadata": {},
   "outputs": [
    {
     "name": "stdout",
     "output_type": "stream",
     "text": [
      "--- 0.0375368595123291 seconds ---\n"
     ]
    }
   ],
   "source": [
    "start_time = time.time()\n",
    "\n",
    "sim_myokit.simulation.set_constant('cell.mode', cell_mode)    \n",
    "sim_myokit.simulation.set_protocol(protocol_myokit)\n",
    "y0 = sim_myokit.pre_simulate( bcl*100, sim_type=1)\n",
    "d_myokit = sim_myokit.simulate(end_time, log_times=t_eval, extra_log=['ina.INa', 'inal.INaL', 'ito.Ito', 'ical.ICaL', 'ikr.IKr', 'iks.IKs', 'ik1.IK1' ])\n",
    "\n",
    "# current_response_info = trace.CurrentResponseInfo(protocol)\n",
    "# if self.current_response_info:  # 'INa', 'INaL', 'Ito', 'ICaL', 'IKr', 'IKs', 'IK1'\n",
    "#     current_timestep = [\n",
    "#         trace.Current(name='I_Na', value=INa),\n",
    "#         trace.Current(name='I_NaL', value=INaL),                \n",
    "#         trace.Current(name='I_to', value=Ito),\n",
    "#         trace.Current(name='I_CaL', value=ICaL),\n",
    "#         trace.Current(name='I_Kr', value=IKr),\n",
    "#         trace.Current(name='I_Ks', value=IKs),\n",
    "#         trace.Current(name='I_K1', value=IK1),\n",
    "#     ]\n",
    "#     self.current_response_info.currents.append(current_timestep)\n",
    "\n",
    "# trace.Current(name='I_Na', value=d_myokit['ina.INa']),\n",
    "# trace.Current(name='I_NaL', value=d_myokit['inal.INaL']),                \n",
    "# trace.Current(name='I_to', value=d_myokit['ito.Ito']),\n",
    "# trace.Current(name='I_CaL', value=d_myokit['ical.ICaL']),\n",
    "# trace.Current(name='I_Kr', value=d_myokit['ikr.IKr']),\n",
    "# trace.Current(name='I_Ks', value=d_myokit['iks.IKs']),\n",
    "# trace.Current(name='I_K1', value=d_myokit['ik1.IK1']),\n",
    "print(\"--- %s seconds ---\"%(time.time()-start_time))"
   ]
  },
  {
   "cell_type": "code",
   "execution_count": 5,
   "id": "9c8879bc-8aa6-471f-9f56-9a2a8878fe27",
   "metadata": {},
   "outputs": [
    {
     "name": "stdout",
     "output_type": "stream",
     "text": [
      "--- 2.246399164199829 seconds ---\n"
     ]
    }
   ],
   "source": [
    "import simulator_scipy\n",
    "'''\n",
    "Simulation with BDF\n",
    "'''\n",
    "protocol = PacingProtocol(level=1, start=offset, length=duration, period=bcl, multiplier=0, default_time_unit='ms')\n",
    "model1 = ord2011JK_v1.ORD2011(protocol)\n",
    "sim1 = simulator_scipy.Simulator(model1)\n",
    "\n",
    "start_time = time.time()\n",
    "\n",
    "model1.y0 = y0\n",
    "model1.cell.mode = cell_mode\n",
    "# y0 = sim1.pre_simulate( pre_step=5000, protocol='constant' )        \n",
    "sol1 = sim1.simulate(t_span=t_span, t_eval=t_eval, method='LSODA', max_step=0.5, atol=1e-08, rtol=1e-10) # 1e-12, 1e-14  # 1e-08, 1e-10\n",
    "\n",
    "print(\"--- %s seconds ---\"%(time.time()-start_time))"
   ]
  },
  {
   "cell_type": "code",
   "execution_count": 6,
   "id": "16cd4c51-2153-4d45-aa6c-023447d12f60",
   "metadata": {},
   "outputs": [
    {
     "name": "stdout",
     "output_type": "stream",
     "text": [
      "--- 2.2254676818847656 seconds ---\n"
     ]
    }
   ],
   "source": [
    "import simulator_scipy\n",
    "'''\n",
    "Simulation with BDF\n",
    "'''\n",
    "protocol = PacingProtocol(level=1, start=offset, length=duration, period=bcl, multiplier=0, default_time_unit='ms')\n",
    "model2 = ord2011JK_v1.ORD2011(protocol)\n",
    "sim2 = simulator_scipy.Simulator(model2)\n",
    "\n",
    "start_time = time.time()\n",
    "\n",
    "model2.y0 = y0\n",
    "model2.cell.mode = cell_mode\n",
    "# sim2.pre_simulate2( pre_step=bcl*100, protocol='pacing' )        \n",
    "sol2 = sim2.simulate2(times=t_eval, max_step=0.5, atol=1e-08, rtol=1e-10) # 1e-12, 1e-14  # 1e-08, 1e-10\n",
    "\n",
    "print(\"--- %s seconds ---\"%(time.time()-start_time))"
   ]
  },
  {
   "cell_type": "code",
   "execution_count": 7,
   "id": "ad7d5ba0-3df2-4c08-bed3-ae6dad327e74",
   "metadata": {},
   "outputs": [],
   "source": [
    "# start_time = time.time()\n",
    "\n",
    "# funcptr = ord2011JK_fc.ORD2011_AP.address # address to ODE function\n",
    "# p = np.zeros(10)\n",
    "# sol3, success = lsoda(funcptr, u0=np.array(model1.y0), t_eval=t_eval, data=p)\n",
    "\n",
    "# print(\"--- %s seconds ---\"%(time.time()-start_time))\n",
    "# success"
   ]
  },
  {
   "cell_type": "code",
   "execution_count": 8,
   "id": "accf9b24-9475-489c-9137-8175e3bff59f",
   "metadata": {},
   "outputs": [
    {
     "data": {
      "image/png": "[encoded data removed]",
      "text/plain": [
       "<Figure size 432x288 with 1 Axes>"
      ]
     },
     "metadata": {
      "needs_background": "light"
     },
     "output_type": "display_data"
    }
   ],
   "source": [
    "'''\n",
    "Plot\n",
    "'''\n",
    "fig, ax = plt.subplots( figsize=(6,4))    \n",
    "fig.suptitle(model1.name, fontsize=14)\n",
    "    \n",
    "# ax.set_title('Simulation %d'%(simulationNo))\n",
    "ax.set_xlim(model1.times.min(), model1.times.max())\n",
    "# ax.set_ylim(ylim[0], ylim[1])\n",
    "ax.set_ylabel('Membrane Potential (mV)')  \n",
    "ax.set_xlabel('Time (ms)')  \n",
    "ax.plot( d_myokit['engine.time'], d_myokit['membrane.V'], label='Myokit') \n",
    "ax.plot(model1.times, model1.V, label='solve_ivp')      \n",
    "ax.plot(model2.times, sol2[0], label='odeint')      \n",
    "# ax.plot(model1.times, sol3[:, 0], label='lsoda2')      \n",
    "# textstr = \"GNa : %1.4f\\nGNaL : %1.4f\\nGto : %1.4f\\nPCa : %1.4f\\nGKr : %1.4f\\nGKs : %1.4f\\nGK1 : %1.4f\\nGf : %1.4f\"%(GNa/g_fc[0], \\\n",
    "#             GNaL/g_fc[1], Gto/g_fc[2], PCa/g_fc[3], GKr/g_fc[4], GKs/g_fc[5], GK1/g_fc[6], Gf/g_fc[7])\n",
    "# props = dict(boxstyle='round', facecolor='wheat', alpha=0.5)\n",
    "# place a text box in upper left in axes coords\n",
    "#     ax.text(0.67, 0.60, textstr, transform=ax.transAxes, fontsize=14, verticalalignment='top', bbox=props)    \n",
    "#     fig1 = plt.gcf()\n",
    "ax.legend()\n",
    "ax.grid()\n",
    "    \n",
    "plt.show()\n",
    "fig.savefig(os.path.join('Results', \"ORD2011-JK-scipy\"), dpi=100)"
   ]
  },
  {
   "cell_type": "code",
   "execution_count": 9,
   "id": "74d52664-ca4a-4e27-8a7c-5108ca6e41e0",
   "metadata": {},
   "outputs": [
    {
     "name": "stdout",
     "output_type": "stream",
     "text": [
      "Complete\n"
     ]
    }
   ],
   "source": [
    "print(\"Complete\")"
   ]
  }
 ],
 "metadata": {
  "kernelspec": {
   "display_name": "Python 3",
   "language": "python",
   "name": "python3"
  },
  "language_info": {
   "codemirror_mode": {
    "name": "ipython",
    "version": 3
   },
   "file_extension": ".py",
   "mimetype": "text/x-python",
   "name": "python",
   "nbconvert_exporter": "python",
   "pygments_lexer": "ipython3",
   "version": "3.8.10"
  }
 },
 "nbformat": 4,
 "nbformat_minor": 5
}
