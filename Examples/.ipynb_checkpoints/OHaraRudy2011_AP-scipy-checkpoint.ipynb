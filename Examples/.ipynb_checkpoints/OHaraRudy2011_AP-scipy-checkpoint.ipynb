{
 "cells": [
  {
   "cell_type": "code",
   "execution_count": 1,
   "id": "f5cbbdbe-d96c-40ab-93be-16b854518cec",
   "metadata": {},
   "outputs": [],
   "source": [
    "import os, sys, time, copy\n",
    "import numpy as np\n",
    "import matplotlib.pyplot as plt\n",
    "\n",
    "sys.path.append('../')\n",
    "sys.path.append('../Protocols')\n",
    "sys.path.append('../Models')\n",
    "sys.path.append('../Lib')\n",
    "import protocol_lib\n",
    "import mod_trace\n",
    "from ord2011JK_v1 import ORD2011"
   ]
  },
  {
   "cell_type": "code",
   "execution_count": 2,
   "id": "c43bf57d-8cad-41d8-81c1-ee5635d79a8b",
   "metadata": {},
   "outputs": [],
   "source": [
    "'''\n",
    "O'Hara-Rudy CiPA v1.0 (2011)\n",
    "'''\n",
    "cells = {\n",
    "    'Endocardial' : 0,\n",
    "    'Epicardial' : 1,\n",
    "    'Mid-myocardial' : 2,\n",
    "}\n",
    "cell_mode = cells['Epicardial']\n",
    "end_time = 500\n",
    "bcl = 1000\n",
    "duration = 0.5\n",
    "offset = 20\n",
    "\n",
    "t_span = (0, end_time)\n",
    "t_eval = np.linspace(0, t_span[1], 5000)  "
   ]
  },
  {
   "cell_type": "code",
   "execution_count": 4,
   "id": "9c8879bc-8aa6-471f-9f56-9a2a8878fe27",
   "metadata": {},
   "outputs": [
    {
     "name": "stdout",
     "output_type": "stream",
     "text": [
      "--- 2.2535059452056885 seconds ---\n"
     ]
    }
   ],
   "source": [
    "import simulator_scipy\n",
    "'''\n",
    "Simulation with solve_ivp\n",
    "'''\n",
    "protocol = protocol_lib.PacingProtocol(level=1, start=offset, length=duration, period=bcl, multiplier=0, default_time_unit='ms')\n",
    "model1 = ORD2011(protocol)\n",
    "sim1 = simulator_scipy.Simulator(model1)\n",
    "\n",
    "start_time = time.time()\n",
    "\n",
    "# model1.y0 = y0\n",
    "model1.cell.mode = cell_mode\n",
    "# y0 = sim1.pre_simulate( pre_step=5000, protocol='constant' )        \n",
    "sol1 = sim1.simulate(t_span=t_span, t_eval=t_eval, method='LSODA', max_step=0.5, atol=1e-08, rtol=1e-10) # 1e-12, 1e-14  # 1e-08, 1e-10\n",
    "\n",
    "print(\"--- %s seconds ---\"%(time.time()-start_time))"
   ]
  },
  {
   "cell_type": "code",
   "execution_count": 6,
   "id": "16cd4c51-2153-4d45-aa6c-023447d12f60",
   "metadata": {},
   "outputs": [
    {
     "name": "stdout",
     "output_type": "stream",
     "text": [
      "--- 1.644770622253418 seconds ---\n"
     ]
    }
   ],
   "source": [
    "'''\n",
    "Simulation with odeint\n",
    "'''\n",
    "protocol = protocol_lib.PacingProtocol(level=1, start=offset, length=duration, period=bcl, multiplier=0, default_time_unit='ms')\n",
    "model2 = ORD2011(protocol)\n",
    "sim2 = simulator_scipy.Simulator(model2)\n",
    "\n",
    "start_time = time.time()\n",
    "\n",
    "# model2.y0 = y0\n",
    "model2.cell.mode = cell_mode\n",
    "# sim2.pre_simulate2( pre_step=bcl*100, protocol='pacing' )        \n",
    "sol2 = sim2.simulate2(times=t_eval, max_step=0.5, atol=1e-08, rtol=1e-10) # 1e-12, 1e-14  # 1e-08, 1e-10\n",
    "\n",
    "print(\"--- %s seconds ---\"%(time.time()-start_time))"
   ]
  },
  {
   "cell_type": "code",
   "execution_count": 7,
   "id": "ad7d5ba0-3df2-4c08-bed3-ae6dad327e74",
   "metadata": {},
   "outputs": [],
   "source": [
    "# import ord2011JK_fc \n",
    "# from numbalsoda import lsoda_sig, lsoda\n",
    "# from numba import njit, cfunc\n",
    "\n",
    "# start_time = time.time()\n",
    "\n",
    "# funcptr = ord2011JK_fc.ORD2011_AP.address # address to ODE function\n",
    "# p = np.zeros(10)\n",
    "# sol3, success = lsoda(funcptr, u0=np.array(model1.y0), t_eval=t_eval, data=p)\n",
    "\n",
    "# print(\"--- %s seconds ---\"%(time.time()-start_time))\n",
    "# success"
   ]
  },
  {
   "cell_type": "code",
   "execution_count": 10,
   "id": "accf9b24-9475-489c-9137-8175e3bff59f",
   "metadata": {},
   "outputs": [
    {
     "data": {
      "image/png": "[encoded data removed]",
      "text/plain": [
       "<Figure size 432x288 with 1 Axes>"
      ]
     },
     "metadata": {
      "needs_background": "light"
     },
     "output_type": "display_data"
    }
   ],
   "source": [
    "'''\n",
    "Plot\n",
    "'''\n",
    "fig, ax = plt.subplots( figsize=(6,4))    \n",
    "fig.suptitle(model1.name, fontsize=14)\n",
    "    \n",
    "# ax.set_title('Simulation %d'%(simulationNo))\n",
    "ax.set_xlim(model1.times.min(), model1.times.max())\n",
    "# ax.set_ylim(ylim[0], ylim[1])\n",
    "ax.set_ylabel('Membrane Potential (mV)')  \n",
    "ax.set_xlabel('Time (ms)')  \n",
    "ax.plot(model1.times, model1.V, label='solve_ivp')      \n",
    "ax.plot(model2.times, sol2[0], label='odeint')      \n",
    "# ax.plot(model1.times, sol3[:, 0], label='lsoda2')      \n",
    "# textstr = \"GNa : %1.4f\\nGNaL : %1.4f\\nGto : %1.4f\\nPCa : %1.4f\\nGKr : %1.4f\\nGKs : %1.4f\\nGK1 : %1.4f\\nGf : %1.4f\"%(GNa/g_fc[0], \\\n",
    "#             GNaL/g_fc[1], Gto/g_fc[2], PCa/g_fc[3], GKr/g_fc[4], GKs/g_fc[5], GK1/g_fc[6], Gf/g_fc[7])\n",
    "# props = dict(boxstyle='round', facecolor='wheat', alpha=0.5)\n",
    "# place a text box in upper left in axes coords\n",
    "#     ax.text(0.67, 0.60, textstr, transform=ax.transAxes, fontsize=14, verticalalignment='top', bbox=props)    \n",
    "#     fig1 = plt.gcf()\n",
    "ax.legend()\n",
    "ax.grid()\n",
    "    \n",
    "plt.show()\n",
    "fig.savefig(os.path.join('Results', \"ORD2011-JK-scipy\"), dpi=100)"
   ]
  },
  {
   "cell_type": "code",
   "execution_count": 11,
   "id": "74d52664-ca4a-4e27-8a7c-5108ca6e41e0",
   "metadata": {},
   "outputs": [
    {
     "name": "stdout",
     "output_type": "stream",
     "text": [
      "Complete\n"
     ]
    }
   ],
   "source": [
    "print(\"Complete\")"
   ]
  },
  {
   "cell_type": "code",
   "execution_count": null,
   "id": "3d7ea7eb-accb-4836-b087-1dd1e7474294",
   "metadata": {},
   "outputs": [],
   "source": []
  }
 ],
 "metadata": {
  "kernelspec": {
   "display_name": "Python 3 (ipykernel)",
   "language": "python",
   "name": "python3"
  },
  "language_info": {
   "codemirror_mode": {
    "name": "ipython",
    "version": 3
   },
   "file_extension": ".py",
   "mimetype": "text/x-python",
   "name": "python",
   "nbconvert_exporter": "python",
   "pygments_lexer": "ipython3",
   "version": "3.7.11"
  }
 },
 "nbformat": 4,
 "nbformat_minor": 5
}
