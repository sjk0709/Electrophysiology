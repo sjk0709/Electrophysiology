{
 "cells": [
  {
   "cell_type": "code",
   "execution_count": 1,
   "id": "f5cbbdbe-d96c-40ab-93be-16b854518cec",
   "metadata": {},
   "outputs": [],
   "source": [
    "import os, sys, time, copy\n",
    "import numpy as np\n",
    "import matplotlib.pyplot as plt\n",
    "import pickle\n",
    "import bisect\n",
    "from scipy.integrate import ode, solve_ivp\n",
    "sys.path.append('../')\n",
    "sys.path.append('../Lib')\n",
    "sys.path.append('../Protocols')\n",
    "from pacing_protocol import PacingProtocol\n",
    "import mod_protocols\n",
    "sys.path.append('../models')\n",
    "from Models.br1977 import BR1977"
   ]
  },
  {
   "cell_type": "code",
   "execution_count": 2,
   "id": "762cf3e8-add6-4f29-a92e-58f0e48ddbef",
   "metadata": {},
   "outputs": [],
   "source": [
    "'''\n",
    "Beeler and Reuter 1977\n",
    "'''\n",
    "end_time = 500"
   ]
  },
  {
   "cell_type": "code",
   "execution_count": 3,
   "id": "a8491db2-83a8-47d8-9dba-49e4bf61d7c3",
   "metadata": {},
   "outputs": [
    {
     "name": "stdout",
     "output_type": "stream",
     "text": [
      "--- 0.00965428352355957 seconds ---\n"
     ]
    }
   ],
   "source": [
    "import simulator_myokit\n",
    "'''\n",
    "Simulation with Myokit\n",
    "'''\n",
    "model_path = \"../mmt-model-files/br-1977.mmt\" \n",
    "sim_myokit = simulator_myokit.Simulator(model_path) \n",
    "sim_myokit.name = \"br1977\"\n",
    "times = np.linspace(0, end_time, 5000)\n",
    "sim_myokit.bcl = 1000\n",
    "\n",
    "simulated_models_myokit = []\n",
    "\n",
    "start_time = time.time()\n",
    "\n",
    "d = sim_myokit.simulate(times, pre_sim_type=0)\n",
    "simulated_models_myokit.append(d)\n",
    "    \n",
    "print(\"--- %s seconds ---\"%(time.time()-start_time))"
   ]
  },
  {
   "cell_type": "code",
   "execution_count": 4,
   "id": "9c8879bc-8aa6-471f-9f56-9a2a8878fe27",
   "metadata": {},
   "outputs": [
    {
     "name": "stdout",
     "output_type": "stream",
     "text": [
      "--- 0.4017956256866455 seconds ---\n"
     ]
    }
   ],
   "source": [
    "import simulator_scipy\n",
    "'''\n",
    "Simulation with BDF\n",
    "'''\n",
    "protocol = PacingProtocol(level=1, start=100, length=2, period=1000, multiplier=0, default_time_unit='ms')\n",
    "model = BR1977(protocol)\n",
    "sim_bdf = simulator_scipy.Simulator(model)\n",
    "\n",
    "simulated_models_BDF = []\n",
    "\n",
    "start_time = time.time()\n",
    "\n",
    "# t_eval = np.linspace(0, t_span[1], 5000)  \n",
    "sim_bdf.simulate(t_span=(0, end_time), method='BDF', max_step=1, atol=1E-6, rtol=1E-3)       \n",
    "simulated_models_BDF.append(copy.copy(model))\n",
    "\n",
    "print(\"--- %s seconds ---\"%(time.time()-start_time))"
   ]
  },
  {
   "cell_type": "code",
   "execution_count": 5,
   "id": "93636d3d-f00e-4295-bea3-31c02777be8e",
   "metadata": {},
   "outputs": [
    {
     "name": "stdout",
     "output_type": "stream",
     "text": [
      "--- 2.377790927886963 seconds ---\n"
     ]
    }
   ],
   "source": [
    "import simulator_euler\n",
    "'''\n",
    "Simulation with Euler\n",
    "'''\n",
    "sim_euler = simulator_euler.Simulator(model)\n",
    "\n",
    "simulated_models_Euler = []\n",
    "\n",
    "start_time = time.time()\n",
    "\n",
    "sim_euler.dt = 0.02\n",
    "sim_euler.simulate(end_time=end_time)      \n",
    "simulated_models_Euler.append(copy.copy(model))\n",
    "\n",
    "print(\"--- %s seconds ---\"%(time.time()-start_time))"
   ]
  },
  {
   "cell_type": "code",
   "execution_count": 8,
   "id": "accf9b24-9475-489c-9137-8175e3bff59f",
   "metadata": {},
   "outputs": [
    {
     "data": {
      "image/png": "[encoded data removed]",
      "text/plain": [
       "<Figure size 432x288 with 1 Axes>"
      ]
     },
     "metadata": {
      "needs_background": "light"
     },
     "output_type": "display_data"
    }
   ],
   "source": [
    "'''\n",
    "Plot\n",
    "'''\n",
    "fig, ax = plt.subplots(figsize=(6,4))    \n",
    "fig.suptitle(model.name, fontsize=14)\n",
    "\n",
    "myokit = simulated_models_myokit[0]\n",
    "bdf = simulated_models_BDF[0]\n",
    "euler = simulated_models_Euler[0]\n",
    "\n",
    "\n",
    "# ax.set_title('Simulation %d'%(simulationNo))\n",
    "ax.set_xlim(bdf.times.min(), bdf.times.max())\n",
    "# ax.set_ylim(ylim[0], ylim[1])\n",
    "ax.set_ylabel('Membrane Potential (mV)')  \n",
    "ax.set_xlabel('Time (ms)')       \n",
    "\n",
    "ax.plot( myokit['engine.time'], myokit['membrane.V'], label='Myokit') \n",
    "ax.plot(bdf.times, bdf.V, label='BDF')   \n",
    "ax.plot(euler.times, euler.V, label='Euler')   \n",
    "\n",
    "# textstr = \"GNa : %1.4f\\nGNaL : %1.4f\\nGto : %1.4f\\nPCa : %1.4f\\nGKr : %1.4f\\nGKs : %1.4f\\nGK1 : %1.4f\\nGf : %1.4f\"%(GNa/g_fc[0], \\\n",
    "#             GNaL/g_fc[1], Gto/g_fc[2], PCa/g_fc[3], GKr/g_fc[4], GKs/g_fc[5], GK1/g_fc[6], Gf/g_fc[7])\n",
    "# props = dict(boxstyle='round', facecolor='wheat', alpha=0.5)\n",
    "# place a text box in upper left in axes coords\n",
    "#     ax.text(0.67, 0.60, textstr, transform=ax.transAxes, fontsize=14, verticalalignment='top', bbox=props)    \n",
    "#     fig1 = plt.gcf()\n",
    "ax.legend()\n",
    "ax.grid()\n",
    "\n",
    "#     print(bdf.V)\n",
    "#     print(euler.V)\n",
    "#     print(\"-\"*100)\n",
    "    \n",
    "plt.show()\n",
    "fig.savefig(os.path.join('Results', \"BR1977-all\"), dpi=100)"
   ]
  },
  {
   "cell_type": "code",
   "execution_count": 7,
   "id": "74d52664-ca4a-4e27-8a7c-5108ca6e41e0",
   "metadata": {},
   "outputs": [
    {
     "name": "stdout",
     "output_type": "stream",
     "text": [
      "Complete\n"
     ]
    }
   ],
   "source": [
    "print(\"Complete\")"
   ]
  },
  {
   "cell_type": "code",
   "execution_count": null,
   "id": "7c650e89-1db0-46bb-b233-b704d769dc72",
   "metadata": {},
   "outputs": [],
   "source": []
  },
  {
   "cell_type": "code",
   "execution_count": null,
   "id": "56d1e5c0-eecf-4824-ab6c-3158a9cbb046",
   "metadata": {},
   "outputs": [],
   "source": []
  }
 ],
 "metadata": {
  "kernelspec": {
   "display_name": "Python 3 (ipykernel)",
   "language": "python",
   "name": "python3"
  },
  "language_info": {
   "codemirror_mode": {
    "name": "ipython",
    "version": 3
   },
   "file_extension": ".py",
   "mimetype": "text/x-python",
   "name": "python",
   "nbconvert_exporter": "python",
   "pygments_lexer": "ipython3",
   "version": "3.7.11"
  }
 },
 "nbformat": 4,
 "nbformat_minor": 5
}
