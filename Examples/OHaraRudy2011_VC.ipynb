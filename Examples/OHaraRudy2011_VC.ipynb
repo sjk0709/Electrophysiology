{
 "cells": [
  {
   "cell_type": "code",
   "execution_count": 1,
   "id": "f5cbbdbe-d96c-40ab-93be-16b854518cec",
   "metadata": {},
   "outputs": [],
   "source": [
    "import os, sys, time, copy\n",
    "import numpy as np\n",
    "import matplotlib.pyplot as plt\n",
    "import pickle\n",
    "import myokit\n",
    "sys.path.append('../')\n",
    "sys.path.append('../Protocols')\n",
    "sys.path.append('../Models')\n",
    "sys.path.append('../Lib')\n",
    "import protocol_lib, vc_protocols\n",
    "import mod_trace\n",
    "from ord2011 import ORD2011"
   ]
  },
  {
   "cell_type": "code",
   "execution_count": 2,
   "id": "762cf3e8-add6-4f29-a92e-58f0e48ddbef",
   "metadata": {},
   "outputs": [
    {
     "name": "stdout",
     "output_type": "stream",
     "text": [
      "6518.421250184367\n"
     ]
    }
   ],
   "source": [
    "'''\n",
    "O'Hara-Rudy CiPA v1.0 (2011)\n",
    "'''\n",
    "cells = {\n",
    "    'Endocardial' : 0,\n",
    "    'Epicardial' : 1,\n",
    "    'Mid-myocardial' : 2,\n",
    "}\n",
    "current_li = ['ina.INa', 'inal.INaL', 'ito.Ito', 'ical.ICaL', 'ikr.IKr', 'iks.IKs', 'ik1.IK1']\n",
    "\n",
    "protocol = vc_protocols.hERG_CiPA()\n",
    "# protocol = pickle.load(open(\"./trial_steps_ramps_Kernik_200_50_4_-120_60_paper/shortened_trial_steps_ramps_Kernik_200_50_4_-120_60_500_artefact_True_short.pkl\", 'rb'))\n",
    "protocol = pickle.load(open(\"./trial_steps_ramps_ORD2011_288_51_4_-121_61/shortened_trial_steps_ramps_ORD2011_288_51_4_-121_61_500_artefact_False_short.pkl\", 'rb'))\n",
    "\n",
    "end_time = protocol.get_voltage_change_endpoints()[-1]\n",
    "t_span = (0, end_time)\n",
    "t_eval = np.linspace(0, end_time, 10000)\n",
    "print(end_time)"
   ]
  },
  {
   "cell_type": "code",
   "execution_count": 3,
   "id": "e37c2186-d744-4445-922f-1fda7b83b46c",
   "metadata": {},
   "outputs": [
    {
     "name": "stdout",
     "output_type": "stream",
     "text": [
      "--- 3.380254030227661 seconds ---\n"
     ]
    }
   ],
   "source": [
    "start_time = time.time()\n",
    "\n",
    "import simulator_myokit\n",
    "'''\n",
    "Simulation with Myokit\n",
    "'''\n",
    "model_path = \"../mmt-model-files/ord-2011_VC.mmt\" \n",
    "model_myokit, protocol_myokit, script = myokit.load(model_path)\n",
    "sim_myokit = simulator_myokit.Simulator(model_myokit, protocol, max_step=1.0, abs_tol=1e-8, rel_tol=1e-8, vhold=-80.0) # 1e-12, 1e-14 # 1e-08, 1e-10  # max_step=1, atol=1E-2, rtol=1E-4 # defalt: abs_tol=1e-06, rel_tol=0.0001\n",
    "sim_myokit.name = \"ORD2011\"\n",
    "sim_myokit.simulation.set_constant('cell.mode', cells['Epicardial'])    \n",
    "y0_myokit = sim_myokit.pre_simulate(5000, sim_type=1)\n",
    "d_myokit = sim_myokit.simulate(end_time, log_times=None, extra_log=current_li)\n",
    "   \n",
    "print(\"--- %s seconds ---\"%(time.time()-start_time))"
   ]
  },
  {
   "cell_type": "code",
   "execution_count": 9,
   "id": "cea94a5f-179b-44d8-b7ef-7480e015a83f",
   "metadata": {},
   "outputs": [
    {
     "data": {
      "text/plain": [
       "-80"
      ]
     },
     "execution_count": 9,
     "metadata": {},
     "output_type": "execute_result"
    }
   ],
   "source": [
    "protocol.get_voltage_at_time(0)"
   ]
  },
  {
   "cell_type": "code",
   "execution_count": 10,
   "id": "9c8879bc-8aa6-471f-9f56-9a2a8878fe27",
   "metadata": {
    "tags": []
   },
   "outputs": [
    {
     "name": "stdout",
     "output_type": "stream",
     "text": [
      "--- 13.943398714065552 seconds ---\n"
     ]
    }
   ],
   "source": [
    "import simulator_scipy\n",
    "'''\n",
    "Simulation with Scipy\n",
    "'''\n",
    "model_scipy = ORD2011(protocol)\n",
    "sim_scipy = simulator_scipy.Simulator(model_scipy)\n",
    "\n",
    "start_time = time.time()\n",
    "\n",
    "model_scipy.cell.mode = cells['Epicardial']\n",
    "# model_scipy.y0[1:] = y0_myokit\n",
    "y0 = sim_scipy.pre_simulate( pre_step=5000, protocol='constant' )   \n",
    "sol_scipy = sim_scipy.simulate(t_span=t_span, t_eval=None, method='BDF', max_step=1.0, atol=1e-8, rtol=1e-8) # 1e-12, 1e-14  # 1e-08, 1e-10  # max_step=1, atol=1E-2, rtol=1E-4 # defalt: abs_tol=1e-06, rel_tol=0.001\n",
    "# sol_scipy = sim_scipy.simulate2( t_eval, max_step=1e-5*100000, atol=1e-08, rtol=1e-10) # 1e-12, 1e-14  # 1e-08, 1e-10  # max_step=1E-3*self.time_conversion,  atol=1E-2, rtol=1E-4\n",
    "\n",
    "print(\"--- %s seconds ---\"%(time.time()-start_time))"
   ]
  },
  {
   "cell_type": "code",
   "execution_count": 11,
   "id": "e32b2a27-ee18-41b9-bbd5-03e55d838bed",
   "metadata": {},
   "outputs": [
    {
     "data": {
      "text/plain": [
       "array([-8.00000003e+01,  6.94549002e+00,  6.94553614e+00,  1.44766826e+02,\n",
       "        1.44766919e+02,  5.46283800e-05,  5.38550879e-05,  1.25377970e+00,\n",
       "        1.25388392e+00,  1.63694063e-02,  3.83078124e-01,  3.83078124e-01,\n",
       "        3.83078124e-01,  1.83137288e-01,  3.83078124e-01,  8.60298196e-04,\n",
       "        2.65750243e-01,  1.36775744e-01,  1.71654793e-03,  9.98192733e-01,\n",
       "        9.98192733e-01,  8.74934836e-04,  9.98192733e-01,  9.98192733e-01,\n",
       "        1.55207580e-08,  9.99999920e-01,  9.99999921e-01,  9.99999920e-01,\n",
       "        9.99999920e-01,  9.99999920e-01,  4.72523502e-04,  9.99999920e-01,\n",
       "        9.99999920e-01,  2.60425715e-05,  2.54957029e-05,  4.27866636e-04,\n",
       "        4.72094402e-04,  9.98307893e-01,  6.06464770e-07,  7.58083578e-07,\n",
       "        2.45432407e-04])"
      ]
     },
     "execution_count": 11,
     "metadata": {},
     "output_type": "execute_result"
    }
   ],
   "source": [
    "y0"
   ]
  },
  {
   "cell_type": "code",
   "execution_count": null,
   "id": "1490828d-5dbc-4d75-90cb-a34808dffb87",
   "metadata": {},
   "outputs": [],
   "source": [
    "'''\n",
    "Plot\n",
    "'''\n",
    "fig, axes = plt.subplots(8,1, figsize=(15,20))    \n",
    "fig.suptitle(model_scipy.name, fontsize=14)\n",
    "for i, name in enumerate(['Voltage'] + current_li):    \n",
    "    # ax.set_title('Simulation %d'%(simulationNo))\n",
    "    # axes[i].set_xlim(model_scipy.times.min(), model_scipy.times.max())\n",
    "    # ax.set_ylim(ylim[0], ylim[1])\n",
    "    axes[i].set_xlabel('Time (ms)')       \n",
    "    axes[i].set_ylabel(f'{name} (mV)')  \n",
    "    \n",
    "    if i==0:\n",
    "        axes[i].plot( t_eval, [protocol.get_voltage_at_time(t) for t in t_eval], label=name, color='k')           \n",
    "    else:\n",
    "        name = name.split('.')[1]\n",
    "        name2 = name[0]+'_' + name[1:]        \n",
    "        axes[i].plot( d_myokit['engine.time'], sim_myokit.current_response_info.get_current([name]), label=name, color='y', linewidth=5) \n",
    "        axes[i].plot( sol_scipy.t, model_scipy.current_response_info.get_current([name2]), label=name2, color='k', linewidth=2)   \n",
    "    axes[i].legend()\n",
    "    axes[i].grid()\n",
    "\n",
    "plt.subplots_adjust(left=0.07, bottom=0.05, right=0.95, top=0.95, wspace=0.5, hspace=0.15)\n",
    "plt.show()\n",
    "fig.savefig(os.path.join('Results', \"ORD2011-VC.jpg\"), dpi=100)"
   ]
  },
  {
   "cell_type": "code",
   "execution_count": null,
   "id": "74d52664-ca4a-4e27-8a7c-5108ca6e41e0",
   "metadata": {},
   "outputs": [],
   "source": [
    "print(\"Complete\")"
   ]
  },
  {
   "cell_type": "code",
   "execution_count": null,
   "id": "56d1e5c0-eecf-4824-ab6c-3158a9cbb046",
   "metadata": {},
   "outputs": [],
   "source": []
  },
  {
   "cell_type": "code",
   "execution_count": null,
   "id": "52af0145-17f4-452f-8eb0-1b57816ce6cb",
   "metadata": {},
   "outputs": [],
   "source": []
  }
 ],
 "metadata": {
  "kernelspec": {
   "display_name": "Python 3 (ipykernel)",
   "language": "python",
   "name": "python3"
  },
  "language_info": {
   "codemirror_mode": {
    "name": "ipython",
    "version": 3
   },
   "file_extension": ".py",
   "mimetype": "text/x-python",
   "name": "python",
   "nbconvert_exporter": "python",
   "pygments_lexer": "ipython3",
   "version": "3.7.11"
  }
 },
 "nbformat": 4,
 "nbformat_minor": 5
}
