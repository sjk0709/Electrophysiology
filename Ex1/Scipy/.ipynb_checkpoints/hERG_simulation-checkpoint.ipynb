{
 "cells": [
  {
   "cell_type": "code",
   "execution_count": 1,
   "id": "f5cbbdbe-d96c-40ab-93be-16b854518cec",
   "metadata": {},
   "outputs": [
    {
     "name": "stderr",
     "output_type": "stream",
     "text": [
      "WARNING:myokit._config:Sundials version not set in myokit.ini. Continuing with detected version (20700). For a tiny performance boost, please set this version in /root/.config/myokit/myokit.ini\n"
     ]
    }
   ],
   "source": [
    "from scipy.integrate import ode, solve_ivp\n",
    "import numpy as np\n",
    "import matplotlib.pyplot as plt\n",
    "\n",
    "import pickle\n",
    "import os# import listdir\n",
    "import matplotlib.pyplot as plt\n",
    "\n",
    "# import mod_kernik as kernik\n",
    "import bisect\n",
    "# import mod_protocols\n",
    "\n",
    "import pints\n",
    "import myokit\n",
    "import myokit.pacing as pacing"
   ]
  },
  {
   "cell_type": "code",
   "execution_count": 2,
   "id": "134140cd-0642-4104-a983-8b73302c7be7",
   "metadata": {},
   "outputs": [],
   "source": [
    "def create_folder(folder_path):\n",
    "    try:\n",
    "        if not os.path.exists(folder_path):\n",
    "            os.makedirs(folder_path)\n",
    "    except OSError:\n",
    "        print('Error: Creating directory. ' + folder_path)"
   ]
  },
  {
   "cell_type": "code",
   "execution_count": 3,
   "id": "fd4df662-c3d1-46be-a84d-fbf409878b78",
   "metadata": {},
   "outputs": [],
   "source": [
    "result_folder = './Figures'\n",
    "create_folder(result_folder)"
   ]
  },
  {
   "cell_type": "code",
   "execution_count": null,
   "id": "95e27ea9-0302-450f-9960-03cda9b4e7d4",
   "metadata": {},
   "outputs": [],
   "source": []
  },
  {
   "cell_type": "code",
   "execution_count": null,
   "id": "ab4a77fd-a910-4fe5-afdb-fcf1c9f68130",
   "metadata": {},
   "outputs": [],
   "source": []
  },
  {
   "cell_type": "code",
   "execution_count": 4,
   "id": "04ab1d2c-7d36-443e-bf8a-17f299ad29e5",
   "metadata": {},
   "outputs": [],
   "source": [
    "def leak_staircase(return_capmask=False):\n",
    "    # My 'test6_v3'/staircase-ramp protocol\n",
    "    # model: myokit model\n",
    "    # return_capmask: if True, return an extra function that takes time series\n",
    "    #                 as argument and return a mask to filter off capacitance\n",
    "    #                 effect.\n",
    "\n",
    "    tpre  = 0.2           # Time before step to variable V\n",
    "    tstep = 0.5           # Time at variable V\n",
    "    tpost = 0.1           # Time after step to variable V\n",
    "    vhold = -80e-3\n",
    "    vmin = -60e-3#-100e-3\n",
    "    vmax = 40e-3\n",
    "    vres = 20e-3        # Difference in V between steps\n",
    "    v = np.arange(vmin, vmax + vres, vres)\n",
    "\n",
    "    steps = []\n",
    "    # Leak estimate\n",
    "    steps += [(vhold, 0.25)]\n",
    "    steps += [(-120e-3, 0.05)]\n",
    "    steps += [(-30e-3, 400e-3)]  # ramp step\n",
    "    # Staircase\n",
    "    steps += [(vhold, 0.2)]\n",
    "    steps += [(40e-3, 1.0)]\n",
    "    steps += [(-120e-3, 0.5)]\n",
    "    steps += [(vhold, 1.0)]\n",
    "    for vstep in v[1::]:\n",
    "        steps += [(vstep, tstep)]\n",
    "        steps += [(vstep-vres, tstep)]\n",
    "    for vstep in v[::-1][:-1]:\n",
    "        steps += [(vstep, tstep)]\n",
    "        steps += [(vstep-2*vres, tstep)]\n",
    "    steps += [(vhold, 1.0 - tstep)]  # extend a bit the ending...\n",
    "    # EK estimate\n",
    "    steps += [(40e-3, tstep)]\n",
    "    steps += [(-70e-3, 10e-3)]  # Michael's suggestion\n",
    "    steps += [(-120e-3, tstep - 10e-3)]  # second ramp step\n",
    "    steps += [(vhold, 100)]\n",
    "    # Set ramp bit\n",
    "    model.get('membrane.V').set_rhs(\n",
    "                'piecewise('\n",
    "                +\n",
    "                'engine.time >= 1971.2982963651616 and engine.time < 2075.0,'\n",
    "                + ' + 607.7131830386915 - 0.3093435089926058 * engine.time'\n",
    "                +\n",
    "                ', engine.time >= 2758.0120940706697 and engine.time < 2860.0,'\n",
    "                + ' - 1817.6148387865226 + 0.6403044009790962 * engine.time'\n",
    "                +\n",
    "                ', engine.time >= 3360.0 and engine.time < 3632.183537190953,'\n",
    "                + ' + 2046.3437058386642 - 0.5929092803115996 * engine.time'\n",
    "                +\n",
    "                ', engine.time >= 4235.0 and engine.time < 4287.212253716296,'\n",
    "                + ' + 261.8543636773942 - 0.07985308595470898 * engine.time'\n",
    "                +\n",
    "                ', engine.time >= 6435.0 and engine.time < 7164.411843355022,'\n",
    "                + ' + 49.49681884726567 + 0.0008984787040976795 * engine.time'\n",
    "                +\n",
    "                ', engine.time >= 8161.023394295294 and engine.time < 9055.950603217367,'\n",
    "                + ' + 338.6149508447877 - 0.034286830393634095 * engine.time'\n",
    "                +\n",
    "                ', engine.pace)')\n",
    "\n",
    "    if return_capmask:\n",
    "\n",
    "        def capmask(times, capmaskdt=capmaskdt):\n",
    "            fcap = np.ones(times.shape)\n",
    "            currentt = 0\n",
    "            for v, dur in steps:\n",
    "                idxi = np.where(times > currentt)[0][0] - 1  # inclusive\n",
    "                idxf = np.where(times > currentt + capmaskdt)[0][0]\n",
    "                fcap[idxi:idxf] = 0\n",
    "                currentt += dur\n",
    "            return fcap\n",
    "\n",
    "        return steps, capmask\n",
    "    else:\n",
    "        return steps"
   ]
  },
  {
   "cell_type": "code",
   "execution_count": 5,
   "id": "08b670fd-4509-480a-813a-6ac62de01b0d",
   "metadata": {},
   "outputs": [],
   "source": [
    "def leak_staircase(return_capmask=False):\n",
    "    # My 'test6_v3'/staircase-ramp protocol\n",
    "    # model: myokit model\n",
    "    # return_capmask: if True, return an extra function that takes time series\n",
    "    #                 as argument and return a mask to filter off capacitance\n",
    "    #                 effect.\n",
    "\n",
    "    tpre  = 0.2           # Time before step to variable V\n",
    "    tstep = 0.5           # Time at variable V\n",
    "    tpost = 0.1           # Time after step to variable V\n",
    "    vhold = -80e-3\n",
    "    vmin = -60e-3#-100e-3\n",
    "    vmax = 40e-3\n",
    "    vres = 20e-3        # Difference in V between steps\n",
    "    v = np.arange(vmin, vmax + vres, vres)\n",
    "\n",
    "    steps = []\n",
    "    # Leak estimate\n",
    "    steps += [(vhold, 0.25)]\n",
    "    steps += [(-120e-3, 0.05)]\n",
    "    steps += [(-30e-3, 400e-3)]  # ramp step\n",
    "    # Staircase\n",
    "    steps += [(vhold, 0.2)]\n",
    "    steps += [(40e-3, 1.0)]\n",
    "    steps += [(-120e-3, 0.5)]\n",
    "    steps += [(vhold, 1.0)]\n",
    "    for vstep in v[1::]:\n",
    "        steps += [(vstep, tstep)]\n",
    "        steps += [(vstep-vres, tstep)]\n",
    "    for vstep in v[::-1][:-1]:\n",
    "        steps += [(vstep, tstep)]\n",
    "        steps += [(vstep-2*vres, tstep)]\n",
    "    steps += [(vhold, 1.0 - tstep)]  # extend a bit the ending...\n",
    "    # EK estimate\n",
    "    steps += [(40e-3, tstep)]\n",
    "    steps += [(-70e-3, 10e-3)]  # Michael's suggestion\n",
    "    steps += [(-120e-3, tstep - 10e-3)]  # second ramp step\n",
    "    steps += [(vhold, 100)]\n",
    "    # Set ramp bit\n",
    "#     model.get('membrane.V').set_rhs(\n",
    "#                 'piecewise('\n",
    "#                 +\n",
    "#                 'engine.time >= 0.300 and engine.time < 0.700001,'\n",
    "#                 + '-150e-3 + 0.1 * engine.time'\n",
    "#                 +\n",
    "#                 ', engine.time >= 14.410 and engine.time < 14.510001,'\n",
    "#                 + ' + 5.694 - 0.4 * engine.time'\n",
    "#                 +\n",
    "#                 ', engine.pace)')\n",
    "\n",
    "    if return_capmask:\n",
    "\n",
    "        def capmask(times, capmaskdt=capmaskdt):\n",
    "            fcap = np.ones(times.shape)\n",
    "            currentt = 0\n",
    "            for v, dur in steps:\n",
    "                idxi = np.where(times > currentt)[0][0] - 1  # inclusive\n",
    "                idxf = np.where(times > currentt + capmaskdt)[0][0]\n",
    "                fcap[idxi:idxf] = 0\n",
    "                currentt += dur\n",
    "            return fcap\n",
    "\n",
    "        return steps, capmask\n",
    "    else:\n",
    "        return steps"
   ]
  },
  {
   "cell_type": "code",
   "execution_count": 6,
   "id": "5ee1ca34-35ae-47c3-b177-1332efb9f4f1",
   "metadata": {},
   "outputs": [
    {
     "name": "stdout",
     "output_type": "stream",
     "text": [
      "dt : 0.01\n"
     ]
    }
   ],
   "source": [
    "\n",
    "time = np.linspace(0, 15.4, 65)\n",
    "time = np.arange(1540)*0.01\n",
    "dt = time[1] - time[0]\n",
    "print(\"dt :\", dt)\n",
    "voltage_protocol = 80*np.sin(time) \n",
    "\n",
    "p = (10, 2,2,1,1,1,1,1,1)\n",
    "\n",
    "def voltage(t):\n",
    "    return 1.2*np.sin(t)\n",
    "\n",
    "def f(t, ar):    \n",
    "    V = voltage(t) \n",
    "    k1 = p[1]*np.exp(p[2]*V)\n",
    "    k2 = p[3]*np.exp(-p[4]*V)\n",
    "    k3 = p[5]*np.exp(p[6]*V)\n",
    "    k4 = p[7]*np.exp(-p[8]*V)\n",
    "    tau_a = 1/(k1+k2)\n",
    "    tau_r = 1/(k3+k4)\n",
    "    a_inf = k1/(k1+k2)\n",
    "    r_inf = k4/(k3+k4)    \n",
    "    dot_a = (a_inf-ar[0])/tau_a\n",
    "    dot_r = (r_inf-ar[1])/tau_r\n",
    "    return [dot_a, dot_r]\n",
    "\n"
   ]
  },
  {
   "cell_type": "code",
   "execution_count": 7,
   "id": "85f21cb5-e216-441c-8d8e-b16edce0683d",
   "metadata": {},
   "outputs": [
    {
     "name": "stdout",
     "output_type": "stream",
     "text": [
      "[0.         0.01993997 0.03976051 ... 0.91044277 0.90827154 0.90604994] [1.         0.99003944 0.98015547 ... 0.19442738 0.19696423 0.19954101]\n",
      "finish\n"
     ]
    }
   ],
   "source": [
    "ar0 = [0,1]\n",
    "\n",
    "r = ode(f).set_integrator('vode', method='bdf', atol=1e-06, rtol=1e-06, max_step=1)\n",
    "r.set_initial_value(ar0, time[0]) #.set_f_params(2.0)\n",
    "t1 = 15\n",
    "dt = 0.01\n",
    "# times = []\n",
    "a_li = []\n",
    "r_li = []\n",
    "a_li.append(ar0[0])\n",
    "r_li.append(ar0[1])\n",
    "# print(time)\n",
    "for (i, t) in enumerate(time[1:]):    \n",
    "    if r.successful():        \n",
    "        y = r.integrate(t)\n",
    "#         print(y)\n",
    "#         times.append(t)\n",
    "        a_li.append(y[0])\n",
    "        r_li.append(y[1])\n",
    "#         print(t, y)\n",
    "    else :\n",
    "        break\n",
    "a1 = np.array(a_li)\n",
    "r1 = np.array(r_li)\n",
    "print(a1, r1)\n",
    "print(\"finish\")"
   ]
  },
  {
   "cell_type": "code",
   "execution_count": 8,
   "id": "d7b309a6-2a26-4af5-8556-ebe1e10763ca",
   "metadata": {},
   "outputs": [],
   "source": [
    "import kylie2017IKr\n",
    "import protocols_JK\n",
    "\n",
    "protocol = protocols_JK.LeakStaircase()\n",
    "kylie = kylie2017IKr.Kylie2017IKr(protocol)"
   ]
  },
  {
   "cell_type": "code",
   "execution_count": 62,
   "id": "7745f330-aebe-4217-b9e9-fe9c142bb81d",
   "metadata": {},
   "outputs": [
    {
     "name": "stdout",
     "output_type": "stream",
     "text": [
      "(77000,) 15.3998\n",
      "Simulation done.\n"
     ]
    }
   ],
   "source": [
    "times = np.linspace(0, 15.4, 77000)\n",
    "times = np.arange(77000)*0.0002\n",
    "print(times.shape, times.max())\n",
    "voltage = kylie.voltage(times)\n",
    "\n",
    "IKr = kylie.simulate(times)\n",
    "print(\"Simulation done.\")"
   ]
  },
  {
   "cell_type": "code",
   "execution_count": 63,
   "id": "326d786e-b199-44f8-a37a-1b1dbf82ab7f",
   "metadata": {},
   "outputs": [
    {
     "data": {
      "image/png": "[encoded data removed]",
      "text/plain": [
       "<Figure size 1080x144 with 1 Axes>"
      ]
     },
     "metadata": {
      "needs_background": "light"
     },
     "output_type": "display_data"
    }
   ],
   "source": [
    "fig, ax = plt.subplots(figsize=(15,2))    \n",
    "# fig.suptitle('New ORD-hERG - '+ ord._cell_types[cell_mode] +' cell', fontsize=16)\n",
    "# ax.set_title('Simulation %d'%(simulationNo))\n",
    "plt.xlabel('Time (s)')\n",
    "plt.ylabel('Voltage (mV)')     \n",
    "ax.plot(times, voltage, label='Voltage')    \n",
    "\n",
    "# textstr = \"GNa : %1.4f\\nGNaL : %1.4f\\nGto : %1.4f\\nPCa : %1.4f\\nGKr : %1.4f\\nGKs : %1.4f\\nGK1 : %1.4f\\nGf : %1.4f\"%(GNa/g_fc[0], GNaL/g_fc[1], Gto/g_fc[2], PCa/g_fc[3], GKr/g_fc[4], GKs/g_fc[5], GK1/g_fc[6], Gf/g_fc[7])\n",
    "# props = dict(boxstyle='round', facecolor='wheat', alpha=0.5)\n",
    "# place a text box in upper left in axes coords\n",
    "#     ax.text(0.67, 0.60, textstr, transform=ax.transAxes, fontsize=14, verticalalignment='top', bbox=props)    \n",
    "#     fig1 = plt.gcf()\n",
    "ax.legend()\n",
    "plt.show()\n",
    "fig.savefig(os.path.join(result_folder, \"voltage.jpg\"), dpi=100)"
   ]
  },
  {
   "cell_type": "code",
   "execution_count": 64,
   "id": "3043703c-64bc-461b-b1cc-bb20260b8409",
   "metadata": {},
   "outputs": [
    {
     "data": {
      "image/png": "[encoded data removed]",
      "text/plain": [
       "<Figure size 1080x144 with 1 Axes>"
      ]
     },
     "metadata": {
      "needs_background": "light"
     },
     "output_type": "display_data"
    }
   ],
   "source": [
    "fig, ax = plt.subplots(figsize=(15,2))    \n",
    "# fig.suptitle('New ORD-hERG - '+ ord._cell_types[cell_mode] +' cell', fontsize=16)\n",
    "# ax.set_title('Simulation %d'%(simulationNo))\n",
    "plt.xlabel('Time (s)')\n",
    "plt.ylabel('Current (pA)')     \n",
    "ax.plot(times, kylie.IKr, label='IKr')    \n",
    "# textstr = \"GNa : %1.4f\\nGNaL : %1.4f\\nGto : %1.4f\\nPCa : %1.4f\\nGKr : %1.4f\\nGKs : %1.4f\\nGK1 : %1.4f\\nGf : %1.4f\"%(GNa/g_fc[0], GNaL/g_fc[1], Gto/g_fc[2], PCa/g_fc[3], GKr/g_fc[4], GKs/g_fc[5], GK1/g_fc[6], Gf/g_fc[7])\n",
    "# props = dict(boxstyle='round', facecolor='wheat', alpha=0.5)\n",
    "# place a text box in upper left in axes coords\n",
    "#     ax.text(0.67, 0.60, textstr, transform=ax.transAxes, fontsize=14, verticalalignment='top', bbox=props)    \n",
    "#     fig1 = plt.gcf()\n",
    "ax.legend()\n",
    "plt.show()\n",
    "fig.savefig(os.path.join(result_folder, \"IKr.jpg\"), dpi=100)"
   ]
  },
  {
   "cell_type": "code",
   "execution_count": 65,
   "id": "35bd361d-a0b9-41d0-97b5-863882906e72",
   "metadata": {},
   "outputs": [
    {
     "data": {
      "image/png": "[encoded data removed]",
      "text/plain": [
       "<Figure size 1080x144 with 1 Axes>"
      ]
     },
     "metadata": {
      "needs_background": "light"
     },
     "output_type": "display_data"
    }
   ],
   "source": [
    "fig, ax = plt.subplots(figsize=(15,2))    \n",
    "# fig.suptitle('New ORD-hERG - '+ ord._cell_types[cell_mode] +' cell', fontsize=16)\n",
    "# ax.set_title('Simulation %d'%(simulationNo))\n",
    "plt.xlabel('Time (s)')\n",
    "# plt.ylabel('Voltage (mV)')     \n",
    "# ax.plot(times, (1-kylie.open)*(1-kylie.active), label='IC')\n",
    "# ax.plot(times, (1-kylie.open)*kylie.active, label='C')    \n",
    "ax.plot(times, kylie.open*(1-kylie.active), label='I')    \n",
    "ax.plot(times, kylie.open*kylie.active, label='O')    \n",
    "# ax.plot(times, kylie.active, label='Active')    \n",
    "# textstr = \"GNa : %1.4f\\nGNaL : %1.4f\\nGto : %1.4f\\nPCa : %1.4f\\nGKr : %1.4f\\nGKs : %1.4f\\nGK1 : %1.4f\\nGf : %1.4f\"%(GNa/g_fc[0], GNaL/g_fc[1], Gto/g_fc[2], PCa/g_fc[3], GKr/g_fc[4], GKs/g_fc[5], GK1/g_fc[6], Gf/g_fc[7])\n",
    "# props = dict(boxstyle='round', facecolor='wheat', alpha=0.5)\n",
    "# place a text box in upper left in axes coords\n",
    "#     ax.text(0.67, 0.60, textstr, transform=ax.transAxes, fontsize=14, verticalalignment='top', bbox=props)    \n",
    "#     fig1 = plt.gcf()\n",
    "ax.legend()\n",
    "plt.show()\n",
    "fig.savefig(os.path.join(result_folder, \"Open_Active.jpg\"), dpi=100)"
   ]
  },
  {
   "cell_type": "code",
   "execution_count": 66,
   "id": "626f0a50-61cd-4c42-aa29-de470f993eb3",
   "metadata": {},
   "outputs": [
    {
     "name": "stdout",
     "output_type": "stream",
     "text": [
      "finish\n"
     ]
    }
   ],
   "source": [
    "print(\"finish\")"
   ]
  },
  {
   "cell_type": "code",
   "execution_count": null,
   "id": "ea6e2aff-19f0-4d0f-8ab6-06c8b4dcea2c",
   "metadata": {},
   "outputs": [],
   "source": []
  }
 ],
 "metadata": {
  "kernelspec": {
   "display_name": "Python 3",
   "language": "python",
   "name": "python3"
  },
  "language_info": {
   "codemirror_mode": {
    "name": "ipython",
    "version": 3
   },
   "file_extension": ".py",
   "mimetype": "text/x-python",
   "name": "python",
   "nbconvert_exporter": "python",
   "pygments_lexer": "ipython3",
   "version": "3.8.8"
  }
 },
 "nbformat": 4,
 "nbformat_minor": 5
}
