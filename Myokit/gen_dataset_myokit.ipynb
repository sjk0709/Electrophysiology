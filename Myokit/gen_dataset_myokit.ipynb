{
 "cells": [
  {
   "cell_type": "code",
   "execution_count": null,
   "id": "f5cbbdbe-d96c-40ab-93be-16b854518cec",
   "metadata": {},
   "outputs": [
    {
     "name": "stderr",
     "output_type": "stream",
     "text": [
      "WARNING:myokit._config:Sundials version not set in myokit.ini. Continuing with detected version (20700). For a tiny performance boost, please set this version in /root/.config/myokit/myokit.ini\n"
     ]
    }
   ],
   "source": [
    "from scipy.integrate import ode, solve_ivp\n",
    "import os, sys, time\n",
    "import numpy as np\n",
    "import matplotlib.pyplot as plt\n",
    "import pickle\n",
    "import bisect\n",
    "\n",
    "import multiprocessing\n",
    "from functools import partial \n",
    "\n",
    "from ds_generator_myokit import Generator\n",
    "sys.path.append('../')\n",
    "import plot_cell\n",
    "\n",
    "sys.path.append('./Protocols')\n",
    "from protocols import optimized_VC_Christini"
   ]
  },
  {
   "cell_type": "code",
   "execution_count": null,
   "id": "851aefca-b156-40f4-b98f-074ce9ae46b7",
   "metadata": {},
   "outputs": [],
   "source": [
    "def main():\n",
    "    \n",
    "    data_type = 'VC'  # AP or VC    \n",
    "    \n",
    "    multi_processing = False\n",
    "    nData_per_file = 10000\n",
    "    startNo = 1\n",
    "    nDataset = 50\n",
    "    datasetNo_li = list(range(startNo, startNo+nDataset))  # Core 수만큼  [1,2,3,4,5,6,7,8,9,10]      \n",
    "    print(datasetNo_li)          \n",
    "    \n",
    "    cell_types = ['Endocardial', 'Epicardial', 'Midmyocardial']\n",
    "    sim_params = {\n",
    "        'cell.mode': 1,         # 'Endocardial' : 0,    'Epicardial' : 1,    'Mid-myocardial' : 2,     \n",
    "    }\n",
    "    \n",
    "    dataset_dir = \"./Dataset-%s-%s\"%(cell_types[sim_params['cell.mode']], 'ChristiniVC')\n",
    "    if not os.path.exists(dataset_dir):\n",
    "        os.makedirs(dataset_dir)\n",
    "            \n",
    "    generator = None\n",
    "    times = None\n",
    "    log_li = []\n",
    "    if data_type == 'AP':\n",
    "        model_path = \"./mmt-model-files/newordherg_qNet.mmt\" \n",
    "        generator = Generator(model_path, pre_sim=1)     \n",
    "        generator.set_simulation_params(sim_params)\n",
    "        times = np.arange(0, 1000, 1)# np.linspace(0, simulator.total_duration, 20000)          \n",
    "    \n",
    "    elif data_type == 'VC':\n",
    "        model_path = \"./mmt-model-files/newordherg_qNet_VC.mmt\" \n",
    "        generator = Generator(model_path, optimized_VC_Christini, pre_sim=2)     \n",
    "        generator.set_simulation_params(sim_params)\n",
    "        times = np.arange(0, generator.protocol_total_duration, 1)# np.linspace(0, simulator.total_duration, 20000)  \n",
    "        log_li = ['ina.INa', 'inal.INaL', 'ito.Ito', 'ical.ICaL', 'ikr.IKr', 'iks.IKs', 'ik1.IK1', 'if.iF']\n",
    "              \n",
    "    gen_params = {\n",
    "        'times': times,                    \n",
    "        'log_li' :  log_li,           \n",
    "        'nData' : nData_per_file,    \n",
    "        'dataset_dir' : dataset_dir,        \n",
    "        'data_file_name' : 'current',\n",
    "        'scale' : 2,\n",
    "    }         \n",
    "        \n",
    "    start_time = time.time()\n",
    "    if multi_processing == True:\n",
    "        # Use multiprocessing\n",
    "        nProcess = nDataset\n",
    "        if nDataset>72:\n",
    "            nProcess = 35\n",
    "        pool = multiprocessing.Pool(processes=nProcess)\n",
    "        func = partial(generator.gen_dataset, gen_params)\n",
    "        pool.map(func, datasetNo_li)\n",
    "        pool.close()\n",
    "        pool.join()    \n",
    "        \n",
    "    else:\n",
    "        # Use single processing\n",
    "        for datasetNo in datasetNo_li:\n",
    "            generator.gen_dataset( gen_params, datasetNo)\n",
    "   \n",
    "    print(\"All Datasets have been generated.\")\n",
    "    \n",
    "    print(\"--- %s seconds ---\"%(time.time()-start_time))"
   ]
  },
  {
   "cell_type": "code",
   "execution_count": null,
   "id": "2eb603fd-eeac-4abe-9fa6-755737cf3a29",
   "metadata": {},
   "outputs": [
    {
     "name": "stdout",
     "output_type": "stream",
     "text": [
      "[1, 2]\n",
      "./Protocols/trial_steps_ramps_Kernik_200_50_4_-120_60/shortened_trial_steps_ramps_Kernik_200_50_4_-120_60_500_artefact_True_short.pkl\n",
      "The protocol is 9055.950603217367 ms\n",
      "-----Dataset1 generation starts.-----\n"
     ]
    },
    {
     "name": "stderr",
     "output_type": "stream",
     "text": [
      "100%|██████████| 10/10 [00:01<00:00,  6.64it/s]\n"
     ]
    },
    {
     "name": "stdout",
     "output_type": "stream",
     "text": [
      "=====Dataset1 generation End.===== 0 simulation errors occured.=====\n",
      "-----Dataset2 generation starts.-----\n"
     ]
    },
    {
     "name": "stderr",
     "output_type": "stream",
     "text": [
      "100%|██████████| 10/10 [00:01<00:00,  7.33it/s]"
     ]
    },
    {
     "name": "stdout",
     "output_type": "stream",
     "text": [
      "=====Dataset2 generation End.===== 0 simulation errors occured.=====\n",
      "All Datasets have been generated.\n",
      "--- 2.9240522384643555 seconds ---\n"
     ]
    },
    {
     "name": "stderr",
     "output_type": "stream",
     "text": [
      "\n"
     ]
    }
   ],
   "source": [
    "if __name__=='__main__':\n",
    "    main()"
   ]
  },
  {
   "cell_type": "code",
   "execution_count": null,
   "id": "a3884b3c-7d3c-428b-a1e5-7477e69e59b9",
   "metadata": {},
   "outputs": [],
   "source": []
  },
  {
   "cell_type": "code",
   "execution_count": null,
   "id": "3a69c760-88aa-4fd3-aa33-344d9cc0dffa",
   "metadata": {},
   "outputs": [],
   "source": []
  }
 ],
 "metadata": {
  "kernelspec": {
   "display_name": "Python 3",
   "language": "python",
   "name": "python3"
  },
  "language_info": {
   "codemirror_mode": {
    "name": "ipython",
    "version": 3
   },
   "file_extension": ".py",
   "mimetype": "text/x-python",
   "name": "python",
   "nbconvert_exporter": "python",
   "pygments_lexer": "ipython3",
   "version": "3.8.8"
  }
 },
 "nbformat": 4,
 "nbformat_minor": 5
}
