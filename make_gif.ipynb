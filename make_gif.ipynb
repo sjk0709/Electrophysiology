{
 "cells": [
  {
   "cell_type": "code",
   "execution_count": 1,
   "id": "8e9a7c0a-b33d-4305-9cc9-6430ced6da25",
   "metadata": {},
   "outputs": [],
   "source": [
    "import os\n",
    "from PIL import Image\n",
    "from IPython.display import Image as Img\n",
    "from IPython.display import display"
   ]
  },
  {
   "cell_type": "code",
   "execution_count": 2,
   "id": "72a96fce-39f8-481d-b27a-1c3b0849be21",
   "metadata": {},
   "outputs": [],
   "source": [
    "def generate_gif(path):\n",
    "    img_list = os.listdir(path)\n",
    "    img_list = [path + '/' + x for x in img_list]\n",
    "    images = [Image.open(x) for x in img_list]\n",
    "    \n",
    "    im = images[0]\n",
    "    im.save('out.gif', save_all=True, append_images=images[1:],loop=0xff, duration=500)\n",
    "    # loop 반복 횟수\n",
    "    # duration 프레임 전환 속도 (500 = 0.5초)\n",
    "    return Img(url='out.gif')"
   ]
  },
  {
   "cell_type": "code",
   "execution_count": 3,
   "id": "23391fc0-c0d0-4bd2-8904-ac695eccb66f",
   "metadata": {},
   "outputs": [
    {
     "data": {
      "text/html": [
       "<img src=\"out.gif\"/>"
      ],
      "text/plain": [
       "<IPython.core.display.Image object>"
      ]
     },
     "execution_count": 3,
     "metadata": {},
     "output_type": "execute_result"
    }
   ],
   "source": [
    "generate_gif('./gif')"
   ]
  },
  {
   "cell_type": "code",
   "execution_count": 4,
   "id": "4d748640-216a-425d-857d-d949b5ee751f",
   "metadata": {},
   "outputs": [
    {
     "name": "stdout",
     "output_type": "stream",
     "text": [
      "Rmx\n"
     ]
    }
   ],
   "source": [
    "print(\"Rmx\")"
   ]
  },
  {
   "cell_type": "code",
   "execution_count": null,
   "id": "496ffb3e-4cf9-4378-9505-164c257bbb0b",
   "metadata": {},
   "outputs": [],
   "source": []
  }
 ],
 "metadata": {
  "kernelspec": {
   "display_name": "Python 3",
   "language": "python",
   "name": "python3"
  },
  "language_info": {
   "codemirror_mode": {
    "name": "ipython",
    "version": 3
   },
   "file_extension": ".py",
   "mimetype": "text/x-python",
   "name": "python",
   "nbconvert_exporter": "python",
   "pygments_lexer": "ipython3",
   "version": "3.8.10"
  }
 },
 "nbformat": 4,
 "nbformat_minor": 5
}
